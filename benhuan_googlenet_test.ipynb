{
 "cells": [
  {
   "cell_type": "code",
   "execution_count": 1,
   "metadata": {},
   "outputs": [],
   "source": [
    "# import tensorflow as tf\n",
    "# import tensorflow.contrib.layers as layers\n",
    "# import tensorflow.contrib.framework as ops\n",
    "\n",
    "# def get_inception_layer( inputs, conv11_size, conv33_11_size, conv33_size,\n",
    "#                          conv55_11_size, conv55_size, pool11_size ):\n",
    "#     with tf.variable_scope(\"conv_1x1\"):\n",
    "#         conv11 = layers.conv2d( inputs, conv11_size, [ 1, 1 ] )\n",
    "#     with tf.variable_scope(\"conv_3x3\"):\n",
    "#         conv33_11 = layers.conv2d( inputs, conv33_11_size, [ 1, 1 ] )\n",
    "#         conv33 = layers.conv2d( conv33_11, conv33_size, [ 3, 3 ] )\n",
    "#     with tf.variable_scope(\"conv_5x5\"):\n",
    "#         conv55_11 = layers.conv2d( inputs, conv55_11_size, [ 1, 1 ] )\n",
    "#         conv55 = layers.conv2d( conv55_11, conv55_size, [ 5, 5 ] )\n",
    "#     with tf.variable_scope(\"pool_proj\"):\n",
    "#         pool_proj = layers.max_pool2d( inputs, [ 3, 3 ], stride = 1 )\n",
    "#         pool11 = layers.conv2d( pool_proj, pool11_size, [ 1, 1 ] )\n",
    "#     if tf.__version__ == '0.11.0rc0':\n",
    "#         return tf.concat(3, [conv11, conv33, conv55, pool11])\n",
    "#     return tf.concat([conv11, conv33, conv55, pool11], 3)\n",
    "\n",
    "# def aux_logit_layer( inputs, num_classes, is_training ):\n",
    "#     with tf.variable_scope(\"pool2d\"):\n",
    "#         pooled = layers.avg_pool2d(inputs, [ 5, 5 ], stride = 3 )\n",
    "#     with tf.variable_scope(\"conv11\"):\n",
    "#         conv11 = layers.conv2d( pooled, 128, [1, 1] )\n",
    "#     with tf.variable_scope(\"flatten\"):\n",
    "#         flat = tf.reshape( conv11, [-1, 2048] )\n",
    "#     with tf.variable_scope(\"fc\"):\n",
    "#         fc = layers.fully_connected( flat, 1024, activation_fn=None )\n",
    "#     with tf.variable_scope(\"drop\"):\n",
    "#         drop = layers.dropout( fc, 0.3, is_training = is_training )\n",
    "#     with tf.variable_scope( \"linear\" ):\n",
    "#         linear = layers.fully_connected( drop, num_classes, activation_fn=None )\n",
    "#     with tf.variable_scope(\"soft\"):\n",
    "#         soft = tf.nn.softmax( linear )\n",
    "#     return soft\n",
    "\n",
    "# def googlenet(inputs,\n",
    "#               dropout_keep_prob=0.4,\n",
    "#               num_classes=1000,\n",
    "#               is_training=True,\n",
    "#               restore_logits = None,\n",
    "#               scope=''):\n",
    "#     '''\n",
    "#     Implementation of https://arxiv.org/pdf/1409.4842.pdf\n",
    "#     '''\n",
    "\n",
    "#     end_points = {}\n",
    "#     with tf.name_scope( scope, \"googlenet\", [inputs] ):\n",
    "#         with ops.arg_scope( [ layers.max_pool2d ], padding = 'SAME' ):\n",
    "#             end_points['conv0'] = layers.conv2d( inputs, 64, [ 7, 7 ], stride = 2, scope = 'conv0' )\n",
    "#             end_points['pool0'] = layers.max_pool2d(end_points['conv0'], [3, 3], scope='pool0')\n",
    "#             end_points['conv1_a'] = layers.conv2d( end_points['pool0'], 64, [ 1, 1 ], scope = 'conv1_a' )\n",
    "#             end_points['conv1_b'] = layers.conv2d( end_points['conv1_a'], 192, [ 3, 3 ], scope = 'conv1_b' )\n",
    "#             end_points['pool1'] = layers.max_pool2d(end_points['conv1_b'], [ 3, 3 ], scope='pool1')\n",
    "\n",
    "#             with tf.variable_scope(\"inception_3a\"):\n",
    "#                 end_points['inception_3a'] = get_inception_layer( end_points['pool1'], 64, 96, 128, 16, 32, 32 )\n",
    "\n",
    "#             with tf.variable_scope(\"inception_3b\"):\n",
    "#                 end_points['inception_3b'] = get_inception_layer( end_points['inception_3a'], 128, 128, 192, 32, 96, 64 )\n",
    "\n",
    "#             end_points['pool2'] = layers.max_pool2d(end_points['inception_3b'], [ 3, 3 ], scope='pool2')\n",
    "\n",
    "#             with tf.variable_scope(\"inception_4a\"):\n",
    "#                 end_points['inception_4a'] = get_inception_layer( end_points['pool2'], 192, 96, 208, 16, 48, 64 )\n",
    "\n",
    "#             with tf.variable_scope(\"aux_logits_1\"):\n",
    "#                 end_points['aux_logits_1'] = aux_logit_layer( end_points['inception_4a'], num_classes, is_training )\n",
    "\n",
    "#             with tf.variable_scope(\"inception_4b\"):\n",
    "#                 end_points['inception_4b'] = get_inception_layer( end_points['inception_4a'], 160, 112, 224, 24, 64, 64 )\n",
    "\n",
    "#             with tf.variable_scope(\"inception_4c\"):\n",
    "#                 end_points['inception_4c'] = get_inception_layer( end_points['inception_4b'], 128, 128, 256, 24, 64, 64 )\n",
    "\n",
    "#             with tf.variable_scope(\"inception_4d\"):\n",
    "#                 end_points['inception_4d'] = get_inception_layer( end_points['inception_4c'], 112, 144, 288, 32, 64, 64 )\n",
    "\n",
    "#             with tf.variable_scope(\"aux_logits_2\"):\n",
    "#                 end_points['aux_logits_2'] = aux_logit_layer( end_points['inception_4d'], num_classes, is_training )\n",
    "\n",
    "#             with tf.variable_scope(\"inception_4e\"):\n",
    "#                 end_points['inception_4e'] = get_inception_layer( end_points['inception_4d'], 256, 160, 320, 32, 128, 128 )\n",
    "\n",
    "#             end_points['pool3'] = layers.max_pool2d(end_points['inception_4e'], [ 3, 3 ], scope='pool3')\n",
    "\n",
    "#             with tf.variable_scope(\"inception_5a\"):\n",
    "#                 end_points['inception_5a'] = get_inception_layer( end_points['pool3'], 256, 160, 320, 32, 128, 128 )\n",
    "\n",
    "#             with tf.variable_scope(\"inception_5b\"):\n",
    "#                 end_points['inception_5b'] = get_inception_layer( end_points['inception_5a'], 384, 192, 384, 48, 128, 128 )\n",
    "\n",
    "#             end_points['pool4'] = layers.avg_pool2d(end_points['inception_5b'], [ 7, 7 ], stride = 1, scope='pool4')\n",
    "\n",
    "#             end_points['reshape'] = tf.reshape( end_points['pool4'], [-1, 1024] )\n",
    "            \n",
    "#             end_points['dropout'] = layers.dropout( end_points['reshape'], dropout_keep_prob, is_training = is_training )\n",
    "\n",
    "#             end_points['logits'] = layers.fully_connected( end_points['dropout'], num_classes, activation_fn=None, scope='logits')\n",
    "\n",
    "#             end_points['predictions'] = tf.nn.softmax(end_points['logits'], name='predictions')\n",
    "\n",
    "# return end_points['logits'], end_points\n",
    "\n"
   ]
  },
  {
   "cell_type": "code",
   "execution_count": 2,
   "metadata": {},
   "outputs": [],
   "source": [
    "import os\n",
    "import random\n",
    "import skimage.data\n",
    "from skimage import io\n",
    "import skimage.transform as skt\n",
    "import numpy as np\n",
    "import tensorflow as tf\n",
    "from tqdm import tqdm\n",
    "import sys\n",
    "sys.path.remove('/opt/ros/kinetic/lib/python2.7/dist-packages')\n",
    "import cv2"
   ]
  },
  {
   "cell_type": "code",
   "execution_count": 3,
   "metadata": {},
   "outputs": [
    {
     "name": "stdout",
     "output_type": "stream",
     "text": [
      "(10, 448, 448, 3)\n",
      "(10, 3)\n",
      "[[ 1.77198356e+01  3.36775873e+01  1.36480058e+02]\n",
      " [ 2.05237356e+01  1.07816142e+01  7.45563945e+01]\n",
      " [-2.00222150e+01  9.77842364e+00  1.27431091e+02]\n",
      " [ 7.32215589e+00  4.09674492e+01 -1.79749338e+02]\n",
      " [ 1.70666824e+00  7.17638851e-02 -7.74170857e-01]\n",
      " [ 1.82110457e+01  7.84136235e+00  4.72056071e+01]\n",
      " [-1.73011950e+01  6.96023325e+00  1.35875168e+02]\n",
      " [ 1.24662131e+01  2.08635920e+00  4.47394372e+01]\n",
      " [-1.85446003e+01  3.26493497e+01  4.80283179e+01]\n",
      " [ 2.08494585e+01  1.24437437e+01 -9.44614498e+01]]\n"
     ]
    }
   ],
   "source": [
    "train_label_dir = \"/home/ysk/catkin_ws/laser_pic_code/pic/regression_benhuan448_angle\"\n",
    "train_pic_dir = \"/home/ysk/catkin_ws/laser_pic_code/pic/regression_benhuan448_angle/picture\"\n",
    "train_submap_dir = \"/home/ysk/catkin_ws/laser_pic_code/pic/regression_benhuan448_angle/submap\"\n",
    "\n",
    "def get_train_data_batch(num, pic_dir=train_pic_dir, label_dir=train_label_dir,submap_dir=train_submap_dir):\n",
    "    train_txt = os.path.join(label_dir,\"label.txt\")\n",
    "    count = len(open(train_txt,'r').readlines()) - 1    \n",
    "    idx = np.arange(0, count)      \n",
    "    np.random.shuffle(idx)                \n",
    "    data_idx = idx[:num]\n",
    "#     print(data_idx)\n",
    "    \n",
    "    labels = []\n",
    "    images = []\n",
    "    \n",
    "    for i in range(num):\n",
    "        with open(train_txt,'r') as file:\n",
    "            s = file.readlines()\n",
    "            image1 = skimage.data.imread(os.path.join(pic_dir, s[data_idx[i]].split(\";\")[0]))\n",
    "            submap1 = cv2.imread(os.path.join(submap_dir,str(data_idx[i]) + '.pgm'))\n",
    "            submap1 = cv2.resize(submap1,(448,448))\n",
    "            submap1 = cv2.transpose(submap1)\n",
    "            submap1 = cv2.flip(submap1, 1)\n",
    "            img = cv2.merge([image1,submap1])\n",
    "            images.append(image1)\n",
    "\n",
    "            label = s[data_idx[i]].split(\";\")[1:]\n",
    "            label = list(map(float,label))\n",
    "            labels.append(label)\n",
    "    return np.asarray(images),np.asarray(labels)\n",
    "\n",
    "num = 10\n",
    "train_images, train_labels = get_train_data_batch(num)\n",
    "print(np.shape(train_images))\n",
    "print(np.shape(train_labels))\n",
    "print(train_labels)"
   ]
  },
  {
   "cell_type": "code",
   "execution_count": null,
   "metadata": {},
   "outputs": [
    {
     "name": "stdout",
     "output_type": "stream",
     "text": [
      "INFO:tensorflow:Restoring parameters from ./checkpoints/googlenet/saved_net.ckpt-36000\n"
     ]
    },
    {
     "name": "stderr",
     "output_type": "stream",
     "text": [
      "\r",
      "  0%|          | 0/50000 [00:00<?, ?it/s]"
     ]
    },
    {
     "name": "stdout",
     "output_type": "stream",
     "text": [
      "restored ./checkpoints/googlenet/saved_net.ckpt-36000\n",
      "learning_rate is:\n",
      " 1e-04\n",
      "real location is:\n",
      " [[ 1.00694470e+04  2.99641710e+02  1.47305936e+04]\n",
      " [-6.66733313e+03  4.07901822e+04 -1.79133820e+05]\n",
      " [ 1.86408888e+04  3.27875955e+04  1.34573409e+05]\n",
      " [ 9.64996968e+03 -1.33907972e+02  1.45643665e+04]]\n",
      "prediction is:\n",
      " [[  11335.74     -2526.4707   12055.401 ]\n",
      " [  -5166.04     39122.805  -160519.92  ]\n",
      " [  18620.678    26408.18    151536.73  ]\n",
      " [   9489.898     -263.5522   20233.668 ]]\n"
     ]
    },
    {
     "name": "stderr",
     "output_type": "stream",
     "text": [
      "\r",
      "  0%|          | 1/50000 [00:03<46:35:22,  3.35s/it]"
     ]
    },
    {
     "name": "stdout",
     "output_type": "stream",
     "text": [
      "loss is: 6026.7915\n"
     ]
    },
    {
     "name": "stderr",
     "output_type": "stream",
     "text": [
      "  2%|▏         | 1000/50000 [22:54<18:39:00,  1.37s/it]"
     ]
    },
    {
     "name": "stdout",
     "output_type": "stream",
     "text": [
      "learning_rate is:\n",
      " 8.9999994e-05\n",
      "real location is:\n",
      " [[  20553.2220484    25354.8477219    89736.1790574 ]\n",
      " [  -8534.50103181   40758.9289741  -179267.823731  ]\n",
      " [ -15223.9637517    35965.7576949  -135840.650719  ]\n",
      " [  17719.8356129    33677.5873369   136480.057656  ]]\n",
      "prediction is:\n",
      " [[  14137.975    26954.559    65282.31  ]\n",
      " [ -10000.6455   43693.992   -81360.945 ]\n",
      " [ -13082.986    35823.17   -151560.36  ]\n",
      " [  18998.283    33860.457   133658.2   ]]\n"
     ]
    },
    {
     "name": "stderr",
     "output_type": "stream",
     "text": [
      "\r",
      "  2%|▏         | 1001/50000 [22:56<21:32:01,  1.58s/it]"
     ]
    },
    {
     "name": "stdout",
     "output_type": "stream",
     "text": [
      "loss is: 16359.207\n"
     ]
    },
    {
     "name": "stderr",
     "output_type": "stream",
     "text": [
      "  4%|▍         | 2000/50000 [45:51<18:15:43,  1.37s/it]"
     ]
    },
    {
     "name": "stdout",
     "output_type": "stream",
     "text": [
      "learning_rate is:\n",
      " 8.099999e-05\n",
      "real location is:\n",
      " [[ 11381.027065    39680.8876773  144222.977806  ]\n",
      " [-20714.9648637   13704.6840881  -90048.9482713 ]\n",
      " [-10832.8937731   40234.3107456   37859.8973829 ]\n",
      " [ -4239.96576936    207.59039369  -2951.41917141]]\n",
      "prediction is:\n",
      " [[ 10676.052   35381.56   141693.58  ]\n",
      " [-20778.535   14582.943  -88730.31  ]\n",
      " [-13762.392   40483.57    37319.45  ]\n",
      " [ -4180.0596    248.916    3272.8352]]\n"
     ]
    },
    {
     "name": "stderr",
     "output_type": "stream",
     "text": [
      "\r",
      "  4%|▍         | 2001/50000 [45:53<20:55:32,  1.57s/it]"
     ]
    },
    {
     "name": "stdout",
     "output_type": "stream",
     "text": [
      "loss is: 2064.9912\n"
     ]
    },
    {
     "name": "stderr",
     "output_type": "stream",
     "text": [
      "  6%|▌         | 3000/50000 [1:08:42<17:54:20,  1.37s/it]"
     ]
    },
    {
     "name": "stdout",
     "output_type": "stream",
     "text": [
      "learning_rate is:\n",
      " 7.2899995e-05\n",
      "real location is:\n",
      " [[ 19907.9862935    9901.91769857  41337.9800076 ]\n",
      " [-20589.9111629   18124.611324    88535.3864276 ]\n",
      " [  9328.32009391  41055.4714073  -15522.1093944 ]\n",
      " [-15608.5739867    5392.07610078 136677.569754  ]]\n",
      "prediction is:\n",
      " [[ 20822.875    8076.3867  44989.48  ]\n",
      " [-18392.848   21474.352   75383.14  ]\n",
      " [  8084.968   41012.53    16752.    ]\n",
      " [-15046.884    2271.5935 137909.55  ]]\n"
     ]
    },
    {
     "name": "stderr",
     "output_type": "stream",
     "text": [
      "\r",
      "  6%|▌         | 3001/50000 [1:08:44<20:29:57,  1.57s/it]"
     ]
    },
    {
     "name": "stdout",
     "output_type": "stream",
     "text": [
      "loss is: 6619.849\n"
     ]
    },
    {
     "name": "stderr",
     "output_type": "stream",
     "text": [
      "  8%|▊         | 4000/50000 [1:31:34<17:30:12,  1.37s/it]"
     ]
    },
    {
     "name": "stdout",
     "output_type": "stream",
     "text": [
      "learning_rate is:\n",
      " 6.560999e-05\n",
      "real location is:\n",
      " [[-1.69058465e+04  6.62145221e+03 -4.23232036e+04]\n",
      " [ 1.70904667e+04  3.42997587e+04  1.34465270e+05]\n",
      " [ 8.46411457e+03  4.11908994e+04 -1.78553793e+05]\n",
      " [ 2.47910238e+03  1.60894733e+01 -3.35051914e+02]]\n",
      "prediction is:\n",
      " [[ -16786.355      5920.7524   -51446.613  ]\n",
      " [  16293.3545    34254.9       91472.945  ]\n",
      " [   7940.788     41176.965   -190233.58   ]\n",
      " [   1405.5413     -735.64886  -34320.5    ]]\n"
     ]
    },
    {
     "name": "stderr",
     "output_type": "stream",
     "text": [
      "\r",
      "  8%|▊         | 4001/50000 [1:31:36<19:58:27,  1.56s/it]"
     ]
    },
    {
     "name": "stdout",
     "output_type": "stream",
     "text": [
      "loss is: 10603.206\n"
     ]
    },
    {
     "name": "stderr",
     "output_type": "stream",
     "text": [
      " 10%|█         | 5000/50000 [1:54:25<17:07:41,  1.37s/it]"
     ]
    },
    {
     "name": "stdout",
     "output_type": "stream",
     "text": [
      "learning_rate is:\n",
      " 5.904899e-05\n",
      "real location is:\n",
      " [[   8713.50248799     135.66968281   -1544.63241194]\n",
      " [ -18978.8358884     8598.64215514  132437.645477  ]\n",
      " [  19390.3804146     9358.9559829  -120004.931172  ]\n",
      " [ -13858.9059496    37459.6180659    44476.6344987 ]]\n",
      "prediction is:\n",
      " [[  10408.663     2502.9934   -2872.075 ]\n",
      " [ -13904.092     7023.0405  127293.87  ]\n",
      " [  17651.404     9212.717  -135833.58  ]\n",
      " [ -13824.466    37913.16     49572.195 ]]\n"
     ]
    },
    {
     "name": "stderr",
     "output_type": "stream",
     "text": [
      "\r",
      " 10%|█         | 5001/50000 [1:54:27<19:38:30,  1.57s/it]"
     ]
    },
    {
     "name": "stdout",
     "output_type": "stream",
     "text": [
      "loss is: 4215.2593\n"
     ]
    },
    {
     "name": "stderr",
     "output_type": "stream",
     "text": [
      " 12%|█▏        | 6000/50000 [2:17:16<16:46:21,  1.37s/it]"
     ]
    },
    {
     "name": "stdout",
     "output_type": "stream",
     "text": [
      "learning_rate is:\n",
      " 5.3144096e-05\n",
      "real location is:\n",
      " [[  15039.1429152     4381.513287   -137909.849327  ]\n",
      " [ -12887.8098276     2931.27644789  -41911.8051182 ]\n",
      " [ -20448.2783198    11631.4823851   -82753.448452  ]\n",
      " [ -19720.3306942     9436.00813814  -47278.6091936 ]]\n",
      "prediction is:\n",
      " [[  8939.161   5902.478 -89784.94 ]\n",
      " [-13909.814   2700.009 -43563.61 ]\n",
      " [-20523.752  14060.424 -74240.984]\n",
      " [-18421.357   9603.699 -55095.08 ]]\n"
     ]
    },
    {
     "name": "stderr",
     "output_type": "stream",
     "text": [
      "\r",
      " 12%|█▏        | 6001/50000 [2:17:18<19:18:18,  1.58s/it]"
     ]
    },
    {
     "name": "stdout",
     "output_type": "stream",
     "text": [
      "loss is: 8222.496\n"
     ]
    },
    {
     "name": "stderr",
     "output_type": "stream",
     "text": [
      " 14%|█▍        | 7000/50000 [2:40:11<16:22:48,  1.37s/it]"
     ]
    },
    {
     "name": "stdout",
     "output_type": "stream",
     "text": [
      "learning_rate is:\n",
      " 4.782968e-05\n",
      "real location is:\n",
      " [[-20693.9932165   24471.1561192  -90732.1074088 ]\n",
      " [-10314.8021909     706.20765173 138996.401512  ]\n",
      " [ 20374.1655981   29810.4738013  -92037.440956  ]\n",
      " [-20675.6291513   21807.404095   -90278.2976778 ]]\n",
      "prediction is:\n",
      " [[ -19053.652    24586.658   -82220.59  ]\n",
      " [  -9165.412     1001.7905  139080.83  ]\n",
      " [  20327.285    31251.105   -95972.805 ]\n",
      " [ -17901.809    23259.875  -102685.51  ]]\n"
     ]
    },
    {
     "name": "stderr",
     "output_type": "stream",
     "text": [
      "\r",
      " 14%|█▍        | 7001/50000 [2:40:13<18:50:20,  1.58s/it]"
     ]
    },
    {
     "name": "stdout",
     "output_type": "stream",
     "text": [
      "loss is: 3524.8098\n"
     ]
    },
    {
     "name": "stderr",
     "output_type": "stream",
     "text": [
      " 16%|█▌        | 8000/50000 [3:03:07<17:32:23,  1.50s/it]"
     ]
    },
    {
     "name": "stdout",
     "output_type": "stream",
     "text": [
      "learning_rate is:\n",
      " 4.3046708e-05\n",
      "real location is:\n",
      " [[ -4039.70677954  41048.1501526    4037.13088926]\n",
      " [ 10377.9803786     285.09948936  30736.2083119 ]\n",
      " [-20505.2284077   27860.8138915  -91830.4268535 ]\n",
      " [ 19983.7015041   31380.1436623  129858.688089  ]]\n",
      "prediction is:\n",
      " [[ -4152.4224   40308.47     13613.403  ]\n",
      " [ 10013.453      463.77008  43075.63   ]\n",
      " [-21295.041    27799.258   -94286.45   ]\n",
      " [ 22520.72     34075.945   125586.61   ]]\n"
     ]
    },
    {
     "name": "stderr",
     "output_type": "stream",
     "text": [
      "\r",
      " 16%|█▌        | 8001/50000 [3:03:09<20:07:10,  1.72s/it]"
     ]
    },
    {
     "name": "stdout",
     "output_type": "stream",
     "text": [
      "loss is: 3761.3132\n"
     ]
    },
    {
     "name": "stderr",
     "output_type": "stream",
     "text": [
      " 18%|█▊        | 9000/50000 [3:26:01<15:36:35,  1.37s/it]"
     ]
    },
    {
     "name": "stdout",
     "output_type": "stream",
     "text": [
      "learning_rate is:\n",
      " 3.8742037e-05\n",
      "real location is:\n",
      " [[  15718.9589423     5271.1220985    46253.7200046 ]\n",
      " [   9644.02683041   41044.3649592   150859.841388  ]\n",
      " [  20796.1888083    11398.06612    -100247.961934  ]\n",
      " [ -14536.3319323     4400.3451759   -42931.045641  ]]\n",
      "prediction is:\n",
      " [[  16036.921   10281.669   34922.82 ]\n",
      " [  11518.941   39809.56   154579.14 ]\n",
      " [  23047.115    9753.902 -100474.84 ]\n",
      " [ -14216.683    5261.439  -42719.855]]\n"
     ]
    },
    {
     "name": "stderr",
     "output_type": "stream",
     "text": [
      "\r",
      " 18%|█▊        | 9001/50000 [3:26:03<17:56:53,  1.58s/it]"
     ]
    },
    {
     "name": "stdout",
     "output_type": "stream",
     "text": [
      "loss is: 3019.5154\n"
     ]
    },
    {
     "name": "stderr",
     "output_type": "stream",
     "text": [
      " 20%|██        | 10000/50000 [3:48:56<15:22:05,  1.38s/it]"
     ]
    },
    {
     "name": "stdout",
     "output_type": "stream",
     "text": [
      "learning_rate is:\n",
      " 3.486783e-05\n",
      "real location is:\n",
      " [[-1.26412519e+04  3.86627183e+04  4.49851393e+04]\n",
      " [-2.78167937e+03  3.60136433e+02  1.34167860e+05]\n",
      " [-5.81832648e+03  2.31702233e+02 -1.79837630e+05]\n",
      " [ 4.36257204e+03  3.88160313e+01  7.84137932e+02]]\n",
      "prediction is:\n",
      " [[-12520.589    36484.74     58366.277  ]\n",
      " [ -3275.8506     273.29224 130370.914  ]\n",
      " [ -5231.8784   -1793.6624   83823.7    ]\n",
      " [  4479.231     3202.6917   -4408.954  ]]\n"
     ]
    },
    {
     "name": "stderr",
     "output_type": "stream",
     "text": [
      "\r",
      " 20%|██        | 10001/50000 [3:48:58<17:43:21,  1.60s/it]"
     ]
    },
    {
     "name": "stdout",
     "output_type": "stream",
     "text": [
      "loss is: 30707.242\n"
     ]
    },
    {
     "name": "stderr",
     "output_type": "stream",
     "text": [
      " 22%|██▏       | 11000/50000 [4:11:49<14:51:03,  1.37s/it]"
     ]
    },
    {
     "name": "stdout",
     "output_type": "stream",
     "text": [
      "learning_rate is:\n",
      " 3.138105e-05\n",
      "real location is:\n",
      " [[ 20667.6347749   16082.9282542   91569.7835317 ]\n",
      " [-20548.006344    26644.1358115  -91458.950003  ]\n",
      " [-11711.2681235    1971.17702181 -39613.7820578 ]\n",
      " [-20718.8506584   18657.7019774  -88927.5151124 ]]\n",
      "prediction is:\n",
      " [[  20613.09     16543.428    83372.28  ]\n",
      " [ -20512.105    23408.344   -77338.06  ]\n",
      " [ -12196.21      2710.5605  -35621.492 ]\n",
      " [ -19441.031    18850.303  -102491.83  ]]\n"
     ]
    },
    {
     "name": "stderr",
     "output_type": "stream",
     "text": [
      "\r",
      " 22%|██▏       | 11001/50000 [4:11:51<17:03:51,  1.58s/it]"
     ]
    },
    {
     "name": "stdout",
     "output_type": "stream",
     "text": [
      "loss is: 4827.2417\n"
     ]
    },
    {
     "name": "stderr",
     "output_type": "stream",
     "text": [
      " 24%|██▍       | 12000/50000 [4:34:42<15:11:42,  1.44s/it]"
     ]
    },
    {
     "name": "stdout",
     "output_type": "stream",
     "text": [
      "learning_rate is:\n",
      " 2.8242943e-05\n",
      "real location is:\n",
      " [[-20583.2123179   17196.1655903   92543.0272908 ]\n",
      " [ 18731.5110531    8460.04585102  50995.6450415 ]\n",
      " [ 15519.2407035   35863.4596502  -43986.0810244 ]\n",
      " [ -8230.38819005  40755.4578267  178977.779826  ]]\n",
      "prediction is:\n",
      " [[-16185.748  18773.17   70376.22 ]\n",
      " [ 18099.82    8814.806  52073.21 ]\n",
      " [ 12173.081  38398.844 -30872.678]\n",
      " [-10322.432  42938.01  -73310.9  ]]\n"
     ]
    },
    {
     "name": "stderr",
     "output_type": "stream",
     "text": [
      "\r",
      " 24%|██▍       | 12001/50000 [4:34:44<17:10:10,  1.63s/it]"
     ]
    },
    {
     "name": "stdout",
     "output_type": "stream",
     "text": [
      "loss is: 31848.807\n"
     ]
    },
    {
     "name": "stderr",
     "output_type": "stream",
     "text": [
      "\r",
      " 24%|██▍       | 12002/50000 [4:34:46<16:22:54,  1.55s/it]"
     ]
    }
   ],
   "source": [
    "batch_size = 4\n",
    "checkpointsPath = \"./checkpoints/googlenet/\"\n",
    "starter_learning_rate = 0.0001\n",
    "steps_per_decay = 1000\n",
    "decay_factor = 0.9\n",
    "reload = True\n",
    "\n",
    "global_step = tf.Variable(tf.constant(0))\n",
    "learning_rate = tf.train.exponential_decay(learning_rate = starter_learning_rate,\n",
    "                                           global_step = global_step,\n",
    "                                           decay_steps = steps_per_decay,\n",
    "                                           decay_rate = decay_factor,\n",
    "                                           staircase = True\n",
    "                                           )\n",
    "\n",
    "input_image = tf.placeholder(\"float\", [None, 448,448,3],name='input_image')/255.*2.-1\n",
    "tf_y = tf.placeholder(\"float\", [None, 3],name='y_') \n",
    "\n",
    "\n",
    "# network structure\n",
    "def inception(x, p1, p2, p3, p4, scope):\n",
    "    p1f11 = p1\n",
    "    p2f11, p2f33 = p2\n",
    "    p3f11, p3f55 = p3\n",
    "    p4f11 = p4\n",
    "    with tf.variable_scope(scope):\n",
    "        path1 = tf.layers.conv2d(x, filters=p1f11, kernel_size=1, activation=tf.nn.leaky_relu, name='p1f11')\n",
    "\n",
    "        path2 = tf.layers.conv2d(x, p2f11, 1, activation=tf.nn.leaky_relu, name='p2f11')\n",
    "        path2 = tf.layers.conv2d(path2, p2f33, 3, padding='same', activation=tf.nn.leaky_relu, name='p2f33')\n",
    "\n",
    "        path3 = tf.layers.conv2d(x, p3f11, 1, activation=tf.nn.leaky_relu, name='p3f11')\n",
    "        path3 = tf.layers.conv2d(path3, p3f55, 5, padding='same', activation=tf.nn.leaky_relu, name='p3f55')\n",
    "\n",
    "        path4 = tf.layers.max_pooling2d(x, pool_size=3, strides=1, padding='same', name='p4p33')\n",
    "        path4 = tf.layers.conv2d(path4, p4f11, 1, activation=tf.nn.leaky_relu, name='p4f11')\n",
    "\n",
    "        out = tf.concat((path1, path2, path3, path4), axis=-1, name='path_cat')\n",
    "    return out\n",
    "\n",
    "\n",
    "with tf.variable_scope('GoogLeNet'):\n",
    "    net = tf.layers.conv2d(                 # [batch, 448, 448, 3]\n",
    "        inputs=input_image,\n",
    "        filters=12,\n",
    "        activation=tf.nn.leaky_relu,\n",
    "        kernel_size=5,\n",
    "        strides=1,\n",
    "        padding='same',\n",
    "        name=\"conv1\")                       # -> [batch, 448, 448, 12]\n",
    "    net = tf.layers.max_pooling2d(net, 2, 2, name=\"maxpool1\")                   # -> [batch, 224, 224, 12]\n",
    "    net = inception(net, p1=64, p2=(6, 64), p3=(6, 32), p4=32, scope='incpt1')  # -> [batch, 224, 224, 64+64+32+32=192]\n",
    "    net = tf.layers.max_pooling2d(net, 3, 2, padding='same', name=\"maxpool1\")   # -> [batch, 112, 112, 192]\n",
    "    net = inception(net, p1=256, p2=(32, 256), p3=(32, 128), p4=128, scope='incpt2')  # -> [batch, 112, 112, 768]\n",
    "    net = tf.layers.average_pooling2d(net, 7, 1, name=\"avgpool\")                # -> [batch, 16, 16, 768]\n",
    "    net = tf.layers.flatten(net, name='flat')                                   # -> [batch, 16*16*768]\n",
    "    logits = tf.layers.dense(net, 3, name='fc4')                               # -> [batch, n_classes]\n",
    "\n",
    "delta=tf.constant(1.25)\n",
    "#huber损失函数\n",
    "loss = tf.reduce_mean(tf.multiply(tf.square(delta),\n",
    "                                  tf.sqrt(1. + tf.square((tf_y - logits)/delta)) - 1.))\n",
    "tf.summary.scalar(\"loss\",loss)\n",
    "train_op = tf.train.AdamOptimizer(learning_rate).minimize(loss)\n",
    "merged = tf.summary.merge_all()\n",
    "\n",
    "with tf.Session() as sess:\n",
    "    sess.run(tf.global_variables_initializer())\n",
    "    saver = tf.train.Saver()\n",
    "    writer = tf.summary.FileWriter('./log', sess.graph) \n",
    "    \n",
    "    if not os.path.exists(checkpointsPath):\n",
    "        os.mkdir(checkpointsPath)\n",
    "    \n",
    "    if reload:\n",
    "        checkPoint = tf.train.get_checkpoint_state(checkpointsPath)\n",
    "        if checkPoint and checkPoint.model_checkpoint_path:\n",
    "            saver.restore(sess,checkPoint.model_checkpoint_path)\n",
    "            print(\"restored %s\" % checkPoint.model_checkpoint_path)\n",
    "        else:\n",
    "            print(\"no checkpoint found!\")\n",
    "            \n",
    "    for step in tqdm(range(50000)):\n",
    "        batch_x,batch_y = get_train_data_batch(batch_size)\n",
    "        batch_y = batch_y*1000\n",
    "        summary,_ = sess.run([merged,train_op],feed_dict={global_step:step,input_image:batch_x, tf_y:batch_y})\n",
    "        writer.add_summary(summary, step)\n",
    "        if (step % 1000) == 0 & (step != 0):\n",
    "            saver.save(sess, os.path.join(checkpointsPath,\"saved_net.ckpt\"), global_step=step)\n",
    "            print(\"learning_rate is:\\n\",sess.run(learning_rate,feed_dict = {global_step:step}))\n",
    "            print(\"real location is:\\n\",batch_y)\n",
    "            print(\"prediction is:\\n\",sess.run(logits,feed_dict={input_image:batch_x, tf_y:batch_y}))\n",
    "            print(\"loss is:\",sess.run(loss,feed_dict={input_image:batch_x, tf_y:batch_y}))\n",
    "    print(\"done!\")\n"
   ]
  },
  {
   "cell_type": "code",
   "execution_count": null,
   "metadata": {},
   "outputs": [],
   "source": []
  }
 ],
 "metadata": {
  "kernelspec": {
   "display_name": "Python 3",
   "language": "python",
   "name": "python3"
  },
  "language_info": {
   "codemirror_mode": {
    "name": "ipython",
    "version": 3
   },
   "file_extension": ".py",
   "mimetype": "text/x-python",
   "name": "python",
   "nbconvert_exporter": "python",
   "pygments_lexer": "ipython3",
   "version": "3.5.2"
  }
 },
 "nbformat": 4,
 "nbformat_minor": 2
}
