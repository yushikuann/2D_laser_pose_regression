{
 "cells": [
  {
   "cell_type": "code",
   "execution_count": 1,
   "metadata": {},
   "outputs": [],
   "source": [
    "import os\n",
    "import random\n",
    "import skimage.data\n",
    "from skimage import io\n",
    "import skimage.transform as skt\n",
    "import numpy as np\n",
    "import tensorflow as tf\n",
    "from tqdm import tqdm\n",
    "import sys\n",
    "sys.path.remove('/opt/ros/kinetic/lib/python2.7/dist-packages')\n",
    "import cv2"
   ]
  },
  {
   "cell_type": "code",
   "execution_count": 2,
   "metadata": {},
   "outputs": [],
   "source": [
    "# submap_dir = \"/home/ysk/catkin_ws/laser_pic_code/pic/regression/submap\"\n",
    "# pic_dir = \"/home/ysk/catkin_ws/laser_pic_code/pic/regression/picture\"\n",
    "\n",
    "# # for i in range(4):\n",
    "# i = 1\n",
    "# submap1 = cv2.imread(os.path.join(submap_dir,str(0) + '.pgm'))\n",
    "# submap1 = cv2.resize(submap1,(448,448))\n",
    "# submap1 = cv2.transpose(submap1)\n",
    "# submap1 = cv2.flip(submap1, 1)\n",
    "# # submap1 = np.rot90(submap1)\n",
    "# cv2.imshow(\"submap\",submap1)\n",
    "\n",
    "\n",
    "# pic1 = cv2.imread(os.path.join(pic_dir, '00000.jpg'))\n",
    "# cv2.imshow(\"pic\",pic1)\n",
    "\n",
    "# cv2.waitKey(0)\n",
    "# cv2.destroyAllWindows()\n",
    "# print(np.shape(submap1))"
   ]
  },
  {
   "cell_type": "code",
   "execution_count": 3,
   "metadata": {},
   "outputs": [
    {
     "name": "stdout",
     "output_type": "stream",
     "text": [
      "4026\n",
      "(4024, 448, 448, 12)\n",
      "(4024, 2)\n"
     ]
    }
   ],
   "source": [
    "label_dir = \"/home/ysk/catkin_ws/laser_pic_code/pic/regression\"\n",
    "pic_dir = \"/home/ysk/catkin_ws/laser_pic_code/pic/regression/picture\"\n",
    "submap_dir = \"/home/ysk/catkin_ws/laser_pic_code/pic/regression/submap\"\n",
    "\n",
    "train_txt = os.path.join(label_dir, \"label.txt\")\n",
    "count = len(open(train_txt, 'r').readlines())\n",
    "print(count)\n",
    "file = open(train_txt, 'r')\n",
    "s = file.readlines()\n",
    "all_images = []\n",
    "all_labels = []\n",
    "\n",
    "for i in range(0, count-2):\n",
    "    image1 = skimage.data.imread(os.path.join(pic_dir, s[i].split(\";\")[0]))\n",
    "    submap1 = cv2.imread(os.path.join(submap_dir,str(i) + '.pgm'))\n",
    "    submap1 = cv2.resize(submap1,(448,448))\n",
    "    submap1 = cv2.transpose(submap1)\n",
    "    submap1 = cv2.flip(submap1, 1)\n",
    "    \n",
    "    image2 = skimage.data.imread(os.path.join(pic_dir, s[i+1].split(\";\")[0]))\n",
    "    submap2 = cv2.imread(os.path.join(submap_dir,str(i+1) + '.pgm'))\n",
    "    submap2 = cv2.resize(submap2,(448,448))\n",
    "    submap2 = cv2.transpose(submap2)\n",
    "    submap2 = cv2.flip(submap2, 1)\n",
    "    \n",
    "    label = s[i].split(\";\")[1:3]\n",
    "    label = list(map(float,label))\n",
    "#     image2 = skimage.data.imread(os.path.join(pic_dir, s[i].split(\";\")[0]))\n",
    "#     image3 = skimage.data.imread(os.path.join(pic_dir, s[i+1].split(\";\")[0]))\n",
    "#     image4 = skimage.data.imread(os.path.join(pic_dir, s[i+2].split(\";\")[0]))\n",
    "    img = cv2.merge([submap1,image1,image2,submap2])\n",
    "#     img = cv2.merge([image1,image2,image3,image4])\n",
    "\n",
    "    all_images.append(img)\n",
    "    all_labels.append(label)\n",
    "    \n",
    "print(np.shape(all_images))\n",
    "print(np.shape(all_labels))"
   ]
  },
  {
   "cell_type": "code",
   "execution_count": 4,
   "metadata": {},
   "outputs": [
    {
     "name": "stdout",
     "output_type": "stream",
     "text": [
      "[[ 31.11121215  -5.85223187]\n",
      " [ 21.8258767   -9.10912608]\n",
      " [  7.15754183   0.3714195 ]\n",
      " [ 17.70421116  -9.3766028 ]\n",
      " [ 24.08184946   0.87288413]\n",
      " [-14.96184401  -5.25396523]\n",
      " [ -3.10579622  -0.46758396]\n",
      " [ 12.36987907  -3.08969176]\n",
      " [ -5.20160946  -1.7571838 ]\n",
      " [-29.09674194  -7.2445275 ]]\n",
      "(10, 448, 448, 12)\n",
      "(10, 2)\n"
     ]
    }
   ],
   "source": [
    "def get_train_data_batch(num):\n",
    "    idx = np.arange(0, count-2)\n",
    "    np.random.shuffle(idx)\n",
    "    data_idx = idx[:num]\n",
    "\n",
    "    labels = []\n",
    "    images = []\n",
    "\n",
    "    for i in range(num):\n",
    "        images.append(all_images[data_idx[i]])\n",
    "        labels.append(all_labels[data_idx[i]])\n",
    "\n",
    "    return np.asarray(images), np.asarray(labels)\n",
    "X,Y = get_train_data_batch(10)\n",
    "print(Y)\n",
    "print(np.shape(X))\n",
    "print(np.shape(Y))"
   ]
  },
  {
   "cell_type": "code",
   "execution_count": 5,
   "metadata": {},
   "outputs": [
    {
     "name": "stderr",
     "output_type": "stream",
     "text": [
      "\r",
      "  0%|          | 0/100000 [00:00<?, ?it/s]"
     ]
    },
    {
     "name": "stdout",
     "output_type": "stream",
     "text": [
      "save model\n",
      "learning_rate is:\n",
      " 0.0003\n",
      "real location is:\n",
      " [[ 12572.3698636   -5501.42692179]\n",
      " [-20599.2884466   -5452.05586943]\n",
      " [ 10781.5764829   -9733.88958679]\n",
      " [ 15868.7874756   -9424.61705883]]\n",
      "prediction is:\n",
      " [[-573125.9   849638.94]\n",
      " [-557779.3   851805.4 ]\n",
      " [-561823.5   858014.3 ]\n",
      " [-553050.6   871639.1 ]]\n"
     ]
    },
    {
     "name": "stderr",
     "output_type": "stream",
     "text": [
      "\r",
      "  0%|          | 1/100000 [00:02<59:22:01,  2.14s/it]"
     ]
    },
    {
     "name": "stdout",
     "output_type": "stream",
     "text": [
      "loss is: 894625.44\n"
     ]
    },
    {
     "name": "stderr",
     "output_type": "stream",
     "text": [
      "  1%|          | 1001/100000 [03:37<7:22:41,  3.73it/s]"
     ]
    },
    {
     "name": "stdout",
     "output_type": "stream",
     "text": [
      "save model\n",
      "learning_rate is:\n",
      " 0.0003\n",
      "real location is:\n",
      " [[  1343.2168769     132.57276714]\n",
      " [ -5917.28330488  -6781.86981111]\n",
      " [-29803.419945     -305.2856513 ]\n",
      " [ 16251.9665643     770.03771143]]\n",
      "prediction is:\n",
      " [[  5395.136    1310.8015]\n",
      " [  2010.292   -1135.3997]\n",
      " [-33101.008   -5555.947 ]\n",
      " [ 13219.6      1972.2167]]\n",
      "loss is: 4933.905\n"
     ]
    },
    {
     "name": "stderr",
     "output_type": "stream",
     "text": [
      "  2%|▏         | 2001/100000 [07:13<7:16:24,  3.74it/s]"
     ]
    },
    {
     "name": "stdout",
     "output_type": "stream",
     "text": [
      "save model\n",
      "learning_rate is:\n",
      " 0.0003\n",
      "real location is:\n",
      " [[-21767.6848754   -7076.11305675]\n",
      " [ -1371.53434336 -10389.106756  ]\n",
      " [ 13449.1604628   -9721.4223685 ]\n",
      " [-24506.6872358   -5720.63125974]]\n",
      "prediction is:\n",
      " [[-22180.352   -5044.455 ]\n",
      " [  9752.102   -6744.6875]\n",
      " [ 15646.185   -2760.1697]\n",
      " [-20728.273   -4458.4434]]\n",
      "loss is: 4906.4473\n"
     ]
    },
    {
     "name": "stderr",
     "output_type": "stream",
     "text": [
      "  3%|▎         | 3001/100000 [10:48<7:12:44,  3.74it/s]"
     ]
    },
    {
     "name": "stdout",
     "output_type": "stream",
     "text": [
      "save model\n",
      "learning_rate is:\n",
      " 0.000288\n",
      "real location is:\n",
      " [[ 31123.7124128   -5559.573766  ]\n",
      " [ 14712.6979818     688.96051373]\n",
      " [-29925.7242434    1756.7816944 ]\n",
      " [-29016.1954328  -12452.2471895 ]]\n",
      "prediction is:\n",
      " [[ 15991.138   -6601.7646]\n",
      " [ 19220.336    3705.153 ]\n",
      " [-30277.883   -6540.0776]\n",
      " [-17612.18    -9424.771 ]]\n",
      "loss is: 7307.674\n"
     ]
    },
    {
     "name": "stderr",
     "output_type": "stream",
     "text": [
      "  4%|▍         | 4001/100000 [14:24<7:08:13,  3.74it/s]"
     ]
    },
    {
     "name": "stdout",
     "output_type": "stream",
     "text": [
      "save model\n",
      "learning_rate is:\n",
      " 0.000288\n",
      "real location is:\n",
      " [[ 29662.6483107   -8713.57842574]\n",
      " [ 11961.0793949   -9606.64828928]\n",
      " [ 19801.3443317   -9207.70500417]\n",
      " [-27244.150828    -7412.69307272]]\n",
      "prediction is:\n",
      " [[  8697.242   -6749.6743]\n",
      " [  6049.916   -5210.4453]\n",
      " [ 10135.495   -6339.4688]\n",
      " [-18005.973   -7450.7734]]\n",
      "loss is: 8599.539\n"
     ]
    },
    {
     "name": "stderr",
     "output_type": "stream",
     "text": [
      "  5%|▌         | 5001/100000 [17:59<7:03:22,  3.74it/s]"
     ]
    },
    {
     "name": "stdout",
     "output_type": "stream",
     "text": [
      "save model\n",
      "learning_rate is:\n",
      " 0.000288\n",
      "real location is:\n",
      " [[-13009.382904    -6882.93501692]\n",
      " [  2654.25073338   -169.03501212]\n",
      " [ 12262.6524722   -1225.57979251]\n",
      " [  2612.83682904 -10284.7873048 ]]\n",
      "prediction is:\n",
      " [[-15969.689   -4537.915 ]\n",
      " [  7617.583   -3114.263 ]\n",
      " [ 11776.026   -2494.3167]\n",
      " [ 10930.664   -5773.331 ]]\n",
      "loss is: 4341.959\n"
     ]
    },
    {
     "name": "stderr",
     "output_type": "stream",
     "text": [
      "  6%|▌         | 6001/100000 [21:35<6:58:56,  3.74it/s]"
     ]
    },
    {
     "name": "stdout",
     "output_type": "stream",
     "text": [
      "save model\n",
      "learning_rate is:\n",
      " 0.00027648\n",
      "real location is:\n",
      " [[-17614.155769    -6993.76093295]\n",
      " [-27904.783105    -7685.22924773]\n",
      " [-30677.584894     9461.96553902]\n",
      " [  9176.84848962  -9874.38857878]]\n",
      "prediction is:\n",
      " [[-25291.7     -4856.8867]\n",
      " [-28201.46    -8848.339 ]\n",
      " [-39652.49     7855.4375]\n",
      " [ 14854.654   -6754.5625]]\n",
      "loss is: 4788.0117\n"
     ]
    },
    {
     "name": "stderr",
     "output_type": "stream",
     "text": [
      "  7%|▋         | 7001/100000 [25:10<6:54:16,  3.74it/s]"
     ]
    },
    {
     "name": "stdout",
     "output_type": "stream",
     "text": [
      "save model\n",
      "learning_rate is:\n",
      " 0.00027648\n",
      "real location is:\n",
      " [[-23477.8073042   -7276.741412  ]\n",
      " [ 30728.7326945   -2138.94763323]\n",
      " [-30787.6364246    8951.65441413]\n",
      " [-30757.9805778   10714.3050711 ]]\n",
      "prediction is:\n",
      " [[-19878.219   -6022.2983]\n",
      " [ 33951.414   -7620.1504]\n",
      " [-26593.871    6934.796 ]\n",
      " [-39895.336   10648.712 ]]\n",
      "loss is: 4525.2344\n"
     ]
    },
    {
     "name": "stderr",
     "output_type": "stream",
     "text": [
      "  8%|▊         | 8001/100000 [28:46<6:50:19,  3.74it/s]"
     ]
    },
    {
     "name": "stdout",
     "output_type": "stream",
     "text": [
      "save model\n",
      "learning_rate is:\n",
      " 0.00027648\n",
      "real location is:\n",
      " [[  6129.59260186    343.30222573]\n",
      " [-28864.8289223  -14364.4437825 ]\n",
      " [-13550.4621144   -6891.91757118]\n",
      " [-29790.5113281   -1410.61413634]]\n",
      "prediction is:\n",
      " [[  8210.24      2010.9688 ]\n",
      " [-21570.457    -4811.527  ]\n",
      " [-13771.817    -7164.161  ]\n",
      " [-28910.516      459.20987]]\n",
      "loss is: 3723.2861\n"
     ]
    },
    {
     "name": "stderr",
     "output_type": "stream",
     "text": [
      "  9%|▉         | 9001/100000 [32:21<6:45:22,  3.74it/s]"
     ]
    },
    {
     "name": "stdout",
     "output_type": "stream",
     "text": [
      "save model\n",
      "learning_rate is:\n",
      " 0.00026542076\n",
      "real location is:\n",
      " [[ 27083.4511559   -8759.57492206]\n",
      " [-27875.5953827   -7617.93260658]\n",
      " [  -343.68865711 -10467.0611573 ]\n",
      " [  5358.66148417    322.4943599 ]]\n",
      "prediction is:\n",
      " [[ 20194.938   -7388.921 ]\n",
      " [-16198.168   -5143.9023]\n",
      " [  6537.1133  -8621.187 ]\n",
      " [  4282.7793  -1377.9215]]\n",
      "loss is: 5297.4385\n"
     ]
    },
    {
     "name": "stderr",
     "output_type": "stream",
     "text": [
      " 10%|█         | 10001/100000 [35:56<6:41:06,  3.74it/s]"
     ]
    },
    {
     "name": "stdout",
     "output_type": "stream",
     "text": [
      "save model\n",
      "learning_rate is:\n",
      " 0.00026542076\n",
      "real location is:\n",
      " [[  7307.27324347    -40.21035325]\n",
      " [-30269.2362559    8742.33270425]\n",
      " [-16109.690939    -6900.62828367]\n",
      " [ 12420.8343537   -3426.91759638]]\n",
      "prediction is:\n",
      " [[  8224.671    -715.0708]\n",
      " [-32820.984    7253.755 ]\n",
      " [-25404.04    -6245.302 ]\n",
      " [ 13348.788   -5128.738 ]]\n",
      "loss is: 2844.0684\n"
     ]
    },
    {
     "name": "stderr",
     "output_type": "stream",
     "text": [
      " 11%|█         | 11001/100000 [39:32<6:37:20,  3.73it/s]"
     ]
    },
    {
     "name": "stdout",
     "output_type": "stream",
     "text": [
      "save model\n",
      "learning_rate is:\n",
      " 0.00026542076\n",
      "real location is:\n",
      " [[-29206.3067977   -9192.0396599 ]\n",
      " [-25460.2002684   -7142.49109085]\n",
      " [-20390.7341149   -7025.74408383]\n",
      " [  2330.57948839 -10661.9041325 ]]\n",
      "prediction is:\n",
      " [[-24986.902   -10298.655  ]\n",
      " [-25719.516    -7810.124  ]\n",
      " [-19140.738    -7299.4443 ]\n",
      " [   986.89655  -7049.1514 ]]\n",
      "loss is: 1987.9856\n"
     ]
    },
    {
     "name": "stderr",
     "output_type": "stream",
     "text": [
      " 12%|█▏        | 12001/100000 [43:07<6:32:17,  3.74it/s]"
     ]
    },
    {
     "name": "stdout",
     "output_type": "stream",
     "text": [
      "save model\n",
      "learning_rate is:\n",
      " 0.00025480395\n",
      "real location is:\n",
      " [[ 12569.3258787   -8005.94853471]\n",
      " [ 12891.7629309   -3219.16530998]\n",
      " [-30834.6631334   11913.6475601 ]\n",
      " [ 12383.2906688   -2572.38182695]]\n",
      "prediction is:\n",
      " [[ 12936.829   -3316.5615]\n",
      " [  9353.634   -3627.322 ]\n",
      " [-27936.953    9576.346 ]\n",
      " [ 13399.711   -1779.1619]]\n",
      "loss is: 2505.9116\n"
     ]
    },
    {
     "name": "stderr",
     "output_type": "stream",
     "text": [
      " 13%|█▎        | 13001/100000 [46:43<6:27:42,  3.74it/s]"
     ]
    },
    {
     "name": "stdout",
     "output_type": "stream",
     "text": [
      "save model\n",
      "learning_rate is:\n",
      " 0.00025480395\n",
      "real location is:\n",
      " [[ 30398.8211467   -8480.00741932]\n",
      " [-15790.2080269   -6958.97142555]\n",
      " [-30206.0970139    4186.70585648]\n",
      " [-31119.3715946    9060.87127083]]\n",
      "prediction is:\n",
      " [[ 17799.73     -5240.647  ]\n",
      " [-15527.457    -6716.902  ]\n",
      " [-32650.527     3067.6462 ]\n",
      " [-25389.84      -730.55725]]\n",
      "loss is: 5534.02\n"
     ]
    },
    {
     "name": "stderr",
     "output_type": "stream",
     "text": [
      " 14%|█▍        | 14001/100000 [50:18<6:23:13,  3.74it/s]"
     ]
    },
    {
     "name": "stdout",
     "output_type": "stream",
     "text": [
      "save model\n",
      "learning_rate is:\n",
      " 0.00025480395\n",
      "real location is:\n",
      " [[-30705.5220211    6400.1387927 ]\n",
      " [ 11071.6676967   -9777.09336426]\n",
      " [-12977.8232657   -6876.32105867]\n",
      " [ -5096.01222236  -8419.20479073]]\n",
      "prediction is:\n",
      " [[-25302.799    1819.4076]\n",
      " [ 10197.267   -8936.886 ]\n",
      " [-12798.893   -6991.5938]\n",
      " [ -2472.358   -9335.543 ]]\n",
      "loss is: 2425.355\n"
     ]
    },
    {
     "name": "stderr",
     "output_type": "stream",
     "text": [
      " 15%|█▌        | 15001/100000 [53:54<6:18:56,  3.74it/s]"
     ]
    },
    {
     "name": "stdout",
     "output_type": "stream",
     "text": [
      "save model\n",
      "learning_rate is:\n",
      " 0.0002446118\n",
      "real location is:\n",
      " [[ 26859.6211705   -9037.96793838]\n",
      " [ 11480.9347521   -9680.47765424]\n",
      " [-29140.5059595  -11965.8330191 ]\n",
      " [  2541.56437373 -10684.142326  ]]\n",
      "prediction is:\n",
      " [[ 27407.555   -7572.513 ]\n",
      " [ 13773.711   -9323.107 ]\n",
      " [-33182.16   -15963.023 ]\n",
      " [  4764.9775 -10231.004 ]]\n",
      "loss is: 2401.3965\n"
     ]
    },
    {
     "name": "stderr",
     "output_type": "stream",
     "text": [
      " 16%|█▌        | 16001/100000 [57:29<6:14:30,  3.74it/s]"
     ]
    },
    {
     "name": "stdout",
     "output_type": "stream",
     "text": [
      "save model\n",
      "learning_rate is:\n",
      " 0.0002446118\n",
      "real location is:\n",
      " [[-17350.3965416   -6999.81761156]\n",
      " [-29564.2970485   -4671.86529298]\n",
      " [  1683.10481143 -10212.0811334 ]\n",
      " [-18730.9364266   -5369.92726987]]\n",
      "prediction is:\n",
      " [[-17724.227   -6938.9697]\n",
      " [-27918.977   -7987.2656]\n",
      " [  2700.2515  -9036.316 ]\n",
      " [-17946.23    -5586.629 ]]\n",
      "loss is: 1340.5841\n"
     ]
    },
    {
     "name": "stderr",
     "output_type": "stream",
     "text": [
      " 17%|█▋        | 17001/100000 [1:01:04<6:10:03,  3.74it/s]"
     ]
    },
    {
     "name": "stdout",
     "output_type": "stream",
     "text": [
      "save model\n",
      "learning_rate is:\n",
      " 0.0002446118\n",
      "real location is:\n",
      " [[ 12553.9923948   -3045.07687064]\n",
      " [-14160.3068784   -6874.06491979]\n",
      " [-30685.5641828    9030.94650982]\n",
      " [ -5305.61637438  -8316.68236731]]\n",
      "prediction is:\n",
      " [[ 10228.311  -2757.019]\n",
      " [-15388.275  -6402.579]\n",
      " [-35934.863  13506.396]\n",
      " [ -5967.092  -8572.449]]\n",
      "loss is: 2335.1865\n"
     ]
    },
    {
     "name": "stderr",
     "output_type": "stream",
     "text": [
      " 18%|█▊        | 18001/100000 [1:04:40<6:05:45,  3.74it/s]"
     ]
    },
    {
     "name": "stdout",
     "output_type": "stream",
     "text": [
      "save model\n",
      "learning_rate is:\n",
      " 0.0002348273\n",
      "real location is:\n",
      " [[-29988.6558814    1283.51617929]\n",
      " [  4370.35453796   -159.72236328]\n",
      " [ 12521.5389905   -5008.5767523 ]\n",
      " [ 30683.5067163   -2185.68746184]]\n",
      "prediction is:\n",
      " [[-25589.426    5126.207 ]\n",
      " [  8508.904   -1808.4401]\n",
      " [ 11241.984   -5828.97  ]\n",
      " [ 27911.754     -35.3479]]\n",
      "loss is: 3287.6926\n"
     ]
    },
    {
     "name": "stderr",
     "output_type": "stream",
     "text": [
      " 19%|█▉        | 19001/100000 [1:08:15<6:01:09,  3.74it/s]"
     ]
    },
    {
     "name": "stdout",
     "output_type": "stream",
     "text": [
      "save model\n",
      "learning_rate is:\n",
      " 0.0002348273\n",
      "real location is:\n",
      " [[ 11408.4693769   -9681.42423995]\n",
      " [ 12411.5993765   -1267.77109931]\n",
      " [-28926.0440763  -13836.59128   ]\n",
      " [ 16163.6039585   -9562.70399705]]\n",
      "prediction is:\n",
      " [[ 10365.641    -8227.545  ]\n",
      " [  5562.4014      26.25653]\n",
      " [-25914.316   -15351.391  ]\n",
      " [ 15807.697    -8345.441  ]]\n",
      "loss is: 2614.0059\n"
     ]
    },
    {
     "name": "stderr",
     "output_type": "stream",
     "text": [
      " 20%|██        | 20001/100000 [1:11:51<5:56:49,  3.74it/s]"
     ]
    },
    {
     "name": "stdout",
     "output_type": "stream",
     "text": [
      "save model\n",
      "learning_rate is:\n",
      " 0.0002348273\n",
      "real location is:\n",
      " [[-23172.5036554   -5761.24417067]\n",
      " [  1965.80541184 -10321.8702847 ]\n",
      " [ 12352.6917107   -2648.57281095]\n",
      " [-29271.5516128  -17114.9485818 ]]\n",
      "prediction is:\n",
      " [[-23248.172   -6822.9424]\n",
      " [  1715.9902  -9760.361 ]\n",
      " [ 12042.615   -1895.9105]\n",
      " [-29468.988  -15062.293 ]]\n",
      "loss is: 820.554\n"
     ]
    },
    {
     "name": "stderr",
     "output_type": "stream",
     "text": [
      " 21%|██        | 21001/100000 [1:15:26<5:52:33,  3.73it/s]"
     ]
    },
    {
     "name": "stdout",
     "output_type": "stream",
     "text": [
      "save model\n",
      "learning_rate is:\n",
      " 0.00022543421\n",
      "real location is:\n",
      " [[ 12941.1882022   -6998.69597296]\n",
      " [-22472.3926767   -7234.58164396]\n",
      " [ 16426.3275506   -9565.44802409]\n",
      " [-28711.8612071  -17240.2827022 ]]\n",
      "prediction is:\n",
      " [[ 12346.826   -6964.8154]\n",
      " [-22457.21    -7390.3955]\n",
      " [ 15654.596   -7800.1606]\n",
      " [-26561.762  -16532.83  ]]\n",
      "loss is: 966.2336\n"
     ]
    },
    {
     "name": "stderr",
     "output_type": "stream",
     "text": [
      " 22%|██▏       | 22001/100000 [1:19:02<5:48:02,  3.74it/s]"
     ]
    },
    {
     "name": "stdout",
     "output_type": "stream",
     "text": [
      "save model\n",
      "learning_rate is:\n",
      " 0.00022543421\n",
      "real location is:\n",
      " [[ 25509.922839    -9042.40073149]\n",
      " [ 30841.886167    -6941.69624729]\n",
      " [  1209.54702199 -10348.4311145 ]\n",
      " [-29993.8068123    1567.04985204]]\n",
      "prediction is:\n",
      " [[ 24116.453    -9753.277  ]\n",
      " [ 29034.35     -6862.209  ]\n",
      " [ -3748.1968   -8596.641  ]\n",
      " [-30297.17       272.62152]]\n",
      "loss is: 1920.1111\n"
     ]
    },
    {
     "name": "stderr",
     "output_type": "stream",
     "text": [
      " 23%|██▎       | 23001/100000 [1:22:37<5:44:03,  3.73it/s]"
     ]
    },
    {
     "name": "stdout",
     "output_type": "stream",
     "text": [
      "save model\n",
      "learning_rate is:\n",
      " 0.00022543421\n",
      "real location is:\n",
      " [[-28747.728406   -18119.8248212 ]\n",
      " [ 12105.666224     -509.98649421]\n",
      " [ 24583.3692373    1063.56440969]\n",
      " [-16637.1927806   -5351.49512553]]\n",
      "prediction is:\n",
      " [[-24370.176   -13733.387  ]\n",
      " [  8847.733     -181.91258]\n",
      " [ 23427.281     1304.0184 ]\n",
      " [-16553.332    -5366.716  ]]\n",
      "loss is: 2161.8264\n"
     ]
    },
    {
     "name": "stderr",
     "output_type": "stream",
     "text": [
      " 24%|██▍       | 24001/100000 [1:26:13<5:39:24,  3.73it/s]"
     ]
    },
    {
     "name": "stdout",
     "output_type": "stream",
     "text": [
      "save model\n",
      "learning_rate is:\n",
      " 0.00021641685\n",
      "real location is:\n",
      " [[  4483.46065695    306.73588728]\n",
      " [ -8624.19048991  -4807.30134417]\n",
      " [ 12546.1984639   -2600.68908351]\n",
      " [-28225.7382063   -5942.97434259]]\n",
      "prediction is:\n",
      " [[  6958.8022  -1614.3394]\n",
      " [ -7529.0176  -4700.8564]\n",
      " [ 12123.611   -4726.535 ]\n",
      " [-24183.346   -5941.1104]]\n",
      "loss is: 1903.2994\n"
     ]
    },
    {
     "name": "stderr",
     "output_type": "stream",
     "text": [
      " 25%|██▌       | 25001/100000 [1:29:49<5:34:52,  3.73it/s]"
     ]
    },
    {
     "name": "stdout",
     "output_type": "stream",
     "text": [
      "save model\n",
      "learning_rate is:\n",
      " 0.00021641685\n",
      "real location is:\n",
      " [[-25525.772926    -7252.28358518]\n",
      " [  8638.62208562  -9913.58450618]\n",
      " [-12677.2641662   -5302.28191849]\n",
      " [ 11869.700337      581.41889336]]\n",
      "prediction is:\n",
      " [[-26229.566    -6584.4287 ]\n",
      " [ 11932.898    -9245.615  ]\n",
      " [-13044.04     -5297.045  ]\n",
      " [ 12373.166     -402.09943]]\n",
      "loss is: 1122.3508\n"
     ]
    },
    {
     "name": "stderr",
     "output_type": "stream",
     "text": [
      " 26%|██▌       | 26001/100000 [1:33:24<5:29:55,  3.74it/s]"
     ]
    },
    {
     "name": "stdout",
     "output_type": "stream",
     "text": [
      "save model\n",
      "learning_rate is:\n",
      " 0.00021641685\n",
      "real location is:\n",
      " [[-31119.3715946    9060.87127083]\n",
      " [-29168.7779149  -11443.4928658 ]\n",
      " [  4058.12687875 -10153.8663522 ]\n",
      " [  4570.57731278   -159.26052566]]\n",
      "prediction is:\n",
      " [[-27528.494    5043.4053]\n",
      " [-25477.656  -11983.568 ]\n",
      " [  3154.8784  -9432.556 ]\n",
      " [  4692.656   -1212.3042]]\n",
      "loss is: 2285.8174\n"
     ]
    },
    {
     "name": "stderr",
     "output_type": "stream",
     "text": [
      " 27%|██▋       | 27001/100000 [1:37:00<5:25:30,  3.74it/s]"
     ]
    },
    {
     "name": "stdout",
     "output_type": "stream",
     "text": [
      "save model\n",
      "learning_rate is:\n",
      " 0.00020776017\n",
      "real location is:\n",
      " [[ 29250.1694061    1068.70721342]\n",
      " [-20135.4613924   -5660.73452174]\n",
      " [-30750.9203197   12320.5995513 ]\n",
      " [-28897.9138774  -15801.509078  ]]\n",
      "prediction is:\n",
      " [[ 27278.936     943.9916]\n",
      " [-19814.426   -6381.1665]\n",
      " [-33195.574   12590.944 ]\n",
      " [-28890.402  -16706.531 ]]\n",
      "loss is: 1055.4795\n"
     ]
    },
    {
     "name": "stderr",
     "output_type": "stream",
     "text": [
      " 28%|██▊       | 28001/100000 [1:40:36<5:21:32,  3.73it/s]"
     ]
    },
    {
     "name": "stdout",
     "output_type": "stream",
     "text": [
      "save model\n",
      "learning_rate is:\n",
      " 0.00020776017\n",
      "real location is:\n",
      " [[ 27713.1826946   -8772.57124039]\n",
      " [ -5180.60522229  -6034.55851386]\n",
      " [-23528.8599012   -5831.36841423]\n",
      " [ 30929.3752576   -5298.02953536]]\n",
      "prediction is:\n",
      " [[ 27474.031   -8230.698 ]\n",
      " [ -6567.873   -5499.609 ]\n",
      " [-25127.137   -4914.55  ]\n",
      " [ 31829.195   -6168.8164]]\n",
      "loss is: 1090.462\n"
     ]
    },
    {
     "name": "stderr",
     "output_type": "stream",
     "text": [
      " 29%|██▉       | 29001/100000 [1:44:11<5:17:34,  3.73it/s]"
     ]
    },
    {
     "name": "stdout",
     "output_type": "stream",
     "text": [
      "save model\n",
      "learning_rate is:\n",
      " 0.00020776017\n",
      "real location is:\n",
      " [[12395.231555   -2784.38217401]\n",
      " [-5042.565398   -1809.88959908]\n",
      " [10558.1903528    798.99322222]\n",
      " [ 6556.74837222   398.64090362]]\n",
      "prediction is:\n",
      " [[12603.27    -3739.6553 ]\n",
      " [-6072.1523  -1616.4065 ]\n",
      " [ 8541.117   -1121.2874 ]\n",
      " [ 6083.0366   -283.12378]]\n",
      "loss is: 1167.0664\n"
     ]
    },
    {
     "name": "stderr",
     "output_type": "stream",
     "text": [
      " 30%|███       | 30001/100000 [1:47:47<5:12:41,  3.73it/s]"
     ]
    },
    {
     "name": "stdout",
     "output_type": "stream",
     "text": [
      "save model\n",
      "learning_rate is:\n",
      " 0.00019944976\n",
      "real location is:\n",
      " [[ -5031.5992594   -7217.98559905]\n",
      " [ 29660.3093495    1242.23705739]\n",
      " [-30269.2362559    8742.33270425]\n",
      " [-30480.5996448    9488.77559654]]\n",
      "prediction is:\n",
      " [[ -7712.627   -4949.075 ]\n",
      " [ 31579.77    -1073.0793]\n",
      " [-27698.549    6200.497 ]\n",
      " [-31017.164    9369.074 ]]\n",
      "loss is: 2334.9243\n"
     ]
    },
    {
     "name": "stderr",
     "output_type": "stream",
     "text": [
      " 31%|███       | 31001/100000 [1:51:23<5:07:43,  3.74it/s]"
     ]
    },
    {
     "name": "stdout",
     "output_type": "stream",
     "text": [
      "save model\n",
      "learning_rate is:\n",
      " 0.00019944976\n",
      "real location is:\n",
      " [[  8215.91671408 -10024.8000292 ]\n",
      " [ 24188.0295483    1034.23475106]\n",
      " [  6714.07035732    617.5574281 ]\n",
      " [-29759.3189949   -1618.1425804 ]]\n",
      "prediction is:\n",
      " [[  8490.475    -9343.918  ]\n",
      " [ 21530.82       913.11304]\n",
      " [  9138.851     1405.227  ]\n",
      " [-27298.426     -440.87277]]\n",
      "loss is: 1652.2493\n"
     ]
    },
    {
     "name": "stderr",
     "output_type": "stream",
     "text": [
      " 32%|███▏      | 32001/100000 [1:54:59<5:03:33,  3.73it/s]"
     ]
    },
    {
     "name": "stdout",
     "output_type": "stream",
     "text": [
      "save model\n",
      "learning_rate is:\n",
      " 0.00019944976\n",
      "real location is:\n",
      " [[ -2438.78005972   -605.95651387]\n",
      " [ 18896.8068837   -9325.28204327]\n",
      " [  3308.13596797 -10117.5071717 ]\n",
      " [  9302.19857586  -9856.9493507 ]]\n",
      "prediction is:\n",
      " [[ -4248.1265  -1201.1268]\n",
      " [ 18664.682   -8818.273 ]\n",
      " [  1908.9097 -11892.768 ]\n",
      " [  8366.026  -10146.557 ]]\n",
      "loss is: 1177.1763\n"
     ]
    },
    {
     "name": "stderr",
     "output_type": "stream",
     "text": [
      " 33%|███▎      | 33001/100000 [1:58:34<4:59:14,  3.73it/s]"
     ]
    },
    {
     "name": "stdout",
     "output_type": "stream",
     "text": [
      "save model\n",
      "learning_rate is:\n",
      " 0.00019147177\n",
      "real location is:\n",
      " [[ -4690.89068299  -8968.58107626]\n",
      " [-18331.0587178   -5334.21660203]\n",
      " [   144.45686532 -10352.28097   ]\n",
      " [ 19549.4103015   -9252.03834969]]\n",
      "prediction is:\n",
      " [[ -5301.1953  -10886.127  ]\n",
      " [-18105.516    -5230.829  ]\n",
      " [  -353.60547 -12007.479  ]\n",
      " [ 18929.395   -11150.232  ]]\n",
      "loss is: 1174.7292\n"
     ]
    },
    {
     "name": "stderr",
     "output_type": "stream",
     "text": [
      " 34%|███▍      | 34001/100000 [2:02:10<4:54:46,  3.73it/s]"
     ]
    },
    {
     "name": "stdout",
     "output_type": "stream",
     "text": [
      "save model\n",
      "learning_rate is:\n",
      " 0.00019147177\n",
      "real location is:\n",
      " [[-18233.7907779   -5660.02700514]\n",
      " [ -8182.27124436  -6696.1167925 ]\n",
      " [-29894.0883032    1373.53235936]\n",
      " [ 13586.9940289     621.95824293]]\n",
      "prediction is:\n",
      " [[-17108.594   -6304.9404]\n",
      " [ -7490.293   -6460.9453]\n",
      " [-30053.367    1561.4268]\n",
      " [ 11944.742    -343.9696]]\n",
      "loss is: 881.66113\n"
     ]
    },
    {
     "name": "stderr",
     "output_type": "stream",
     "text": [
      " 35%|███▌      | 35001/100000 [2:05:46<4:50:07,  3.73it/s]"
     ]
    },
    {
     "name": "stdout",
     "output_type": "stream",
     "text": [
      "save model\n",
      "learning_rate is:\n",
      " 0.00019147177\n",
      "real location is:\n",
      " [[30398.8211467  -8480.00741932]\n",
      " [14910.5338207    696.18821519]\n",
      " [ 8770.44787438    65.4782334 ]\n",
      " [-9228.27560548 -4919.26969403]]\n",
      "prediction is:\n",
      " [[27730.746   -7483.295  ]\n",
      " [14128.919     974.4303 ]\n",
      " [ 8273.799     143.15735]\n",
      " [-8461.832   -4632.7686 ]]\n",
      "loss is: 990.92773\n"
     ]
    },
    {
     "name": "stderr",
     "output_type": "stream",
     "text": [
      " 36%|███▌      | 36001/100000 [2:09:21<4:45:50,  3.73it/s]"
     ]
    },
    {
     "name": "stdout",
     "output_type": "stream",
     "text": [
      "save model\n",
      "learning_rate is:\n",
      " 0.00018381288\n",
      "real location is:\n",
      " [[31111.2121452  -5852.23186814]\n",
      " [29872.8354793   1055.55705521]\n",
      " [-5151.11521669 -1583.92454563]\n",
      " [29662.1258041  -8645.59119809]]\n",
      "prediction is:\n",
      " [[29431.238  -5791.4565]\n",
      " [23902.16    2033.8198]\n",
      " [-4471.477  -1629.0663]\n",
      " [28594.164  -8593.824 ]]\n",
      "loss is: 1644.4131\n"
     ]
    },
    {
     "name": "stderr",
     "output_type": "stream",
     "text": [
      " 37%|███▋      | 37001/100000 [2:12:57<4:41:13,  3.73it/s]"
     ]
    },
    {
     "name": "stdout",
     "output_type": "stream",
     "text": [
      "save model\n",
      "learning_rate is:\n",
      " 0.00018381288\n",
      "real location is:\n",
      " [[ 12556.9926933   -6751.82925317]\n",
      " [ 26055.8517075    1146.83003697]\n",
      " [-27875.5953827   -7617.93260658]\n",
      " [ 18875.6020009   -9308.4579838 ]]\n",
      "prediction is:\n",
      " [[ 14531.352    -7108.2754 ]\n",
      " [ 23597.146      446.93915]\n",
      " [-27274.979    -7494.198  ]\n",
      " [ 20373.469    -9537.975  ]]\n",
      "loss is: 1239.2424\n"
     ]
    },
    {
     "name": "stderr",
     "output_type": "stream",
     "text": [
      " 38%|███▊      | 38001/100000 [2:16:33<4:36:42,  3.73it/s]"
     ]
    },
    {
     "name": "stdout",
     "output_type": "stream",
     "text": [
      "save model\n",
      "learning_rate is:\n",
      " 0.00018381288\n",
      "real location is:\n",
      " [[-29141.5151466  -20081.0014867 ]\n",
      " [-29061.464835   -11568.4234134 ]\n",
      " [ 17848.9663707     823.36152453]\n",
      " [ 15262.2479392   -9497.3768507 ]]\n",
      "prediction is:\n",
      " [[-29346.148   -18994.145  ]\n",
      " [-30293.645   -12749.351  ]\n",
      " [ 15653.9375    -793.47034]\n",
      " [ 16495.031    -9732.455  ]]\n",
      "loss is: 1402.239\n"
     ]
    },
    {
     "name": "stderr",
     "output_type": "stream",
     "text": [
      " 39%|███▉      | 39001/100000 [2:20:08<4:32:12,  3.73it/s]"
     ]
    },
    {
     "name": "stdout",
     "output_type": "stream",
     "text": [
      "save model\n",
      "learning_rate is:\n",
      " 0.00017646038\n",
      "real location is:\n",
      " [[  6034.28365388 -10068.0324882 ]\n",
      " [  3857.85233059    273.39851033]\n",
      " [  3245.39655976 -10269.8206277 ]\n",
      " [ 26930.550749     1034.05942224]]\n",
      "prediction is:\n",
      " [[  6769.07      -9329.8955  ]\n",
      " [  3549.4883       25.407536]\n",
      " [  3267.3262   -11029.379   ]\n",
      " [ 25010.559       336.88074 ]]\n",
      "loss is: 846.5598\n"
     ]
    },
    {
     "name": "stderr",
     "output_type": "stream",
     "text": [
      " 40%|████      | 40001/100000 [2:23:44<4:27:45,  3.73it/s]"
     ]
    },
    {
     "name": "stdout",
     "output_type": "stream",
     "text": [
      "save model\n",
      "learning_rate is:\n",
      " 0.00017646038\n",
      "real location is:\n",
      " [[ 24781.2772243    1076.54131853]\n",
      " [-15853.3001113   -5206.60910442]\n",
      " [ -1832.02561348   -339.75808657]\n",
      " [ -1155.02137404 -10658.2105988 ]]\n",
      "prediction is:\n",
      " [[ 21866.492      601.6825 ]\n",
      " [-14979.447    -5001.6377 ]\n",
      " [ -2019.4637    -438.62704]\n",
      " [ -1249.9738  -10382.82   ]]\n",
      "loss is: 799.2418\n"
     ]
    },
    {
     "name": "stderr",
     "output_type": "stream",
     "text": [
      " 41%|████      | 41001/100000 [2:27:20<4:23:24,  3.73it/s]"
     ]
    },
    {
     "name": "stdout",
     "output_type": "stream",
     "text": [
      "save model\n",
      "learning_rate is:\n",
      " 0.00017646038\n",
      "real location is:\n",
      " [[-21020.14159     -6996.10244546]\n",
      " [ -1507.93531373   -278.85925874]\n",
      " [-17815.4532405   -7026.2158966 ]\n",
      " [  2985.16102206    159.26496747]]\n",
      "prediction is:\n",
      " [[-20501.164    -6951.006  ]\n",
      " [ -1358.3977    -613.9026 ]\n",
      " [-19078.934    -7454.967  ]\n",
      " [  2488.768     -159.88593]]\n",
      "loss is: 554.13477\n"
     ]
    },
    {
     "name": "stderr",
     "output_type": "stream",
     "text": [
      " 42%|████▏     | 42001/100000 [2:30:55<4:19:07,  3.73it/s]"
     ]
    },
    {
     "name": "stdout",
     "output_type": "stream",
     "text": [
      "save model\n",
      "learning_rate is:\n",
      " 0.00016940194\n",
      "real location is:\n",
      " [[-5.82600795e+02  7.89026194e+00]\n",
      " [ 1.25112691e+04 -4.67902660e+03]\n",
      " [-2.13263361e+04 -7.20952710e+03]\n",
      " [-2.98972792e+04  1.15069627e+03]]\n",
      "prediction is:\n",
      " [[ -1561.0508     217.83188]\n",
      " [ 12341.805    -4464.667  ]\n",
      " [-19701.717    -6855.6914 ]\n",
      " [-28558.896     2215.7698 ]]\n",
      "loss is: 928.7726\n"
     ]
    },
    {
     "name": "stderr",
     "output_type": "stream",
     "text": [
      " 43%|████▎     | 43001/100000 [2:34:31<4:14:20,  3.74it/s]"
     ]
    },
    {
     "name": "stdout",
     "output_type": "stream",
     "text": [
      "save model\n",
      "learning_rate is:\n",
      " 0.00016940194\n",
      "real location is:\n",
      " [[ 30467.6021397     418.16211457]\n",
      " [-16276.1672677   -6867.87414686]\n",
      " [  3028.17419652    238.70009312]\n",
      " [   -31.77604498    -74.65322548]]\n",
      "prediction is:\n",
      " [[ 25097.062      990.70447]\n",
      " [-13914.776    -5579.043  ]\n",
      " [  3453.792      181.89754]\n",
      " [  1463.1191     594.53534]]\n",
      "loss is: 1910.9104\n"
     ]
    },
    {
     "name": "stderr",
     "output_type": "stream",
     "text": [
      " 44%|████▍     | 44001/100000 [2:38:07<4:09:59,  3.73it/s]"
     ]
    },
    {
     "name": "stdout",
     "output_type": "stream",
     "text": [
      "save model\n",
      "learning_rate is:\n",
      " 0.00016940194\n",
      "real location is:\n",
      " [[-30501.1401177    6887.4692978 ]\n",
      " [ 12352.6917107   -2648.57281095]\n",
      " [-28729.6074417  -18636.0246104 ]\n",
      " [-25937.1676178   -5810.5789173 ]]\n",
      "prediction is:\n",
      " [[-33505.945    7602.9536]\n",
      " [ 13657.732   -1530.4187]\n",
      " [-26049.164  -17644.89  ]\n",
      " [-27579.943   -6410.545 ]]\n",
      "loss is: 1882.4702\n"
     ]
    },
    {
     "name": "stderr",
     "output_type": "stream",
     "text": [
      " 45%|████▌     | 45001/100000 [2:41:42<4:05:50,  3.73it/s]"
     ]
    },
    {
     "name": "stdout",
     "output_type": "stream",
     "text": [
      "save model\n",
      "learning_rate is:\n",
      " 0.00016262586\n",
      "real location is:\n",
      " [[-29199.4643152   -9616.90350313]\n",
      " [ 29104.500054    -8819.10035641]\n",
      " [-20952.064961    -5615.56460775]\n",
      " [-29991.5135566    2090.27682882]]\n",
      "prediction is:\n",
      " [[-26557.95    -9217.8955]\n",
      " [ 27997.902   -9331.791 ]\n",
      " [-18574.156   -5157.039 ]\n",
      " [-27159.566    1972.7761]]\n",
      "loss is: 1630.5791\n"
     ]
    },
    {
     "name": "stderr",
     "output_type": "stream",
     "text": [
      " 46%|████▌     | 46001/100000 [2:45:18<4:01:02,  3.73it/s]"
     ]
    },
    {
     "name": "stdout",
     "output_type": "stream",
     "text": [
      "save model\n",
      "learning_rate is:\n",
      " 0.00016262586\n",
      "real location is:\n",
      " [[-30127.4396166    4534.47075521]\n",
      " [-29530.4586037   -5211.24679096]\n",
      " [-29279.4933539  -12285.6225828 ]\n",
      " [ -5229.19587908  -1762.62166266]]\n",
      "prediction is:\n",
      " [[-28999.648    4962.5264]\n",
      " [-27423.164   -3993.791 ]\n",
      " [-26421.719  -11773.988 ]\n",
      " [ -5690.3516  -1722.8674]]\n",
      "loss is: 1365.7725\n"
     ]
    },
    {
     "name": "stderr",
     "output_type": "stream",
     "text": [
      " 47%|████▋     | 47001/100000 [2:48:53<3:56:52,  3.73it/s]"
     ]
    },
    {
     "name": "stdout",
     "output_type": "stream",
     "text": [
      "save model\n",
      "learning_rate is:\n",
      " 0.00016262586\n",
      "real location is:\n",
      " [[ -4964.92900505  -8602.32805921]\n",
      " [ 30169.2034664   -8517.2607292 ]\n",
      " [    57.61526554 -10311.7413207 ]\n",
      " [ 23428.2733558   -8978.0291082 ]]\n",
      "prediction is:\n",
      " [[ -4349.5923   -8983.442  ]\n",
      " [ 32585.566    -8222.543  ]\n",
      " [  -515.98645 -10325.983  ]\n",
      " [ 22155.912    -9019.25   ]]\n",
      "loss is: 874.85\n"
     ]
    },
    {
     "name": "stderr",
     "output_type": "stream",
     "text": [
      " 48%|████▊     | 48001/100000 [2:52:29<3:52:07,  3.73it/s]"
     ]
    },
    {
     "name": "stdout",
     "output_type": "stream",
     "text": [
      "save model\n",
      "learning_rate is:\n",
      " 0.00015612082\n",
      "real location is:\n",
      " [[ 30477.4671216     -76.2811414 ]\n",
      " [-10094.733186    -6707.82526739]\n",
      " [ -4660.31832037  -9797.11346798]\n",
      " [ 11125.8267434     842.85389371]]\n",
      "prediction is:\n",
      " [[ 31249.082        55.844055]\n",
      " [ -9940.172     -6306.179   ]\n",
      " [ -4038.5403   -10832.827   ]\n",
      " [  9883.98        212.56438 ]]\n",
      "loss is: 778.0615\n"
     ]
    },
    {
     "name": "stderr",
     "output_type": "stream",
     "text": [
      " 49%|████▉     | 49001/100000 [2:56:05<3:47:41,  3.73it/s]"
     ]
    },
    {
     "name": "stdout",
     "output_type": "stream",
     "text": [
      "save model\n",
      "learning_rate is:\n",
      " 0.00015612082\n",
      "real location is:\n",
      " [[ 25322.1333693   -8861.28617801]\n",
      " [-30420.8578592   11610.5940904 ]\n",
      " [-30075.023501     2711.98359767]\n",
      " [ 12511.2690563   -4679.02659871]]\n",
      "prediction is:\n",
      " [[ 26002.9     -8733.473 ]\n",
      " [-33602.234   10774.627 ]\n",
      " [-29342.006    2910.452 ]\n",
      " [ 12853.707   -5458.7607]]\n",
      "loss is: 1073.3749\n"
     ]
    },
    {
     "name": "stderr",
     "output_type": "stream",
     "text": [
      " 50%|█████     | 50001/100000 [2:59:40<3:43:21,  3.73it/s]"
     ]
    },
    {
     "name": "stdout",
     "output_type": "stream",
     "text": [
      "save model\n",
      "learning_rate is:\n",
      " 0.00015612082\n",
      "real location is:\n",
      " [[-11337.6840687   -4971.23277927]\n",
      " [  7154.27762798  -9985.43325226]\n",
      " [ 16780.6956087   -9415.33991254]\n",
      " [ -5100.19487078  -2018.35647075]]\n",
      "prediction is:\n",
      " [[-11114.963   -5220.0986]\n",
      " [  7532.6543 -10437.78  ]\n",
      " [ 17521.998   -9211.869 ]\n",
      " [ -6200.3496  -2203.2734]]\n",
      "loss is: 550.33984\n"
     ]
    },
    {
     "name": "stderr",
     "output_type": "stream",
     "text": [
      " 51%|█████     | 51001/100000 [3:03:16<3:38:38,  3.74it/s]"
     ]
    },
    {
     "name": "stdout",
     "output_type": "stream",
     "text": [
      "save model\n",
      "learning_rate is:\n",
      " 0.00014987598\n",
      "real location is:\n",
      " [[ 30661.2322964   -3856.90360885]\n",
      " [ -7223.38453637  -4721.74609399]\n",
      " [-30249.731594     5121.28463575]\n",
      " [ 12869.8268283     734.48830604]]\n",
      "prediction is:\n",
      " [[ 28975.363    -4121.3394 ]\n",
      " [ -7854.3477   -4268.6626 ]\n",
      " [-29195.555     4610.653  ]\n",
      " [ 13044.645      409.28296]]\n",
      "loss is: 795.1873\n"
     ]
    },
    {
     "name": "stderr",
     "output_type": "stream",
     "text": [
      " 52%|█████▏    | 52001/100000 [3:06:52<3:34:26,  3.73it/s]"
     ]
    },
    {
     "name": "stdout",
     "output_type": "stream",
     "text": [
      "save model\n",
      "learning_rate is:\n",
      " 0.00014987598\n",
      "real location is:\n",
      " [[-30407.6588526   11179.8603862 ]\n",
      " [-20610.4175045   -7034.36133386]\n",
      " [ 20894.5008468     994.10191082]\n",
      " [  5180.43129989    160.93060094]]\n",
      "prediction is:\n",
      " [[-29464.71     12310.238  ]\n",
      " [-19542.012    -7016.214  ]\n",
      " [ 20127.059      890.52344]\n",
      " [  5090.2095    -560.5842 ]]\n",
      "loss is: 755.1092\n"
     ]
    },
    {
     "name": "stderr",
     "output_type": "stream",
     "text": [
      " 53%|█████▎    | 53001/100000 [3:10:27<3:29:48,  3.73it/s]"
     ]
    },
    {
     "name": "stdout",
     "output_type": "stream",
     "text": [
      "save model\n",
      "learning_rate is:\n",
      " 0.00014987598\n",
      "real location is:\n",
      " [[ 30796.0843408   -2964.61423798]\n",
      " [ 12840.759286    -4241.35815758]\n",
      " [-11175.3426439   -6790.96039436]\n",
      " [ -5060.03859484  -1399.30462462]]\n",
      "prediction is:\n",
      " [[ 29778.787   -3213.512 ]\n",
      " [ 11910.472   -3358.4019]\n",
      " [-11114.225   -6842.615 ]\n",
      " [ -5883.4946  -1418.5383]]\n",
      "loss is: 628.90265\n"
     ]
    },
    {
     "name": "stderr",
     "output_type": "stream",
     "text": [
      " 54%|█████▍    | 54001/100000 [3:14:03<3:25:25,  3.73it/s]"
     ]
    },
    {
     "name": "stdout",
     "output_type": "stream",
     "text": [
      "save model\n",
      "learning_rate is:\n",
      " 0.00014388096\n",
      "real location is:\n",
      " [[ 25749.5993801   -8910.75748128]\n",
      " [-27322.5967292   -7436.9433612 ]\n",
      " [ 29358.336979     1141.94410277]\n",
      " [-30501.1401177    6887.4692978 ]]\n",
      "prediction is:\n",
      " [[ 24518.535   -9043.791 ]\n",
      " [-28051.814   -6859.0396]\n",
      " [ 25977.58     1292.0627]\n",
      " [-30370.969    6528.535 ]]\n",
      "loss is: 1043.9412\n"
     ]
    },
    {
     "name": "stderr",
     "output_type": "stream",
     "text": [
      " 55%|█████▌    | 55001/100000 [3:17:39<3:20:44,  3.74it/s]"
     ]
    },
    {
     "name": "stdout",
     "output_type": "stream",
     "text": [
      "save model\n",
      "learning_rate is:\n",
      " 0.00014388096\n",
      "real location is:\n",
      " [[ 14484.6663024     676.29374312]\n",
      " [-24241.5187791   -5823.93363253]\n",
      " [  8195.43249466    427.25768816]\n",
      " [  3052.79326594 -10699.8861156 ]]\n",
      "prediction is:\n",
      " [[ 13759.107     592.0447]\n",
      " [-21164.115   -5489.299 ]\n",
      " [  7679.118    1069.0386]\n",
      " [  3128.856  -11055.588 ]]\n",
      "loss is: 906.5211\n"
     ]
    },
    {
     "name": "stderr",
     "output_type": "stream",
     "text": [
      " 56%|█████▌    | 56001/100000 [3:21:14<3:16:29,  3.73it/s]"
     ]
    },
    {
     "name": "stdout",
     "output_type": "stream",
     "text": [
      "save model\n",
      "learning_rate is:\n",
      " 0.00014388096\n",
      "real location is:\n",
      " [[   601.79136707 -10602.6685067 ]\n",
      " [ 17341.2401245   -9480.63564177]\n",
      " [ 22318.9053538    1036.13254139]\n",
      " [  1442.75498049 -10638.158425  ]]\n",
      "prediction is:\n",
      " [[ 1262.0732  -9361.951  ]\n",
      " [16019.377   -9285.886  ]\n",
      " [21953.473     712.65015]\n",
      " [ 1071.1204  -9798.715  ]]\n",
      "loss is: 829.3158\n"
     ]
    },
    {
     "name": "stderr",
     "output_type": "stream",
     "text": [
      " 57%|█████▋    | 57001/100000 [3:24:50<3:11:54,  3.73it/s]"
     ]
    },
    {
     "name": "stdout",
     "output_type": "stream",
     "text": [
      "save model\n",
      "learning_rate is:\n",
      " 0.0001381257\n",
      "real location is:\n",
      " [[-20390.4167788   -5444.7038805 ]\n",
      " [-29181.774962    -9279.3454456 ]\n",
      " [  8018.22785067  -9931.56648653]\n",
      " [ 26710.4151817    1041.68859016]]\n",
      "prediction is:\n",
      " [[-21033.52    -6114.443 ]\n",
      " [-28770.72    -9543.959 ]\n",
      " [  7544.2495  -8798.668 ]\n",
      " [ 26927.32      800.3562]]\n",
      "loss is: 631.81885\n"
     ]
    },
    {
     "name": "stderr",
     "output_type": "stream",
     "text": [
      " 58%|█████▊    | 58001/100000 [3:28:26<3:07:38,  3.73it/s]"
     ]
    },
    {
     "name": "stdout",
     "output_type": "stream",
     "text": [
      "save model\n",
      "learning_rate is:\n",
      " 0.0001381257\n",
      "real location is:\n",
      " [[   280.48424862    104.69442132]\n",
      " [-30191.4281922    7601.44873904]\n",
      " [ 17704.2111629   -9376.60279717]\n",
      " [  1684.75169246 -10307.9703553 ]]\n",
      "prediction is:\n",
      " [[  -134.7242      -62.804367]\n",
      " [-28884.426      7184.465   ]\n",
      " [ 16601.004     -9027.039   ]\n",
      " [  2273.0464    -9982.678   ]]\n",
      "loss is: 728.6042\n"
     ]
    },
    {
     "name": "stderr",
     "output_type": "stream",
     "text": [
      " 59%|█████▉    | 59001/100000 [3:32:02<3:03:04,  3.73it/s]"
     ]
    },
    {
     "name": "stdout",
     "output_type": "stream",
     "text": [
      "save model\n",
      "learning_rate is:\n",
      " 0.0001381257\n",
      "real location is:\n",
      " [[-19353.6184211   -5400.78543921]\n",
      " [-30389.2941322    8035.05288489]\n",
      " [ 12302.7053687   -1554.0459474 ]\n",
      " [ -4652.3932684   -9476.09644289]]\n",
      "prediction is:\n",
      " [[-19442.004   -5806.3057]\n",
      " [-31454.266    9448.939 ]\n",
      " [ 12665.355   -1123.5562]\n",
      " [ -2112.4995  -9358.191 ]]\n",
      "loss is: 1002.1444\n"
     ]
    },
    {
     "name": "stderr",
     "output_type": "stream",
     "text": [
      " 60%|██████    | 60001/100000 [3:35:37<2:58:38,  3.73it/s]"
     ]
    },
    {
     "name": "stdout",
     "output_type": "stream",
     "text": [
      "save model\n",
      "learning_rate is:\n",
      " 0.00013260067\n",
      "real location is:\n",
      " [[  3025.32278707    258.21599277]\n",
      " [-29711.4662268   -1482.93414557]\n",
      " [ 15027.1666518   -9501.50167837]\n",
      " [-23250.3074945   -7238.37746652]]\n",
      "prediction is:\n",
      " [[  2906.2139     214.77512]\n",
      " [-29295.96     -1851.209  ]\n",
      " [ 15483.635    -9396.617  ]\n",
      " [-23570.043    -7308.4395 ]]\n",
      "loss is: 294.92697\n"
     ]
    },
    {
     "name": "stderr",
     "output_type": "stream",
     "text": [
      " 61%|██████    | 61001/100000 [3:39:13<2:54:13,  3.73it/s]"
     ]
    },
    {
     "name": "stdout",
     "output_type": "stream",
     "text": [
      "save model\n",
      "learning_rate is:\n",
      " 0.00013260067\n",
      "real location is:\n",
      " [[ -3672.72564133 -10538.392087  ]\n",
      " [ -7940.68969557  -4833.03370147]\n",
      " [-26145.3071511   -5824.04251926]\n",
      " [-23146.0651117   -7126.22270179]]\n",
      "prediction is:\n",
      " [[  -577.0957 -10320.471 ]\n",
      " [ -7479.2007  -4207.129 ]\n",
      " [-27571.664   -5588.0923]\n",
      " [-24209.836   -6640.698 ]]\n",
      "loss is: 1187.9001\n"
     ]
    },
    {
     "name": "stderr",
     "output_type": "stream",
     "text": [
      " 62%|██████▏   | 62001/100000 [3:42:49<2:49:32,  3.74it/s]"
     ]
    },
    {
     "name": "stdout",
     "output_type": "stream",
     "text": [
      "save model\n",
      "learning_rate is:\n",
      " 0.00013260067\n",
      "real location is:\n",
      " [[-22427.7810182   -7288.33440806]\n",
      " [ 11176.9503908      57.13066678]\n",
      " [ 23166.7235138    1016.74336885]\n",
      " [-29759.6707326   -2589.89232669]]\n",
      "prediction is:\n",
      " [[-21309.658   -7174.332 ]\n",
      " [ 10406.0625   -268.9016]\n",
      " [ 24155.605    1243.7072]\n",
      " [-32675.629   -4255.4697]]\n",
      "loss is: 1268.1945\n"
     ]
    },
    {
     "name": "stderr",
     "output_type": "stream",
     "text": [
      " 63%|██████▎   | 63001/100000 [3:46:25<2:45:33,  3.72it/s]"
     ]
    },
    {
     "name": "stdout",
     "output_type": "stream",
     "text": [
      "save model\n",
      "learning_rate is:\n",
      " 0.00012729665\n",
      "real location is:\n",
      " [[ -4561.80314098  -9966.5951992 ]\n",
      " [-11488.4078358   -6764.47933359]\n",
      " [ -5794.92854558  -6935.61315491]\n",
      " [-16717.4831616   -6921.27762584]]\n",
      "prediction is:\n",
      " [[ -4182.3125 -10141.645 ]\n",
      " [-12398.887   -6636.958 ]\n",
      " [ -4690.6865  -6487.739 ]\n",
      " [-16329.023   -6883.1924]]\n",
      "loss is: 556.4438\n"
     ]
    },
    {
     "name": "stderr",
     "output_type": "stream",
     "text": [
      " 64%|██████▍   | 64001/100000 [3:50:01<2:41:03,  3.73it/s]"
     ]
    },
    {
     "name": "stdout",
     "output_type": "stream",
     "text": [
      "save model\n",
      "learning_rate is:\n",
      " 0.00012729665\n",
      "real location is:\n",
      " [[ 23722.343086     1070.01137691]\n",
      " [  9302.19857586  -9856.9493507 ]\n",
      " [ -4234.4903562  -10287.0426399 ]\n",
      " [ -5416.20674026  -3119.36368491]]\n",
      "prediction is:\n",
      " [[ 22990.8      1346.8682]\n",
      " [  9255.436   -9530.131 ]\n",
      " [ -3688.0999 -10346.998 ]\n",
      " [ -5755.955   -3139.5498]]\n",
      "loss is: 365.36554\n"
     ]
    },
    {
     "name": "stderr",
     "output_type": "stream",
     "text": [
      " 65%|██████▌   | 65001/100000 [3:53:37<2:36:15,  3.73it/s]"
     ]
    },
    {
     "name": "stdout",
     "output_type": "stream",
     "text": [
      "save model\n",
      "learning_rate is:\n",
      " 0.00012729665\n",
      "real location is:\n",
      " [[-22227.9250108   -7222.26066819]\n",
      " [-29765.211207    -1854.44784258]\n",
      " [-16157.6928873   -5299.20660518]\n",
      " [ 12334.3988621   -2416.86255671]]\n",
      "prediction is:\n",
      " [[-22910.793   -7601.203 ]\n",
      " [-29937.377   -2423.5557]\n",
      " [-16382.547   -5406.3887]\n",
      " [ 13233.5625  -2527.945 ]]\n",
      "loss is: 489.9052\n"
     ]
    },
    {
     "name": "stderr",
     "output_type": "stream",
     "text": [
      " 66%|██████▌   | 66001/100000 [3:57:12<2:32:01,  3.73it/s]"
     ]
    },
    {
     "name": "stdout",
     "output_type": "stream",
     "text": [
      "save model\n",
      "learning_rate is:\n",
      " 0.00012220477\n",
      "real location is:\n",
      " [[12589.1079588  -8439.26158318]\n",
      " [13449.1604628  -9721.4223685 ]\n",
      " [30393.2401716  -8460.91751612]\n",
      " [30987.4331496  -6319.93406572]]\n",
      "prediction is:\n",
      " [[11317.576  -8864.6   ]\n",
      " [11841.24   -9161.671 ]\n",
      " [29183.547  -8632.579 ]\n",
      " [31238.82   -6068.3574]]\n",
      "loss is: 896.69934\n"
     ]
    },
    {
     "name": "stderr",
     "output_type": "stream",
     "text": [
      " 67%|██████▋   | 67001/100000 [4:00:48<2:27:33,  3.73it/s]"
     ]
    },
    {
     "name": "stdout",
     "output_type": "stream",
     "text": [
      "save model\n",
      "learning_rate is:\n",
      " 0.00012220477\n",
      "real location is:\n",
      " [[-3.07028506e+04  7.00363462e+03]\n",
      " [ 1.25720364e+04 -8.07107700e+02]\n",
      " [ 9.55225468e+03 -1.03313992e+04]\n",
      " [ 1.04867687e+03 -3.56241426e+00]]\n",
      "prediction is:\n",
      " [[-32224.383     7361.5273 ]\n",
      " [ 13390.133    -1034.1575 ]\n",
      " [ 10171.43    -11837.801  ]\n",
      " [   759.59656   -263.12097]]\n",
      "loss is: 873.2503\n"
     ]
    },
    {
     "name": "stderr",
     "output_type": "stream",
     "text": [
      " 68%|██████▊   | 68001/100000 [4:04:24<2:22:57,  3.73it/s]"
     ]
    },
    {
     "name": "stdout",
     "output_type": "stream",
     "text": [
      "save model\n",
      "learning_rate is:\n",
      " 0.00012220477\n",
      "real location is:\n",
      " [[11869.700337     581.41889336]\n",
      " [21480.3181603   1034.78814948]\n",
      " [20634.3362108   1034.40064077]\n",
      " [ 7293.07804212   397.17435325]]\n",
      "prediction is:\n",
      " [[10646.226     321.80795]\n",
      " [19831.98      728.5679 ]\n",
      " [19247.615     828.7092 ]\n",
      " [ 5937.551     416.08984]]\n",
      "loss is: 999.1487\n"
     ]
    },
    {
     "name": "stderr",
     "output_type": "stream",
     "text": [
      " 69%|██████▉   | 69001/100000 [4:08:00<2:18:34,  3.73it/s]"
     ]
    },
    {
     "name": "stdout",
     "output_type": "stream",
     "text": [
      "save model\n",
      "learning_rate is:\n",
      " 0.00011731658\n",
      "real location is:\n",
      " [[-4786.40204455 -9034.20002206]\n",
      " [16994.3115963  -9400.15814947]\n",
      " [10014.9204621  -9800.80191998]\n",
      " [17570.6984951    761.4157144 ]]\n",
      "prediction is:\n",
      " [[ -3349.217   -8861.935 ]\n",
      " [ 18375.715  -10171.23  ]\n",
      " [ 10082.518  -10272.67  ]\n",
      " [ 18344.426    1103.5226]]\n",
      "loss is: 844.8823\n"
     ]
    },
    {
     "name": "stderr",
     "output_type": "stream",
     "text": [
      " 70%|███████   | 70001/100000 [4:11:36<2:14:00,  3.73it/s]"
     ]
    },
    {
     "name": "stdout",
     "output_type": "stream",
     "text": [
      "save model\n",
      "learning_rate is:\n",
      " 0.00011731658\n",
      "real location is:\n",
      " [[ 27479.8810018   -8782.24686484]\n",
      " [ 30881.4857178   -7978.78944599]\n",
      " [ 24703.2284008     895.64625107]\n",
      " [-29540.6280539   -3245.87839309]]\n",
      "prediction is:\n",
      " [[ 26491.54     -8950.739  ]\n",
      " [ 29184.36     -8236.708  ]\n",
      " [ 23967.104      244.56827]\n",
      " [-28557.865    -2944.9775 ]]\n",
      "loss is: 901.994\n"
     ]
    },
    {
     "name": "stderr",
     "output_type": "stream",
     "text": [
      " 71%|███████   | 71001/100000 [4:15:12<2:09:33,  3.73it/s]"
     ]
    },
    {
     "name": "stdout",
     "output_type": "stream",
     "text": [
      "save model\n",
      "learning_rate is:\n",
      " 0.00011731658\n",
      "real location is:\n",
      " [[ 15893.95112      1055.11654862]\n",
      " [-21988.1572465   -7249.91601078]\n",
      " [-13977.3846954   -5129.28746709]\n",
      " [  -170.38257695     60.5485252 ]]\n",
      "prediction is:\n",
      " [[ 13999.5625     829.3366 ]\n",
      " [-20278.426    -7319.847  ]\n",
      " [-13263.476    -5457.513  ]\n",
      " [   194.80476    138.49023]]\n",
      "loss is: 839.8637\n"
     ]
    },
    {
     "name": "stderr",
     "output_type": "stream",
     "text": [
      " 72%|███████▏  | 72001/100000 [4:18:47<2:05:00,  3.73it/s]"
     ]
    },
    {
     "name": "stdout",
     "output_type": "stream",
     "text": [
      "save model\n",
      "learning_rate is:\n",
      " 0.000112623915\n",
      "real location is:\n",
      " [[-19660.7294264   -5541.024327  ]\n",
      " [ -4513.43525569 -10385.6166698 ]\n",
      " [  2802.4454729     118.58654497]\n",
      " [ 16525.4694539    1047.14020461]]\n",
      "prediction is:\n",
      " [[-19262.992    -5734.424  ]\n",
      " [ -3669.622    -9918.752  ]\n",
      " [  3067.0063     -75.26758]\n",
      " [ 16354.121     1328.262  ]]\n",
      "loss is: 437.92502\n"
     ]
    },
    {
     "name": "stderr",
     "output_type": "stream",
     "text": [
      " 73%|███████▎  | 73001/100000 [4:22:23<2:00:33,  3.73it/s]"
     ]
    },
    {
     "name": "stdout",
     "output_type": "stream",
     "text": [
      "save model\n",
      "learning_rate is:\n",
      " 0.000112623915\n",
      "real location is:\n",
      " [[ 26997.8546613   -8770.94336172]\n",
      " [-28798.6922113  -15800.8550838 ]\n",
      " [-29529.2884774   -3569.5575498 ]\n",
      " [ 24655.4377133   -8906.35548394]]\n",
      "prediction is:\n",
      " [[ 26182.43    -8883.916 ]\n",
      " [-27914.18   -15902.473 ]\n",
      " [-29876.438   -5102.3896]\n",
      " [ 23634.02    -8682.65  ]]\n",
      "loss is: 785.8835\n"
     ]
    },
    {
     "name": "stderr",
     "output_type": "stream",
     "text": [
      " 74%|███████▍  | 74001/100000 [4:25:59<1:56:10,  3.73it/s]"
     ]
    },
    {
     "name": "stdout",
     "output_type": "stream",
     "text": [
      "save model\n",
      "learning_rate is:\n",
      " 0.000112623915\n",
      "real location is:\n",
      " [[ 12420.8343537   -3426.91759638]\n",
      " [   703.35531394 -10385.9668865 ]\n",
      " [-29256.7656794  -18307.5531633 ]\n",
      " [-25766.6578535   -5939.71173317]]\n",
      "prediction is:\n",
      " [[ 12728.707    -3921.1606 ]\n",
      " [   432.85425 -10193.146  ]\n",
      " [-27789.227   -17333.172  ]\n",
      " [-25818.695    -5663.787  ]]\n",
      "loss is: 628.9608\n"
     ]
    },
    {
     "name": "stderr",
     "output_type": "stream",
     "text": [
      " 75%|███████▌  | 75001/100000 [4:29:34<1:51:46,  3.73it/s]"
     ]
    },
    {
     "name": "stdout",
     "output_type": "stream",
     "text": [
      "save model\n",
      "learning_rate is:\n",
      " 0.00010811896\n",
      "real location is:\n",
      " [[-4726.95851582 -1072.81157511]\n",
      " [30846.0156817  -3817.87652243]\n",
      " [12696.6890065  -6969.98147289]\n",
      " [24703.2284008    895.64625107]]\n",
      "prediction is:\n",
      " [[-4688.3765   -884.54224]\n",
      " [30653.184   -3684.3242 ]\n",
      " [11662.      -6280.3438 ]\n",
      " [23611.258     612.83386]]\n",
      "loss is: 569.12274\n"
     ]
    },
    {
     "name": "stderr",
     "output_type": "stream",
     "text": [
      " 76%|███████▌  | 76001/100000 [4:33:10<1:47:07,  3.73it/s]"
     ]
    },
    {
     "name": "stdout",
     "output_type": "stream",
     "text": [
      "save model\n",
      "learning_rate is:\n",
      " 0.00010811896\n",
      "real location is:\n",
      " [[ 3.04927951e+04 -3.42849965e+02]\n",
      " [ 2.35363782e+04  8.79710911e+02]\n",
      " [-9.66309438e+03 -4.93721152e+03]\n",
      " [-2.37118483e+01 -1.05949636e+04]]\n",
      "prediction is:\n",
      " [[29208.639      34.43586]\n",
      " [22693.79      867.37067]\n",
      " [-8933.96    -4809.529  ]\n",
      " [ -275.80307 -9847.891  ]]\n",
      "loss is: 681.63007\n"
     ]
    },
    {
     "name": "stderr",
     "output_type": "stream",
     "text": [
      " 77%|███████▋  | 77001/100000 [4:36:46<1:42:56,  3.72it/s]"
     ]
    },
    {
     "name": "stdout",
     "output_type": "stream",
     "text": [
      "save model\n",
      "learning_rate is:\n",
      " 0.00010811896\n",
      "real location is:\n",
      " [[12435.1008282  -2183.35371682]\n",
      " [28483.8275659  -8686.65445081]\n",
      " [ 5881.52716875 -9972.6477548 ]\n",
      " [14864.5571272    748.16562399]]\n",
      "prediction is:\n",
      " [[11984.66   -1736.3518]\n",
      " [26325.473  -7203.951 ]\n",
      " [ 5564.043  -9815.58  ]\n",
      " [13815.918   1134.231 ]]\n",
      "loss is: 1005.9018\n"
     ]
    },
    {
     "name": "stderr",
     "output_type": "stream",
     "text": [
      " 78%|███████▊  | 78001/100000 [4:40:21<1:38:11,  3.73it/s]"
     ]
    },
    {
     "name": "stdout",
     "output_type": "stream",
     "text": [
      "save model\n",
      "learning_rate is:\n",
      " 0.000103794206\n",
      "real location is:\n",
      " [[ 10381.1119804   -9815.36862324]\n",
      " [ 10271.6130446      45.74259194]\n",
      " [-27986.5118309   -5949.48697318]\n",
      " [-18638.052383    -7064.83696167]]\n",
      "prediction is:\n",
      " [[ 9.2801836e+03 -1.0020100e+04]\n",
      " [ 8.4864707e+03 -5.0412292e+00]\n",
      " [-2.6583211e+04 -6.0925537e+03]\n",
      " [-1.9391340e+04 -7.2424639e+03]]\n",
      "loss is: 876.3907\n"
     ]
    },
    {
     "name": "stderr",
     "output_type": "stream",
     "text": [
      " 79%|███████▉  | 79001/100000 [4:43:57<1:33:46,  3.73it/s]"
     ]
    },
    {
     "name": "stdout",
     "output_type": "stream",
     "text": [
      "save model\n",
      "learning_rate is:\n",
      " 0.000103794206\n",
      "real location is:\n",
      " [[  2803.74066451    225.44058723]\n",
      " [-29471.6910329   -5997.08934384]\n",
      " [   111.30921951     32.95018092]\n",
      " [ 15522.373163    -9545.86561279]]\n",
      "prediction is:\n",
      " [[  2981.953      374.6203 ]\n",
      " [-25683.736    -6494.4814 ]\n",
      " [  1226.8157    -322.80078]\n",
      " [ 13199.865    -8746.262  ]]\n",
      "loss is: 1436.8943\n"
     ]
    },
    {
     "name": "stderr",
     "output_type": "stream",
     "text": [
      " 80%|████████  | 80001/100000 [4:47:33<1:30:15,  3.69it/s]"
     ]
    },
    {
     "name": "stdout",
     "output_type": "stream",
     "text": [
      "save model\n",
      "learning_rate is:\n",
      " 0.000103794206\n",
      "real location is:\n",
      " [[  2179.65996126    181.77257257]\n",
      " [ 30427.8883183     544.77608437]\n",
      " [-29204.1253073   -9865.27582453]\n",
      " [-30328.6701242    6979.02827197]]\n",
      "prediction is:\n",
      " [[  1600.4824     262.40723]\n",
      " [ 28197.75       975.62286]\n",
      " [-28883.59     -9290.182  ]\n",
      " [-30114.547     5579.0283 ]]\n",
      "loss is: 909.46423\n"
     ]
    },
    {
     "name": "stderr",
     "output_type": "stream",
     "text": [
      " 81%|████████  | 81001/100000 [4:51:08<1:24:49,  3.73it/s]"
     ]
    },
    {
     "name": "stdout",
     "output_type": "stream",
     "text": [
      "save model\n",
      "learning_rate is:\n",
      " 9.964243e-05\n",
      "real location is:\n",
      " [[-30868.1034646   12895.9680607 ]\n",
      " [-29241.3640796   -5668.20859614]\n",
      " [-19074.3325287   -5642.43623541]\n",
      " [ 17314.3763252     824.11002157]]\n",
      "prediction is:\n",
      " [[-31481.139   11537.117 ]\n",
      " [-29882.172   -6874.396 ]\n",
      " [-19617.965   -5656.551 ]\n",
      " [ 17427.75      922.6872]]\n",
      "loss is: 715.4148\n"
     ]
    },
    {
     "name": "stderr",
     "output_type": "stream",
     "text": [
      " 82%|████████▏ | 82001/100000 [4:54:44<1:20:26,  3.73it/s]"
     ]
    },
    {
     "name": "stdout",
     "output_type": "stream",
     "text": [
      "save model\n",
      "learning_rate is:\n",
      " 9.964243e-05\n",
      "real location is:\n",
      " [[-30813.6137069   11514.5375498 ]\n",
      " [-29615.444632    -4065.78189884]\n",
      " [-25461.0355292   -7492.53886784]\n",
      " [ 22513.6317284     962.34879534]]\n",
      "prediction is:\n",
      " [[-31402.8      10563.705  ]\n",
      " [-28542.066    -4223.5205 ]\n",
      " [-25795.098    -7714.777  ]\n",
      " [ 21517.27       313.54565]]\n",
      "loss is: 775.409\n"
     ]
    },
    {
     "name": "stderr",
     "output_type": "stream",
     "text": [
      " 83%|████████▎ | 83001/100000 [4:58:20<1:16:03,  3.73it/s]"
     ]
    },
    {
     "name": "stdout",
     "output_type": "stream",
     "text": [
      "save model\n",
      "learning_rate is:\n",
      " 9.964243e-05\n",
      "real location is:\n",
      " [[ 20236.6537885    1031.20842644]\n",
      " [-29065.8364884  -13464.4376541 ]\n",
      " [  9306.30164505  -9822.33682688]\n",
      " [  6451.13713598    586.81644311]]\n",
      "prediction is:\n",
      " [[ 20200.594     851.8351]\n",
      " [-30887.316  -14531.409 ]\n",
      " [  9169.414  -10037.658 ]\n",
      " [  6158.7188    317.6316]]\n",
      "loss is: 626.2095\n"
     ]
    },
    {
     "name": "stderr",
     "output_type": "stream",
     "text": [
      " 84%|████████▍ | 84001/100000 [5:01:56<1:11:34,  3.73it/s]"
     ]
    },
    {
     "name": "stdout",
     "output_type": "stream",
     "text": [
      "save model\n",
      "learning_rate is:\n",
      " 9.565673e-05\n",
      "real location is:\n",
      " [[ 13544.8455235     784.20774984]\n",
      " [ 30987.4331496   -6319.93406572]\n",
      " [-30979.9280767    9734.45033758]\n",
      " [ -2038.34168273 -10475.534123  ]]\n",
      "prediction is:\n",
      " [[ 12744.872    1164.8728]\n",
      " [ 30526.695   -6036.21  ]\n",
      " [-32687.135    8859.858 ]\n",
      " [ -2627.7761 -10690.991 ]]\n",
      "loss is: 828.4071\n"
     ]
    },
    {
     "name": "stderr",
     "output_type": "stream",
     "text": [
      " 85%|████████▌ | 85001/100000 [5:05:32<1:07:13,  3.72it/s]"
     ]
    },
    {
     "name": "stdout",
     "output_type": "stream",
     "text": [
      "save model\n",
      "learning_rate is:\n",
      " 9.565673e-05\n",
      "real location is:\n",
      " [[-16955.3092323   -6992.37765227]\n",
      " [  6247.1989924  -10128.4037451 ]\n",
      " [-29394.939355    -5284.33278955]\n",
      " [  1931.09787291     63.62001778]]\n",
      "prediction is:\n",
      " [[-16745.662    -7584.6475 ]\n",
      " [  5211.1465   -9969.326  ]\n",
      " [-29692.297    -5179.7476 ]\n",
      " [  2254.125     -141.74748]]\n",
      "loss is: 455.84546\n"
     ]
    },
    {
     "name": "stderr",
     "output_type": "stream",
     "text": [
      " 86%|████████▌ | 86001/100000 [5:09:07<1:02:36,  3.73it/s]"
     ]
    },
    {
     "name": "stdout",
     "output_type": "stream",
     "text": [
      "save model\n",
      "learning_rate is:\n",
      " 9.565673e-05\n",
      "real location is:\n",
      " [[-16022.9327118   -5527.64530531]\n",
      " [ 17349.9006637     754.30309323]\n",
      " [ 12537.2793342   -2155.55460707]\n",
      " [-30436.8488221    8853.02160979]]\n",
      "prediction is:\n",
      " [[-15732.18    -6126.3706]\n",
      " [ 16719.562     707.1122]\n",
      " [ 11854.753   -1846.3123]\n",
      " [-30084.898    9208.002 ]]\n",
      "loss is: 508.70895\n"
     ]
    },
    {
     "name": "stderr",
     "output_type": "stream",
     "text": [
      " 87%|████████▋ | 87001/100000 [5:12:43<58:05,  3.73it/s]  "
     ]
    },
    {
     "name": "stdout",
     "output_type": "stream",
     "text": [
      "save model\n",
      "learning_rate is:\n",
      " 9.183046e-05\n",
      "real location is:\n",
      " [[ 12713.5813604   -9557.20360071]\n",
      " [-28715.6385987  -22181.4723055 ]\n",
      " [  -762.79924974 -10431.8720669 ]\n",
      " [-19074.3325287   -5642.43623541]]\n",
      "prediction is:\n",
      " [[ 11703.356   -8708.976 ]\n",
      " [-28161.062  -19360.719 ]\n",
      " [  -686.0248  -9913.597 ]\n",
      " [-18057.035   -5402.0776]]\n",
      "loss is: 1105.7042\n"
     ]
    },
    {
     "name": "stderr",
     "output_type": "stream",
     "text": [
      " 88%|████████▊ | 88001/100000 [5:16:19<53:40,  3.73it/s]"
     ]
    },
    {
     "name": "stdout",
     "output_type": "stream",
     "text": [
      "save model\n",
      "learning_rate is:\n",
      " 9.183046e-05\n",
      "real location is:\n",
      " [[ 11480.9347521   -9680.47765424]\n",
      " [ -5698.40934563  -7074.41237495]\n",
      " [-29172.5447501  -19584.9415763 ]\n",
      " [-23889.7635521   -5802.14591831]]\n",
      "prediction is:\n",
      " [[ 11252.945  -9951.533]\n",
      " [ -5705.291  -6860.461]\n",
      " [-29478.363 -19038.652]\n",
      " [-24286.527  -6086.733]]\n",
      "loss is: 350.54184\n"
     ]
    },
    {
     "name": "stderr",
     "output_type": "stream",
     "text": [
      " 89%|████████▉ | 89001/100000 [5:19:55<49:10,  3.73it/s]"
     ]
    },
    {
     "name": "stdout",
     "output_type": "stream",
     "text": [
      "save model\n",
      "learning_rate is:\n",
      " 9.183046e-05\n",
      "real location is:\n",
      " [[-28637.1899605  -20692.3924593 ]\n",
      " [ -4661.24849729  -9901.12718688]\n",
      " [ -9681.75747609  -4931.55708297]\n",
      " [-26056.1157328   -5896.0559459 ]]\n",
      "prediction is:\n",
      " [[-28638.805  -21010.5   ]\n",
      " [ -4903.8022  -9752.5625]\n",
      " [ -9903.746   -4842.9536]\n",
      " [-24575.629   -5971.3193]]\n",
      "loss is: 401.19427\n"
     ]
    },
    {
     "name": "stderr",
     "output_type": "stream",
     "text": [
      " 90%|█████████ | 90001/100000 [5:23:31<45:04,  3.70it/s]"
     ]
    },
    {
     "name": "stdout",
     "output_type": "stream",
     "text": [
      "save model\n",
      "learning_rate is:\n",
      " 8.8157234e-05\n",
      "real location is:\n",
      " [[  1448.81987509 -10325.0480137 ]\n",
      " [-15840.3265125   -5204.44608678]\n",
      " [  5881.52716875  -9972.6477548 ]\n",
      " [ 31002.363549    -7569.88310936]]\n",
      "prediction is:\n",
      " [[  2013.3525 -10542.412 ]\n",
      " [-15885.783   -5516.1924]\n",
      " [  5903.9     -9885.1875]\n",
      " [ 30955.498   -7439.7266]]\n",
      "loss is: 221.25716\n"
     ]
    },
    {
     "name": "stderr",
     "output_type": "stream",
     "text": [
      " 91%|█████████ | 91001/100000 [5:27:07<40:16,  3.72it/s]"
     ]
    },
    {
     "name": "stdout",
     "output_type": "stream",
     "text": [
      "save model\n",
      "learning_rate is:\n",
      " 8.8157234e-05\n",
      "real location is:\n",
      " [[-31031.0199394    8228.29150766]\n",
      " [  7523.01731874 -10065.2040854 ]\n",
      " [  9405.83471051    453.69998776]\n",
      " [ -4906.04537202  -1344.8223196 ]]\n",
      "prediction is:\n",
      " [[-31259.512     8915.481  ]\n",
      " [  6949.7217  -10155.732  ]\n",
      " [ 10200.557      492.79694]\n",
      " [ -4802.872    -1192.0463 ]]\n",
      "loss is: 415.51898\n"
     ]
    },
    {
     "name": "stderr",
     "output_type": "stream",
     "text": [
      " 92%|█████████▏| 92001/100000 [5:30:42<35:45,  3.73it/s]"
     ]
    },
    {
     "name": "stdout",
     "output_type": "stream",
     "text": [
      "save model\n",
      "learning_rate is:\n",
      " 8.8157234e-05\n",
      "real location is:\n",
      " [[-29513.9989582   -5474.1922535 ]\n",
      " [ 11891.3133447     810.13378081]\n",
      " [ 15548.3077954   -9596.25860394]\n",
      " [ 12548.3267714   -6840.82972716]]\n",
      "prediction is:\n",
      " [[-29316.727    -5600.0107 ]\n",
      " [ 10590.467      855.63794]\n",
      " [ 14347.855    -9247.08   ]\n",
      " [ 11733.029    -6398.3774 ]]\n",
      "loss is: 697.94617\n"
     ]
    },
    {
     "name": "stderr",
     "output_type": "stream",
     "text": [
      " 93%|█████████▎| 93001/100000 [5:34:18<31:15,  3.73it/s]"
     ]
    },
    {
     "name": "stdout",
     "output_type": "stream",
     "text": [
      "save model\n",
      "learning_rate is:\n",
      " 8.463095e-05\n",
      "real location is:\n",
      " [[-30750.9203197   12320.5995513 ]\n",
      " [ 12941.1882022   -6998.69597296]\n",
      " [ 28832.9174795   -8843.24236342]\n",
      " [-28194.8132005   -7490.41554238]]\n",
      "prediction is:\n",
      " [[-30434.07    12144.038 ]\n",
      " [ 13096.818   -7036.631 ]\n",
      " [ 28583.629   -8542.986 ]\n",
      " [-27598.059   -7406.4746]]\n",
      "loss is: 298.01013\n"
     ]
    },
    {
     "name": "stderr",
     "output_type": "stream",
     "text": [
      " 94%|█████████▍| 94001/100000 [5:37:54<26:49,  3.73it/s]"
     ]
    },
    {
     "name": "stdout",
     "output_type": "stream",
     "text": [
      "save model\n",
      "learning_rate is:\n",
      " 8.463095e-05\n",
      "real location is:\n",
      " [[-5342.64946834 -2904.32257151]\n",
      " [23438.4652528  -9209.19809144]\n",
      " [12517.6878792  -5883.00702855]\n",
      " [10742.0433507     56.84400079]]\n",
      "prediction is:\n",
      " [[ -5372.909    -2956.2292 ]\n",
      " [ 23705.672   -10034.523  ]\n",
      " [ 11609.105    -5962.55   ]\n",
      " [ 10340.689     -191.41287]]\n",
      "loss is: 437.8898\n"
     ]
    },
    {
     "name": "stderr",
     "output_type": "stream",
     "text": [
      " 95%|█████████▌| 95001/100000 [5:41:30<22:20,  3.73it/s]"
     ]
    },
    {
     "name": "stdout",
     "output_type": "stream",
     "text": [
      "save model\n",
      "learning_rate is:\n",
      " 8.463095e-05\n",
      "real location is:\n",
      " [[28718.731847    1268.97999944]\n",
      " [27700.8718495  -9025.52851212]\n",
      " [30716.5696086  -8913.08326086]\n",
      " [ 3279.98219707   169.73346549]]\n",
      "prediction is:\n",
      " [[ 2.7790051e+04  1.2812952e+03]\n",
      " [ 2.6964398e+04 -8.4310762e+03]\n",
      " [ 3.0248203e+04 -8.5752480e+03]\n",
      " [ 2.9669248e+03  1.5357269e+01]]\n",
      "loss is: 552.44305\n"
     ]
    },
    {
     "name": "stderr",
     "output_type": "stream",
     "text": [
      " 96%|█████████▌| 96001/100000 [5:45:06<17:51,  3.73it/s]"
     ]
    },
    {
     "name": "stdout",
     "output_type": "stream",
     "text": [
      "save model\n",
      "learning_rate is:\n",
      " 8.124571e-05\n",
      "real location is:\n",
      " [[ 12798.5330501   -7003.03089492]\n",
      " [ 24583.3692373    1063.56440969]\n",
      " [ 10440.1358628     551.25194786]\n",
      " [-30182.7687585    1428.84759737]]\n",
      "prediction is:\n",
      " [[ 13622.275    -6419.635  ]\n",
      " [ 23950.5        798.7259 ]\n",
      " [ 10483.006      -93.76813]\n",
      " [-29490.607     1354.1708 ]]\n",
      "loss is: 585.87695\n"
     ]
    },
    {
     "name": "stderr",
     "output_type": "stream",
     "text": [
      " 97%|█████████▋| 97001/100000 [5:48:41<13:23,  3.73it/s]"
     ]
    },
    {
     "name": "stdout",
     "output_type": "stream",
     "text": [
      "save model\n",
      "learning_rate is:\n",
      " 8.124571e-05\n",
      "real location is:\n",
      " [[  6942.83872864    365.8634137 ]\n",
      " [ 12446.3809605   -3088.82518079]\n",
      " [-27803.6636604   -5931.7443907 ]\n",
      " [ 12620.0885856   -4139.73885561]]\n",
      "prediction is:\n",
      " [[  6770.961      186.11336]\n",
      " [ 11686.279    -3138.0122 ]\n",
      " [-27855.195    -5697.76   ]\n",
      " [ 12511.293    -4208.7803 ]]\n",
      "loss is: 252.2395\n"
     ]
    },
    {
     "name": "stderr",
     "output_type": "stream",
     "text": [
      " 98%|█████████▊| 98001/100000 [5:52:17<08:56,  3.73it/s]"
     ]
    },
    {
     "name": "stdout",
     "output_type": "stream",
     "text": [
      "save model\n",
      "learning_rate is:\n",
      " 8.124571e-05\n",
      "real location is:\n",
      " [[ 21475.8974596     819.27056934]\n",
      " [ 26785.2213558   -8782.14402546]\n",
      " [-29921.6101513    1603.67889109]\n",
      " [ 12325.7668003   -1754.82568197]]\n",
      "prediction is:\n",
      " [[ 21294.709     856.7885]\n",
      " [ 27062.46    -9623.092 ]\n",
      " [-30929.723    1676.2853]\n",
      " [ 12388.461   -1828.8538]]\n",
      "loss is: 397.56244\n"
     ]
    },
    {
     "name": "stderr",
     "output_type": "stream",
     "text": [
      " 99%|█████████▉| 99001/100000 [5:55:53<04:28,  3.73it/s]"
     ]
    },
    {
     "name": "stdout",
     "output_type": "stream",
     "text": [
      "save model\n",
      "learning_rate is:\n",
      " 7.799588e-05\n",
      "real location is:\n",
      " [[-29673.4742628   -1365.46088637]\n",
      " [-15654.7564288   -5200.49509483]\n",
      " [ 10440.1358628     551.25194786]\n",
      " [-29132.2781132  -11548.3667222 ]]\n",
      "prediction is:\n",
      " [[-29239.703    -1642.502  ]\n",
      " [-15241.91     -5033.1763 ]\n",
      " [ 10282.718      584.36993]\n",
      " [-29334.14    -11608.693  ]]\n",
      "loss is: 270.90002\n"
     ]
    },
    {
     "name": "stderr",
     "output_type": "stream",
     "text": [
      "100%|██████████| 100000/100000 [5:59:28<00:00,  4.64it/s]"
     ]
    },
    {
     "name": "stdout",
     "output_type": "stream",
     "text": [
      "done!\n"
     ]
    },
    {
     "name": "stderr",
     "output_type": "stream",
     "text": [
      "\n"
     ]
    }
   ],
   "source": [
    "with tf.name_scope(\"input\"):\n",
    "    input_image = tf.placeholder(\"float\", [None, 448,448,12],name='input_image')\n",
    "#     input_image = tf.pad(image,np.array([[0, 0], [3, 3], [3, 3], [0, 0]]))\n",
    "    y_ = tf.placeholder(\"float\", [None, 2],name='y_') \n",
    "\n",
    "def weight_variable(shape):\n",
    "    initial = tf.truncated_normal(shape, stddev=0.1)\n",
    "    return tf.Variable(initial)\n",
    "\n",
    "def bias_variable(shape):\n",
    "    initial = tf.constant(0.1, shape = shape)\n",
    "    return tf.Variable(initial)\n",
    "\n",
    "def conv2d(x, W):\n",
    "    return tf.nn.conv2d(x, W, strides=[1, 1, 1, 1], padding=\"SAME\")\n",
    "\n",
    "def max_pool_2x2(x):\n",
    "    return tf.nn.max_pool(x, ksize=[1, 2, 2, 1], strides=[1, 2, 2, 1], padding=\"SAME\")\n",
    "\n",
    "\n",
    "W_conv0 = weight_variable([7, 7, 12, 64])\n",
    "b_conv0 = bias_variable([64])\n",
    "\n",
    "h_conv0 = tf.nn.leaky_relu(tf.nn.conv2d(input_image, W_conv0, strides=[1,1,1,1], padding=\"SAME\") + b_conv0)\n",
    "h_pool0 = max_pool_2x2(h_conv0)   #输出变成224*224*64 [None,224,224,64]\n",
    "\n",
    "# #第一层卷积层\n",
    "# #参数的前两维为卷积核的维度，第三个参数为当前层的深度，第四个为输出到层的深度\n",
    "\n",
    "W_conv1 = weight_variable([7, 7, 64, 64])\n",
    "b_conv1 = bias_variable([64])\n",
    "\n",
    "h_conv1 = tf.nn.leaky_relu(conv2d(h_pool0, W_conv1) + b_conv1)\n",
    "# h_conv1 = tf.nn.relu(tf.nn.conv2d(input_image, W_conv1, strides=[1,2,2,1], padding=\"SAME\") + b_conv1)\n",
    "h_pool1 = max_pool_2x2(h_conv1)   #输出变成112*112*64   [None,112,112,64]\n",
    "\n",
    "# #第一层卷积层\n",
    "# #参数的前两维为卷积核的维度，第三个参数为当前层的深度，第四个为输出到层的深度\n",
    "# W_conv1 = weight_variable([7, 7, 6, 64])\n",
    "# b_conv1 = bias_variable([64])\n",
    "\n",
    "# h_conv1 = tf.nn.relu(tf.nn.conv2d(input_image, W_conv1,strides=[1,2,2,1],padding=\"SAME\") + b_conv1)\n",
    "# h_pool1 = max_pool_2x2(h_conv1)   #输出变成112*112*64\n",
    "\n",
    "#第二层卷积层\n",
    "W_conv2 = weight_variable([3, 3, 64, 192])\n",
    "b_conv2 = bias_variable([192])\n",
    "\n",
    "h_conv2 = tf.nn.leaky_relu(conv2d(h_pool1, W_conv2) + b_conv2)\n",
    "h_pool2 = max_pool_2x2(h_conv2)  #输出变为56*56*192\n",
    "\n",
    "\n",
    "#第三层卷积层\n",
    "W_conv3 = weight_variable([3, 3, 192, 128])\n",
    "b_conv3 = bias_variable([128])\n",
    "\n",
    "h_conv3 = tf.nn.leaky_relu(conv2d(h_pool2, W_conv3) + b_conv3)\n",
    "h_pool3 = max_pool_2x2(h_conv3)   #输出为28*28*128\n",
    "\n",
    "\n",
    "#第四层卷积层\n",
    "W_conv4 = weight_variable([3, 3, 128, 64])\n",
    "b_conv4 = bias_variable([64])\n",
    "\n",
    "h_conv4 = tf.nn.leaky_relu(conv2d(h_pool3, W_conv4) + b_conv4)\n",
    "h_pool4 = max_pool_2x2(h_conv4)   #输出变为14*14*64\n",
    "\n",
    "\n",
    "#密集连接层1\n",
    "W_fc1 = weight_variable([14*14*64, 1024])\n",
    "b_fc1 = bias_variable([1024])\n",
    "\n",
    "h_pool2_flat = tf.reshape(h_pool4, [-1, 14*14*64])\n",
    "h_fc1 = tf.nn.leaky_relu(tf.matmul(h_pool2_flat, W_fc1) + b_fc1)   #输出为96*1024\n",
    "\n",
    "keep_prob = tf.placeholder(\"float\")\n",
    "#relu函数作用是求出max(h_fc1,0)\n",
    "h_fc1_drop1 = tf.nn.dropout(h_fc1, keep_prob)   #输出为96*1024\n",
    "\n",
    "\n",
    "#密集连接层2\n",
    "W_fc2 = weight_variable([1024, 512])\n",
    "b_fc2 = bias_variable([512])\n",
    "\n",
    "h_fc2 = tf.nn.leaky_relu(tf.matmul(h_fc1_drop1, W_fc2) + b_fc2)\n",
    "\n",
    "#relu函数作用是求出max(h_fc1,0)\n",
    "h_fc1_drop2 = tf.nn.dropout(h_fc2, keep_prob)\n",
    "\n",
    "#输出层softmax层\n",
    "W_fc3 = weight_variable([512, 2])\n",
    "\n",
    "y_conv = tf.matmul(h_fc1_drop2, W_fc3)\n",
    "# tf.summary.histogram('y_conv',y_conv)\n",
    "\n",
    "# batch_x = images[1:3]\n",
    "# batch_y = labels[1:3]\n",
    "# with tf.Session() as sess:\n",
    "#     sess.run(tf.global_variables_initializer())\n",
    "#     print(\"shape of outputs is:\",sess.run(tf.shape(y_conv),feed_dict={input_image:batch_x, \n",
    "#                                                                            y_:batch_y,keep_prob:1.0}))\n",
    "#         print(\"learning rate is :\",sess.run(learning_rate,feed_dict = {global_step:i}))\n",
    "\n",
    "\n",
    "starter_learning_rate = 0.0003\n",
    "steps_per_decay = 3000\n",
    "decay_factor = 0.96\n",
    " \n",
    "global_step = tf.Variable(tf.constant(0))\n",
    "learning_rate = tf.train.exponential_decay(learning_rate = starter_learning_rate,\n",
    "                                           global_step = global_step,\n",
    "                                           decay_steps = steps_per_decay,\n",
    "                                           decay_rate = decay_factor,\n",
    "                                           staircase = True\n",
    "                                           )\n",
    "delta=tf.constant(1.25)\n",
    "#huber损失函数\n",
    "loss = tf.reduce_mean(tf.multiply(tf.square(delta),\n",
    "                                          tf.sqrt(1. + tf.square((y_ - y_conv)/delta)) - 1.))\n",
    "\n",
    "# cross_entropy = tf.reduce_sum(tf.square(y_-y_conv)) \n",
    "tf.summary.scalar(\"loss\",loss)\n",
    "\n",
    "train_step = tf.train.AdamOptimizer(learning_rate).minimize(loss)\n",
    "# train_step = tf.train.AdadeltaOptimizer(learning_rate).minimize(cross_entropy)\n",
    "# train_step = tf.train.RMSPropOptimizer(learning_rate).minimize(cross_entropy)\n",
    "\n",
    "# correct_prediction = tf.equal(tf.argmax(y_conv, 1), tf.argmax(y_, 1))\n",
    "# accuracy = tf.reduce_mean(tf.cast(correct_prediction, tf.float32))\n",
    "# tf.summary.scalar(\"accuracy\", accuracy)\n",
    "merged = tf.summary.merge_all()\n",
    "\n",
    "batch_size = 4          \n",
    "checkpointsPath = \"./checkpoints/\"\n",
    "reload = False\n",
    "\n",
    "with tf.Session() as sess:\n",
    "    sess.run(tf.global_variables_initializer())\n",
    "    #保存训练好的模型一遍下次使用\n",
    "    saver = tf.train.Saver()\n",
    "    writer = tf.summary.FileWriter(\"logs_dir/\", sess.graph)\n",
    "    \n",
    "    if not os.path.exists(checkpointsPath):\n",
    "        os.mkdir(checkpointsPath)\n",
    "    \n",
    "    if reload:\n",
    "        checkPoint = tf.train.get_checkpoint_state(checkpointsPath)\n",
    "        if checkPoint and checkPoint.model_checkpoint_path:\n",
    "            saver.restore(sess,checkPoint.model_checkpoint_path)\n",
    "            print(\"restored %s\" % checkPoint.model_checkpoint_path)\n",
    "        else:\n",
    "            print(\"no checkpoint found!\")\n",
    "        \n",
    "    for i in tqdm(range(100000)):\n",
    "        batch_x,batch_y = get_train_data_batch(batch_size)\n",
    "        batch_y = batch_y*1000\n",
    "        summary,_ = sess.run([merged,train_step],feed_dict={global_step:i,\n",
    "                                                            input_image:batch_x, \n",
    "                                                            y_:batch_y, \n",
    "                                                            keep_prob:0.8})\n",
    "        writer.add_summary(summary, i)\n",
    "        if (i % 1000) == 0 & (i != 0):\n",
    "            print(\"save model\")\n",
    "            print(\"learning_rate is:\\n\",sess.run(learning_rate,feed_dict = {global_step:i}))\n",
    "            print(\"real location is:\\n\",batch_y)\n",
    "            print(\"prediction is:\\n\",sess.run(y_conv,feed_dict={input_image:batch_x, y_:batch_y,keep_prob:1.0}))\n",
    "#             saver.save(sess, os.path.join(checkpointsPath,\"saved_net.ckpt\"), global_step=i)\n",
    "            print(\"loss is:\",sess.run(loss,feed_dict={input_image:batch_x, y_:batch_y, keep_prob:1.0}))\n",
    "    print(\"done!\")\n"
   ]
  },
  {
   "cell_type": "code",
   "execution_count": null,
   "metadata": {},
   "outputs": [],
   "source": []
  }
 ],
 "metadata": {
  "kernelspec": {
   "display_name": "Python 3",
   "language": "python",
   "name": "python3"
  },
  "language_info": {
   "codemirror_mode": {
    "name": "ipython",
    "version": 3
   },
   "file_extension": ".py",
   "mimetype": "text/x-python",
   "name": "python",
   "nbconvert_exporter": "python",
   "pygments_lexer": "ipython3",
   "version": "3.5.2"
  }
 },
 "nbformat": 4,
 "nbformat_minor": 2
}
