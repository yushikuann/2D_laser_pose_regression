{
 "cells": [
  {
   "cell_type": "code",
   "execution_count": 1,
   "metadata": {},
   "outputs": [],
   "source": [
    "import os\n",
    "import random\n",
    "import skimage.data\n",
    "from skimage import io\n",
    "import skimage.transform\n",
    "import matplotlib\n",
    "import matplotlib.pyplot as plt\n",
    "import numpy as np\n",
    "import tensorflow as tf\n",
    "from tqdm import tqdm\n",
    "import sys\n",
    "sys.path.remove('/opt/ros/kinetic/lib/python2.7/dist-packages')\n",
    "import cv2"
   ]
  },
  {
   "cell_type": "code",
   "execution_count": 2,
   "metadata": {},
   "outputs": [
    {
     "name": "stdout",
     "output_type": "stream",
     "text": [
      "(4, 896, 896, 6)\n",
      "(4, 2)\n",
      "[[0.08341205 0.05556641]\n",
      " [0.13755828 0.05301144]\n",
      " [0.19381861 0.05210625]\n",
      " [0.24451986 0.05141519]]\n",
      "[[ 83.41205427  55.56640513]\n",
      " [137.55828019  53.01143996]\n",
      " [193.8186101   52.10625217]\n",
      " [244.51985976  51.41519172]]\n"
     ]
    }
   ],
   "source": [
    "train_label_dir = \"/home/ysk/catkin_ws/laser_pic_code/pic/regression_896_one_side\"\n",
    "train_pic_dir = \"/home/ysk/catkin_ws/laser_pic_code/pic/regression_896_one_side/picture\"\n",
    "\n",
    "def get_train_data_batch(num, pic_dir=train_pic_dir, label_dir=train_label_dir):\n",
    "    train_txt = os.path.join(label_dir,\"label.txt\")\n",
    "    count = len(open(train_txt,'r').readlines())    \n",
    "    idx = np.arange(0, count)      \n",
    "    np.random.shuffle(idx)                \n",
    "    data_idx = idx[:num]        \n",
    "    \n",
    "    labels = []\n",
    "    images = []\n",
    "    \n",
    "    for i in range(num):\n",
    "        with open(train_txt,'r') as file:\n",
    "            s = file.readlines()\n",
    "            if(data_idx[i] == count or data_idx[i] == count-1):\n",
    "                img1 = skimage.data.imread(os.path.join(pic_dir, s[data_idx[i]-1].split(\";\")[0]))\n",
    "                img2 = skimage.data.imread(os.path.join(pic_dir, s[data_idx[i]].split(\";\")[0]))\n",
    "                img = cv2.merge([img1,img2])\n",
    "                images.append(img)\n",
    "            else:\n",
    "                img1 = skimage.data.imread(os.path.join(pic_dir, s[data_idx[i]].split(\";\")[0]))\n",
    "                img2 = skimage.data.imread(os.path.join(pic_dir, s[data_idx[i] + 1].split(\";\")[0]))\n",
    "                img = cv2.merge([img1,img2])\n",
    "                images.append(img)\n",
    "            label = s[i].split(\";\")[1:3]\n",
    "            label = list(map(float,label))\n",
    "            labels.append(label)\n",
    "    return np.asarray(images),np.asarray(labels)\n",
    "\n",
    "num = 4\n",
    "train_images, train_labels = get_train_data_batch(num)\n",
    "print(np.shape(train_images))\n",
    "print(np.shape(train_labels))\n",
    "print(train_labels)\n",
    "print(train_labels*1000)"
   ]
  },
  {
   "cell_type": "code",
   "execution_count": 3,
   "metadata": {},
   "outputs": [
    {
     "name": "stdout",
     "output_type": "stream",
     "text": [
      "292\n",
      "(291, 896, 896, 6)\n",
      "(291, 2)\n",
      "[[28.18804647 -0.18235475]\n",
      " [28.18811645 -0.18217999]\n",
      " [28.19001043 -0.18208001]\n",
      " [28.13134191 -0.1818633 ]\n",
      " [28.07056223 -0.18284608]]\n"
     ]
    }
   ],
   "source": [
    "label_dir = \"/home/ysk/catkin_ws/laser_pic_code/pic/regression_896_test\"\n",
    "pic_dir = \"/home/ysk/catkin_ws/laser_pic_code/pic/regression_896_test/picture\"\n",
    "\n",
    "train_txt = os.path.join(label_dir, \"label.txt\")\n",
    "count = len(open(train_txt, 'r').readlines())\n",
    "print(count)\n",
    "file = open(train_txt, 'r')\n",
    "s = file.readlines()\n",
    "all_test_images = []\n",
    "all_test_labels = []\n",
    "for i in range(count-1):\n",
    "    image1 = skimage.data.imread(os.path.join(pic_dir, s[i].split(\";\")[0]))\n",
    "    label = s[i].split(\";\")[1:3]\n",
    "    label = list(map(float,label))\n",
    "    image2 = skimage.data.imread(os.path.join(pic_dir, s[i+1].split(\";\")[0]))\n",
    "#     image3 = skimage.data.imread(os.path.join(pic_dir, s[i+2].split(\";\")[0]))\n",
    "    img = cv2.merge([image1,image2])\n",
    "#     img = cv2.merge([image1,image2,image3])\n",
    "    all_test_images.append(img)\n",
    "    all_test_labels.append(label)\n",
    "all_test_images = np.asarray(all_test_images)\n",
    "all_test_labels = np.asarray(all_test_labels)\n",
    "    \n",
    "print(np.shape(all_test_images))\n",
    "print(np.shape(all_test_labels))\n",
    "print(all_test_labels[:5])\n"
   ]
  },
  {
   "cell_type": "code",
   "execution_count": 4,
   "metadata": {},
   "outputs": [
    {
     "name": "stdout",
     "output_type": "stream",
     "text": [
      "(10, 896, 896, 6)\n",
      "(10, 2)\n"
     ]
    }
   ],
   "source": [
    "def get_test_data_batch(num):\n",
    "    idx = np.arange(0, count-1)\n",
    "    np.random.shuffle(idx)\n",
    "    data_idx = idx[:num]\n",
    "\n",
    "    labels = []\n",
    "    images = []\n",
    "\n",
    "    for i in range(num):\n",
    "        images.append(all_test_images[data_idx[i]])\n",
    "        labels.append(all_test_labels[data_idx[i]])\n",
    "\n",
    "    return np.asarray(images), np.asarray(labels)\n",
    "\n",
    "X,Y = get_test_data_batch(10)\n",
    "\n",
    "print(np.shape(X))\n",
    "print(np.shape(Y))"
   ]
  },
  {
   "cell_type": "code",
   "execution_count": 5,
   "metadata": {},
   "outputs": [
    {
     "name": "stderr",
     "output_type": "stream",
     "text": [
      "\r",
      "  0%|          | 0/300 [00:00<?, ?it/s]"
     ]
    },
    {
     "name": "stdout",
     "output_type": "stream",
     "text": [
      "real los is:\n",
      " [[28188.0464701   -182.35475358]\n",
      " [28188.1164466   -182.17999038]\n",
      " [28190.0104299   -182.08000518]\n",
      " [28131.3419134   -181.86330058]\n",
      " [28070.5622315   -182.8460842 ]]\n",
      "prediction is:\n",
      " [[ 3.1340493e+08 -5.1587898e+08]\n",
      " [ 3.1336470e+08 -5.1583891e+08]\n",
      " [ 3.1335411e+08 -5.1581251e+08]\n",
      " [ 3.1336070e+08 -5.1582605e+08]\n",
      " [ 3.1335078e+08 -5.1581382e+08]]\n"
     ]
    },
    {
     "name": "stderr",
     "output_type": "stream",
     "text": [
      "\r",
      "  0%|          | 1/300 [00:02<11:29,  2.31s/it]"
     ]
    },
    {
     "name": "stdout",
     "output_type": "stream",
     "text": [
      "loss is: 1.8213292e+17\n"
     ]
    },
    {
     "name": "stderr",
     "output_type": "stream",
     "text": [
      "  3%|▎         | 10/300 [00:04<01:40,  2.89it/s]"
     ]
    },
    {
     "name": "stdout",
     "output_type": "stream",
     "text": [
      "real los is:\n",
      " [[28188.0464701   -182.35475358]\n",
      " [28188.1164466   -182.17999038]\n",
      " [28190.0104299   -182.08000518]\n",
      " [28131.3419134   -181.86330058]\n",
      " [28070.5622315   -182.8460842 ]]\n",
      "prediction is:\n",
      " [[-6840682.   8740871. ]\n",
      " [-6843827.   8745894. ]\n",
      " [-6833653.5  8731732. ]\n",
      " [-6832973.   8730998. ]\n",
      " [-6833888.   8731822. ]]\n"
     ]
    },
    {
     "name": "stderr",
     "output_type": "stream",
     "text": [
      "\r",
      "  4%|▎         | 11/300 [00:05<01:51,  2.59it/s]"
     ]
    },
    {
     "name": "stdout",
     "output_type": "stream",
     "text": [
      "loss is: 61727966000000.0\n"
     ]
    },
    {
     "name": "stderr",
     "output_type": "stream",
     "text": [
      "  7%|▋         | 20/300 [00:07<01:14,  3.75it/s]"
     ]
    },
    {
     "name": "stdout",
     "output_type": "stream",
     "text": [
      "real los is:\n",
      " [[28188.0464701   -182.35475358]\n",
      " [28188.1164466   -182.17999038]\n",
      " [28190.0104299   -182.08000518]\n",
      " [28131.3419134   -181.86330058]\n",
      " [28070.5622315   -182.8460842 ]]\n",
      "prediction is:\n",
      " [[304225.22 423865.94]\n",
      " [304224.97 423866.72]\n",
      " [304225.16 423865.88]\n",
      " [304225.06 423866.16]\n",
      " [304225.03 423866.12]]\n"
     ]
    },
    {
     "name": "stderr",
     "output_type": "stream",
     "text": [
      "\r",
      "  7%|▋         | 21/300 [00:08<01:32,  3.02it/s]"
     ]
    },
    {
     "name": "stdout",
     "output_type": "stream",
     "text": [
      "loss is: 128016270000.0\n"
     ]
    },
    {
     "name": "stderr",
     "output_type": "stream",
     "text": [
      " 10%|█         | 30/300 [00:10<01:15,  3.57it/s]"
     ]
    },
    {
     "name": "stdout",
     "output_type": "stream",
     "text": [
      "real los is:\n",
      " [[28188.0464701   -182.35475358]\n",
      " [28188.1164466   -182.17999038]\n",
      " [28190.0104299   -182.08000518]\n",
      " [28131.3419134   -181.86330058]\n",
      " [28070.5622315   -182.8460842 ]]\n",
      "prediction is:\n",
      " [[ 71471.74  -59498.254]\n",
      " [ 71471.74  -59498.254]\n",
      " [ 71471.74  -59498.254]\n",
      " [ 71471.74  -59498.254]\n",
      " [ 71471.74  -59498.254]]\n"
     ]
    },
    {
     "name": "stderr",
     "output_type": "stream",
     "text": [
      "\r",
      " 10%|█         | 31/300 [00:10<01:31,  2.94it/s]"
     ]
    },
    {
     "name": "stdout",
     "output_type": "stream",
     "text": [
      "loss is: 2697424400.0\n"
     ]
    },
    {
     "name": "stderr",
     "output_type": "stream",
     "text": [
      " 13%|█▎        | 40/300 [00:13<01:09,  3.75it/s]"
     ]
    },
    {
     "name": "stdout",
     "output_type": "stream",
     "text": [
      "real los is:\n",
      " [[28188.0464701   -182.35475358]\n",
      " [28188.1164466   -182.17999038]\n",
      " [28190.0104299   -182.08000518]\n",
      " [28131.3419134   -181.86330058]\n",
      " [28070.5622315   -182.8460842 ]]\n",
      "prediction is:\n",
      " [[1.0937501 0.3738565]\n",
      " [1.0937501 0.3738565]\n",
      " [1.0937501 0.3738565]\n",
      " [1.0937501 0.3738565]\n",
      " [1.0937501 0.3738565]]\n"
     ]
    },
    {
     "name": "stderr",
     "output_type": "stream",
     "text": [
      "\r",
      " 14%|█▎        | 41/300 [00:13<01:25,  3.02it/s]"
     ]
    },
    {
     "name": "stdout",
     "output_type": "stream",
     "text": [
      "loss is: 396300030.0\n"
     ]
    },
    {
     "name": "stderr",
     "output_type": "stream",
     "text": [
      " 17%|█▋        | 50/300 [00:16<01:07,  3.72it/s]"
     ]
    },
    {
     "name": "stdout",
     "output_type": "stream",
     "text": [
      "real los is:\n",
      " [[28188.0464701   -182.35475358]\n",
      " [28188.1164466   -182.17999038]\n",
      " [28190.0104299   -182.08000518]\n",
      " [28131.3419134   -181.86330058]\n",
      " [28070.5622315   -182.8460842 ]]\n",
      "prediction is:\n",
      " [[ 4.3703284 -1.901963 ]\n",
      " [ 4.3703284 -1.901963 ]\n",
      " [ 4.3703284 -1.901963 ]\n",
      " [ 4.3703284 -1.901963 ]\n",
      " [ 4.3703284 -1.901963 ]]\n"
     ]
    },
    {
     "name": "stderr",
     "output_type": "stream",
     "text": [
      "\r",
      " 17%|█▋        | 51/300 [00:16<01:22,  3.01it/s]"
     ]
    },
    {
     "name": "stdout",
     "output_type": "stream",
     "text": [
      "loss is: 396207360.0\n"
     ]
    },
    {
     "name": "stderr",
     "output_type": "stream",
     "text": [
      " 20%|██        | 60/300 [00:19<01:03,  3.76it/s]"
     ]
    },
    {
     "name": "stdout",
     "output_type": "stream",
     "text": [
      "real los is:\n",
      " [[28188.0464701   -182.35475358]\n",
      " [28188.1164466   -182.17999038]\n",
      " [28190.0104299   -182.08000518]\n",
      " [28131.3419134   -181.86330058]\n",
      " [28070.5622315   -182.8460842 ]]\n",
      "prediction is:\n",
      " [[10.093521  -4.5074983]\n",
      " [10.093521  -4.5074983]\n",
      " [10.093521  -4.5074983]\n",
      " [10.093521  -4.5074983]\n",
      " [10.093521  -4.5074983]]\n"
     ]
    },
    {
     "name": "stderr",
     "output_type": "stream",
     "text": [
      "\r",
      " 20%|██        | 61/300 [00:19<01:18,  3.03it/s]"
     ]
    },
    {
     "name": "stdout",
     "output_type": "stream",
     "text": [
      "loss is: 396045820.0\n"
     ]
    },
    {
     "name": "stderr",
     "output_type": "stream",
     "text": [
      " 23%|██▎       | 70/300 [00:22<01:01,  3.73it/s]"
     ]
    },
    {
     "name": "stdout",
     "output_type": "stream",
     "text": [
      "real los is:\n",
      " [[28188.0464701   -182.35475358]\n",
      " [28188.1164466   -182.17999038]\n",
      " [28190.0104299   -182.08000518]\n",
      " [28131.3419134   -181.86330058]\n",
      " [28070.5622315   -182.8460842 ]]\n",
      "prediction is:\n",
      " [[19.305641 -7.785362]\n",
      " [19.305641 -7.785362]\n",
      " [19.305641 -7.785362]\n",
      " [19.305641 -7.785362]\n",
      " [19.305641 -7.785362]]\n"
     ]
    },
    {
     "name": "stderr",
     "output_type": "stream",
     "text": [
      "\r",
      " 24%|██▎       | 71/300 [00:22<01:15,  3.01it/s]"
     ]
    },
    {
     "name": "stdout",
     "output_type": "stream",
     "text": [
      "loss is: 395786050.0\n"
     ]
    },
    {
     "name": "stderr",
     "output_type": "stream",
     "text": [
      " 27%|██▋       | 80/300 [00:24<00:57,  3.79it/s]"
     ]
    },
    {
     "name": "stdout",
     "output_type": "stream",
     "text": [
      "real los is:\n",
      " [[28188.0464701   -182.35475358]\n",
      " [28188.1164466   -182.17999038]\n",
      " [28190.0104299   -182.08000518]\n",
      " [28131.3419134   -181.86330058]\n",
      " [28070.5622315   -182.8460842 ]]\n",
      "prediction is:\n",
      " [[ 33.79249  -11.892795]\n",
      " [ 33.79249  -11.892795]\n",
      " [ 33.79249  -11.892795]\n",
      " [ 33.79249  -11.892795]\n",
      " [ 33.79249  -11.892795]]\n"
     ]
    },
    {
     "name": "stderr",
     "output_type": "stream",
     "text": [
      "\r",
      " 27%|██▋       | 81/300 [00:25<01:14,  2.95it/s]"
     ]
    },
    {
     "name": "stdout",
     "output_type": "stream",
     "text": [
      "loss is: 395377860.0\n"
     ]
    },
    {
     "name": "stderr",
     "output_type": "stream",
     "text": [
      " 30%|███       | 90/300 [00:27<00:57,  3.67it/s]"
     ]
    },
    {
     "name": "stdout",
     "output_type": "stream",
     "text": [
      "real los is:\n",
      " [[28188.0464701   -182.35475358]\n",
      " [28188.1164466   -182.17999038]\n",
      " [28190.0104299   -182.08000518]\n",
      " [28131.3419134   -181.86330058]\n",
      " [28070.5622315   -182.8460842 ]]\n",
      "prediction is:\n",
      " [[ 59.713356 -17.371662]\n",
      " [ 59.713356 -17.371662]\n",
      " [ 59.713356 -17.371662]\n",
      " [ 59.713356 -17.371662]\n",
      " [ 59.713356 -17.371662]]\n"
     ]
    },
    {
     "name": "stderr",
     "output_type": "stream",
     "text": [
      "\r",
      " 30%|███       | 91/300 [00:28<01:10,  2.96it/s]"
     ]
    },
    {
     "name": "stdout",
     "output_type": "stream",
     "text": [
      "loss is: 394648400.0\n"
     ]
    },
    {
     "name": "stderr",
     "output_type": "stream",
     "text": [
      " 33%|███▎      | 100/300 [00:30<00:53,  3.75it/s]"
     ]
    },
    {
     "name": "stdout",
     "output_type": "stream",
     "text": [
      "real los is:\n",
      " [[28188.0464701   -182.35475358]\n",
      " [28188.1164466   -182.17999038]\n",
      " [28190.0104299   -182.08000518]\n",
      " [28131.3419134   -181.86330058]\n",
      " [28070.5622315   -182.8460842 ]]\n",
      "prediction is:\n",
      " [[111.5667   -31.614752]\n",
      " [111.5667   -31.614752]\n",
      " [111.5667   -31.614752]\n",
      " [111.5667   -31.614752]\n",
      " [111.5667   -31.614752]]\n"
     ]
    },
    {
     "name": "stderr",
     "output_type": "stream",
     "text": [
      "\r",
      " 34%|███▎      | 101/300 [00:31<01:05,  3.03it/s]"
     ]
    },
    {
     "name": "stdout",
     "output_type": "stream",
     "text": [
      "loss is: 393190720.0\n"
     ]
    },
    {
     "name": "stderr",
     "output_type": "stream",
     "text": [
      " 37%|███▋      | 110/300 [00:33<00:50,  3.80it/s]"
     ]
    },
    {
     "name": "stdout",
     "output_type": "stream",
     "text": [
      "real los is:\n",
      " [[28188.0464701   -182.35475358]\n",
      " [28188.1164466   -182.17999038]\n",
      " [28190.0104299   -182.08000518]\n",
      " [28131.3419134   -181.86330058]\n",
      " [28070.5622315   -182.8460842 ]]\n",
      "prediction is:\n",
      " [[212.84464 -67.09728]\n",
      " [212.84464 -67.09728]\n",
      " [212.84464 -67.09728]\n",
      " [212.84464 -67.09728]\n",
      " [212.84464 -67.09728]]\n"
     ]
    },
    {
     "name": "stderr",
     "output_type": "stream",
     "text": [
      "\r",
      " 37%|███▋      | 111/300 [00:33<01:02,  3.05it/s]"
     ]
    },
    {
     "name": "stdout",
     "output_type": "stream",
     "text": [
      "loss is: 390351100.0\n"
     ]
    },
    {
     "name": "stderr",
     "output_type": "stream",
     "text": [
      " 40%|████      | 120/300 [00:36<00:47,  3.80it/s]"
     ]
    },
    {
     "name": "stdout",
     "output_type": "stream",
     "text": [
      "real los is:\n",
      " [[28188.0464701   -182.35475358]\n",
      " [28188.1164466   -182.17999038]\n",
      " [28190.0104299   -182.08000518]\n",
      " [28131.3419134   -181.86330058]\n",
      " [28070.5622315   -182.8460842 ]]\n",
      "prediction is:\n",
      " [[ 391.9052  -136.65607]\n",
      " [ 391.9052  -136.65607]\n",
      " [ 391.9052  -136.65607]\n",
      " [ 391.9052  -136.65607]\n",
      " [ 391.9052  -136.65607]]\n"
     ]
    },
    {
     "name": "stderr",
     "output_type": "stream",
     "text": [
      "\r",
      " 40%|████      | 121/300 [00:36<00:58,  3.05it/s]"
     ]
    },
    {
     "name": "stdout",
     "output_type": "stream",
     "text": [
      "loss is: 385358430.0\n"
     ]
    },
    {
     "name": "stderr",
     "output_type": "stream",
     "text": [
      " 43%|████▎     | 130/300 [00:39<00:44,  3.80it/s]"
     ]
    },
    {
     "name": "stdout",
     "output_type": "stream",
     "text": [
      "real los is:\n",
      " [[28188.0464701   -182.35475358]\n",
      " [28188.1164466   -182.17999038]\n",
      " [28190.0104299   -182.08000518]\n",
      " [28131.3419134   -181.86330058]\n",
      " [28070.5622315   -182.8460842 ]]\n",
      "prediction is:\n",
      " [[ 678.3805  -216.55624]\n",
      " [ 678.3805  -216.55624]\n",
      " [ 678.3805  -216.55624]\n",
      " [ 678.3805  -216.55624]\n",
      " [ 678.3805  -216.55624]]\n"
     ]
    },
    {
     "name": "stderr",
     "output_type": "stream",
     "text": [
      "\r",
      " 44%|████▎     | 131/300 [00:39<00:55,  3.04it/s]"
     ]
    },
    {
     "name": "stdout",
     "output_type": "stream",
     "text": [
      "loss is: 377445950.0\n"
     ]
    },
    {
     "name": "stderr",
     "output_type": "stream",
     "text": [
      " 47%|████▋     | 140/300 [00:42<00:42,  3.75it/s]"
     ]
    },
    {
     "name": "stdout",
     "output_type": "stream",
     "text": [
      "real los is:\n",
      " [[28188.0464701   -182.35475358]\n",
      " [28188.1164466   -182.17999038]\n",
      " [28190.0104299   -182.08000518]\n",
      " [28131.3419134   -181.86330058]\n",
      " [28070.5622315   -182.8460842 ]]\n",
      "prediction is:\n",
      " [[1111.3029  -269.26086]\n",
      " [1111.3029  -269.26086]\n",
      " [1111.3029  -269.26086]\n",
      " [1111.3029  -269.26086]\n",
      " [1111.3029  -269.26086]]\n"
     ]
    },
    {
     "name": "stderr",
     "output_type": "stream",
     "text": [
      "\r",
      " 47%|████▋     | 141/300 [00:42<00:53,  2.95it/s]"
     ]
    },
    {
     "name": "stdout",
     "output_type": "stream",
     "text": [
      "loss is: 365648220.0\n"
     ]
    },
    {
     "name": "stderr",
     "output_type": "stream",
     "text": [
      " 50%|█████     | 150/300 [00:44<00:40,  3.70it/s]"
     ]
    },
    {
     "name": "stdout",
     "output_type": "stream",
     "text": [
      "real los is:\n",
      " [[28188.0464701   -182.35475358]\n",
      " [28188.1164466   -182.17999038]\n",
      " [28190.0104299   -182.08000518]\n",
      " [28131.3419134   -181.86330058]\n",
      " [28070.5622315   -182.8460842 ]]\n",
      "prediction is:\n",
      " [[1731.3848 -275.1234]\n",
      " [1731.3848 -275.1234]\n",
      " [1731.3848 -275.1234]\n",
      " [1731.3848 -275.1234]\n",
      " [1731.3848 -275.1234]]\n"
     ]
    },
    {
     "name": "stderr",
     "output_type": "stream",
     "text": [
      "\r",
      " 50%|█████     | 151/300 [00:45<00:49,  3.00it/s]"
     ]
    },
    {
     "name": "stdout",
     "output_type": "stream",
     "text": [
      "loss is: 349072580.0\n"
     ]
    },
    {
     "name": "stderr",
     "output_type": "stream",
     "text": [
      " 53%|█████▎    | 160/300 [00:47<00:37,  3.76it/s]"
     ]
    },
    {
     "name": "stdout",
     "output_type": "stream",
     "text": [
      "real los is:\n",
      " [[28188.0464701   -182.35475358]\n",
      " [28188.1164466   -182.17999038]\n",
      " [28190.0104299   -182.08000518]\n",
      " [28131.3419134   -181.86330058]\n",
      " [28070.5622315   -182.8460842 ]]\n",
      "prediction is:\n",
      " [[2567.939  -230.7748]\n",
      " [2567.939  -230.7748]\n",
      " [2567.939  -230.7748]\n",
      " [2567.939  -230.7748]\n",
      " [2567.939  -230.7748]]\n"
     ]
    },
    {
     "name": "stderr",
     "output_type": "stream",
     "text": [
      "\r",
      " 54%|█████▎    | 161/300 [00:48<00:47,  2.94it/s]"
     ]
    },
    {
     "name": "stdout",
     "output_type": "stream",
     "text": [
      "loss is: 327315700.0\n"
     ]
    },
    {
     "name": "stderr",
     "output_type": "stream",
     "text": [
      " 57%|█████▋    | 170/300 [00:50<00:34,  3.75it/s]"
     ]
    },
    {
     "name": "stdout",
     "output_type": "stream",
     "text": [
      "real los is:\n",
      " [[28188.0464701   -182.35475358]\n",
      " [28188.1164466   -182.17999038]\n",
      " [28190.0104299   -182.08000518]\n",
      " [28131.3419134   -181.86330058]\n",
      " [28070.5622315   -182.8460842 ]]\n",
      "prediction is:\n",
      " [[3658.474   -164.61763]\n",
      " [3658.474   -164.61763]\n",
      " [3658.474   -164.61763]\n",
      " [3658.474   -164.61763]\n",
      " [3658.474   -164.61763]]\n"
     ]
    },
    {
     "name": "stderr",
     "output_type": "stream",
     "text": [
      "\r",
      " 57%|█████▋    | 171/300 [00:51<00:42,  3.03it/s]"
     ]
    },
    {
     "name": "stdout",
     "output_type": "stream",
     "text": [
      "loss is: 300007230.0\n"
     ]
    },
    {
     "name": "stderr",
     "output_type": "stream",
     "text": [
      " 60%|██████    | 180/300 [00:53<00:32,  3.72it/s]"
     ]
    },
    {
     "name": "stdout",
     "output_type": "stream",
     "text": [
      "real los is:\n",
      " [[28188.0464701   -182.35475358]\n",
      " [28188.1164466   -182.17999038]\n",
      " [28190.0104299   -182.08000518]\n",
      " [28131.3419134   -181.86330058]\n",
      " [28070.5622315   -182.8460842 ]]\n",
      "prediction is:\n",
      " [[5003.06    -192.67908]\n",
      " [5003.06    -192.67908]\n",
      " [5003.06    -192.67908]\n",
      " [5003.06    -192.67908]\n",
      " [5003.06    -192.67908]]\n"
     ]
    },
    {
     "name": "stderr",
     "output_type": "stream",
     "text": [
      "\r",
      " 60%|██████    | 181/300 [00:54<00:40,  2.92it/s]"
     ]
    },
    {
     "name": "stdout",
     "output_type": "stream",
     "text": [
      "loss is: 267975260.0\n"
     ]
    },
    {
     "name": "stderr",
     "output_type": "stream",
     "text": [
      " 63%|██████▎   | 190/300 [00:56<00:29,  3.75it/s]"
     ]
    },
    {
     "name": "stdout",
     "output_type": "stream",
     "text": [
      "real los is:\n",
      " [[28188.0464701   -182.35475358]\n",
      " [28188.1164466   -182.17999038]\n",
      " [28190.0104299   -182.08000518]\n",
      " [28131.3419134   -181.86330058]\n",
      " [28070.5622315   -182.8460842 ]]\n",
      "prediction is:\n",
      " [[6581.4307  -150.98575]\n",
      " [6581.4307  -150.98575]\n",
      " [6581.4307  -150.98575]\n",
      " [6581.4307  -150.98575]\n",
      " [6581.4307  -150.98575]]\n"
     ]
    },
    {
     "name": "stderr",
     "output_type": "stream",
     "text": [
      "\r",
      " 64%|██████▎   | 191/300 [00:57<00:36,  3.02it/s]"
     ]
    },
    {
     "name": "stdout",
     "output_type": "stream",
     "text": [
      "loss is: 232681180.0\n"
     ]
    },
    {
     "name": "stderr",
     "output_type": "stream",
     "text": [
      " 67%|██████▋   | 200/300 [00:59<00:26,  3.75it/s]"
     ]
    },
    {
     "name": "stdout",
     "output_type": "stream",
     "text": [
      "real los is:\n",
      " [[28188.0464701   -182.35475358]\n",
      " [28188.1164466   -182.17999038]\n",
      " [28190.0104299   -182.08000518]\n",
      " [28131.3419134   -181.86330058]\n",
      " [28070.5622315   -182.8460842 ]]\n",
      "prediction is:\n",
      " [[8366.918  -308.4435]\n",
      " [8366.918  -308.4435]\n",
      " [8366.918  -308.4435]\n",
      " [8366.918  -308.4435]\n",
      " [8366.918  -308.4435]]\n"
     ]
    },
    {
     "name": "stderr",
     "output_type": "stream",
     "text": [
      "\r",
      " 67%|██████▋   | 201/300 [00:59<00:33,  2.95it/s]"
     ]
    },
    {
     "name": "stdout",
     "output_type": "stream",
     "text": [
      "loss is: 195765780.0\n"
     ]
    },
    {
     "name": "stderr",
     "output_type": "stream",
     "text": [
      " 70%|███████   | 210/300 [01:02<00:23,  3.76it/s]"
     ]
    },
    {
     "name": "stdout",
     "output_type": "stream",
     "text": [
      "real los is:\n",
      " [[28188.0464701   -182.35475358]\n",
      " [28188.1164466   -182.17999038]\n",
      " [28190.0104299   -182.08000518]\n",
      " [28131.3419134   -181.86330058]\n",
      " [28070.5622315   -182.8460842 ]]\n",
      "prediction is:\n",
      " [[10438.717    -278.93677]\n",
      " [10438.717    -278.93677]\n",
      " [10438.717    -278.93677]\n",
      " [10438.717    -278.93677]\n",
      " [10438.717    -278.93677]]\n"
     ]
    },
    {
     "name": "stderr",
     "output_type": "stream",
     "text": [
      "\r",
      " 70%|███████   | 211/300 [01:02<00:29,  3.03it/s]"
     ]
    },
    {
     "name": "stdout",
     "output_type": "stream",
     "text": [
      "loss is: 156914610.0\n"
     ]
    },
    {
     "name": "stderr",
     "output_type": "stream",
     "text": [
      " 73%|███████▎  | 220/300 [01:05<00:21,  3.74it/s]"
     ]
    },
    {
     "name": "stdout",
     "output_type": "stream",
     "text": [
      "real los is:\n",
      " [[28188.0464701   -182.35475358]\n",
      " [28188.1164466   -182.17999038]\n",
      " [28190.0104299   -182.08000518]\n",
      " [28131.3419134   -181.86330058]\n",
      " [28070.5622315   -182.8460842 ]]\n",
      "prediction is:\n",
      " [[12669.966    -325.29138]\n",
      " [12669.966    -325.29138]\n",
      " [12669.966    -325.29138]\n",
      " [12669.966    -325.29138]\n",
      " [12669.966    -325.29138]]\n"
     ]
    },
    {
     "name": "stderr",
     "output_type": "stream",
     "text": [
      "\r",
      " 74%|███████▎  | 221/300 [01:05<00:26,  2.96it/s]"
     ]
    },
    {
     "name": "stdout",
     "output_type": "stream",
     "text": [
      "loss is: 119883050.0\n"
     ]
    },
    {
     "name": "stderr",
     "output_type": "stream",
     "text": [
      " 77%|███████▋  | 230/300 [01:08<00:18,  3.79it/s]"
     ]
    },
    {
     "name": "stdout",
     "output_type": "stream",
     "text": [
      "real los is:\n",
      " [[28188.0464701   -182.35475358]\n",
      " [28188.1164466   -182.17999038]\n",
      " [28190.0104299   -182.08000518]\n",
      " [28131.3419134   -181.86330058]\n",
      " [28070.5622315   -182.8460842 ]]\n",
      "prediction is:\n",
      " [[15001.426    -278.86902]\n",
      " [15001.426    -278.86902]\n",
      " [15001.426    -278.86902]\n",
      " [15001.426    -278.86902]\n",
      " [15001.426    -278.86902]]\n"
     ]
    },
    {
     "name": "stderr",
     "output_type": "stream",
     "text": [
      "\r",
      " 77%|███████▋  | 231/300 [01:08<00:22,  3.03it/s]"
     ]
    },
    {
     "name": "stdout",
     "output_type": "stream",
     "text": [
      "loss is: 86495820.0\n"
     ]
    },
    {
     "name": "stderr",
     "output_type": "stream",
     "text": [
      " 80%|████████  | 240/300 [01:10<00:16,  3.66it/s]"
     ]
    },
    {
     "name": "stdout",
     "output_type": "stream",
     "text": [
      "real los is:\n",
      " [[28188.0464701   -182.35475358]\n",
      " [28188.1164466   -182.17999038]\n",
      " [28190.0104299   -182.08000518]\n",
      " [28131.3419134   -181.86330058]\n",
      " [28070.5622315   -182.8460842 ]]\n",
      "prediction is:\n",
      " [[17238.771    -194.14241]\n",
      " [17238.771    -194.14241]\n",
      " [17238.771    -194.14241]\n",
      " [17238.771    -194.14241]\n",
      " [17238.771    -194.14241]]\n"
     ]
    },
    {
     "name": "stderr",
     "output_type": "stream",
     "text": [
      "\r",
      " 80%|████████  | 241/300 [01:11<00:19,  2.97it/s]"
     ]
    },
    {
     "name": "stdout",
     "output_type": "stream",
     "text": [
      "loss is: 59568090.0\n"
     ]
    },
    {
     "name": "stderr",
     "output_type": "stream",
     "text": [
      " 83%|████████▎ | 250/300 [01:13<00:13,  3.77it/s]"
     ]
    },
    {
     "name": "stdout",
     "output_type": "stream",
     "text": [
      "real los is:\n",
      " [[28188.0464701   -182.35475358]\n",
      " [28188.1164466   -182.17999038]\n",
      " [28190.0104299   -182.08000518]\n",
      " [28131.3419134   -181.86330058]\n",
      " [28070.5622315   -182.8460842 ]]\n",
      "prediction is:\n",
      " [[19349.44     -201.81847]\n",
      " [19349.44     -201.81847]\n",
      " [19349.44     -201.81847]\n",
      " [19349.44     -201.81847]\n",
      " [19349.44     -201.81847]]\n"
     ]
    },
    {
     "name": "stderr",
     "output_type": "stream",
     "text": [
      "\r",
      " 84%|████████▎ | 251/300 [01:14<00:16,  3.04it/s]"
     ]
    },
    {
     "name": "stdout",
     "output_type": "stream",
     "text": [
      "loss is: 38758056.0\n"
     ]
    },
    {
     "name": "stderr",
     "output_type": "stream",
     "text": [
      " 87%|████████▋ | 260/300 [01:16<00:10,  3.73it/s]"
     ]
    },
    {
     "name": "stdout",
     "output_type": "stream",
     "text": [
      "real los is:\n",
      " [[28188.0464701   -182.35475358]\n",
      " [28188.1164466   -182.17999038]\n",
      " [28190.0104299   -182.08000518]\n",
      " [28131.3419134   -181.86330058]\n",
      " [28070.5622315   -182.8460842 ]]\n",
      "prediction is:\n",
      " [[21063.555   -436.0299]\n",
      " [21063.555   -436.0299]\n",
      " [21063.555   -436.0299]\n",
      " [21063.555   -436.0299]\n",
      " [21063.555   -436.0299]]\n"
     ]
    },
    {
     "name": "stderr",
     "output_type": "stream",
     "text": [
      "\r",
      " 87%|████████▋ | 261/300 [01:17<00:12,  3.01it/s]"
     ]
    },
    {
     "name": "stdout",
     "output_type": "stream",
     "text": [
      "loss is: 25167792.0\n"
     ]
    },
    {
     "name": "stderr",
     "output_type": "stream",
     "text": [
      " 90%|█████████ | 270/300 [01:19<00:07,  3.79it/s]"
     ]
    },
    {
     "name": "stdout",
     "output_type": "stream",
     "text": [
      "real los is:\n",
      " [[28188.0464701   -182.35475358]\n",
      " [28188.1164466   -182.17999038]\n",
      " [28190.0104299   -182.08000518]\n",
      " [28131.3419134   -181.86330058]\n",
      " [28070.5622315   -182.8460842 ]]\n",
      "prediction is:\n",
      " [[22253.096    -412.50146]\n",
      " [22253.096    -412.50146]\n",
      " [22253.096    -412.50146]\n",
      " [22253.096    -412.50146]\n",
      " [22253.096    -412.50146]]\n"
     ]
    },
    {
     "name": "stderr",
     "output_type": "stream",
     "text": [
      "\r",
      " 90%|█████████ | 271/300 [01:19<00:09,  3.04it/s]"
     ]
    },
    {
     "name": "stdout",
     "output_type": "stream",
     "text": [
      "loss is: 17435682.0\n"
     ]
    },
    {
     "name": "stderr",
     "output_type": "stream",
     "text": [
      " 93%|█████████▎| 280/300 [01:22<00:05,  3.79it/s]"
     ]
    },
    {
     "name": "stdout",
     "output_type": "stream",
     "text": [
      "real los is:\n",
      " [[28188.0464701   -182.35475358]\n",
      " [28188.1164466   -182.17999038]\n",
      " [28190.0104299   -182.08000518]\n",
      " [28131.3419134   -181.86330058]\n",
      " [28070.5622315   -182.8460842 ]]\n",
      "prediction is:\n",
      " [[22893.566    -232.22772]\n",
      " [22893.566    -232.22772]\n",
      " [22893.566    -232.22772]\n",
      " [22893.566    -232.22772]\n",
      " [22893.566    -232.22772]]\n"
     ]
    },
    {
     "name": "stderr",
     "output_type": "stream",
     "text": [
      "\r",
      " 94%|█████████▎| 281/300 [01:22<00:06,  3.05it/s]"
     ]
    },
    {
     "name": "stdout",
     "output_type": "stream",
     "text": [
      "loss is: 13836416.0\n"
     ]
    },
    {
     "name": "stderr",
     "output_type": "stream",
     "text": [
      " 97%|█████████▋| 290/300 [01:25<00:02,  3.72it/s]"
     ]
    },
    {
     "name": "stdout",
     "output_type": "stream",
     "text": [
      "real los is:\n",
      " [[28188.0464701   -182.35475358]\n",
      " [28188.1164466   -182.17999038]\n",
      " [28190.0104299   -182.08000518]\n",
      " [28131.3419134   -181.86330058]\n",
      " [28070.5622315   -182.8460842 ]]\n",
      "prediction is:\n",
      " [[23209.03     -389.21893]\n",
      " [23209.03     -389.21893]\n",
      " [23209.03     -389.21893]\n",
      " [23209.03     -389.21893]\n",
      " [23209.03     -389.21893]]\n"
     ]
    },
    {
     "name": "stderr",
     "output_type": "stream",
     "text": [
      "\r",
      " 97%|█████████▋| 291/300 [01:25<00:03,  2.99it/s]"
     ]
    },
    {
     "name": "stdout",
     "output_type": "stream",
     "text": [
      "loss is: 12246991.0\n"
     ]
    },
    {
     "name": "stderr",
     "output_type": "stream",
     "text": [
      "100%|██████████| 300/300 [01:28<00:00,  3.73it/s]\n"
     ]
    }
   ],
   "source": [
    "with tf.name_scope(\"input\"):\n",
    "    input_image = tf.placeholder(\"float\", [None, 896,896,6],name='input_image')\n",
    "    y_ = tf.placeholder(\"float\", [None, 2],name='y_') \n",
    "\n",
    "def weight_variable(shape):\n",
    "    initial = tf.truncated_normal(shape, stddev=0.1)\n",
    "    return tf.Variable(initial)\n",
    "\n",
    "def bias_variable(shape):\n",
    "    initial = tf.constant(0.1, shape = shape)\n",
    "    return tf.Variable(initial)\n",
    "\n",
    "def conv2d(x, W):\n",
    "    return tf.nn.conv2d(x, W, strides=[1, 1, 1, 1], padding=\"SAME\")\n",
    "\n",
    "def max_pool_2x2(x):\n",
    "    return tf.nn.max_pool(x, ksize=[1, 2, 2, 1], strides=[1, 2, 2, 1], padding=\"SAME\")\n",
    "\n",
    "W_conv0 = weight_variable([7, 7, 6, 64])\n",
    "b_conv0 = bias_variable([64])\n",
    "\n",
    "h_conv0 = tf.nn.relu(tf.nn.conv2d(input_image, W_conv0, strides=[1,2,2,1], padding=\"SAME\") + b_conv0)\n",
    "h_pool0 = max_pool_2x2(h_conv0)   #输出变成224*224*64 [None,224,224,64]\n",
    "\n",
    "# #第一层卷积层\n",
    "# #参数的前两维为卷积核的维度，第三个参数为当前层的深度，第四个为输出到层的深度\n",
    "\n",
    "W_conv1 = weight_variable([7, 7, 64, 128])\n",
    "b_conv1 = bias_variable([128])\n",
    "\n",
    "h_conv1 = tf.nn.relu(conv2d(h_pool0, W_conv1) + b_conv1)\n",
    "# h_conv1 = tf.nn.relu(tf.nn.conv2d(input_image, W_conv1, strides=[1,2,2,1], padding=\"SAME\") + b_conv1)\n",
    "h_pool1 = max_pool_2x2(h_conv1)   #输出变成112*112*64   [None,112,112,64]\n",
    "\n",
    "#第二层卷积层\n",
    "W_conv2 = weight_variable([3, 3, 128, 192])\n",
    "b_conv2 = bias_variable([192])\n",
    "\n",
    "h_conv2 = tf.nn.relu(conv2d(h_pool1, W_conv2) + b_conv2)\n",
    "h_pool2 = max_pool_2x2(h_conv2)  #输出变为56*56*192\n",
    "\n",
    "\n",
    "#第三层卷积层\n",
    "W_conv3 = weight_variable([3, 3, 192, 128])\n",
    "b_conv3 = bias_variable([128])\n",
    "\n",
    "h_conv3 = tf.nn.relu(conv2d(h_pool2, W_conv3) + b_conv3)\n",
    "h_pool3 = max_pool_2x2(h_conv3)   #输出为28*28*128\n",
    "\n",
    "\n",
    "#第四层卷积层\n",
    "W_conv4 = weight_variable([3, 3, 128, 64])\n",
    "b_conv4 = bias_variable([64])\n",
    "\n",
    "h_conv4 = tf.nn.relu(conv2d(h_pool3, W_conv4) + b_conv4)\n",
    "h_pool4 = max_pool_2x2(h_conv4)   #输出变为14*14*64\n",
    "\n",
    "\n",
    "#密集连接层1\n",
    "W_fc1 = weight_variable([14*14*64, 1024])\n",
    "b_fc1 = bias_variable([1024])\n",
    "\n",
    "h_pool2_flat = tf.reshape(h_pool4, [-1, 14*14*64])\n",
    "h_fc1 = tf.nn.relu(tf.matmul(h_pool2_flat, W_fc1) + b_fc1)   #输出为96*1024\n",
    "\n",
    "keep_prob = tf.placeholder(\"float\")\n",
    "#relu函数作用是求出max(h_fc1,0)\n",
    "h_fc1_drop1 = tf.nn.dropout(h_fc1, keep_prob)   #输出为96*1024\n",
    "\n",
    "\n",
    "#密集连接层2\n",
    "W_fc2 = weight_variable([1024, 512])\n",
    "b_fc2 = bias_variable([512])\n",
    "\n",
    "h_fc2 = tf.nn.relu(tf.matmul(h_fc1_drop1, W_fc2) + b_fc2)\n",
    "\n",
    "#relu函数作用是求出max(h_fc1,0)\n",
    "h_fc1_drop2 = tf.nn.dropout(h_fc2, keep_prob)\n",
    "\n",
    "#输出层softmax层\n",
    "W_fc3 = weight_variable([512, 2])\n",
    "\n",
    "y_conv = tf.matmul(h_fc1_drop2, W_fc3)\n",
    "# tf.summary.histogram('y_conv',y_conv)\n",
    "\n",
    "# batch_x = images[1:3]\n",
    "# batch_y = labels[1:3]\n",
    "# with tf.Session() as sess:\n",
    "#     sess.run(tf.global_variables_initializer())\n",
    "#     print(\"shape of outputs is:\",sess.run(tf.shape(y_conv),feed_dict={input_image:batch_x, \n",
    "#                                                                            y_:batch_y,keep_prob:1.0}))\n",
    "#         print(\"learning rate is :\",sess.run(learning_rate,feed_dict = {global_step:i}))\n",
    "\n",
    "\n",
    "learning_rate = 0.01\n",
    "steps_per_decay = 1000\n",
    "decay_factor = 0.9\n",
    " \n",
    "global_step = tf.Variable(tf.constant(0))\n",
    "# learning_rate = tf.train.exponential_decay(learning_rate = starter_learning_rate,\n",
    "#                                            global_step = global_step,\n",
    "#                                            decay_steps = steps_per_decay,\n",
    "#                                            decay_rate = decay_factor,\n",
    "#                                            staircase = True\n",
    "#                                            )\n",
    "\n",
    "# with tf.Session() as sess:\n",
    "#     sess.run(tf.global_variables_initializer())\n",
    "#     for i in range(1000):\n",
    "#         print(\"learning rate is :\",sess.run(learning_rate,feed_dict = {global_step:i}))\n",
    "  \n",
    "delta=tf.constant(1.25)\n",
    "#huber损失函数\n",
    "# loss = tf.reduce_mean(tf.multiply(tf.square(delta),\n",
    "#                                           tf.sqrt(1. + tf.square((y_ - y_conv)/delta)) - 1.))\n",
    "\n",
    "loss = tf.reduce_mean(tf.square(y_-y_conv)) \n",
    "tf.summary.scalar(\"loss\",loss)\n",
    "\n",
    "train_step = tf.train.AdamOptimizer(learning_rate).minimize(loss)\n",
    "# train_step = tf.train.AdadeltaOptimizer(learning_rate).minimize(cross_entropy)\n",
    "# train_step = tf.train.RMSPropOptimizer(learning_rate).minimize(cross_entropy)\n",
    "\n",
    "# correct_prediction = tf.equal(tf.argmax(y_conv, 1), tf.argmax(y_, 1))\n",
    "# accuracy = tf.reduce_mean(tf.cast(correct_prediction, tf.float32))\n",
    "# tf.summary.scalar(\"accuracy\", accuracy)\n",
    "merged = tf.summary.merge_all()\n",
    "\n",
    "batch_size = 4                \n",
    "checkpointsPath = \"./checkpoints/\"\n",
    "reload = False\n",
    "saver = tf.train.Saver()\n",
    "\n",
    "with tf.Session() as sess:\n",
    "    sess.run(tf.global_variables_initializer())\n",
    "    #保存训练好的模型一遍下次使用\n",
    "    writer = tf.summary.FileWriter(\"logs_dir/\", sess.graph)\n",
    "    \n",
    "    if not os.path.exists(checkpointsPath):\n",
    "        os.mkdir(checkpointsPath)\n",
    "    \n",
    "    if reload:\n",
    "        checkPoint = tf.train.get_checkpoint_state(checkpointsPath)\n",
    "        if checkPoint and checkPoint.model_checkpoint_path:\n",
    "            saver.restore(sess,checkPoint.model_checkpoint_path)\n",
    "            print(\"restored %s\" % checkPoint.model_checkpoint_path)\n",
    "        else:\n",
    "            print(\"no checkpoint found!\")\n",
    "        \n",
    "    for i in tqdm(range(300)):\n",
    "#         batch_x,batch_y = get_test_data_batch(batch_size)\n",
    "        batch_x,batch_y = all_test_images[:5],all_test_labels[:5]\n",
    "        batch_y = batch_y*1000\n",
    "        summary,_ = sess.run([merged,train_step],feed_dict={global_step:i,input_image:batch_x, \n",
    "                                                            y_:batch_y, keep_prob:0.7})\n",
    "        if (i % 10) == 0 & (i != 0):\n",
    "            print(\"real location is:\\n\",batch_y)\n",
    "            print(\"prediction is:\\n\",sess.run(y_conv,feed_dict={input_image:batch_x, y_:batch_y,keep_prob:1.0}))\n",
    "            print(\"loss is:\",sess.run(loss,feed_dict={input_image:batch_x, y_:batch_y, keep_prob:1.0}))\n",
    "\n",
    "        writer.add_summary(summary, i)\n",
    "#         if (i % 1000) == 0 & (i != 0):\n",
    "#             print(\"save model\")\n",
    "#             print(\"learning_rate is:\\n\",sess.run(learning_rate,feed_dict = {global_step:i}))\n",
    "#             saver.save(sess, os.path.join(checkpointsPath,\"saved_net.ckpt\"), global_step=i)\n",
    "#             batch_x,batch_y = get_test_data_batch(batch_size)\n",
    "#             batch_y = batch_y*1000\n",
    "#             print(\"real location is:\\n\",batch_y)\n",
    "#             print(\"prediction is:\\n\",sess.run(y_conv,feed_dict={input_image:batch_x, \n",
    "#                                                         y_:batch_y,keep_prob:1.0}))\n",
    "#             print(\"loss is:\",sess.run(loss,feed_dict={input_image:batch_x, y_:batch_y, keep_prob:1.0}))\n",
    "#     print(\"done!\")\n"
   ]
  },
  {
   "cell_type": "code",
   "execution_count": 6,
   "metadata": {},
   "outputs": [],
   "source": [
    "# test_batch = 5\n",
    "# checkpointsPath = \"./checkpoints/\"\n",
    "# saver = tf.train.Saver()\n",
    "# with tf.Session() as sess:\n",
    "#     checkPoint = tf.train.get_checkpoint_state(checkpointsPath)\n",
    "#     if checkPoint and checkPoint.model_checkpoint_path:\n",
    "#         saver.restore(sess,checkPoint.model_checkpoint_path)\n",
    "#         print(\"restored %s\" % checkPoint.model_checkpoint_path)\n",
    "#     else:\n",
    "#         print(\"no checkpoint found!\")\n",
    "\n",
    "#     test_batch_x,test_batch_y = get_test_data_batch(test_batch)\n",
    "#     test_batch_y = test_batch_y*100\n",
    "#     print(\"real location is:\\n\",test_batch_y)\n",
    "#     print(\"prediction is:\\n\",sess.run(y_conv,feed_dict={input_image:test_batch_x, \n",
    "#                                                         y_:test_batch_y,keep_prob:1.0}))\n",
    "#     print(\"loss is:\",sess.run(loss,feed_dict={input_image:test_batch_x, y_:test_batch_y, keep_prob:1.0}))"
   ]
  },
  {
   "cell_type": "code",
   "execution_count": null,
   "metadata": {},
   "outputs": [],
   "source": []
  }
 ],
 "metadata": {
  "kernelspec": {
   "display_name": "Python 3",
   "language": "python",
   "name": "python3"
  },
  "language_info": {
   "codemirror_mode": {
    "name": "ipython",
    "version": 3
   },
   "file_extension": ".py",
   "mimetype": "text/x-python",
   "name": "python",
   "nbconvert_exporter": "python",
   "pygments_lexer": "ipython3",
   "version": "3.5.2"
  }
 },
 "nbformat": 4,
 "nbformat_minor": 2
}
