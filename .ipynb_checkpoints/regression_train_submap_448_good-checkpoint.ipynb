{
 "cells": [
  {
   "cell_type": "code",
   "execution_count": 1,
   "metadata": {},
   "outputs": [],
   "source": [
    "import os\n",
    "import random\n",
    "import skimage.data\n",
    "from skimage import io\n",
    "import skimage.transform as skt\n",
    "import numpy as np\n",
    "import tensorflow as tf\n",
    "from tqdm import tqdm\n",
    "import sys\n",
    "sys.path.remove('/opt/ros/kinetic/lib/python2.7/dist-packages')\n",
    "import cv2"
   ]
  },
  {
   "cell_type": "code",
   "execution_count": 2,
   "metadata": {},
   "outputs": [],
   "source": [
    "# submap_dir = \"/home/ysk/catkin_ws/laser_pic_code/pic/regression/submap\"\n",
    "\n",
    "# # for i in range(4):\n",
    "# i = 1\n",
    "# submap1 = cv2.imread(os.path.join(submap_dir,str(i) + '.pgm'))\n",
    "    \n",
    "    \n",
    "# submap1 = cv2.resize(submap1,(448,448))\n",
    "# # submap2 = skimage.data.imread(os.path.join(submap_dir,'1.pgm'))\n",
    "# # img = cv2.merge([submap1,submap2])\n",
    "# cv2.imshow(\"img\",submap1)\n",
    "# cv2.waitKey(0)\n",
    "# cv2.destroyAllWindows()\n",
    "\n",
    "# print(np.shape(submap1))"
   ]
  },
  {
   "cell_type": "code",
   "execution_count": 3,
   "metadata": {},
   "outputs": [
    {
     "name": "stdout",
     "output_type": "stream",
     "text": [
      "4026\n",
      "(4024, 448, 448, 6)\n",
      "(4024, 2)\n"
     ]
    }
   ],
   "source": [
    "label_dir = \"/home/ysk/catkin_ws/laser_pic_code/pic/regression\"\n",
    "pic_dir = \"/home/ysk/catkin_ws/laser_pic_code/pic/regression/picture\"\n",
    "submap_dir = \"/home/ysk/catkin_ws/laser_pic_code/pic/regression/submap\"\n",
    "\n",
    "train_txt = os.path.join(label_dir, \"label.txt\")\n",
    "count = len(open(train_txt, 'r').readlines())\n",
    "print(count)\n",
    "file = open(train_txt, 'r')\n",
    "s = file.readlines()\n",
    "all_images = []\n",
    "all_labels = []\n",
    "\n",
    "for i in range(0, count-2):\n",
    "#     image1 = skimage.data.imread(os.path.join(pic_dir, s[i].split(\";\")[0]))\n",
    "    submap1 = cv2.imread(os.path.join(submap_dir,str(i) + '.pgm'))\n",
    "    submap1 = cv2.resize(submap1,(448,448))\n",
    "    submap2 = cv2.imread(os.path.join(submap_dir,str(i+1) + '.pgm'))\n",
    "    submap2 = cv2.resize(submap2,(448,448))\n",
    "    label = s[i].split(\";\")[1:3]\n",
    "    label = list(map(float,label))\n",
    "#     image2 = skimage.data.imread(os.path.join(pic_dir, s[i].split(\";\")[0]))\n",
    "#     image3 = skimage.data.imread(os.path.join(pic_dir, s[i+1].split(\";\")[0]))\n",
    "#     image4 = skimage.data.imread(os.path.join(pic_dir, s[i+2].split(\";\")[0]))\n",
    "    img = cv2.merge([submap1,submap2])\n",
    "#     img = cv2.merge([image1,image2,image3,image4])\n",
    "\n",
    "    all_images.append(img)\n",
    "    all_labels.append(label)\n",
    "    \n",
    "print(np.shape(all_images))\n",
    "print(np.shape(all_labels))"
   ]
  },
  {
   "cell_type": "code",
   "execution_count": 4,
   "metadata": {},
   "outputs": [
    {
     "name": "stdout",
     "output_type": "stream",
     "text": [
      "[[  0.16470553 -10.59620086]\n",
      " [ 18.40736674   0.79561522]\n",
      " [  8.1666971    0.45037672]\n",
      " [-11.68688518  -6.85407586]\n",
      " [ 17.10466077   0.81378551]\n",
      " [ 22.12853256  -9.06686332]\n",
      " [-16.4079475   -5.32899881]\n",
      " [ 15.70194961  -9.48307491]\n",
      " [ -9.26221007  -4.85273466]\n",
      " [-30.08383465   0.27438789]]\n",
      "(10, 448, 448, 6)\n",
      "(10, 2)\n"
     ]
    }
   ],
   "source": [
    "def get_train_data_batch(num):\n",
    "    idx = np.arange(0, count-2)\n",
    "    np.random.shuffle(idx)\n",
    "    data_idx = idx[:num]\n",
    "\n",
    "    labels = []\n",
    "    images = []\n",
    "\n",
    "    for i in range(num):\n",
    "        images.append(all_images[data_idx[i]])\n",
    "        labels.append(all_labels[data_idx[i]])\n",
    "\n",
    "    return np.asarray(images), np.asarray(labels)\n",
    "X,Y = get_train_data_batch(10)\n",
    "print(Y)\n",
    "print(np.shape(X))\n",
    "print(np.shape(Y))"
   ]
  },
  {
   "cell_type": "code",
   "execution_count": 5,
   "metadata": {},
   "outputs": [
    {
     "name": "stderr",
     "output_type": "stream",
     "text": [
      "  0%|          | 1/50000 [00:01<15:50:22,  1.14s/it]"
     ]
    },
    {
     "name": "stdout",
     "output_type": "stream",
     "text": [
      "save model\n",
      "learning_rate is:\n",
      " 1e-04\n",
      "real location is:\n",
      " [[-28346.6676585   -5975.0757908 ]\n",
      " [  5416.9765628  -10174.3894492 ]\n",
      " [ -4771.13039702  -9204.22565031]\n",
      " [ 30596.9274167   -8366.22021383]]\n",
      "prediction is:\n",
      " [[ 29976.816 -64041.375]\n",
      " [ 30112.094 -65732.14 ]\n",
      " [ 28297.125 -63064.23 ]\n",
      " [ 31087.635 -66048.05 ]]\n",
      "loss is: 53395.855\n"
     ]
    },
    {
     "name": "stderr",
     "output_type": "stream",
     "text": [
      "  2%|▏         | 1004/50000 [00:48<40:38, 20.10it/s]"
     ]
    },
    {
     "name": "stdout",
     "output_type": "stream",
     "text": [
      "save model\n",
      "learning_rate is:\n",
      " 9.5999996e-05\n",
      "real location is:\n",
      " [[ 25068.5218402   -8938.3535157 ]\n",
      " [ 25740.0602453   -8841.1146039 ]\n",
      " [-29407.2479232   -8126.12339103]\n",
      " [ 29667.3529511    1073.76263568]]\n",
      "prediction is:\n",
      " [[ 6218.1772  -2397.9102 ]\n",
      " [  758.4264  -2915.6824 ]\n",
      " [-5643.767   -3339.4077 ]\n",
      " [ -598.62317 -2601.5461 ]]\n",
      "loss is: 18559.271\n"
     ]
    },
    {
     "name": "stderr",
     "output_type": "stream",
     "text": [
      "  4%|▍         | 2002/50000 [01:36<40:49, 19.59it/s]"
     ]
    },
    {
     "name": "stdout",
     "output_type": "stream",
     "text": [
      "save model\n",
      "learning_rate is:\n",
      " 9.215999e-05\n",
      "real location is:\n",
      " [[23216.3883144   1062.1329739 ]\n",
      " [-9867.43401309 -6707.95399088]\n",
      " [14212.2682629  -9471.04546545]\n",
      " [12667.7814611    799.12673296]]\n",
      "prediction is:\n",
      " [[ 10104.19      -237.04626]\n",
      " [-14250.262    -6282.6494 ]\n",
      " [  7575.085    -4082.0068 ]\n",
      " [ 12874.768    -2723.0496 ]]\n",
      "loss is: 5463.266\n"
     ]
    },
    {
     "name": "stderr",
     "output_type": "stream",
     "text": [
      "  6%|▌         | 3002/50000 [02:24<40:19, 19.43it/s]"
     ]
    },
    {
     "name": "stdout",
     "output_type": "stream",
     "text": [
      "save model\n",
      "learning_rate is:\n",
      " 8.8473585e-05\n",
      "real location is:\n",
      " [[-29651.9146588   -2492.88622995]\n",
      " [-15840.3265125   -5204.44608678]\n",
      " [ -4703.09537298  -9484.68505239]\n",
      " [-13977.3846954   -5129.28746709]]\n",
      "prediction is:\n",
      " [[ -7156.0586  -4609.2246]\n",
      " [-16116.292   -7688.0337]\n",
      " [  8453.609   -8577.904 ]\n",
      " [-23375.14    -5427.0723]]\n",
      "loss is: 7987.622\n"
     ]
    },
    {
     "name": "stderr",
     "output_type": "stream",
     "text": [
      "  8%|▊         | 4003/50000 [03:11<39:08, 19.59it/s]"
     ]
    },
    {
     "name": "stdout",
     "output_type": "stream",
     "text": [
      "save model\n",
      "learning_rate is:\n",
      " 8.493465e-05\n",
      "real location is:\n",
      " [[-24394.1126406   -7426.33026457]\n",
      " [-30155.6586376    1183.60773845]\n",
      " [  2877.67060015 -10213.1509202 ]\n",
      " [ 12718.9089072   -6180.51980803]]\n",
      "prediction is:\n",
      " [[-23519.8      -4712.6626 ]\n",
      " [-25686.572     3116.4827 ]\n",
      " [    30.04715  -5005.333  ]\n",
      " [ -9210.443    -5978.236  ]]\n",
      "loss is: 6276.0977\n"
     ]
    },
    {
     "name": "stderr",
     "output_type": "stream",
     "text": [
      " 10%|█         | 5004/50000 [03:59<37:24, 20.05it/s]"
     ]
    },
    {
     "name": "stdout",
     "output_type": "stream",
     "text": [
      "save model\n",
      "learning_rate is:\n",
      " 8.1537255e-05\n",
      "real location is:\n",
      " [[ 25749.5993801   -8910.75748128]\n",
      " [-22976.4477214   -7251.40179596]\n",
      " [-29872.9485979    -758.75403577]\n",
      " [ 13735.4919499     337.33228926]]\n",
      "prediction is:\n",
      " [[ 20136.426    -7539.012  ]\n",
      " [-19510.523    -5108.693  ]\n",
      " [-24768.713      736.48944]\n",
      " [  6776.412    -2414.9863 ]]\n",
      "loss is: 4514.7554\n"
     ]
    },
    {
     "name": "stderr",
     "output_type": "stream",
     "text": [
      " 12%|█▏        | 6004/50000 [04:46<36:39, 20.01it/s]"
     ]
    },
    {
     "name": "stdout",
     "output_type": "stream",
     "text": [
      "save model\n",
      "learning_rate is:\n",
      " 7.827576e-05\n",
      "real location is:\n",
      " [[ 30672.6701999   -1479.20457818]\n",
      " [  -398.05245853 -10383.6459593 ]\n",
      " [  2006.10925298   -181.32480731]\n",
      " [  1715.15643588     46.07392982]]\n",
      "prediction is:\n",
      " [[ 30708.113   -4137.08  ]\n",
      " [  1905.4197 -10866.965 ]\n",
      " [ 11042.54    -4238.3633]\n",
      " [ 10665.89     2433.6956]]\n",
      "loss is: 4672.181\n"
     ]
    },
    {
     "name": "stderr",
     "output_type": "stream",
     "text": [
      " 14%|█▍        | 7003/50000 [05:34<36:33, 19.61it/s]"
     ]
    },
    {
     "name": "stdout",
     "output_type": "stream",
     "text": [
      "save model\n",
      "learning_rate is:\n",
      " 7.514473e-05\n",
      "real location is:\n",
      " [[-12754.8433578   -5087.0524748 ]\n",
      " [-21917.8700881   -5745.82023376]\n",
      " [ -4000.14675451   -704.31614772]\n",
      " [-28540.512899   -19483.3135342 ]]\n",
      "prediction is:\n",
      " [[-19864.14    -5986.3643]\n",
      " [-22333.832   -7970.0596]\n",
      " [ -8370.549   -2797.3955]\n",
      " [-27271.75   -14306.736 ]]\n",
      "loss is: 3679.3186\n"
     ]
    },
    {
     "name": "stderr",
     "output_type": "stream",
     "text": [
      " 16%|█▌        | 8003/50000 [06:22<37:09, 18.84it/s]"
     ]
    },
    {
     "name": "stdout",
     "output_type": "stream",
     "text": [
      "save model\n",
      "learning_rate is:\n",
      " 7.2138944e-05\n",
      "real location is:\n",
      " [[ 23463.0249959   -8957.6214675 ]\n",
      " [-29456.3314172   -4694.09890674]\n",
      " [ 28404.9467828    1230.2682375 ]\n",
      " [ 21611.2785791     951.3388798 ]]\n",
      "prediction is:\n",
      " [[ 22465.078   -7473.1055]\n",
      " [-24878.254   -4079.4956]\n",
      " [ 28376.219   -3123.7961]\n",
      " [ 16500.957    1560.2014]]\n",
      "loss is: 2776.1177\n"
     ]
    },
    {
     "name": "stderr",
     "output_type": "stream",
     "text": [
      " 18%|█▊        | 9002/50000 [07:09<34:56, 19.56it/s]"
     ]
    },
    {
     "name": "stdout",
     "output_type": "stream",
     "text": [
      "save model\n",
      "learning_rate is:\n",
      " 6.925339e-05\n",
      "real location is:\n",
      " [[-25685.8985899   -5946.24593454]\n",
      " [ 26785.2573011    1102.38519293]\n",
      " [-30321.9406218    2297.50653801]\n",
      " [ 22984.3679095    1008.62267518]]\n",
      "prediction is:\n",
      " [[-24891.688   -5431.05  ]\n",
      " [ 21080.973    1589.6808]\n",
      " [-26921.797    6780.3765]\n",
      " [ 20741.63     1206.3344]]\n",
      "loss is: 2783.5095\n"
     ]
    },
    {
     "name": "stderr",
     "output_type": "stream",
     "text": [
      " 20%|██        | 10003/50000 [07:57<34:08, 19.53it/s]"
     ]
    },
    {
     "name": "stdout",
     "output_type": "stream",
     "text": [
      "save model\n",
      "learning_rate is:\n",
      " 6.648325e-05\n",
      "real location is:\n",
      " [[ 30751.7862943   -2975.6471384 ]\n",
      " [ 13829.4508885   -9644.88293335]\n",
      " [-30698.7111635    6183.76973709]\n",
      " [ 23153.933834     1028.81318496]]\n",
      "prediction is:\n",
      " [[ 31124.086   -1697.377 ]\n",
      " [ 11569.498   -7346.82  ]\n",
      " [-34291.805    4090.3435]\n",
      " [ 19416.916    -370.2225]]\n",
      "loss is: 2659.557\n"
     ]
    },
    {
     "name": "stderr",
     "output_type": "stream",
     "text": [
      " 22%|██▏       | 11002/50000 [08:44<33:04, 19.65it/s]"
     ]
    },
    {
     "name": "stdout",
     "output_type": "stream",
     "text": [
      "save model\n",
      "learning_rate is:\n",
      " 6.382392e-05\n",
      "real location is:\n",
      " [[ 12636.070922    -8531.32881448]\n",
      " [ 25515.7792023   -8910.7681056 ]\n",
      " [ -5287.12770753  -5110.96734598]\n",
      " [-10989.9869988   -6846.98728892]]\n",
      "prediction is:\n",
      " [[ 15546.947   -3150.8318]\n",
      " [ 28822.287  -10260.512 ]\n",
      " [ -3331.2124  -4071.423 ]\n",
      " [-12918.021   -4815.373 ]]\n",
      "loss is: 3108.2402\n"
     ]
    },
    {
     "name": "stderr",
     "output_type": "stream",
     "text": [
      " 24%|██▍       | 12004/50000 [09:32<31:41, 19.98it/s]"
     ]
    },
    {
     "name": "stdout",
     "output_type": "stream",
     "text": [
      "save model\n",
      "learning_rate is:\n",
      " 6.1270955e-05\n",
      "real location is:\n",
      " [[-10912.986526    -6779.53204066]\n",
      " [-29673.4742628   -1365.46088637]\n",
      " [ -5473.09397912  -3347.53596848]\n",
      " [ 22128.5325619   -9066.86332229]]\n",
      "prediction is:\n",
      " [[-10426.168   -5247.765 ]\n",
      " [-25317.246    -436.0517]\n",
      " [ -6840.376   -3472.4292]\n",
      " [ 26157.973   -7753.707 ]]\n",
      "loss is: 2207.6572\n"
     ]
    },
    {
     "name": "stderr",
     "output_type": "stream",
     "text": [
      " 26%|██▌       | 13002/50000 [10:20<32:27, 19.00it/s]"
     ]
    },
    {
     "name": "stdout",
     "output_type": "stream",
     "text": [
      "save model\n",
      "learning_rate is:\n",
      " 5.8820122e-05\n",
      "real location is:\n",
      " [[ -6753.83261969  -6611.84696276]\n",
      " [-29904.4329243    1342.69479979]\n",
      " [ 12375.2798783   -9802.72742754]\n",
      " [ 30692.7014609   -2147.52568542]]\n",
      "prediction is:\n",
      " [[ -7676.1064  -5737.192 ]\n",
      " [-28282.537   -2438.064 ]\n",
      " [ 10689.642   -6856.897 ]\n",
      " [ 29142.8     -1511.7015]]\n",
      "loss is: 2188.56\n"
     ]
    },
    {
     "name": "stderr",
     "output_type": "stream",
     "text": [
      " 28%|██▊       | 14003/50000 [11:07<30:31, 19.66it/s]"
     ]
    },
    {
     "name": "stdout",
     "output_type": "stream",
     "text": [
      "save model\n",
      "learning_rate is:\n",
      " 5.646731e-05\n",
      "real location is:\n",
      " [[-30820.7813199    5839.09282978]\n",
      " [ 19093.5963548   -9289.19118872]\n",
      " [  7091.80899129  -9916.12129882]\n",
      " [  1139.01149008    122.50633898]]\n",
      "prediction is:\n",
      " [[-30370.613    7637.5444]\n",
      " [ 17822.725   -9231.105 ]\n",
      " [  9983.604  -10341.106 ]\n",
      " [  1445.6902   1296.896 ]]\n",
      "loss is: 1307.1011\n"
     ]
    },
    {
     "name": "stderr",
     "output_type": "stream",
     "text": [
      " 30%|███       | 15004/50000 [11:55<29:02, 20.08it/s]"
     ]
    },
    {
     "name": "stdout",
     "output_type": "stream",
     "text": [
      "save model\n",
      "learning_rate is:\n",
      " 5.4208616e-05\n",
      "real location is:\n",
      " [[-10362.4792356   -6782.38733093]\n",
      " [ -3923.98421714 -10535.4209073 ]\n",
      " [  8058.52080694  -9942.80027786]\n",
      " [   942.57990859   -167.40869278]]\n",
      "prediction is:\n",
      " [[-11245.092   -6080.573 ]\n",
      " [   567.449   -9064.525 ]\n",
      " [  9276.682   -9095.293 ]\n",
      " [  5000.135   -2235.1372]]\n",
      "loss is: 2457.4548\n"
     ]
    },
    {
     "name": "stderr",
     "output_type": "stream",
     "text": [
      " 32%|███▏      | 16002/50000 [12:43<28:57, 19.57it/s]"
     ]
    },
    {
     "name": "stdout",
     "output_type": "stream",
     "text": [
      "save model\n",
      "learning_rate is:\n",
      " 5.2040272e-05\n",
      "real location is:\n",
      " [[-28643.6648763  -22404.31095   ]\n",
      " [ 20620.8799294     982.17212699]\n",
      " [ 23949.3251019   -9177.52513571]\n",
      " [  -124.94531335 -10368.3069945 ]]\n",
      "prediction is:\n",
      " [[-25792.588    -6481.0244 ]\n",
      " [ 23133.918    -1098.9949 ]\n",
      " [ 26993.941    -8847.07   ]\n",
      " [   268.10413 -10773.367  ]]\n",
      "loss is: 4301.837\n"
     ]
    },
    {
     "name": "stderr",
     "output_type": "stream",
     "text": [
      " 34%|███▍      | 17002/50000 [13:30<27:59, 19.65it/s]"
     ]
    },
    {
     "name": "stdout",
     "output_type": "stream",
     "text": [
      "save model\n",
      "learning_rate is:\n",
      " 4.9958657e-05\n",
      "real location is:\n",
      " [[  3473.16944871    182.19373536]\n",
      " [-28880.4907314   -7240.0973202 ]\n",
      " [-30612.1285109   12346.0959585 ]\n",
      " [-29957.4416395    1814.45346529]]\n",
      "prediction is:\n",
      " [[ 11953.396     -492.90536]\n",
      " [-29555.125    -7076.189  ]\n",
      " [-28797.953     4057.835  ]\n",
      " [-30000.984     2827.1702 ]]\n",
      "loss is: 3303.5298\n"
     ]
    },
    {
     "name": "stderr",
     "output_type": "stream",
     "text": [
      " 36%|███▌      | 18004/50000 [14:18<26:38, 20.01it/s]"
     ]
    },
    {
     "name": "stdout",
     "output_type": "stream",
     "text": [
      "save model\n",
      "learning_rate is:\n",
      " 4.7960315e-05\n",
      "real location is:\n",
      " [[ 28830.3459629    1058.1433509 ]\n",
      " [ -1371.53434336 -10389.106756  ]\n",
      " [ -9122.82358184  -6696.89865534]\n",
      " [ 17366.0508476   -9400.57654241]]\n",
      "prediction is:\n",
      " [[ 3.1901164e+04  1.0847665e+03]\n",
      " [-4.3666992e+00 -9.8195234e+03]\n",
      " [-9.1778125e+03 -6.1444497e+03]\n",
      " [ 1.2809822e+04 -1.0575320e+04]]\n",
      "loss is: 1775.4143\n"
     ]
    },
    {
     "name": "stderr",
     "output_type": "stream",
     "text": [
      " 38%|███▊      | 19003/50000 [15:06<26:42, 19.35it/s]"
     ]
    },
    {
     "name": "stdout",
     "output_type": "stream",
     "text": [
      "save model\n",
      "learning_rate is:\n",
      " 4.60419e-05\n",
      "real location is:\n",
      " [[-24220.5093651   -5823.10107272]\n",
      " [ 24386.2621578     879.87715117]\n",
      " [ -8163.00373439  -4838.99970024]\n",
      " [ 16528.0116415     829.5297583 ]]\n",
      "prediction is:\n",
      " [[-24492.588    -4959.816  ]\n",
      " [ 21927.967      -77.91083]\n",
      " [ -9897.037    -4400.9556 ]\n",
      " [ 16173.225     1456.4153 ]]\n",
      "loss is: 1202.3761\n"
     ]
    },
    {
     "name": "stderr",
     "output_type": "stream",
     "text": [
      " 40%|████      | 20004/50000 [15:53<25:06, 19.91it/s]"
     ]
    },
    {
     "name": "stdout",
     "output_type": "stream",
     "text": [
      "save model\n",
      "learning_rate is:\n",
      " 4.4200224e-05\n",
      "real location is:\n",
      " [[ 29729.6629559   -8591.45803211]\n",
      " [ 18797.8442698     857.1019744 ]\n",
      " [-31031.0199394    8228.29150766]\n",
      " [  9089.46474302  -9868.13681675]]\n",
      "prediction is:\n",
      " [[ 18786.951   -7534.4126]\n",
      " [ 18565.041    -377.785 ]\n",
      " [-31175.227    3637.92  ]\n",
      " [ 11032.086   -9767.204 ]]\n",
      "loss is: 3161.812\n"
     ]
    },
    {
     "name": "stderr",
     "output_type": "stream",
     "text": [
      " 42%|████▏     | 21004/50000 [16:41<24:11, 19.98it/s]"
     ]
    },
    {
     "name": "stdout",
     "output_type": "stream",
     "text": [
      "save model\n",
      "learning_rate is:\n",
      " 4.2432213e-05\n",
      "real location is:\n",
      " [[-27037.5736641   -5977.83977165]\n",
      " [ 12722.8996232     589.55842554]\n",
      " [ 13214.4213938   -9540.29484239]\n",
      " [ 12718.9089072   -6180.51980803]]\n",
      "prediction is:\n",
      " [[-28593.078   -5159.217 ]\n",
      " [ 10999.162    1216.921 ]\n",
      " [ 12974.988   -8222.908 ]\n",
      " [ 16972.385   -5787.9453]]\n",
      "loss is: 1705.9542\n"
     ]
    },
    {
     "name": "stderr",
     "output_type": "stream",
     "text": [
      " 44%|████▍     | 22003/50000 [17:29<23:58, 19.46it/s]"
     ]
    },
    {
     "name": "stdout",
     "output_type": "stream",
     "text": [
      "save model\n",
      "learning_rate is:\n",
      " 4.073492e-05\n",
      "real location is:\n",
      " [[  7108.88647569  -9991.7584784 ]\n",
      " [-30463.4045097   12728.4610772 ]\n",
      " [ -9013.84286751  -4898.0653738 ]\n",
      " [ -3573.9540385    -593.41468908]]\n",
      "prediction is:\n",
      " [[  9971.593    -9060.219  ]\n",
      " [-30507.447     2997.6367 ]\n",
      " [ -9228.958    -4869.7285 ]\n",
      " [   464.66348  -1211.4835 ]]\n",
      "loss is: 2884.2664\n"
     ]
    },
    {
     "name": "stderr",
     "output_type": "stream",
     "text": [
      " 46%|████▌     | 23003/50000 [18:17<22:55, 19.63it/s]"
     ]
    },
    {
     "name": "stdout",
     "output_type": "stream",
     "text": [
      "save model\n",
      "learning_rate is:\n",
      " 3.9105526e-05\n",
      "real location is:\n",
      " [[ 1.24586839e+04  7.07267165e+02]\n",
      " [ 1.24395461e+04 -1.50677362e+03]\n",
      " [ 9.38157297e+03  9.80780326e+00]\n",
      " [-9.83842392e+03 -6.77602813e+03]]\n",
      "prediction is:\n",
      " [[11422.367    -104.27396]\n",
      " [13180.139   -3288.526  ]\n",
      " [ 8109.5854  -1681.661  ]\n",
      " [-9900.453   -6030.366  ]]\n",
      "loss is: 1270.5264\n"
     ]
    },
    {
     "name": "stderr",
     "output_type": "stream",
     "text": [
      " 48%|████▊     | 24003/50000 [19:04<22:05, 19.61it/s]"
     ]
    },
    {
     "name": "stdout",
     "output_type": "stream",
     "text": [
      "save model\n",
      "learning_rate is:\n",
      " 3.7541304e-05\n",
      "real location is:\n",
      " [[-29265.367939    -5566.50050151]\n",
      " [ -7277.78132664  -6652.19307985]\n",
      " [-11544.3699663   -4986.95857549]\n",
      " [-26056.1157328   -5896.0559459 ]]\n",
      "prediction is:\n",
      " [[-29189.732  -4873.964]\n",
      " [ -9488.512  -6477.52 ]\n",
      " [-11093.346  -4962.703]\n",
      " [-24713.777  -5682.006]]\n",
      "loss is: 808.64014\n"
     ]
    },
    {
     "name": "stderr",
     "output_type": "stream",
     "text": [
      " 50%|█████     | 25002/50000 [19:52<23:03, 18.06it/s]"
     ]
    },
    {
     "name": "stdout",
     "output_type": "stream",
     "text": [
      "save model\n",
      "learning_rate is:\n",
      " 3.603965e-05\n",
      "real location is:\n",
      " [[ 1.74425165e+04  1.04569948e+03]\n",
      " [ 8.95614122e+03  4.84002490e+00]\n",
      " [-1.21723035e+04 -6.78797614e+03]\n",
      " [-2.52037275e+04 -5.86828675e+03]]\n",
      "prediction is:\n",
      " [[ 15605.309     -191.75494]\n",
      " [  9759.355      775.13806]\n",
      " [-12853.493    -6521.3496 ]\n",
      " [-26351.326    -6677.6396 ]]\n",
      "loss is: 1178.586\n"
     ]
    },
    {
     "name": "stderr",
     "output_type": "stream",
     "text": [
      " 52%|█████▏    | 26004/50000 [20:40<20:12, 19.79it/s]"
     ]
    },
    {
     "name": "stdout",
     "output_type": "stream",
     "text": [
      "save model\n",
      "learning_rate is:\n",
      " 3.4598066e-05\n",
      "real location is:\n",
      " [[-25605.4528239   -5921.90372574]\n",
      " [ 18733.4665974    1049.7342718 ]\n",
      " [  5475.65344856    322.30756896]\n",
      " [-27776.5295766   -7533.75424227]]\n",
      "prediction is:\n",
      " [[-26439.398   -6255.449 ]\n",
      " [ 21427.848    2556.705 ]\n",
      " [  6381.8594    789.1582]\n",
      " [-29683.375   -7422.39  ]]\n",
      "loss is: 1367.2067\n"
     ]
    },
    {
     "name": "stderr",
     "output_type": "stream",
     "text": [
      " 54%|█████▍    | 27003/50000 [21:27<20:01, 19.15it/s]"
     ]
    },
    {
     "name": "stdout",
     "output_type": "stream",
     "text": [
      "save model\n",
      "learning_rate is:\n",
      " 3.321414e-05\n",
      "real location is:\n",
      " [[-10798.3675696   -6728.68779098]\n",
      " [  4889.65065856 -10468.21122   ]\n",
      " [-14756.4563396   -5151.7839089 ]\n",
      " [ 31096.8780798   -7971.36959658]]\n",
      "prediction is:\n",
      " [[-10476.869   -5287.3926]\n",
      " [  4014.059   -2588.3784]\n",
      " [-14383.222   -5683.7583]\n",
      " [ 28540.23    -6472.7646]]\n",
      "loss is: 2416.9827\n"
     ]
    },
    {
     "name": "stderr",
     "output_type": "stream",
     "text": [
      " 56%|█████▌    | 28003/50000 [22:15<18:44, 19.56it/s]"
     ]
    },
    {
     "name": "stdout",
     "output_type": "stream",
     "text": [
      "save model\n",
      "learning_rate is:\n",
      " 3.1885575e-05\n",
      "real location is:\n",
      " [[ 10325.2424498     522.49073014]\n",
      " [-13163.3722041   -5142.65684806]\n",
      " [  -506.2323434    -180.14329459]\n",
      " [ 12546.1725796   -2374.8935605 ]]\n",
      "prediction is:\n",
      " [[ 10005.578     -230.21396]\n",
      " [-12481.217    -5525.0693 ]\n",
      " [ -2807.783     -898.76965]\n",
      " [ 10429.412    -2775.419  ]]\n",
      "loss is: 1197.564\n"
     ]
    },
    {
     "name": "stderr",
     "output_type": "stream",
     "text": [
      " 58%|█████▊    | 29002/50000 [23:02<18:07, 19.32it/s]"
     ]
    },
    {
     "name": "stdout",
     "output_type": "stream",
     "text": [
      "save model\n",
      "learning_rate is:\n",
      " 3.061015e-05\n",
      "real location is:\n",
      " [[-18314.7584366   -6979.33545249]\n",
      " [ -4632.20240435  -9600.06134823]\n",
      " [ 15264.5129036     701.08655207]\n",
      " [-18141.7866512   -6982.33826615]]\n",
      "prediction is:\n",
      " [[-18315.54      -6427.462   ]\n",
      " [ -2304.2017    -9015.91    ]\n",
      " [ 15967.524        48.172882]\n",
      " [-17797.34      -6879.7227  ]]\n",
      "loss is: 821.64124\n"
     ]
    },
    {
     "name": "stderr",
     "output_type": "stream",
     "text": [
      " 60%|██████    | 30003/50000 [23:50<17:07, 19.45it/s]"
     ]
    },
    {
     "name": "stdout",
     "output_type": "stream",
     "text": [
      "save model\n",
      "learning_rate is:\n",
      " 2.9385741e-05\n",
      "real location is:\n",
      " [[ 24703.2284008     895.64625107]\n",
      " [-17778.6691856   -5606.47356264]\n",
      " [ -5652.47472822  -7084.05998631]\n",
      " [ 12881.6132011   -3488.40764553]]\n",
      "prediction is:\n",
      " [[ 2.35436953e+04  1.72256470e+01]\n",
      " [-1.60511875e+04 -4.86705078e+03]\n",
      " [-4.39326270e+03 -5.97480078e+03]\n",
      " [ 1.41467090e+04 -4.36232129e+03]]\n",
      "loss is: 1406.6165\n"
     ]
    },
    {
     "name": "stderr",
     "output_type": "stream",
     "text": [
      " 62%|██████▏   | 31003/50000 [24:38<16:19, 19.39it/s]"
     ]
    },
    {
     "name": "stdout",
     "output_type": "stream",
     "text": [
      "save model\n",
      "learning_rate is:\n",
      " 2.8210314e-05\n",
      "real location is:\n",
      " [[ -5180.60522229  -6034.55851386]\n",
      " [ 30482.2547681     241.88753679]\n",
      " [ -5287.12770753  -5110.96734598]\n",
      " [-25264.6983881   -7473.48093967]]\n",
      "prediction is:\n",
      " [[ -4622.534   -6201.8906]\n",
      " [ 34717.242     763.5217]\n",
      " [ -5038.8438  -5579.0186]\n",
      " [-21852.145   -7371.252 ]]\n",
      "loss is: 1516.1196\n"
     ]
    },
    {
     "name": "stderr",
     "output_type": "stream",
     "text": [
      " 64%|██████▍   | 32002/50000 [25:26<15:29, 19.36it/s]"
     ]
    },
    {
     "name": "stdout",
     "output_type": "stream",
     "text": [
      "save model\n",
      "learning_rate is:\n",
      " 2.70819e-05\n",
      "real location is:\n",
      " [[-30702.8505657    7003.63462467]\n",
      " [  1352.65949891 -10369.3222072 ]\n",
      " [ 11891.3133447     810.13378081]\n",
      " [  8478.28291774 -10309.8722431 ]]\n",
      "prediction is:\n",
      " [[-2.9462461e+04  6.7358623e+03]\n",
      " [ 2.6814011e+01 -8.1139492e+03]\n",
      " [ 1.1458252e+04  5.1718219e+02]\n",
      " [ 9.1116416e+03 -5.3332637e+03]]\n",
      "loss is: 1783.6516\n"
     ]
    },
    {
     "name": "stderr",
     "output_type": "stream",
     "text": [
      " 66%|██████▌   | 33003/50000 [26:13<15:05, 18.76it/s]"
     ]
    },
    {
     "name": "stdout",
     "output_type": "stream",
     "text": [
      "save model\n",
      "learning_rate is:\n",
      " 2.5998625e-05\n",
      "real location is:\n",
      " [[ 12497.6380259   -4502.47303354]\n",
      " [ 16251.9665643     770.03771143]\n",
      " [ -9832.10724621  -6780.62514642]\n",
      " [-30350.2178528    8078.45015351]]\n",
      "prediction is:\n",
      " [[ 14168.504   -5349.041 ]\n",
      " [ 16396.45     -829.0823]\n",
      " [-10277.074   -6653.245 ]\n",
      " [-31285.984    8144.462 ]]\n",
      "loss is: 910.18567\n"
     ]
    },
    {
     "name": "stderr",
     "output_type": "stream",
     "text": [
      " 68%|██████▊   | 34004/50000 [27:01<13:26, 19.84it/s]"
     ]
    },
    {
     "name": "stdout",
     "output_type": "stream",
     "text": [
      "save model\n",
      "learning_rate is:\n",
      " 2.495868e-05\n",
      "real location is:\n",
      " [[-1.92558556e+04 -5.46651387e+03]\n",
      " [-1.21666445e+04 -5.30071658e+03]\n",
      " [ 1.12211580e+04  2.16365891e+01]\n",
      " [-2.91282807e+04 -8.30765644e+03]]\n",
      "prediction is:\n",
      " [[-19587.535   -5312.6997]\n",
      " [-11862.0625  -5270.0947]\n",
      " [ 12082.8125  -5343.4106]\n",
      " [-30148.836   -9068.616 ]]\n",
      "loss is: 1377.9613\n"
     ]
    },
    {
     "name": "stderr",
     "output_type": "stream",
     "text": [
      " 70%|███████   | 35003/50000 [27:49<12:50, 19.46it/s]"
     ]
    },
    {
     "name": "stdout",
     "output_type": "stream",
     "text": [
      "save model\n",
      "learning_rate is:\n",
      " 2.3960329e-05\n",
      "real location is:\n",
      " [[ -5930.56142195  -6807.76448624]\n",
      " [ -3500.01354708 -10616.498883  ]\n",
      " [-18008.3654341   -5656.41682561]\n",
      " [ 23356.3872428     956.70074756]]\n",
      "prediction is:\n",
      " [[ -5599.2783  -7321.9424]\n",
      " [ -4181.37    -9820.064 ]\n",
      " [-17659.002   -5741.845 ]\n",
      " [ 21638.438     605.6717]]\n",
      "loss is: 752.66284\n"
     ]
    },
    {
     "name": "stderr",
     "output_type": "stream",
     "text": [
      " 72%|███████▏  | 36003/50000 [28:37<12:26, 18.75it/s]"
     ]
    },
    {
     "name": "stdout",
     "output_type": "stream",
     "text": [
      "save model\n",
      "learning_rate is:\n",
      " 2.3001916e-05\n",
      "real location is:\n",
      " [[ 20638.5922396   -9578.82151464]\n",
      " [-20231.3475816   -5507.93532869]\n",
      " [-29101.9238649   -7514.83323584]\n",
      " [-11663.0976279   -5066.81289521]]\n",
      "prediction is:\n",
      " [[ 22177.57    -7567.4863]\n",
      " [-19045.578   -6245.2705]\n",
      " [-26775.082   -7206.354 ]\n",
      " [-10359.801   -4263.7783]]\n",
      "loss is: 1594.5435\n"
     ]
    },
    {
     "name": "stderr",
     "output_type": "stream",
     "text": [
      " 74%|███████▍  | 37004/50000 [29:24<10:50, 19.97it/s]"
     ]
    },
    {
     "name": "stdout",
     "output_type": "stream",
     "text": [
      "save model\n",
      "learning_rate is:\n",
      " 2.208184e-05\n",
      "real location is:\n",
      " [[-30113.0660444    4312.23253916]\n",
      " [-28389.4333082  -21570.2076843 ]\n",
      " [ 16205.9894523   -9558.62081182]\n",
      " [-10920.7057735   -4978.13269546]]\n",
      "prediction is:\n",
      " [[-31404.98     2751.3232]\n",
      " [-29664.941  -21663.064 ]\n",
      " [ 14861.956   -9753.482 ]\n",
      " [-11621.379   -4878.2007]]\n",
      "loss is: 1023.5487\n"
     ]
    },
    {
     "name": "stderr",
     "output_type": "stream",
     "text": [
      " 76%|███████▌  | 38002/50000 [30:12<12:14, 16.33it/s]"
     ]
    },
    {
     "name": "stdout",
     "output_type": "stream",
     "text": [
      "save model\n",
      "learning_rate is:\n",
      " 2.1198566e-05\n",
      "real location is:\n",
      " [[-30954.4460134    9653.86032406]\n",
      " [ 28455.9911616    1277.73430406]\n",
      " [-12458.1222561   -6848.52285366]\n",
      " [-20445.244224    -5520.76404391]]\n",
      "prediction is:\n",
      " [[-31908.094   10023.217 ]\n",
      " [ 24999.316   -1767.4524]\n",
      " [-12677.305   -6694.2217]\n",
      " [-21604.994   -5842.5645]]\n",
      "loss is: 1510.9242\n"
     ]
    },
    {
     "name": "stderr",
     "output_type": "stream",
     "text": [
      " 78%|███████▊  | 39004/50000 [30:59<09:08, 20.03it/s]"
     ]
    },
    {
     "name": "stdout",
     "output_type": "stream",
     "text": [
      "save model\n",
      "learning_rate is:\n",
      " 2.0350622e-05\n",
      "real location is:\n",
      " [[  -831.10952453   -159.32922045]\n",
      " [-19353.6184211   -5400.78543921]\n",
      " [  5580.07536528 -10114.9639498 ]\n",
      " [ 10048.8085883   -9778.3364633 ]]\n",
      "prediction is:\n",
      " [[   840.49756   -982.0863 ]\n",
      " [-18719.25     -4619.037  ]\n",
      " [  4544.117    -8246.049  ]\n",
      " [  8313.801    -9564.26   ]]\n",
      "loss is: 1367.8826\n"
     ]
    },
    {
     "name": "stderr",
     "output_type": "stream",
     "text": [
      " 80%|████████  | 40003/50000 [31:47<09:02, 18.44it/s]"
     ]
    },
    {
     "name": "stdout",
     "output_type": "stream",
     "text": [
      "save model\n",
      "learning_rate is:\n",
      " 1.9536596e-05\n",
      "real location is:\n",
      " [[-11337.6840687   -4971.23277927]\n",
      " [ 30639.5055747   -1955.440595  ]\n",
      " [ 28340.9192064   -9026.40684732]\n",
      " [  1146.35038345 -10381.820448  ]]\n",
      "prediction is:\n",
      " [[-10765.547    -4919.245  ]\n",
      " [ 28041.48     -2648.4775 ]\n",
      " [ 29125.057    -8474.705  ]\n",
      " [   455.99982 -10382.336  ]]\n",
      "loss is: 926.9922\n"
     ]
    },
    {
     "name": "stderr",
     "output_type": "stream",
     "text": [
      " 82%|████████▏ | 41002/50000 [32:35<07:39, 19.58it/s]"
     ]
    },
    {
     "name": "stdout",
     "output_type": "stream",
     "text": [
      "save model\n",
      "learning_rate is:\n",
      " 1.8755132e-05\n",
      "real location is:\n",
      " [[-30189.5471868    6213.37952634]\n",
      " [ 12576.819779     -804.8934927 ]\n",
      " [ 11404.5092479  -10323.9869925 ]\n",
      " [-22089.9275269   -5680.18609477]]\n",
      "prediction is:\n",
      " [[-29672.668     6756.912  ]\n",
      " [ 10543.541     -496.82013]\n",
      " [ 12290.045    -8554.738  ]\n",
      " [-22638.523    -5939.927  ]]\n",
      "loss is: 1071.0776\n"
     ]
    },
    {
     "name": "stderr",
     "output_type": "stream",
     "text": [
      " 84%|████████▍ | 42003/50000 [33:22<06:46, 19.66it/s]"
     ]
    },
    {
     "name": "stdout",
     "output_type": "stream",
     "text": [
      "save model\n",
      "learning_rate is:\n",
      " 1.8004928e-05\n",
      "real location is:\n",
      " [[ 14412.9915475     657.58116849]\n",
      " [ -4977.15844436  -1582.37029659]\n",
      " [ 30810.5234188   -6517.24138601]\n",
      " [-26990.6538618   -5915.40136074]]\n",
      "prediction is:\n",
      " [[ 15898.244      779.972  ]\n",
      " [ -3435.8892    -934.43256]\n",
      " [ 32194.523    -6187.143  ]\n",
      " [-27549.979    -6046.672  ]]\n",
      "loss is: 967.4316\n"
     ]
    },
    {
     "name": "stderr",
     "output_type": "stream",
     "text": [
      " 86%|████████▌ | 43004/50000 [34:10<05:49, 19.99it/s]"
     ]
    },
    {
     "name": "stdout",
     "output_type": "stream",
     "text": [
      "save model\n",
      "learning_rate is:\n",
      " 1.728473e-05\n",
      "real location is:\n",
      " [[  6813.17490381 -10377.2414037 ]\n",
      " [ 20539.5481785   -9227.5357148 ]\n",
      " [  3863.26337047 -10541.6147523 ]\n",
      " [ 12659.6699597   -7720.54965029]]\n",
      "prediction is:\n",
      " [[ 5240.2363 -7639.541 ]\n",
      " [18637.734  -9130.268 ]\n",
      " [ 4379.0166 -1955.728 ]\n",
      " [11948.889  -6701.2314]]\n",
      "loss is: 2676.7927\n"
     ]
    },
    {
     "name": "stderr",
     "output_type": "stream",
     "text": [
      " 88%|████████▊ | 44003/50000 [34:57<05:11, 19.24it/s]"
     ]
    },
    {
     "name": "stdout",
     "output_type": "stream",
     "text": [
      "save model\n",
      "learning_rate is:\n",
      " 1.659334e-05\n",
      "real location is:\n",
      " [[    47.51623925    -82.99904694]\n",
      " [-22816.6536681   -5739.1665505 ]\n",
      " [-29561.8362974   -4476.44147069]\n",
      " [  3612.53427936    216.74569215]]\n",
      "prediction is:\n",
      " [[  -890.47876   -370.59534]\n",
      " [-22221.941    -5499.158  ]\n",
      " [-27471.01     -5325.9326 ]\n",
      " [  4411.534     1172.831  ]]\n",
      "loss is: 1054.0198\n"
     ]
    },
    {
     "name": "stderr",
     "output_type": "stream",
     "text": [
      " 90%|█████████ | 45004/50000 [35:45<04:10, 19.91it/s]"
     ]
    },
    {
     "name": "stdout",
     "output_type": "stream",
     "text": [
      "save model\n",
      "learning_rate is:\n",
      " 1.5929607e-05\n",
      "real location is:\n",
      " [[-28782.0541497  -18847.3889631 ]\n",
      " [ 24423.5601033   -9025.56433097]\n",
      " [  7307.27324347    -40.21035325]\n",
      " [ 26571.0393965   -8792.35011781]]\n",
      "prediction is:\n",
      " [[-30025.693   -19376.277  ]\n",
      " [ 25351.936    -8113.3555 ]\n",
      " [  6615.3457     -86.59814]\n",
      " [ 25718.066    -8700.428  ]]\n",
      "loss is: 825.9927\n"
     ]
    },
    {
     "name": "stderr",
     "output_type": "stream",
     "text": [
      " 92%|█████████▏| 46002/50000 [36:33<03:25, 19.49it/s]"
     ]
    },
    {
     "name": "stdout",
     "output_type": "stream",
     "text": [
      "save model\n",
      "learning_rate is:\n",
      " 1.5292422e-05\n",
      "real location is:\n",
      " [[ -4652.3932684   -9476.09644289]\n",
      " [ 12396.4826831   -3546.03895273]\n",
      " [ 30974.879205    -6108.85326699]\n",
      " [-22559.1969552   -5724.12351768]]\n",
      "prediction is:\n",
      " [[ -5028.963   -8719.327 ]\n",
      " [ 11590.283   -3436.567 ]\n",
      " [ 29962.73    -4996.5415]\n",
      " [-22369.684   -5583.1714]]\n",
      "loss is: 702.181\n"
     ]
    },
    {
     "name": "stderr",
     "output_type": "stream",
     "text": [
      " 94%|█████████▍| 47002/50000 [37:20<02:32, 19.65it/s]"
     ]
    },
    {
     "name": "stdout",
     "output_type": "stream",
     "text": [
      "save model\n",
      "learning_rate is:\n",
      " 1.4680725e-05\n",
      "real location is:\n",
      " [[-29216.7832712  -10180.6026318 ]\n",
      " [-29101.9238649   -7514.83323584]\n",
      " [ 20293.3020302     910.7872523 ]\n",
      " [-30554.790874    11477.1552758 ]]\n",
      "prediction is:\n",
      " [[-30334.004    -9463.604  ]\n",
      " [-29269.816    -7165.167  ]\n",
      " [ 18341.508      219.99173]\n",
      " [-28953.07      9899.238  ]]\n",
      "loss is: 1275.6277\n"
     ]
    },
    {
     "name": "stderr",
     "output_type": "stream",
     "text": [
      " 96%|█████████▌| 48003/50000 [38:08<01:43, 19.39it/s]"
     ]
    },
    {
     "name": "stdout",
     "output_type": "stream",
     "text": [
      "save model\n",
      "learning_rate is:\n",
      " 1.4093495e-05\n",
      "real location is:\n",
      " [[ 30466.647424      298.22309232]\n",
      " [ 31123.7124128   -5559.573766  ]\n",
      " [ -5301.5637803   -7897.50640615]\n",
      " [-21163.4926535   -5684.95932337]]\n",
      "prediction is:\n",
      " [[ 32130.213     -370.30615]\n",
      " [ 28439.535    -5934.9404 ]\n",
      " [ -5173.1865   -6998.4414 ]\n",
      " [-21080.441    -5679.0107 ]]\n",
      "loss is: 1015.3488\n"
     ]
    },
    {
     "name": "stderr",
     "output_type": "stream",
     "text": [
      " 98%|█████████▊| 49004/50000 [38:56<00:49, 20.10it/s]"
     ]
    },
    {
     "name": "stdout",
     "output_type": "stream",
     "text": [
      "save model\n",
      "learning_rate is:\n",
      " 1.3529755e-05\n",
      "real location is:\n",
      " [[-28764.8473152  -16527.9618919 ]\n",
      " [ -8239.7443964   -4796.46199795]\n",
      " [-30495.9220573    4474.5722186 ]\n",
      " [ 10079.810849    -9933.37416957]]\n",
      "prediction is:\n",
      " [[-29486.48   -13827.133 ]\n",
      " [ -7514.198   -4342.573 ]\n",
      " [-29733.398    3877.0215]\n",
      " [  9778.457   -9164.084 ]]\n",
      "loss is: 1097.2849\n"
     ]
    },
    {
     "name": "stderr",
     "output_type": "stream",
     "text": [
      "100%|██████████| 50000/50000 [39:43<00:00, 20.98it/s]"
     ]
    },
    {
     "name": "stdout",
     "output_type": "stream",
     "text": [
      "done!\n"
     ]
    },
    {
     "name": "stderr",
     "output_type": "stream",
     "text": [
      "\n"
     ]
    }
   ],
   "source": [
    "with tf.name_scope(\"input\"):\n",
    "    input_image = tf.placeholder(\"float\", [None, 448,448,6],name='input_image')\n",
    "#     input_image = tf.pad(image,np.array([[0, 0], [3, 3], [3, 3], [0, 0]]))\n",
    "    y_ = tf.placeholder(\"float\", [None, 2],name='y_') \n",
    "\n",
    "def weight_variable(shape):\n",
    "    initial = tf.truncated_normal(shape, stddev=0.1)\n",
    "    return tf.Variable(initial)\n",
    "\n",
    "def bias_variable(shape):\n",
    "    initial = tf.constant(0.1, shape = shape)\n",
    "    return tf.Variable(initial)\n",
    "\n",
    "def conv2d(x, W):\n",
    "    return tf.nn.conv2d(x, W, strides=[1, 1, 1, 1], padding=\"SAME\")\n",
    "\n",
    "def max_pool_2x2(x):\n",
    "    return tf.nn.max_pool(x, ksize=[1, 2, 2, 1], strides=[1, 2, 2, 1], padding=\"SAME\")\n",
    "\n",
    "\n",
    "W_conv0 = weight_variable([7, 7, 6, 64])\n",
    "b_conv0 = bias_variable([64])\n",
    "\n",
    "h_conv0 = tf.nn.leaky_relu(tf.nn.conv2d(input_image, W_conv0, strides=[1,2,2,1], padding=\"SAME\") + b_conv0)\n",
    "h_pool0 = max_pool_2x2(h_conv0)   #输出变成224*224*64 [None,224,224,64]\n",
    "\n",
    "# #第一层卷积层\n",
    "# #参数的前两维为卷积核的维度，第三个参数为当前层的深度，第四个为输出到层的深度\n",
    "\n",
    "W_conv1 = weight_variable([7, 7, 64, 64])\n",
    "b_conv1 = bias_variable([64])\n",
    "\n",
    "h_conv1 = tf.nn.leaky_relu(conv2d(h_pool0, W_conv1) + b_conv1)\n",
    "# h_conv1 = tf.nn.relu(tf.nn.conv2d(input_image, W_conv1, strides=[1,2,2,1], padding=\"SAME\") + b_conv1)\n",
    "h_pool1 = max_pool_2x2(h_conv1)   #输出变成112*112*64   [None,112,112,64]\n",
    "\n",
    "# #第一层卷积层\n",
    "# #参数的前两维为卷积核的维度，第三个参数为当前层的深度，第四个为输出到层的深度\n",
    "# W_conv1 = weight_variable([7, 7, 6, 64])\n",
    "# b_conv1 = bias_variable([64])\n",
    "\n",
    "# h_conv1 = tf.nn.relu(tf.nn.conv2d(input_image, W_conv1,strides=[1,2,2,1],padding=\"SAME\") + b_conv1)\n",
    "# h_pool1 = max_pool_2x2(h_conv1)   #输出变成112*112*64\n",
    "\n",
    "#第二层卷积层\n",
    "W_conv2 = weight_variable([3, 3, 64, 192])\n",
    "b_conv2 = bias_variable([192])\n",
    "\n",
    "h_conv2 = tf.nn.leaky_relu(conv2d(h_pool1, W_conv2) + b_conv2)\n",
    "h_pool2 = max_pool_2x2(h_conv2)  #输出变为56*56*192\n",
    "\n",
    "\n",
    "#第三层卷积层\n",
    "W_conv3 = weight_variable([3, 3, 192, 128])\n",
    "b_conv3 = bias_variable([128])\n",
    "\n",
    "h_conv3 = tf.nn.leaky_relu(conv2d(h_pool2, W_conv3) + b_conv3)\n",
    "h_pool3 = max_pool_2x2(h_conv3)   #输出为28*28*128\n",
    "\n",
    "\n",
    "#第四层卷积层\n",
    "W_conv4 = weight_variable([3, 3, 128, 64])\n",
    "b_conv4 = bias_variable([64])\n",
    "\n",
    "h_conv4 = tf.nn.leaky_relu(conv2d(h_pool3, W_conv4) + b_conv4)\n",
    "h_pool4 = max_pool_2x2(h_conv4)   #输出变为14*14*64\n",
    "\n",
    "\n",
    "#密集连接层1\n",
    "W_fc1 = weight_variable([14*14*64, 1024])\n",
    "b_fc1 = bias_variable([1024])\n",
    "\n",
    "h_pool2_flat = tf.reshape(h_pool4, [-1, 14*14*64])\n",
    "h_fc1 = tf.nn.leaky_relu(tf.matmul(h_pool2_flat, W_fc1) + b_fc1)   #输出为96*1024\n",
    "\n",
    "keep_prob = tf.placeholder(\"float\")\n",
    "#relu函数作用是求出max(h_fc1,0)\n",
    "h_fc1_drop1 = tf.nn.dropout(h_fc1, keep_prob)   #输出为96*1024\n",
    "\n",
    "\n",
    "#密集连接层2\n",
    "W_fc2 = weight_variable([1024, 512])\n",
    "b_fc2 = bias_variable([512])\n",
    "\n",
    "h_fc2 = tf.nn.leaky_relu(tf.matmul(h_fc1_drop1, W_fc2) + b_fc2)\n",
    "\n",
    "#relu函数作用是求出max(h_fc1,0)\n",
    "h_fc1_drop2 = tf.nn.dropout(h_fc2, keep_prob)\n",
    "\n",
    "#输出层softmax层\n",
    "W_fc3 = weight_variable([512, 2])\n",
    "\n",
    "y_conv = tf.matmul(h_fc1_drop2, W_fc3)\n",
    "# tf.summary.histogram('y_conv',y_conv)\n",
    "\n",
    "# batch_x = images[1:3]\n",
    "# batch_y = labels[1:3]\n",
    "# with tf.Session() as sess:\n",
    "#     sess.run(tf.global_variables_initializer())\n",
    "#     print(\"shape of outputs is:\",sess.run(tf.shape(y_conv),feed_dict={input_image:batch_x, \n",
    "#                                                                            y_:batch_y,keep_prob:1.0}))\n",
    "#         print(\"learning rate is :\",sess.run(learning_rate,feed_dict = {global_step:i}))\n",
    "\n",
    "\n",
    "starter_learning_rate = 0.0001\n",
    "steps_per_decay = 1000\n",
    "decay_factor = 0.96\n",
    " \n",
    "global_step = tf.Variable(tf.constant(0))\n",
    "learning_rate = tf.train.exponential_decay(learning_rate = starter_learning_rate,\n",
    "                                           global_step = global_step,\n",
    "                                           decay_steps = steps_per_decay,\n",
    "                                           decay_rate = decay_factor,\n",
    "                                           staircase = True\n",
    "                                           )\n",
    "\n",
    "  \n",
    "delta=tf.constant(1.25)\n",
    "#huber损失函数\n",
    "loss = tf.reduce_mean(tf.multiply(tf.square(delta),\n",
    "                                          tf.sqrt(1. + tf.square((y_ - y_conv)/delta)) - 1.))\n",
    "\n",
    "# cross_entropy = tf.reduce_sum(tf.square(y_-y_conv)) \n",
    "tf.summary.scalar(\"loss\",loss)\n",
    "\n",
    "train_step = tf.train.AdamOptimizer(learning_rate).minimize(loss)\n",
    "# train_step = tf.train.AdadeltaOptimizer(learning_rate).minimize(cross_entropy)\n",
    "# train_step = tf.train.RMSPropOptimizer(learning_rate).minimize(cross_entropy)\n",
    "\n",
    "# correct_prediction = tf.equal(tf.argmax(y_conv, 1), tf.argmax(y_, 1))\n",
    "# accuracy = tf.reduce_mean(tf.cast(correct_prediction, tf.float32))\n",
    "# tf.summary.scalar(\"accuracy\", accuracy)\n",
    "merged = tf.summary.merge_all()\n",
    "\n",
    "batch_size = 4                \n",
    "checkpointsPath = \"./checkpoints/\"\n",
    "reload = False\n",
    "\n",
    "with tf.Session() as sess:\n",
    "    sess.run(tf.global_variables_initializer())\n",
    "    #保存训练好的模型一遍下次使用\n",
    "    saver = tf.train.Saver()\n",
    "    writer = tf.summary.FileWriter(\"logs_dir/\", sess.graph)\n",
    "    \n",
    "    if not os.path.exists(checkpointsPath):\n",
    "        os.mkdir(checkpointsPath)\n",
    "    \n",
    "    if reload:\n",
    "        checkPoint = tf.train.get_checkpoint_state(checkpointsPath)\n",
    "        if checkPoint and checkPoint.model_checkpoint_path:\n",
    "            saver.restore(sess,checkPoint.model_checkpoint_path)\n",
    "            print(\"restored %s\" % checkPoint.model_checkpoint_path)\n",
    "        else:\n",
    "            print(\"no checkpoint found!\")\n",
    "        \n",
    "    for i in tqdm(range(50000)):\n",
    "        batch_x,batch_y = get_train_data_batch(batch_size)\n",
    "        batch_y = batch_y*1000\n",
    "        summary,_ = sess.run([merged,train_step],feed_dict={global_step:i,\n",
    "                                                            input_image:batch_x, \n",
    "                                                            y_:batch_y, \n",
    "                                                            keep_prob:0.8})\n",
    "        writer.add_summary(summary, i)\n",
    "        if (i % 1000) == 0 & (i != 0):\n",
    "            print(\"save model\")\n",
    "            print(\"learning_rate is:\\n\",sess.run(learning_rate,feed_dict = {global_step:i}))\n",
    "            print(\"real location is:\\n\",batch_y)\n",
    "            print(\"prediction is:\\n\",sess.run(y_conv,feed_dict={input_image:batch_x, y_:batch_y,keep_prob:1.0}))\n",
    "#             saver.save(sess, os.path.join(checkpointsPath,\"saved_net.ckpt\"), global_step=i)\n",
    "            print(\"loss is:\",sess.run(loss,feed_dict={input_image:batch_x, y_:batch_y, keep_prob:1.0}))\n",
    "    print(\"done!\")\n"
   ]
  },
  {
   "cell_type": "code",
   "execution_count": null,
   "metadata": {},
   "outputs": [],
   "source": []
  }
 ],
 "metadata": {
  "kernelspec": {
   "display_name": "Python 3",
   "language": "python",
   "name": "python3"
  },
  "language_info": {
   "codemirror_mode": {
    "name": "ipython",
    "version": 3
   },
   "file_extension": ".py",
   "mimetype": "text/x-python",
   "name": "python",
   "nbconvert_exporter": "python",
   "pygments_lexer": "ipython3",
   "version": "3.5.2"
  }
 },
 "nbformat": 4,
 "nbformat_minor": 2
}
