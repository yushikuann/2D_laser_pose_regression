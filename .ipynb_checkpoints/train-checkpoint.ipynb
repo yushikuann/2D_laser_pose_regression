{
 "cells": [
  {
   "cell_type": "code",
   "execution_count": 2,
   "metadata": {},
   "outputs": [],
   "source": [
    "import os\n",
    "import random\n",
    "import skimage.data\n",
    "from skimage import io\n",
    "import skimage.transform\n",
    "import matplotlib\n",
    "import matplotlib.pyplot as plt\n",
    "import numpy as np\n",
    "import tensorflow as tf\n",
    "from tqdm import tqdm"
   ]
  },
  {
   "cell_type": "code",
   "execution_count": 6,
   "metadata": {},
   "outputs": [
    {
     "name": "stdout",
     "output_type": "stream",
     "text": [
      "(4026, 448, 448, 3)\n",
      "(4026, 2)\n",
      "<class 'list'>\n"
     ]
    }
   ],
   "source": [
    "def load_data(pic_dir,label_dir):\n",
    "    \n",
    "    train_txt = os.path.join(label_dir,\"label.txt\")\n",
    "     \n",
    "    labels = []\n",
    "    images = []\n",
    "    with open(train_txt,'r') as f:\n",
    "        all_file_name = [x.strip() for x in f.readlines()]\n",
    "#         print(all_file_name)abs\n",
    "        \n",
    "        for fil in all_file_name:\n",
    "            img = skimage.data.imread(os.path.join(pic_dir,fil.split(\";\")[0]))\n",
    "#             img = skimage.transform.resize(img,(448,448),mode='constant')\n",
    "            images.append(img)\n",
    "            label = fil.split(\";\")[1:3]\n",
    "#             label = list(map(int, label))\n",
    "            labels.append(label)\n",
    "    return images, labels\n",
    "\n",
    "label_dir = \"/home/ysk/code/tensorflowcode/laser_scan_cnn_localition/datasets1\"\n",
    "pic_dir = \"/home/ysk/code/tensorflowcode/laser_scan_cnn_localition/datasets1/picture\"\n",
    "\n",
    "images, labels = load_data(pic_dir,label_dir)\n",
    "print(np.shape(images))\n",
    "print(np.shape(labels))\n",
    "# print(type(images[0]))\n",
    "print(type(labels[0]))\n",
    "\n",
    "# print(type(np.array(images)[0]))\n",
    "\n",
    "# print(images,labels)"
   ]
  },
  {
   "cell_type": "code",
   "execution_count": null,
   "metadata": {},
   "outputs": [],
   "source": []
  },
  {
   "cell_type": "code",
   "execution_count": 3,
   "metadata": {},
   "outputs": [
    {
     "name": "stdout",
     "output_type": "stream",
     "text": [
      "(5, 448, 448, 3)\n",
      "(5, 1, 2)\n"
     ]
    }
   ],
   "source": [
    "def next_batch(num, data, labels):\n",
    "    idx = np.arange(0 , len(data))\n",
    "    np.random.shuffle(idx)\n",
    "    idx = idx[:num]\n",
    "    data_shuffle = [data[i] for i in idx]\n",
    "    labels_shuffle = [labels[i] for i in idx]\n",
    "    return np.asarray(data_shuffle), np.asarray(labels_shuffle)\n",
    "\n",
    "X, Y = next_batch(5, images, labels)\n",
    "print(np.shape(X))\n",
    "print(np.shape(Y))\n",
    "    "
   ]
  },
  {
   "cell_type": "code",
   "execution_count": 4,
   "metadata": {},
   "outputs": [],
   "source": [
    "# with tf.Session() as sess:\n",
    "#     sess.run(tf.global_variables_initializer())\n",
    "#     x1,y1 = next_batch(2,images,labels)\n",
    "#     print(y1)\n",
    "#     x2,y2 = next_batch(2,images,labels)\n",
    "#     print(y2)\n",
    "#     print(sess.run(tf.reduce_sum(tf.square(y1-y2))))\n",
    "# #     print(sess.run(tf.reduce_sum(tf.square(int(y1[0][0][:2])-int(y2[0][0][:2])))))\n",
    "# #                    tf.reduce_sum(tf.square(y1[2:]-y2[2:]/sqrt(tf.square(y2[2:][0] + y2[2:][1]))))))"
   ]
  },
  {
   "cell_type": "code",
   "execution_count": 5,
   "metadata": {
    "scrolled": true
   },
   "outputs": [
    {
     "name": "stdout",
     "output_type": "stream",
     "text": [
      "INFO:tensorflow:Restoring parameters from ./checkpoints/saved_net.ckpt-29000\n"
     ]
    },
    {
     "name": "stderr",
     "output_type": "stream",
     "text": [
      "\r",
      "  0%|          | 0/30000 [00:00<?, ?it/s]"
     ]
    },
    {
     "name": "stdout",
     "output_type": "stream",
     "text": [
      "restored ./checkpoints/saved_net.ckpt-29000\n"
     ]
    },
    {
     "name": "stderr",
     "output_type": "stream",
     "text": [
      "\r",
      "  0%|          | 1/30000 [00:01<9:23:59,  1.13s/it]"
     ]
    },
    {
     "name": "stdout",
     "output_type": "stream",
     "text": [
      "save model\n",
      "loss is: 8063.919\n"
     ]
    },
    {
     "name": "stderr",
     "output_type": "stream",
     "text": [
      "  3%|▎         | 1000/30000 [00:36<16:34, 29.15it/s]"
     ]
    },
    {
     "name": "stdout",
     "output_type": "stream",
     "text": [
      "save model\n",
      "loss is: 4108.0327\n"
     ]
    },
    {
     "name": "stderr",
     "output_type": "stream",
     "text": [
      "  7%|▋         | 2002/30000 [01:12<23:14, 20.07it/s]"
     ]
    },
    {
     "name": "stdout",
     "output_type": "stream",
     "text": [
      "save model\n",
      "loss is: 6984.824\n"
     ]
    },
    {
     "name": "stderr",
     "output_type": "stream",
     "text": [
      " 10%|█         | 3001/30000 [01:47<23:09, 19.43it/s]"
     ]
    },
    {
     "name": "stdout",
     "output_type": "stream",
     "text": [
      "save model\n",
      "loss is: 6366.466\n"
     ]
    },
    {
     "name": "stderr",
     "output_type": "stream",
     "text": [
      " 13%|█▎        | 4000/30000 [02:22<14:50, 29.20it/s]"
     ]
    },
    {
     "name": "stdout",
     "output_type": "stream",
     "text": [
      "save model\n",
      "loss is: 5308.958\n"
     ]
    },
    {
     "name": "stderr",
     "output_type": "stream",
     "text": [
      " 17%|█▋        | 5002/30000 [02:57<20:42, 20.13it/s]"
     ]
    },
    {
     "name": "stdout",
     "output_type": "stream",
     "text": [
      "save model\n",
      "loss is: 5155.789\n"
     ]
    },
    {
     "name": "stderr",
     "output_type": "stream",
     "text": [
      " 20%|██        | 6001/30000 [03:31<20:16, 19.73it/s]"
     ]
    },
    {
     "name": "stdout",
     "output_type": "stream",
     "text": [
      "save model\n",
      "loss is: 9191.755\n"
     ]
    },
    {
     "name": "stderr",
     "output_type": "stream",
     "text": [
      " 23%|██▎       | 7000/30000 [04:06<13:23, 28.61it/s]"
     ]
    },
    {
     "name": "stdout",
     "output_type": "stream",
     "text": [
      "save model\n",
      "loss is: 10401.895\n"
     ]
    },
    {
     "name": "stderr",
     "output_type": "stream",
     "text": [
      " 27%|██▋       | 8002/30000 [04:42<18:51, 19.44it/s]"
     ]
    },
    {
     "name": "stdout",
     "output_type": "stream",
     "text": [
      "save model\n",
      "loss is: 5951.4746\n"
     ]
    },
    {
     "name": "stderr",
     "output_type": "stream",
     "text": [
      " 30%|███       | 9001/30000 [05:18<18:22, 19.04it/s]"
     ]
    },
    {
     "name": "stdout",
     "output_type": "stream",
     "text": [
      "save model\n",
      "loss is: 7274.587\n"
     ]
    },
    {
     "name": "stderr",
     "output_type": "stream",
     "text": [
      " 33%|███▎      | 10000/30000 [05:53<11:38, 28.64it/s]"
     ]
    },
    {
     "name": "stdout",
     "output_type": "stream",
     "text": [
      "save model\n",
      "loss is: 8224.807\n"
     ]
    },
    {
     "name": "stderr",
     "output_type": "stream",
     "text": [
      " 37%|███▋      | 11002/30000 [06:28<16:10, 19.58it/s]"
     ]
    },
    {
     "name": "stdout",
     "output_type": "stream",
     "text": [
      "save model\n",
      "loss is: 7888.993\n"
     ]
    },
    {
     "name": "stderr",
     "output_type": "stream",
     "text": [
      " 40%|████      | 12001/30000 [07:03<15:11, 19.75it/s]"
     ]
    },
    {
     "name": "stdout",
     "output_type": "stream",
     "text": [
      "save model\n",
      "loss is: 8194.697\n"
     ]
    },
    {
     "name": "stderr",
     "output_type": "stream",
     "text": [
      " 43%|████▎     | 13000/30000 [07:38<09:52, 28.67it/s]"
     ]
    },
    {
     "name": "stdout",
     "output_type": "stream",
     "text": [
      "save model\n",
      "loss is: 9154.52\n"
     ]
    },
    {
     "name": "stderr",
     "output_type": "stream",
     "text": [
      " 47%|████▋     | 14002/30000 [08:13<13:30, 19.75it/s]"
     ]
    },
    {
     "name": "stdout",
     "output_type": "stream",
     "text": [
      "save model\n",
      "loss is: 2141.2217\n"
     ]
    },
    {
     "name": "stderr",
     "output_type": "stream",
     "text": [
      " 50%|█████     | 15001/30000 [08:48<12:47, 19.53it/s]"
     ]
    },
    {
     "name": "stdout",
     "output_type": "stream",
     "text": [
      "save model\n",
      "loss is: 3968.816\n"
     ]
    },
    {
     "name": "stderr",
     "output_type": "stream",
     "text": [
      " 53%|█████▎    | 16000/30000 [09:23<08:08, 28.66it/s]"
     ]
    },
    {
     "name": "stdout",
     "output_type": "stream",
     "text": [
      "save model\n",
      "loss is: 5462.673\n"
     ]
    },
    {
     "name": "stderr",
     "output_type": "stream",
     "text": [
      " 57%|█████▋    | 17002/30000 [09:58<10:56, 19.79it/s]"
     ]
    },
    {
     "name": "stdout",
     "output_type": "stream",
     "text": [
      "save model\n",
      "loss is: 10938.555\n"
     ]
    },
    {
     "name": "stderr",
     "output_type": "stream",
     "text": [
      " 60%|██████    | 18001/30000 [10:33<10:13, 19.56it/s]"
     ]
    },
    {
     "name": "stdout",
     "output_type": "stream",
     "text": [
      "save model\n",
      "loss is: 5208.772\n"
     ]
    },
    {
     "name": "stderr",
     "output_type": "stream",
     "text": [
      " 63%|██████▎   | 19000/30000 [11:08<06:23, 28.66it/s]"
     ]
    },
    {
     "name": "stdout",
     "output_type": "stream",
     "text": [
      "save model\n",
      "loss is: 8058.4014\n"
     ]
    },
    {
     "name": "stderr",
     "output_type": "stream",
     "text": [
      " 67%|██████▋   | 19999/30000 [11:43<05:49, 28.65it/s]"
     ]
    },
    {
     "name": "stdout",
     "output_type": "stream",
     "text": [
      "save model\n"
     ]
    },
    {
     "name": "stderr",
     "output_type": "stream",
     "text": [
      " 67%|██████▋   | 20005/30000 [11:44<11:03, 15.06it/s]"
     ]
    },
    {
     "name": "stdout",
     "output_type": "stream",
     "text": [
      "loss is: 9507.287\n"
     ]
    },
    {
     "name": "stderr",
     "output_type": "stream",
     "text": [
      " 70%|███████   | 21001/30000 [12:19<07:34, 19.80it/s]"
     ]
    },
    {
     "name": "stdout",
     "output_type": "stream",
     "text": [
      "save model\n",
      "loss is: 7440.605\n"
     ]
    },
    {
     "name": "stderr",
     "output_type": "stream",
     "text": [
      " 73%|███████▎  | 22000/30000 [12:54<04:38, 28.69it/s]"
     ]
    },
    {
     "name": "stdout",
     "output_type": "stream",
     "text": [
      "save model\n",
      "loss is: 7546.6934\n"
     ]
    },
    {
     "name": "stderr",
     "output_type": "stream",
     "text": [
      " 77%|███████▋  | 23002/30000 [13:29<05:54, 19.76it/s]"
     ]
    },
    {
     "name": "stdout",
     "output_type": "stream",
     "text": [
      "save model\n",
      "loss is: 8955.975\n"
     ]
    },
    {
     "name": "stderr",
     "output_type": "stream",
     "text": [
      " 80%|████████  | 24001/30000 [14:04<05:09, 19.36it/s]"
     ]
    },
    {
     "name": "stdout",
     "output_type": "stream",
     "text": [
      "save model\n",
      "loss is: 5131.9326\n"
     ]
    },
    {
     "name": "stderr",
     "output_type": "stream",
     "text": [
      " 83%|████████▎ | 25000/30000 [14:39<02:51, 29.08it/s]"
     ]
    },
    {
     "name": "stdout",
     "output_type": "stream",
     "text": [
      "save model\n"
     ]
    },
    {
     "name": "stderr",
     "output_type": "stream",
     "text": [
      " 83%|████████▎ | 25006/30000 [14:40<05:42, 14.59it/s]"
     ]
    },
    {
     "name": "stdout",
     "output_type": "stream",
     "text": [
      "loss is: 10745.11\n"
     ]
    },
    {
     "name": "stderr",
     "output_type": "stream",
     "text": [
      " 87%|████████▋ | 25999/30000 [15:15<02:25, 27.47it/s]"
     ]
    },
    {
     "name": "stdout",
     "output_type": "stream",
     "text": [
      "save model\n"
     ]
    },
    {
     "name": "stderr",
     "output_type": "stream",
     "text": [
      " 87%|████████▋ | 26005/30000 [15:15<04:17, 15.49it/s]"
     ]
    },
    {
     "name": "stdout",
     "output_type": "stream",
     "text": [
      "loss is: 3777.56\n"
     ]
    },
    {
     "name": "stderr",
     "output_type": "stream",
     "text": [
      " 90%|████████▉ | 26998/30000 [15:50<01:44, 28.71it/s]"
     ]
    },
    {
     "name": "stdout",
     "output_type": "stream",
     "text": [
      "save model\n"
     ]
    },
    {
     "name": "stderr",
     "output_type": "stream",
     "text": [
      " 90%|█████████ | 27004/30000 [15:51<02:57, 16.85it/s]"
     ]
    },
    {
     "name": "stdout",
     "output_type": "stream",
     "text": [
      "loss is: 6821.403\n"
     ]
    },
    {
     "name": "stderr",
     "output_type": "stream",
     "text": [
      " 93%|█████████▎| 28000/30000 [16:25<01:09, 28.67it/s]"
     ]
    },
    {
     "name": "stdout",
     "output_type": "stream",
     "text": [
      "save model\n"
     ]
    },
    {
     "name": "stderr",
     "output_type": "stream",
     "text": [
      " 93%|█████████▎| 28006/30000 [16:26<01:58, 16.85it/s]"
     ]
    },
    {
     "name": "stdout",
     "output_type": "stream",
     "text": [
      "loss is: 5052.725\n"
     ]
    },
    {
     "name": "stderr",
     "output_type": "stream",
     "text": [
      " 97%|█████████▋| 28999/30000 [17:01<00:35, 28.22it/s]"
     ]
    },
    {
     "name": "stdout",
     "output_type": "stream",
     "text": [
      "save model\n"
     ]
    },
    {
     "name": "stderr",
     "output_type": "stream",
     "text": [
      " 97%|█████████▋| 29005/30000 [17:01<00:59, 16.64it/s]"
     ]
    },
    {
     "name": "stdout",
     "output_type": "stream",
     "text": [
      "loss is: 5585.036\n"
     ]
    },
    {
     "name": "stderr",
     "output_type": "stream",
     "text": [
      "100%|██████████| 30000/30000 [17:36<00:00, 28.40it/s]"
     ]
    },
    {
     "name": "stdout",
     "output_type": "stream",
     "text": [
      "done!\n"
     ]
    },
    {
     "name": "stderr",
     "output_type": "stream",
     "text": [
      "\n"
     ]
    }
   ],
   "source": [
    "with tf.name_scope(\"input\"):\n",
    "    input_image = tf.placeholder(\"float\", [None, 448,448,3],name='input_image')\n",
    "#     input_image = tf.pad(image,np.array([[0, 0], [3, 3], [3, 3], [0, 0]]))\n",
    "    y_ = tf.placeholder(\"float\", [None, 1, 2],name='y_') \n",
    "\n",
    "def weight_variable(shape):\n",
    "    initial = tf.truncated_normal(shape, stddev=0.1)\n",
    "    return tf.Variable(initial)\n",
    "\n",
    "def bias_variable(shape):\n",
    "    initial = tf.constant(0.1, shape = shape)\n",
    "    return tf.Variable(initial)\n",
    "\n",
    "def conv2d(x, W):\n",
    "    #卷积函数实现卷积层的前向传播\n",
    "    #其中第一个参数ｘ为当前节点的矩阵，为一个４维矩阵\n",
    "    #第二个参数为卷积核的值\n",
    "    #第三个参数为不同维度的步长第一个和最后一个参数必须为１\n",
    "    #第四个参数为填充，SAME为０添加，VALLD为不添加\n",
    "    return tf.nn.conv2d(x, W, strides=[1, 1, 1, 1], padding=\"SAME\")\n",
    "    #返回值仍然是一个４维的tensor\n",
    "    #第一维为batch数量\n",
    "    #第二维和第三维表示卷积层的维度，由输入层和卷集核以及移动步长共同决定\n",
    "    #第四维的参数为自己定义的卷积层的深度\n",
    "\n",
    "def max_pool_2x2(x):\n",
    "    return tf.nn.max_pool(x, ksize=[1, 2, 2, 1], strides=[1, 2, 2, 1], padding=\"SAME\")\n",
    "\n",
    "#第一层卷积层\n",
    "#参数的前两维为卷积核的维度，第三个参数为当前层的深度，第四个为输出到层的深度\n",
    "W_conv1 = weight_variable([7, 7, 3, 64])\n",
    "b_conv1 = bias_variable([64])\n",
    "\n",
    "h_conv1 = tf.nn.relu(tf.nn.conv2d(input_image, W_conv1,strides=[1,2,2,1],padding=\"SAME\") + b_conv1)\n",
    "h_pool1 = max_pool_2x2(h_conv1)   #输出变成112*112*64\n",
    "\n",
    "#第二层卷积层\n",
    "W_conv2 = weight_variable([3, 3, 64, 192])\n",
    "b_conv2 = bias_variable([192])\n",
    "\n",
    "h_conv2 = tf.nn.relu(conv2d(h_pool1, W_conv2) + b_conv2)\n",
    "h_pool2 = max_pool_2x2(h_conv2)  #输出变为56*56*192\n",
    "\n",
    "\n",
    "#第三层卷积层\n",
    "W_conv3 = weight_variable([3, 3, 192, 128])\n",
    "b_conv3 = bias_variable([128])\n",
    "\n",
    "h_conv3 = tf.nn.relu(conv2d(h_pool2, W_conv3) + b_conv3)\n",
    "h_pool3 = max_pool_2x2(h_conv3)   #输出为28*28*128\n",
    "\n",
    "\n",
    "#第四层卷积层\n",
    "W_conv4 = weight_variable([3, 3, 128, 64])\n",
    "b_conv4 = bias_variable([64])\n",
    "\n",
    "h_conv4 = tf.nn.relu(conv2d(h_pool3, W_conv4) + b_conv4)\n",
    "h_pool4 = max_pool_2x2(h_conv4)   #输出变为14*14*64\n",
    "\n",
    "\n",
    "#密集连接层1\n",
    "W_fc1 = weight_variable([14*14*64, 1024])\n",
    "b_fc1 = bias_variable([1024])\n",
    "\n",
    "h_pool2_flat = tf.reshape(h_pool4, [-1, 14*14*64])\n",
    "h_fc1 = tf.nn.relu(tf.matmul(h_pool2_flat, W_fc1) + b_fc1)   #输出为96*1024\n",
    "\n",
    "keep_prob = tf.placeholder(\"float\")\n",
    "#relu函数作用是求出max(h_fc1,0)\n",
    "h_fc1_drop1 = tf.nn.dropout(h_fc1, keep_prob)   #输出为96*1024\n",
    "\n",
    "\n",
    "#密集连接层2\n",
    "W_fc2 = weight_variable([1024, 512])\n",
    "b_fc2 = bias_variable([512])\n",
    "\n",
    "h_fc2 = tf.nn.relu(tf.matmul(h_fc1_drop1, W_fc2) + b_fc2)\n",
    "\n",
    "#relu函数作用是求出max(h_fc1,0)\n",
    "h_fc1_drop2 = tf.nn.dropout(h_fc2, keep_prob)\n",
    "\n",
    "#输出层softmax层\n",
    "W_fc3 = weight_variable([512, 2])\n",
    "\n",
    "y_conv = tf.matmul(h_fc1_drop2, W_fc3)\n",
    "# tf.summary.histogram('y_conv',y_conv)\n",
    "\n",
    "# batch_x = images[1:3]\n",
    "# batch_y = labels[1:3]\n",
    "# with tf.Session() as sess:\n",
    "#     sess.run(tf.global_variables_initializer())\n",
    "#     print(\"shape of outputs is:\",sess.run(tf.shape(y_conv),feed_dict={input_image:batch_x, \n",
    "#                                                                            y_:batch_y,keep_prob:1.0}))\n",
    "\n",
    "# cross_entropy = -tf.reduce_sum(y_*tf.log(y_conv))\n",
    "\n",
    "\n",
    "starter_learning_rate = 0.0001\n",
    "steps_per_decay = 10\n",
    "decay_factor = 0.9\n",
    " \n",
    "global_step = tf.Variable(0, trainable=False)\n",
    "learning_rate = tf.train.exponential_decay(learning_rate = starter_learning_rate,\n",
    "                                           global_step = global_step,\n",
    "                                           decay_steps = steps_per_decay,\n",
    "                                           decay_rate = decay_factor,\n",
    "                                           staircase = True,#If `True` decay the learning rate at discrete intervals\n",
    "                                           #staircase = False,change learning rate at every step\n",
    "                                           )\n",
    "  \n",
    "cross_entropy = tf.reduce_sum(tf.square(y_-y_conv)) \n",
    "tf.summary.scalar(\"cross_entropy\",cross_entropy)\n",
    "\n",
    "train_step = tf.train.AdamOptimizer(learning_rate).minimize(cross_entropy)\n",
    "# correct_prediction = tf.equal(tf.argmax(y_conv, 1), tf.argmax(y_, 1))\n",
    "# accuracy = tf.reduce_mean(tf.cast(correct_prediction, tf.float32))\n",
    "# tf.summary.scalar(\"accuracy\", accuracy)\n",
    "merged = tf.summary.merge_all()\n",
    "\n",
    "batch_size = 4\n",
    "n_batch = len(labels) // batch_size + 1\n",
    "                \n",
    "checkpointsPath = \"./checkpoints/\"\n",
    "reload = True\n",
    "with tf.Session() as sess:\n",
    "    sess.run(tf.global_variables_initializer())\n",
    "    #保存训练好的模型一遍下次使用\n",
    "    saver = tf.train.Saver()\n",
    "    writer = tf.summary.FileWriter(\"logs_dir/\", sess.graph)\n",
    "    \n",
    "    if not os.path.exists(checkpointsPath):\n",
    "        os.mkdir(checkpointsPath)\n",
    "    \n",
    "    if reload:\n",
    "        checkPoint = tf.train.get_checkpoint_state(checkpointsPath)\n",
    "        if checkPoint and checkPoint.model_checkpoint_path:\n",
    "            saver.restore(sess,checkPoint.model_checkpoint_path)\n",
    "            print(\"restored %s\" % checkPoint.model_checkpoint_path)\n",
    "        else:\n",
    "            print(\"no checkpoint found!\")\n",
    "        \n",
    "    for i in tqdm(range(30000)):\n",
    "#         print(\"opoch:\",epoch)\n",
    "#         for i in tqdm(range(10000)):\n",
    "        batch_x,batch_y = next_batch(batch_size, images, labels)\n",
    "        summary,_ = sess.run([merged,train_step],feed_dict={input_image:batch_x, y_:batch_y, keep_prob:0.8})\n",
    "        writer.add_summary(summary, i)\n",
    "        #保存训练好的模型函数　第三个参数是想将训练的次数作为后缀加入到文件的名称中去\n",
    "#         saver.save(sess, checkpointsPath +  \"/save_net.ckpt\")\n",
    "        if i % 1000 == 0: # prevent save at the beginning\n",
    "            print(\"save model\")\n",
    "            saver.save(sess, os.path.join(checkpointsPath,\"saved_net.ckpt\"), global_step=i)\n",
    "            batch_x,batch_y = next_batch(batch_size, images, labels)\n",
    "            print(\"loss is:\",sess.run(cross_entropy,feed_dict={input_image:batch_x, y_:batch_y, keep_prob:1.0}))\n",
    "    print(\"done!\")\n"
   ]
  },
  {
   "cell_type": "code",
   "execution_count": null,
   "metadata": {},
   "outputs": [],
   "source": []
  }
 ],
 "metadata": {
  "kernelspec": {
   "display_name": "Python 3",
   "language": "python",
   "name": "python3"
  },
  "language_info": {
   "codemirror_mode": {
    "name": "ipython",
    "version": 3
   },
   "file_extension": ".py",
   "mimetype": "text/x-python",
   "name": "python",
   "nbconvert_exporter": "python",
   "pygments_lexer": "ipython3",
   "version": "3.5.2"
  }
 },
 "nbformat": 4,
 "nbformat_minor": 2
}
