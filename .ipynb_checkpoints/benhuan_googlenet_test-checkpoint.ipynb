{
 "cells": [
  {
   "cell_type": "code",
   "execution_count": 1,
   "metadata": {},
   "outputs": [],
   "source": [
    "# import tensorflow as tf\n",
    "# import tensorflow.contrib.layers as layers\n",
    "# import tensorflow.contrib.framework as ops\n",
    "\n",
    "# def get_inception_layer( inputs, conv11_size, conv33_11_size, conv33_size,\n",
    "#                          conv55_11_size, conv55_size, pool11_size ):\n",
    "#     with tf.variable_scope(\"conv_1x1\"):\n",
    "#         conv11 = layers.conv2d( inputs, conv11_size, [ 1, 1 ] )\n",
    "#     with tf.variable_scope(\"conv_3x3\"):\n",
    "#         conv33_11 = layers.conv2d( inputs, conv33_11_size, [ 1, 1 ] )\n",
    "#         conv33 = layers.conv2d( conv33_11, conv33_size, [ 3, 3 ] )\n",
    "#     with tf.variable_scope(\"conv_5x5\"):\n",
    "#         conv55_11 = layers.conv2d( inputs, conv55_11_size, [ 1, 1 ] )\n",
    "#         conv55 = layers.conv2d( conv55_11, conv55_size, [ 5, 5 ] )\n",
    "#     with tf.variable_scope(\"pool_proj\"):\n",
    "#         pool_proj = layers.max_pool2d( inputs, [ 3, 3 ], stride = 1 )\n",
    "#         pool11 = layers.conv2d( pool_proj, pool11_size, [ 1, 1 ] )\n",
    "#     if tf.__version__ == '0.11.0rc0':\n",
    "#         return tf.concat(3, [conv11, conv33, conv55, pool11])\n",
    "#     return tf.concat([conv11, conv33, conv55, pool11], 3)\n",
    "\n",
    "# def aux_logit_layer( inputs, num_classes, is_training ):\n",
    "#     with tf.variable_scope(\"pool2d\"):\n",
    "#         pooled = layers.avg_pool2d(inputs, [ 5, 5 ], stride = 3 )\n",
    "#     with tf.variable_scope(\"conv11\"):\n",
    "#         conv11 = layers.conv2d( pooled, 128, [1, 1] )\n",
    "#     with tf.variable_scope(\"flatten\"):\n",
    "#         flat = tf.reshape( conv11, [-1, 2048] )\n",
    "#     with tf.variable_scope(\"fc\"):\n",
    "#         fc = layers.fully_connected( flat, 1024, activation_fn=None )\n",
    "#     with tf.variable_scope(\"drop\"):\n",
    "#         drop = layers.dropout( fc, 0.3, is_training = is_training )\n",
    "#     with tf.variable_scope( \"linear\" ):\n",
    "#         linear = layers.fully_connected( drop, num_classes, activation_fn=None )\n",
    "#     with tf.variable_scope(\"soft\"):\n",
    "#         soft = tf.nn.softmax( linear )\n",
    "#     return soft\n",
    "\n",
    "# def googlenet(inputs,\n",
    "#               dropout_keep_prob=0.4,\n",
    "#               num_classes=1000,\n",
    "#               is_training=True,\n",
    "#               restore_logits = None,\n",
    "#               scope=''):\n",
    "#     '''\n",
    "#     Implementation of https://arxiv.org/pdf/1409.4842.pdf\n",
    "#     '''\n",
    "\n",
    "#     end_points = {}\n",
    "#     with tf.name_scope( scope, \"googlenet\", [inputs] ):\n",
    "#         with ops.arg_scope( [ layers.max_pool2d ], padding = 'SAME' ):\n",
    "#             end_points['conv0'] = layers.conv2d( inputs, 64, [ 7, 7 ], stride = 2, scope = 'conv0' )\n",
    "#             end_points['pool0'] = layers.max_pool2d(end_points['conv0'], [3, 3], scope='pool0')\n",
    "#             end_points['conv1_a'] = layers.conv2d( end_points['pool0'], 64, [ 1, 1 ], scope = 'conv1_a' )\n",
    "#             end_points['conv1_b'] = layers.conv2d( end_points['conv1_a'], 192, [ 3, 3 ], scope = 'conv1_b' )\n",
    "#             end_points['pool1'] = layers.max_pool2d(end_points['conv1_b'], [ 3, 3 ], scope='pool1')\n",
    "\n",
    "#             with tf.variable_scope(\"inception_3a\"):\n",
    "#                 end_points['inception_3a'] = get_inception_layer( end_points['pool1'], 64, 96, 128, 16, 32, 32 )\n",
    "\n",
    "#             with tf.variable_scope(\"inception_3b\"):\n",
    "#                 end_points['inception_3b'] = get_inception_layer( end_points['inception_3a'], 128, 128, 192, 32, 96, 64 )\n",
    "\n",
    "#             end_points['pool2'] = layers.max_pool2d(end_points['inception_3b'], [ 3, 3 ], scope='pool2')\n",
    "\n",
    "#             with tf.variable_scope(\"inception_4a\"):\n",
    "#                 end_points['inception_4a'] = get_inception_layer( end_points['pool2'], 192, 96, 208, 16, 48, 64 )\n",
    "\n",
    "#             with tf.variable_scope(\"aux_logits_1\"):\n",
    "#                 end_points['aux_logits_1'] = aux_logit_layer( end_points['inception_4a'], num_classes, is_training )\n",
    "\n",
    "#             with tf.variable_scope(\"inception_4b\"):\n",
    "#                 end_points['inception_4b'] = get_inception_layer( end_points['inception_4a'], 160, 112, 224, 24, 64, 64 )\n",
    "\n",
    "#             with tf.variable_scope(\"inception_4c\"):\n",
    "#                 end_points['inception_4c'] = get_inception_layer( end_points['inception_4b'], 128, 128, 256, 24, 64, 64 )\n",
    "\n",
    "#             with tf.variable_scope(\"inception_4d\"):\n",
    "#                 end_points['inception_4d'] = get_inception_layer( end_points['inception_4c'], 112, 144, 288, 32, 64, 64 )\n",
    "\n",
    "#             with tf.variable_scope(\"aux_logits_2\"):\n",
    "#                 end_points['aux_logits_2'] = aux_logit_layer( end_points['inception_4d'], num_classes, is_training )\n",
    "\n",
    "#             with tf.variable_scope(\"inception_4e\"):\n",
    "#                 end_points['inception_4e'] = get_inception_layer( end_points['inception_4d'], 256, 160, 320, 32, 128, 128 )\n",
    "\n",
    "#             end_points['pool3'] = layers.max_pool2d(end_points['inception_4e'], [ 3, 3 ], scope='pool3')\n",
    "\n",
    "#             with tf.variable_scope(\"inception_5a\"):\n",
    "#                 end_points['inception_5a'] = get_inception_layer( end_points['pool3'], 256, 160, 320, 32, 128, 128 )\n",
    "\n",
    "#             with tf.variable_scope(\"inception_5b\"):\n",
    "#                 end_points['inception_5b'] = get_inception_layer( end_points['inception_5a'], 384, 192, 384, 48, 128, 128 )\n",
    "\n",
    "#             end_points['pool4'] = layers.avg_pool2d(end_points['inception_5b'], [ 7, 7 ], stride = 1, scope='pool4')\n",
    "\n",
    "#             end_points['reshape'] = tf.reshape( end_points['pool4'], [-1, 1024] )\n",
    "            \n",
    "#             end_points['dropout'] = layers.dropout( end_points['reshape'], dropout_keep_prob, is_training = is_training )\n",
    "\n",
    "#             end_points['logits'] = layers.fully_connected( end_points['dropout'], num_classes, activation_fn=None, scope='logits')\n",
    "\n",
    "#             end_points['predictions'] = tf.nn.softmax(end_points['logits'], name='predictions')\n",
    "\n",
    "# return end_points['logits'], end_points\n",
    "\n"
   ]
  },
  {
   "cell_type": "code",
   "execution_count": 2,
   "metadata": {},
   "outputs": [],
   "source": [
    "import os\n",
    "import random\n",
    "import skimage.data\n",
    "from skimage import io\n",
    "import skimage.transform as skt\n",
    "import numpy as np\n",
    "import tensorflow as tf\n",
    "from tqdm import tqdm\n",
    "import sys\n",
    "sys.path.remove('/opt/ros/kinetic/lib/python2.7/dist-packages')\n",
    "import cv2"
   ]
  },
  {
   "cell_type": "code",
   "execution_count": 3,
   "metadata": {},
   "outputs": [
    {
     "name": "stdout",
     "output_type": "stream",
     "text": [
      "(10, 448, 448, 3)\n",
      "(10, 3)\n",
      "[[  2.96249453   0.17870776 174.83316586]\n",
      " [-20.5715743   13.52770069 -91.50924091]\n",
      " [ 10.66990175  40.23628137 138.96627871]\n",
      " [ 10.1110921   40.69398485 -34.74403543]\n",
      " [ 20.87803923  12.8696339  -94.36841915]\n",
      " [-20.74057649  16.37742622 -90.13204313]\n",
      " [ 20.9528216   13.75658592 -94.99754867]\n",
      " [ 20.3234272   30.9724731  119.67180744]\n",
      " [ 20.60945605  23.40764799  92.41932075]\n",
      " [  2.62636595  41.16450311   2.53458241]]\n"
     ]
    }
   ],
   "source": [
    "train_label_dir = \"/home/ysk/catkin_ws/laser_pic_code/pic/regression_benhuan448_angle\"\n",
    "train_pic_dir = \"/home/ysk/catkin_ws/laser_pic_code/pic/regression_benhuan448_angle/picture\"\n",
    "train_submap_dir = \"/home/ysk/catkin_ws/laser_pic_code/pic/regression_benhuan448_angle/submap\"\n",
    "\n",
    "def get_train_data_batch(num, pic_dir=train_pic_dir, label_dir=train_label_dir,submap_dir=train_submap_dir):\n",
    "    train_txt = os.path.join(label_dir,\"label.txt\")\n",
    "    count = len(open(train_txt,'r').readlines()) - 1    \n",
    "    idx = np.arange(0, count)      \n",
    "    np.random.shuffle(idx)                \n",
    "    data_idx = idx[:num]\n",
    "#     print(data_idx)\n",
    "    \n",
    "    labels = []\n",
    "    images = []\n",
    "    \n",
    "    for i in range(num):\n",
    "        with open(train_txt,'r') as file:\n",
    "            s = file.readlines()\n",
    "            image1 = skimage.data.imread(os.path.join(pic_dir, s[data_idx[i]].split(\";\")[0]))\n",
    "            submap1 = cv2.imread(os.path.join(submap_dir,str(data_idx[i]) + '.pgm'))\n",
    "            submap1 = cv2.resize(submap1,(448,448))\n",
    "            submap1 = cv2.transpose(submap1)\n",
    "            submap1 = cv2.flip(submap1, 1)\n",
    "            img = cv2.merge([image1,submap1])\n",
    "            images.append(image1)\n",
    "\n",
    "            label = s[data_idx[i]].split(\";\")[1:]\n",
    "            label = list(map(float,label))\n",
    "            labels.append(label)\n",
    "    return np.asarray(images),np.asarray(labels)\n",
    "\n",
    "num = 10\n",
    "train_images, train_labels = get_train_data_batch(num)\n",
    "print(np.shape(train_images))\n",
    "print(np.shape(train_labels))\n",
    "print(train_labels)"
   ]
  },
  {
   "cell_type": "code",
   "execution_count": null,
   "metadata": {},
   "outputs": [
    {
     "name": "stderr",
     "output_type": "stream",
     "text": [
      "\r",
      "  0%|          | 0/100000 [00:00<?, ?it/s]"
     ]
    },
    {
     "name": "stdout",
     "output_type": "stream",
     "text": [
      "learning_rate is:\n",
      " 0.001\n",
      "real location is:\n",
      " [[ 2.66633309e+03  4.10373881e+04 -1.78590604e+05]\n",
      " [-2.05214426e+04  2.73500095e+04 -9.24973607e+04]\n",
      " [ 9.64996968e+03 -1.33907972e+02  1.45643665e+04]\n",
      " [ 2.05788268e+04  2.13543353e+04  8.41374374e+04]]\n",
      "prediction is:\n",
      " [[123603.64   123652.11     1109.2273]\n",
      " [123604.97   123691.64     1085.3668]\n",
      " [123581.83   123454.13     2336.771 ]\n",
      " [123476.32   123491.08     1526.843 ]]\n"
     ]
    },
    {
     "name": "stderr",
     "output_type": "stream",
     "text": [
      "\r",
      "  0%|          | 1/100000 [00:03<85:17:53,  3.07s/it]"
     ]
    },
    {
     "name": "stdout",
     "output_type": "stream",
     "text": [
      "loss is: 130695.836\n"
     ]
    },
    {
     "name": "stderr",
     "output_type": "stream",
     "text": [
      "  1%|          | 1000/100000 [22:40<37:17:20,  1.36s/it]"
     ]
    },
    {
     "name": "stdout",
     "output_type": "stream",
     "text": [
      "learning_rate is:\n",
      " 0.001\n",
      "real location is:\n",
      " [[ 1.10519698e+04  7.01215473e+02 -1.41412962e+05]\n",
      " [ 1.02304022e+04  9.46848909e+01 -1.46416495e+05]\n",
      " [-1.54522562e+04  5.26065661e+03  1.38918529e+05]\n",
      " [-1.41560354e+04  3.71056186e+04 -1.34987918e+05]]\n",
      "prediction is:\n",
      " [[13926.181   9681.24    4870.4165]\n",
      " [13101.367   8768.726  12567.234 ]\n",
      " [ 6908.2256 18553.457   4463.4536]\n",
      " [ 4533.2993 17625.531   4375.776 ]]\n"
     ]
    },
    {
     "name": "stderr",
     "output_type": "stream",
     "text": [
      "\r",
      "  1%|          | 1001/100000 [22:42<40:29:09,  1.47s/it]"
     ]
    },
    {
     "name": "stdout",
     "output_type": "stream",
     "text": [
      "loss is: 70447.17\n"
     ]
    },
    {
     "name": "stderr",
     "output_type": "stream",
     "text": [
      "  2%|▏         | 2000/100000 [45:17<36:53:42,  1.36s/it]"
     ]
    },
    {
     "name": "stdout",
     "output_type": "stream",
     "text": [
      "learning_rate is:\n",
      " 0.00090000004\n",
      "real location is:\n",
      " [[-8.23966653e+03  2.13726168e+02  1.79721217e+05]\n",
      " [-1.38539611e+04  3.82179880e+03 -4.39460579e+04]\n",
      " [-8.05251069e+01  4.09674310e+04 -1.76998948e+05]\n",
      " [-1.05941640e+04  4.04342927e+04 -1.51468498e+05]]\n",
      "prediction is:\n",
      " [[-10891.652    2767.2864 -43763.277 ]\n",
      " [-12974.763   22965.549  -44916.58  ]\n",
      " [ -9346.019   32345.97    17793.674 ]\n",
      " [-10589.2705  18722.06   -24794.68  ]]\n"
     ]
    },
    {
     "name": "stderr",
     "output_type": "stream",
     "text": [
      "\r",
      "  2%|▏         | 2001/100000 [45:19<40:03:06,  1.47s/it]"
     ]
    },
    {
     "name": "stdout",
     "output_type": "stream",
     "text": [
      "loss is: 63618.668\n"
     ]
    },
    {
     "name": "stderr",
     "output_type": "stream",
     "text": [
      "  3%|▎         | 3000/100000 [1:07:53<36:32:25,  1.36s/it]"
     ]
    },
    {
     "name": "stdout",
     "output_type": "stream",
     "text": [
      "learning_rate is:\n",
      " 0.00090000004\n",
      "real location is:\n",
      " [[-1.66742833e+03  4.09530815e+04 -1.79823064e+05]\n",
      " [ 1.84243324e+04  8.07746469e+03  5.08863651e+04]\n",
      " [-2.05899112e+04  1.81246113e+04  8.85353864e+04]\n",
      " [ 2.46635927e+03  4.72158824e+01 -1.02435979e+03]]\n",
      "prediction is:\n",
      " [[ 2256.9148 15413.221  51386.535 ]\n",
      " [ 8216.938  19768.922  33149.73  ]\n",
      " [ 1415.7842 27977.93   42310.324 ]\n",
      " [-3635.096   9490.813   4674.22  ]]\n"
     ]
    },
    {
     "name": "stderr",
     "output_type": "stream",
     "text": [
      "\r",
      "  3%|▎         | 3001/100000 [1:07:55<39:38:44,  1.47s/it]"
     ]
    },
    {
     "name": "stdout",
     "output_type": "stream",
     "text": [
      "loss is: 41627.293\n"
     ]
    },
    {
     "name": "stderr",
     "output_type": "stream",
     "text": [
      "  4%|▍         | 4000/100000 [1:30:29<36:09:01,  1.36s/it]"
     ]
    },
    {
     "name": "stdout",
     "output_type": "stream",
     "text": [
      "learning_rate is:\n",
      " 0.00081\n",
      "real location is:\n",
      " [[-1.70017293e+04  6.67040260e+03  1.36504056e+05]\n",
      " [ 6.25982286e+03 -9.23142403e+00 -6.69206689e+03]\n",
      " [-9.04575949e+03 -1.38491072e+02 -1.39288525e+05]\n",
      " [-1.70354678e+04  6.75352274e+03 -4.51075256e+04]]\n",
      "prediction is:\n",
      " [[-14731.413   21962.234   63312.58  ]\n",
      " [  2281.6416  18754.352    5021.0415]\n",
      " [ 38538.895  -28022.643  -67370.91  ]\n",
      " [-17971.824   16697.305  -65884.586 ]]\n"
     ]
    },
    {
     "name": "stderr",
     "output_type": "stream",
     "text": [
      "\r",
      "  4%|▍         | 4001/100000 [1:30:31<39:14:28,  1.47s/it]"
     ]
    },
    {
     "name": "stdout",
     "output_type": "stream",
     "text": [
      "loss is: 31691.37\n"
     ]
    },
    {
     "name": "stderr",
     "output_type": "stream",
     "text": [
      "  5%|▌         | 5000/100000 [1:53:05<35:45:03,  1.35s/it]"
     ]
    },
    {
     "name": "stdout",
     "output_type": "stream",
     "text": [
      "learning_rate is:\n",
      " 0.00081\n",
      "real location is:\n",
      " [[  20647.0488204   19969.9846595  -82332.0087946]\n",
      " [  18934.0861891   32591.6935829  132612.133506 ]\n",
      " [ -19298.9205156   31766.4828114 -130046.501538 ]\n",
      " [  20481.994503    28856.0064784   92974.0436588]]\n",
      "prediction is:\n",
      " [[ 13708.658    4152.3594  13118.095 ]\n",
      " [ -8378.739   17571.172  -46668.13  ]\n",
      " [  -904.4085  21000.691   12337.626 ]\n",
      " [ -5597.2104  21763.828   10689.275 ]]\n"
     ]
    },
    {
     "name": "stderr",
     "output_type": "stream",
     "text": [
      "\r",
      "  5%|▌         | 5001/100000 [1:53:07<38:47:49,  1.47s/it]"
     ]
    },
    {
     "name": "stdout",
     "output_type": "stream",
     "text": [
      "loss is: 65292.22\n"
     ]
    },
    {
     "name": "stderr",
     "output_type": "stream",
     "text": [
      "  6%|▌         | 6000/100000 [2:15:41<35:22:19,  1.35s/it]"
     ]
    },
    {
     "name": "stdout",
     "output_type": "stream",
     "text": [
      "learning_rate is:\n",
      " 0.000729\n",
      "real location is:\n",
      " [[ 2.06446170e+04  1.08146420e+04 -1.12142246e+05]\n",
      " [ 4.02143459e+03  4.11943791e+04 -4.97583121e+02]\n",
      " [-1.09289045e+04  1.17917752e+03  1.44281904e+05]\n",
      " [ 9.74754358e+03 -9.47797357e+01  3.11315430e+04]]\n",
      "prediction is:\n",
      " [[  3688.5823  11282.675   34429.89  ]\n",
      " [ -9356.385   16274.721  -27983.809 ]\n",
      " [ 14532.971    9922.221  130295.4   ]\n",
      " [ 16848.697    6553.2114  18076.045 ]]\n"
     ]
    },
    {
     "name": "stderr",
     "output_type": "stream",
     "text": [
      "\r",
      "  6%|▌         | 6001/100000 [2:15:42<38:23:04,  1.47s/it]"
     ]
    },
    {
     "name": "stdout",
     "output_type": "stream",
     "text": [
      "loss is: 31745.936\n"
     ]
    },
    {
     "name": "stderr",
     "output_type": "stream",
     "text": [
      "  7%|▋         | 7000/100000 [2:38:16<34:59:38,  1.35s/it]"
     ]
    },
    {
     "name": "stdout",
     "output_type": "stream",
     "text": [
      "learning_rate is:\n",
      " 0.000729\n",
      "real location is:\n",
      " [[ 2.06714439e+04  1.68084295e+04  8.95754557e+04]\n",
      " [-1.31765933e+04  3.81320659e+04  4.58146481e+04]\n",
      " [ 9.47259265e+03 -9.40367171e+01  1.79133226e+05]\n",
      " [ 2.04086043e+04  2.66914241e+04 -8.90962771e+04]]\n",
      "prediction is:\n",
      " [[   5128.239    23674.656    46034.082 ]\n",
      " [  -3752.7866   11239.08     40839.29  ]\n",
      " [   4397.568     3008.9082  186765.88  ]\n",
      " [   5688.0645   25748.117  -106273.125 ]]\n"
     ]
    },
    {
     "name": "stderr",
     "output_type": "stream",
     "text": [
      "\r",
      "  7%|▋         | 7001/100000 [2:38:18<37:58:33,  1.47s/it]"
     ]
    },
    {
     "name": "stdout",
     "output_type": "stream",
     "text": [
      "loss is: 16237.425\n"
     ]
    },
    {
     "name": "stderr",
     "output_type": "stream",
     "text": [
      "  8%|▊         | 8000/100000 [3:00:51<34:37:40,  1.36s/it]"
     ]
    },
    {
     "name": "stdout",
     "output_type": "stream",
     "text": [
      "learning_rate is:\n",
      " 0.0006560999\n",
      "real location is:\n",
      " [[  -6893.0967222    40852.4425911  -179292.057158  ]\n",
      " [   5641.45649076   40955.4929589  -179718.251831  ]\n",
      " [ -20566.7829079    28604.1758644   -93468.7486206 ]\n",
      " [  -5484.71591433   40858.2580225  -179253.530629  ]]\n",
      "prediction is:\n",
      " [[  -9678.253   30637.08   -21789.021]\n",
      " [ -10901.91    42237.934 -153635.53 ]\n",
      " [ -11745.105   17008.936  -55912.875]\n",
      " [ -13445.849   34273.863  -59076.023]]\n"
     ]
    },
    {
     "name": "stderr",
     "output_type": "stream",
     "text": [
      "\r",
      "  8%|▊         | 8001/100000 [3:00:53<37:34:44,  1.47s/it]"
     ]
    },
    {
     "name": "stdout",
     "output_type": "stream",
     "text": [
      "loss is: 42405.51\n"
     ]
    },
    {
     "name": "stderr",
     "output_type": "stream",
     "text": [
      "  9%|▉         | 9000/100000 [3:23:28<34:17:16,  1.36s/it]"
     ]
    },
    {
     "name": "stdout",
     "output_type": "stream",
     "text": [
      "learning_rate is:\n",
      " 0.0006560999\n",
      "real location is:\n",
      " [[ 1.47284676e+04  4.10082578e+03 -1.37753284e+05]\n",
      " [ 2.05601091e+04  2.44367417e+04  9.08753925e+04]\n",
      " [ 9.70258234e+03 -1.19344960e+02  1.51547892e+04]\n",
      " [ 1.16747784e+04  1.30604310e+03  4.37243706e+04]]\n",
      "prediction is:\n",
      " [[ 11082.827   18893.232   51903.723 ]\n",
      " [ 16678.89    30883.775   21303.344 ]\n",
      " [ -7841.0024   3252.7983 -48081.074 ]\n",
      " [ 11764.277    1403.275   14817.146 ]]\n"
     ]
    },
    {
     "name": "stderr",
     "output_type": "stream",
     "text": [
      "\r",
      "  9%|▉         | 9001/100000 [3:23:30<37:11:43,  1.47s/it]"
     ]
    },
    {
     "name": "stdout",
     "output_type": "stream",
     "text": [
      "loss is: 41794.363\n"
     ]
    },
    {
     "name": "stderr",
     "output_type": "stream",
     "text": [
      " 10%|█         | 10000/100000 [3:46:04<33:52:16,  1.35s/it]"
     ]
    },
    {
     "name": "stdout",
     "output_type": "stream",
     "text": [
      "learning_rate is:\n",
      " 0.00059048994\n",
      "real location is:\n",
      " [[  14094.8275114   37271.8286604  -46854.3361166]\n",
      " [ -10866.5596851   40138.5892356 -139627.857811 ]\n",
      " [ -15618.4418536   35764.7318878   43411.9798595]\n",
      " [ -18113.8733398   33024.7149028 -134868.117843 ]]\n",
      "prediction is:\n",
      " [[  3930.761   24755.672  -42289.14  ]\n",
      " [-19852.842   32291.361   -2527.3748]\n",
      " [ -5989.84    37392.832   -3829.1963]\n",
      " [-11884.741   33102.723  -44951.055 ]]\n"
     ]
    },
    {
     "name": "stderr",
     "output_type": "stream",
     "text": [
      "\r",
      " 10%|█         | 10001/100000 [3:46:05<36:45:58,  1.47s/it]"
     ]
    },
    {
     "name": "stdout",
     "output_type": "stream",
     "text": [
      "loss is: 34988.176\n"
     ]
    },
    {
     "name": "stderr",
     "output_type": "stream",
     "text": [
      " 11%|█         | 11000/100000 [4:08:39<33:29:21,  1.35s/it]"
     ]
    },
    {
     "name": "stdout",
     "output_type": "stream",
     "text": [
      "learning_rate is:\n",
      " 0.00059048994\n",
      "real location is:\n",
      " [[ -10302.1903822    40583.3632128  -156525.93661   ]\n",
      " [  20293.3445183    31023.0257041   122751.59388   ]\n",
      " [  12073.5140301     1595.67075246 -137275.541644  ]\n",
      " [  20036.1044682    31351.8551688   -50558.1605786 ]]\n",
      "prediction is:\n",
      " [[  -7299.7095   25250.16    -27592.691 ]\n",
      " [  20965.764    25530.66     27209.42  ]\n",
      " [  12413.998    19182.17   -128312.23  ]\n",
      " [  18937.19     33870.39    -76511.44  ]]\n"
     ]
    },
    {
     "name": "stderr",
     "output_type": "stream",
     "text": [
      "\r",
      " 11%|█         | 11001/100000 [4:08:41<36:21:44,  1.47s/it]"
     ]
    },
    {
     "name": "stdout",
     "output_type": "stream",
     "text": [
      "loss is: 31814.783\n"
     ]
    },
    {
     "name": "stderr",
     "output_type": "stream",
     "text": [
      " 12%|█▏        | 12000/100000 [4:31:14<33:07:03,  1.35s/it]"
     ]
    },
    {
     "name": "stdout",
     "output_type": "stream",
     "text": [
      "learning_rate is:\n",
      " 0.000531441\n",
      "real location is:\n",
      " [[ 1.24637474e+04  3.87623209e+04  1.35805227e+05]\n",
      " [-5.58394553e+02  6.27505055e+01 -2.14240302e+03]\n",
      " [-8.16134274e+03  2.15634801e+02 -1.79796983e+05]\n",
      " [-1.63386435e+04  6.07914439e+03 -4.29955000e+04]]\n",
      "prediction is:\n",
      " [[  5379.883   26919.574   79095.66  ]\n",
      " [  2503.7837   8024.243   14229.12  ]\n",
      " [ -8411.397   -6443.244  -53407.22  ]\n",
      " [-10695.126    6906.7104 -29450.19  ]]\n"
     ]
    },
    {
     "name": "stderr",
     "output_type": "stream",
     "text": [
      "\r",
      " 12%|█▏        | 12001/100000 [4:31:16<35:56:21,  1.47s/it]"
     ]
    },
    {
     "name": "stdout",
     "output_type": "stream",
     "text": [
      "loss is: 26701.193\n"
     ]
    },
    {
     "name": "stderr",
     "output_type": "stream",
     "text": [
      " 13%|█▎        | 13000/100000 [4:53:49<32:49:45,  1.36s/it]"
     ]
    },
    {
     "name": "stdout",
     "output_type": "stream",
     "text": [
      "learning_rate is:\n",
      " 0.000531441\n",
      "real location is:\n",
      " [[ 12751.4050616   38491.8803535  135264.35543   ]\n",
      " [-13977.562207     3891.223542   136615.359882  ]\n",
      " [-18191.9634568    7840.14491643 -44720.2119175 ]\n",
      " [ -9982.18269713    665.1605684  -32741.2136119 ]]\n",
      "prediction is:\n",
      " [[  5844.7764  19388.666   85749.39  ]\n",
      " [-11260.802    7786.551  144851.31  ]\n",
      " [-12540.978    7820.423   -8269.6875]\n",
      " [-12668.797   -6417.1655 -30676.87  ]]\n"
     ]
    },
    {
     "name": "stderr",
     "output_type": "stream",
     "text": [
      "\r",
      " 13%|█▎        | 13001/100000 [4:53:51<35:35:35,  1.47s/it]"
     ]
    },
    {
     "name": "stdout",
     "output_type": "stream",
     "text": [
      "loss is: 15032.542\n"
     ]
    },
    {
     "name": "stderr",
     "output_type": "stream",
     "text": [
      " 14%|█▍        | 14000/100000 [5:16:25<32:21:21,  1.35s/it]"
     ]
    },
    {
     "name": "stdout",
     "output_type": "stream",
     "text": [
      "learning_rate is:\n",
      " 0.00047829683\n",
      "real location is:\n",
      " [[-2.05432782e+04  2.69033588e+04  9.06223700e+04]\n",
      " [ 2.05164186e+04  2.69746994e+04  9.18289053e+04]\n",
      " [ 1.59249716e+03  1.46189129e+01 -7.12122615e+02]\n",
      " [ 1.37045244e+04  3.23030565e+03  4.58628320e+04]]\n",
      "prediction is:\n",
      " [[-16589.016   28427.537    4029.1255]\n",
      " [ 12378.935   31532.076   70073.08  ]\n",
      " [  8786.436   -4959.229   17748.129 ]\n",
      " [  8804.381   18648.67    -1504.5337]]\n"
     ]
    },
    {
     "name": "stderr",
     "output_type": "stream",
     "text": [
      "\r",
      " 14%|█▍        | 14001/100000 [5:16:26<35:06:34,  1.47s/it]"
     ]
    },
    {
     "name": "stdout",
     "output_type": "stream",
     "text": [
      "loss is: 23418.883\n"
     ]
    },
    {
     "name": "stderr",
     "output_type": "stream",
     "text": [
      " 15%|█▌        | 15000/100000 [5:39:01<31:56:57,  1.35s/it]"
     ]
    },
    {
     "name": "stdout",
     "output_type": "stream",
     "text": [
      "learning_rate is:\n",
      " 0.00047829683\n",
      "real location is:\n",
      " [[ 9.97624467e+03 -7.88105245e+01 -1.68041732e+05]\n",
      " [ 1.70487935e+04  3.43410699e+04  1.34906033e+05]\n",
      " [-2.02996101e+04  1.07105784e+04  9.27707524e+04]\n",
      " [ 2.06714439e+04  1.68084295e+04  8.95754557e+04]]\n",
      "prediction is:\n",
      " [[ -1273.949    9543.816   52818.574 ]\n",
      " [ 13108.145   28696.916   57688.902 ]\n",
      " [-19501.516   21600.492   -3928.1313]\n",
      " [ 19791.688   19013.482   70947.67  ]]\n"
     ]
    },
    {
     "name": "stderr",
     "output_type": "stream",
     "text": [
      "\r",
      " 15%|█▌        | 15001/100000 [5:39:02<34:40:03,  1.47s/it]"
     ]
    },
    {
     "name": "stdout",
     "output_type": "stream",
     "text": [
      "loss is: 47772.863\n"
     ]
    },
    {
     "name": "stderr",
     "output_type": "stream",
     "text": [
      " 15%|█▌        | 15122/100000 [5:41:46<31:54:54,  1.35s/it]"
     ]
    }
   ],
   "source": [
    "batch_size = 4\n",
    "checkpointsPath = \"./checkpoints/googlenet/\"\n",
    "starter_learning_rate = 0.001\n",
    "steps_per_decay = 2000\n",
    "decay_factor = 0.9\n",
    "\n",
    "global_step = tf.Variable(tf.constant(0))\n",
    "learning_rate = tf.train.exponential_decay(learning_rate = starter_learning_rate,\n",
    "                                           global_step = global_step,\n",
    "                                           decay_steps = steps_per_decay,\n",
    "                                           decay_rate = decay_factor,\n",
    "                                           staircase = True\n",
    "                                           )\n",
    "\n",
    "input_image = tf.placeholder(\"float\", [None, 448,448,3],name='input_image')/255.*2.-1\n",
    "tf_y = tf.placeholder(\"float\", [None, 3],name='y_') \n",
    "\n",
    "\n",
    "# network structure\n",
    "def inception(x, p1, p2, p3, p4, scope):\n",
    "    p1f11 = p1\n",
    "    p2f11, p2f33 = p2\n",
    "    p3f11, p3f55 = p3\n",
    "    p4f11 = p4\n",
    "    with tf.variable_scope(scope):\n",
    "        path1 = tf.layers.conv2d(x, filters=p1f11, kernel_size=1, activation=tf.nn.leaky_relu, name='p1f11')\n",
    "\n",
    "        path2 = tf.layers.conv2d(x, p2f11, 1, activation=tf.nn.leaky_relu, name='p2f11')\n",
    "        path2 = tf.layers.conv2d(path2, p2f33, 3, padding='same', activation=tf.nn.leaky_relu, name='p2f33')\n",
    "\n",
    "        path3 = tf.layers.conv2d(x, p3f11, 1, activation=tf.nn.leaky_relu, name='p3f11')\n",
    "        path3 = tf.layers.conv2d(path3, p3f55, 5, padding='same', activation=tf.nn.leaky_relu, name='p3f55')\n",
    "\n",
    "        path4 = tf.layers.max_pooling2d(x, pool_size=3, strides=1, padding='same', name='p4p33')\n",
    "        path4 = tf.layers.conv2d(path4, p4f11, 1, activation=tf.nn.leaky_relu, name='p4f11')\n",
    "\n",
    "        out = tf.concat((path1, path2, path3, path4), axis=-1, name='path_cat')\n",
    "    return out\n",
    "\n",
    "\n",
    "with tf.variable_scope('GoogLeNet'):\n",
    "    net = tf.layers.conv2d(                 # [batch, 448, 448, 3]\n",
    "        inputs=input_image,\n",
    "        filters=12,\n",
    "        activation=tf.nn.leaky_relu,\n",
    "        kernel_size=5,\n",
    "        strides=1,\n",
    "        padding='same',\n",
    "        name=\"conv1\")                       # -> [batch, 448, 448, 12]\n",
    "    net = tf.layers.max_pooling2d(net, 2, 2, name=\"maxpool1\")                   # -> [batch, 224, 224, 12]\n",
    "    net = inception(net, p1=64, p2=(6, 64), p3=(6, 32), p4=32, scope='incpt1')  # -> [batch, 224, 224, 64+64+32+32=192]\n",
    "    net = tf.layers.max_pooling2d(net, 3, 2, padding='same', name=\"maxpool1\")   # -> [batch, 112, 112, 192]\n",
    "    net = inception(net, p1=256, p2=(32, 256), p3=(32, 128), p4=128, scope='incpt2')  # -> [batch, 112, 112, 768]\n",
    "    net = tf.layers.average_pooling2d(net, 7, 1, name=\"avgpool\")                # -> [batch, 16, 16, 768]\n",
    "    net = tf.layers.flatten(net, name='flat')                                   # -> [batch, 16*16*768]\n",
    "    logits = tf.layers.dense(net, 3, name='fc4')                               # -> [batch, n_classes]\n",
    "\n",
    "delta=tf.constant(1.25)\n",
    "#huber损失函数\n",
    "loss = tf.reduce_mean(tf.multiply(tf.square(delta),\n",
    "                                  tf.sqrt(1. + tf.square((tf_y - logits)/delta)) - 1.))\n",
    "tf.summary.scalar(\"loss\",loss)\n",
    "train_op = tf.train.AdamOptimizer(learning_rate).minimize(loss)\n",
    "merged = tf.summary.merge_all()\n",
    "\n",
    "with tf.Session() as sess:\n",
    "    sess.run(tf.global_variables_initializer())\n",
    "    saver = tf.train.Saver()\n",
    "    writer = tf.summary.FileWriter('./log', sess.graph) \n",
    "    for step in tqdm(range(100000)):\n",
    "        batch_x,batch_y = get_train_data_batch(batch_size)\n",
    "        batch_y = batch_y*1000\n",
    "        summary,_ = sess.run([merged,train_op],feed_dict={global_step:step,input_image:batch_x, tf_y:batch_y})\n",
    "        writer.add_summary(summary, step)\n",
    "        if (step % 1000) == 0 & (step != 0):\n",
    "            saver.save(sess, os.path.join(checkpointsPath,\"saved_net.ckpt\"), global_step=i)\n",
    "            print(\"learning_rate is:\\n\",sess.run(learning_rate,feed_dict = {global_step:step}))\n",
    "            print(\"real location is:\\n\",batch_y)\n",
    "            print(\"prediction is:\\n\",sess.run(logits,feed_dict={input_image:batch_x, tf_y:batch_y}))\n",
    "            print(\"loss is:\",sess.run(loss,feed_dict={input_image:batch_x, tf_y:batch_y}))\n",
    "    print(\"done!\")\n"
   ]
  },
  {
   "cell_type": "code",
   "execution_count": null,
   "metadata": {},
   "outputs": [],
   "source": []
  }
 ],
 "metadata": {
  "kernelspec": {
   "display_name": "Python 3",
   "language": "python",
   "name": "python3"
  },
  "language_info": {
   "codemirror_mode": {
    "name": "ipython",
    "version": 3
   },
   "file_extension": ".py",
   "mimetype": "text/x-python",
   "name": "python",
   "nbconvert_exporter": "python",
   "pygments_lexer": "ipython3",
   "version": "3.5.2"
  }
 },
 "nbformat": 4,
 "nbformat_minor": 2
}
