{
 "cells": [
  {
   "cell_type": "code",
   "execution_count": 2,
   "metadata": {},
   "outputs": [],
   "source": [
    "import os\n",
    "import random\n",
    "import skimage.data\n",
    "from skimage import io\n",
    "import skimage.transform as skt\n",
    "import numpy as np \n",
    "import tensorflow as tf\n",
    "from tqdm import tqdm\n",
    "import sys\n",
    "sys.path.remove('/opt/ros/kinetic/lib/python2.7/dist-packages')\n",
    "import cv2"
   ]
  },
  {
   "cell_type": "code",
   "execution_count": 4,
   "metadata": {},
   "outputs": [
    {
     "name": "stdout",
     "output_type": "stream",
     "text": [
      "(448, 448, 3)\n"
     ]
    }
   ],
   "source": [
    "# submap_dir = \"/home/ysk/database/train_data/benhuan/submap\"\n",
    "# pic_dir = \"/home/ysk/database/train_data/benhuan/picture\"\n",
    "\n",
    "# # for i in range(4):\n",
    "# i = 4803\n",
    "# submap1 = cv2.imread(os.path.join(submap_dir,str(4) + '.pgm'))\n",
    "# submap1 = cv2.resize(submap1,(448,448))\n",
    "# submap1 = cv2.transpose(submap1)\n",
    "# submap1 = cv2.flip(submap1, 1)\n",
    "# cv2.imshow(\"submap\",submap1)\n",
    "\n",
    "\n",
    "# pic1 = cv2.imread(os.path.join(pic_dir, '00004.jpg'))\n",
    "# cv2.imshow(\"pic\",pic1)\n",
    "\n",
    "# cv2.waitKey(0)\n",
    "# cv2.destroyAllWindows()\n",
    "# print(np.shape(submap1))"
   ]
  },
  {
   "cell_type": "code",
   "execution_count": 3,
   "metadata": {},
   "outputs": [
    {
     "name": "stdout",
     "output_type": "stream",
     "text": [
      "(10, 448, 448, 6)\n",
      "(10, 3)\n",
      "[[ 11.81600444   1.37247042  44.46728585]\n",
      " [ 18.73539188  32.7180385  135.09872665]\n",
      " [ 10.53556783  40.31878398 142.23363226]\n",
      " [ 18.42143919  32.92432992 -44.72765849]\n",
      " [-10.13418307  40.6397158   23.48756281]\n",
      " [ 20.42500174  25.66867601 -89.74826865]\n",
      " [ 20.40614044  26.82975976 -87.28576986]\n",
      " [-12.67255602   2.86262438 -36.89086274]\n",
      " [ -7.87887075   0.27167235 178.66259804]\n",
      " [-20.72924236  17.50815617 -89.52123287]]\n"
     ]
    }
   ],
   "source": [
    "train_label_dir = \"/home/ysk/database/train_data/benhuan/\"\n",
    "train_pic_dir = \"/home/ysk/database/train_data/benhuan//picture\"\n",
    "train_submap_dir = \"/home/ysk/database/train_data/benhuan//submap\"\n",
    "\n",
    "def get_train_data_batch(num, pic_dir=train_pic_dir, label_dir=train_label_dir,submap_dir=train_submap_dir):\n",
    "    train_txt = os.path.join(label_dir,\"label.txt\")\n",
    "    count = len(open(train_txt,'r').readlines()) - 2\n",
    "    idx = np.arange(0, count)      \n",
    "    np.random.shuffle(idx)                \n",
    "    data_idx = idx[:num]\n",
    "#     print(data_idx)\n",
    "    \n",
    "    labels = []\n",
    "    images = []\n",
    "    \n",
    "    for i in range(num):\n",
    "        with open(train_txt,'r') as file:\n",
    "            s = file.readlines()\n",
    "            image1 = cv2.imread(os.path.join(pic_dir, s[data_idx[i]].split(\";\")[0]))\n",
    "            submap1 = cv2.imread(os.path.join(submap_dir,str(data_idx[i]) + '.pgm'))\n",
    "            submap1 = cv2.resize(submap1,(448,448))\n",
    "            submap1 = cv2.transpose(submap1)\n",
    "            submap1 = cv2.flip(submap1, 1)\n",
    "            \n",
    "#             image2 = skimage.data.imread(os.path.join(pic_dir, s[data_idx[i] + 1].split(\";\")[0]))\n",
    "#             submap2 = cv2.imread(os.path.join(submap_dir,str(data_idx[i] + 1) + '.pgm'))\n",
    "#             submap2 = cv2.resize(submap2,(448,448))\n",
    "#             submap2 = cv2.transpose(submap2)\n",
    "#             submap2 = cv2.flip(submap2, 1)\n",
    "            \n",
    "            img = cv2.merge([image1,submap1])\n",
    "            images.append(img)\n",
    "\n",
    "            label = s[data_idx[i]].split(\";\")[1:]\n",
    "            label = list(map(float,label))\n",
    "            labels.append(label)\n",
    "    return np.asarray(images),np.asarray(labels)\n",
    "\n",
    "num = 10\n",
    "train_images, train_labels = get_train_data_batch(num)\n",
    "print(np.shape(train_images))\n",
    "print(np.shape(train_labels))\n",
    "print(train_labels)\n",
    "# print(train_labels*100)"
   ]
  },
  {
   "cell_type": "code",
   "execution_count": null,
   "metadata": {},
   "outputs": [
    {
     "name": "stdout",
     "output_type": "stream",
     "text": [
      "INFO:tensorflow:Restoring parameters from /home/ysk/database/new_train_dateset/new_benhuan_train/no_weights_bn_4803_6in_3out_checkpoints/saved_net.ckpt-14000\n"
     ]
    },
    {
     "name": "stderr",
     "output_type": "stream",
     "text": [
      "\r",
      "  0%|          | 0/100000 [00:00<?, ?it/s]"
     ]
    },
    {
     "name": "stdout",
     "output_type": "stream",
     "text": [
      "restored /home/ysk/database/new_train_dateset/new_benhuan_train/no_weights_bn_4803_6in_3out_checkpoints/saved_net.ckpt-14000\n",
      "save model\n",
      "learning_rate is:\n",
      " 0.3\n",
      "real location is:\n",
      " [[  206953.906106   253932.983063   918141.104188]\n",
      " [ -106147.544495   403786.79051  -1404779.4696  ]\n",
      " [ -205300.806603   297098.044068  -911006.334345]\n",
      " [ -171457.543506    67653.070336  -427716.853363]]\n",
      "prediction is:\n",
      " [[  140099.72    157924.33   1083770.2  ]\n",
      " [ -143590.92    336286.53  -1429780.8  ]\n",
      " [ -113316.79    201327.53   -734248.4  ]\n",
      " [ -185614.17     14080.064  -546233.75 ]]\n"
     ]
    },
    {
     "name": "stderr",
     "output_type": "stream",
     "text": [
      "\r",
      "  0%|          | 1/100000 [00:02<74:46:20,  2.69s/it]"
     ]
    },
    {
     "name": "stdout",
     "output_type": "stream",
     "text": [
      "loss is: 105123.0\n"
     ]
    },
    {
     "name": "stderr",
     "output_type": "stream",
     "text": [
      "  1%|          | 1000/100000 [05:48<9:28:33,  2.90it/s]"
     ]
    },
    {
     "name": "stdout",
     "output_type": "stream",
     "text": [
      "save model\n",
      "learning_rate is:\n",
      " 0.3\n",
      "real location is:\n",
      " [[ -110385.406669     14817.8941232  1401024.23409  ]\n",
      " [ -156828.871692    355818.005193  -1335010.47613  ]\n",
      " [ -180720.229994     77913.4982895  1355852.35074  ]\n",
      " [  178937.176485    335700.144134   1382101.11223  ]]\n",
      "prediction is:\n",
      " [[  -89402.88      41021.453   1495421.8   ]\n",
      " [ -150190.53     354174.94   -1338833.1   ]\n",
      " [   -4193.0996   146227.47     793117.3   ]\n",
      " [  228933.56     321287.06    1171466.2   ]]\n"
     ]
    },
    {
     "name": "stderr",
     "output_type": "stream",
     "text": [
      "\r",
      "  1%|          | 1001/100000 [05:48<12:29:53,  2.20it/s]"
     ]
    },
    {
     "name": "stdout",
     "output_type": "stream",
     "text": [
      "loss is: 128780.54\n"
     ]
    },
    {
     "name": "stderr",
     "output_type": "stream",
     "text": [
      "  2%|▏         | 2000/100000 [11:33<9:23:22,  2.90it/s] "
     ]
    },
    {
     "name": "stdout",
     "output_type": "stream",
     "text": [
      "save model\n",
      "learning_rate is:\n",
      " 0.3\n",
      "real location is:\n",
      " [[  84526.9617684   409208.090514     25106.2090249 ]\n",
      " [-128394.167814     28506.0725955  -396555.660116  ]\n",
      " [ 206009.456633    170166.759119   -877927.403568  ]\n",
      " [ -80776.8565794     3849.53918622  -12706.7698968 ]]\n",
      "prediction is:\n",
      " [[  55349.906  464400.38   285769.03 ]\n",
      " [-161282.8     99377.86   446769.8  ]\n",
      " [ 231070.58   240757.75  -674620.7  ]\n",
      " [ -79811.875   34808.266  -56975.67 ]]\n"
     ]
    },
    {
     "name": "stderr",
     "output_type": "stream",
     "text": [
      "\r",
      "  2%|▏         | 2001/100000 [11:33<12:20:33,  2.21it/s]"
     ]
    },
    {
     "name": "stdout",
     "output_type": "stream",
     "text": [
      "loss is: 173672.33\n"
     ]
    },
    {
     "name": "stderr",
     "output_type": "stream",
     "text": [
      "  3%|▎         | 3000/100000 [17:18<9:16:45,  2.90it/s] "
     ]
    },
    {
     "name": "stdout",
     "output_type": "stream",
     "text": [
      "save model\n",
      "learning_rate is:\n",
      " 0.3\n",
      "real location is:\n",
      " [[-182645.207914    78805.7040439 -434922.331537 ]\n",
      " [ 174063.490926   340187.650752  1385356.32336  ]\n",
      " [-206126.866492   263898.052252   910487.241079 ]\n",
      " [-207385.529282   165399.434459  -902662.217205 ]]\n",
      "prediction is:\n",
      " [[ -131090.5      93116.586  -609707.9  ]\n",
      " [  164546.84    312525.3    1289531.   ]\n",
      " [ -197414.95    257789.5     735092.3  ]\n",
      " [ -128680.266   207283.72  -1106087.8  ]]\n"
     ]
    },
    {
     "name": "stderr",
     "output_type": "stream",
     "text": [
      "\r",
      "  3%|▎         | 3001/100000 [17:18<12:12:19,  2.21it/s]"
     ]
    },
    {
     "name": "stdout",
     "output_type": "stream",
     "text": [
      "loss is: 92486.56\n"
     ]
    },
    {
     "name": "stderr",
     "output_type": "stream",
     "text": [
      "  4%|▍         | 4000/100000 [23:03<9:11:47,  2.90it/s] "
     ]
    },
    {
     "name": "stdout",
     "output_type": "stream",
     "text": [
      "save model\n",
      "learning_rate is:\n",
      " 0.27\n",
      "real location is:\n",
      " [[ 1.50859008e+05  4.57361153e+04  4.54437037e+05]\n",
      " [-2.06012745e+05  2.71735031e+05 -9.24358212e+05]\n",
      " [-3.48130192e+01  2.82465434e+02 -5.54336577e+05]\n",
      " [-2.04242630e+05  1.72718428e+05  9.08860326e+05]]\n",
      "prediction is:\n",
      " [[ 143776.58     -25787.936    428512.5    ]\n",
      " [-194904.31     274612.3     -672052.94   ]\n",
      " [   8015.914     -6591.8867   -81301.914  ]\n",
      " [   -969.15625  291353.84     654816.25   ]]\n"
     ]
    },
    {
     "name": "stderr",
     "output_type": "stream",
     "text": [
      "\r",
      "  4%|▍         | 4001/100000 [23:03<12:07:18,  2.20it/s]"
     ]
    },
    {
     "name": "stdout",
     "output_type": "stream",
     "text": [
      "loss is: 149449.95\n"
     ]
    },
    {
     "name": "stderr",
     "output_type": "stream",
     "text": [
      "  5%|▌         | 5000/100000 [28:48<9:06:08,  2.90it/s] "
     ]
    },
    {
     "name": "stdout",
     "output_type": "stream",
     "text": [
      "save model\n",
      "learning_rate is:\n",
      " 0.27\n",
      "real location is:\n",
      " [[  -99909.5347239      7142.33163689  1469330.86117   ]\n",
      " [  116917.327551     394457.534963    -382102.607682  ]\n",
      " [  205840.717319     119546.245       -896276.283502  ]\n",
      " [ -123307.906247     389047.361356   -1379295.8227    ]]\n",
      "prediction is:\n",
      " [[  -96899.29     57493.652  1280073.   ]\n",
      " [  149307.2     335134.28     34576.555]\n",
      " [  191537.34    140130.08  -1114668.8  ]\n",
      " [ -171263.23    393586.3   -1410691.9  ]]\n"
     ]
    },
    {
     "name": "stderr",
     "output_type": "stream",
     "text": [
      "\r",
      "  5%|▌         | 5001/100000 [28:48<12:05:10,  2.18it/s]"
     ]
    },
    {
     "name": "stdout",
     "output_type": "stream",
     "text": [
      "loss is: 113350.69\n"
     ]
    },
    {
     "name": "stderr",
     "output_type": "stream",
     "text": [
      "  6%|▌         | 6000/100000 [34:33<9:00:49,  2.90it/s] "
     ]
    },
    {
     "name": "stdout",
     "output_type": "stream",
     "text": [
      "save model\n",
      "learning_rate is:\n",
      " 0.27\n",
      "real location is:\n",
      " [[  195243.330286    318099.064784   -456885.781997 ]\n",
      " [ -159239.768825     56302.7199801  -413895.522069 ]\n",
      " [ -125209.445895    387282.435469  -1358661.4166   ]\n",
      " [   70774.2346878   409827.906597  -1792778.84852  ]]\n",
      "prediction is:\n",
      " [[  147383.88    233802.5     231487.02 ]\n",
      " [ -170013.34     54722.227  -412088.7  ]\n",
      " [ -143762.53    324146.3   -1307375.   ]\n",
      " [   85624.76    307468.5   -1615856.5  ]]\n"
     ]
    },
    {
     "name": "stderr",
     "output_type": "stream",
     "text": [
      "\r",
      "  6%|▌         | 6001/100000 [34:33<11:55:05,  2.19it/s]"
     ]
    },
    {
     "name": "stdout",
     "output_type": "stream",
     "text": [
      "loss is: 131435.7\n"
     ]
    },
    {
     "name": "stderr",
     "output_type": "stream",
     "text": [
      "  7%|▋         | 7000/100000 [40:18<8:54:09,  2.90it/s] "
     ]
    },
    {
     "name": "stdout",
     "output_type": "stream",
     "text": [
      "save model\n",
      "learning_rate is:\n",
      " 0.27\n",
      "real location is:\n",
      " [[  -34412.1370249   407440.111845     17055.1804084]\n",
      " [   29216.2523459   409114.411966  -1788016.1603   ]\n",
      " [  193368.667062    319693.870029   -462186.80594  ]\n",
      " [ -140780.962704    371582.786427  -1343383.5811   ]]\n",
      "prediction is:\n",
      " [[  -26270.76   277907.5    326265.16]\n",
      " [   38441.89   246349.86 -1679815.5 ]\n",
      " [  166558.2     84991.46  -508862.75]\n",
      " [ -175960.55   303745.   -1329791.8 ]]\n"
     ]
    },
    {
     "name": "stderr",
     "output_type": "stream",
     "text": [
      "\r",
      "  7%|▋         | 7001/100000 [40:18<11:47:40,  2.19it/s]"
     ]
    },
    {
     "name": "stdout",
     "output_type": "stream",
     "text": [
      "loss is: 119985.19\n"
     ]
    },
    {
     "name": "stderr",
     "output_type": "stream",
     "text": [
      "  8%|▊         | 8000/100000 [46:03<8:47:53,  2.90it/s] "
     ]
    },
    {
     "name": "stdout",
     "output_type": "stream",
     "text": [
      "save model\n",
      "learning_rate is:\n",
      " 0.24299999\n",
      "real location is:\n",
      " [[ -154194.89069     358523.815758  -1343785.92209  ]\n",
      " [  -68141.9180097   409371.845319  -1795098.09763  ]\n",
      " [  107934.400025    401534.781773   -399190.433957 ]\n",
      " [  143262.633673    370299.708887   1374820.07953  ]]\n",
      "prediction is:\n",
      " [[ -210705.55   215274.81 -1225256.2 ]\n",
      " [  -91996.99   393266.12 -1715326.2 ]\n",
      " [  185179.19   309154.12  -676750.4 ]\n",
      " [  130672.81   100838.73  1359532.9 ]]\n"
     ]
    },
    {
     "name": "stderr",
     "output_type": "stream",
     "text": [
      "\r",
      "  8%|▊         | 8001/100000 [46:03<11:38:56,  2.19it/s]"
     ]
    },
    {
     "name": "stdout",
     "output_type": "stream",
     "text": [
      "loss is: 123180.25\n"
     ]
    },
    {
     "name": "stderr",
     "output_type": "stream",
     "text": [
      "  9%|▉         | 9000/100000 [51:48<8:42:49,  2.90it/s] "
     ]
    },
    {
     "name": "stdout",
     "output_type": "stream",
     "text": [
      "save model\n",
      "learning_rate is:\n",
      " 0.24299999\n",
      "real location is:\n",
      " [[ 2.06638972e+05  1.54537297e+05 -9.08490391e+05]\n",
      " [ 1.39464563e+05  3.73938973e+05 -4.27333933e+05]\n",
      " [-2.08329569e+05  2.02950495e+05 -8.82708733e+05]\n",
      " [-3.80796959e+04  6.19471637e+02  1.76723233e+06]]\n",
      "prediction is:\n",
      " [[  201489.55    103688.67  -1024549.5  ]\n",
      " [   26417.129   421016.03   -436507.88 ]\n",
      " [ -219156.1     207134.05   -949314.2  ]\n",
      " [  -51885.29     34758.484  1840047.1  ]]\n"
     ]
    },
    {
     "name": "stderr",
     "output_type": "stream",
     "text": [
      "\r",
      "  9%|▉         | 9001/100000 [51:48<11:32:05,  2.19it/s]"
     ]
    },
    {
     "name": "stdout",
     "output_type": "stream",
     "text": [
      "loss is: 56637.03\n"
     ]
    },
    {
     "name": "stderr",
     "output_type": "stream",
     "text": [
      " 10%|█         | 10000/100000 [57:33<8:36:38,  2.90it/s]"
     ]
    },
    {
     "name": "stdout",
     "output_type": "stream",
     "text": [
      "save model\n",
      "learning_rate is:\n",
      " 0.24299999\n",
      "real location is:\n",
      " [[  194076.861658   320262.334392  1353541.71464 ]\n",
      " [  204869.802478   306805.461062  1017696.49326 ]\n",
      " [  -87390.583437   408613.999449 -1785345.36986 ]\n",
      " [  111506.106085   398715.831819  -347148.432172]]\n",
      "prediction is:\n",
      " [[   60562.72     221688.25    1454098.    ]\n",
      " [   37419.195     -2847.1602   659915.75  ]\n",
      " [  -94819.51     333791.5    -1900150.2   ]\n",
      " [   32609.828    211447.66    -137782.12  ]]\n"
     ]
    },
    {
     "name": "stderr",
     "output_type": "stream",
     "text": [
      "\r",
      " 10%|█         | 10001/100000 [57:33<11:31:03,  2.17it/s]"
     ]
    },
    {
     "name": "stdout",
     "output_type": "stream",
     "text": [
      "loss is: 191677.14\n"
     ]
    },
    {
     "name": "stderr",
     "output_type": "stream",
     "text": [
      " 11%|█         | 11000/100000 [1:03:18<8:31:12,  2.90it/s]"
     ]
    },
    {
     "name": "stdout",
     "output_type": "stream",
     "text": [
      "save model\n",
      "learning_rate is:\n",
      " 0.24299999\n",
      "real location is:\n",
      " [[ 2.05373418e+05  2.18722233e+05 -9.27009589e+05]\n",
      " [-4.44822026e+04  1.10945230e+03  1.78053133e+06]\n",
      " [-6.46768449e+04  1.93306704e+03  1.75881752e+06]\n",
      " [ 5.42912246e+04  1.54200756e+02 -1.97711016e+04]]\n",
      "prediction is:\n",
      " [[ 173419.88    265359.97   -933748.06  ]\n",
      " [ -86842.164    10261.1875 1627205.8   ]\n",
      " [-158047.42    144694.19    921463.25  ]\n",
      " [ -89721.32     83757.375    79022.11  ]]\n"
     ]
    },
    {
     "name": "stderr",
     "output_type": "stream",
     "text": [
      "\r",
      " 11%|█         | 11001/100000 [1:03:18<11:23:39,  2.17it/s]"
     ]
    },
    {
     "name": "stdout",
     "output_type": "stream",
     "text": [
      "loss is: 176046.55\n"
     ]
    },
    {
     "name": "stderr",
     "output_type": "stream",
     "text": [
      " 12%|█▏        | 12000/100000 [1:09:03<8:24:10,  2.91it/s] "
     ]
    },
    {
     "name": "stdout",
     "output_type": "stream",
     "text": [
      "save model\n",
      "learning_rate is:\n",
      " 0.2187\n",
      "real location is:\n",
      " [[-205673.909336    292211.301534    915587.27239   ]\n",
      " [ -63904.0442828     2968.86000949  -26709.5088522 ]\n",
      " [ -74068.9273859     3105.00661032 1783538.91726   ]\n",
      " [ 126393.366907     20171.6268827   483200.965652  ]]\n",
      "prediction is:\n",
      " [[-151928.02    383926.      533856.8   ]\n",
      " [  -3913.0215   37431.555   -47284.164 ]\n",
      " [ -39845.22     13966.898  1447437.8   ]\n",
      " [ 127703.8      13226.492   425082.8   ]]\n"
     ]
    },
    {
     "name": "stderr",
     "output_type": "stream",
     "text": [
      "\r",
      " 12%|█▏        | 12001/100000 [1:09:03<11:16:24,  2.17it/s]"
     ]
    },
    {
     "name": "stdout",
     "output_type": "stream",
     "text": [
      "loss is: 113517.164\n"
     ]
    },
    {
     "name": "stderr",
     "output_type": "stream",
     "text": [
      " 13%|█▎        | 13000/100000 [1:14:48<8:19:16,  2.90it/s] "
     ]
    },
    {
     "name": "stdout",
     "output_type": "stream",
     "text": [
      "save model\n",
      "learning_rate is:\n",
      " 0.2187\n",
      "real location is:\n",
      " [[ 168135.547612    346105.954931   1368563.12014   ]\n",
      " [ 111743.456371      4856.58554623  356455.442336  ]\n",
      " [ -88518.7889946     2966.95611836 1771922.83239   ]\n",
      " [-140245.939431     39002.7349987  -423402.440015  ]]\n",
      "prediction is:\n",
      " [[ 213308.16    406052.34   1349825.2   ]\n",
      " [ 155910.77     93663.805   320709.03  ]\n",
      " [ -49521.047     2668.6367 1768881.1   ]\n",
      " [-152287.28    116920.78   -718264.75  ]]\n"
     ]
    },
    {
     "name": "stderr",
     "output_type": "stream",
     "text": [
      "\r",
      " 13%|█▎        | 13001/100000 [1:14:48<11:08:59,  2.17it/s]"
     ]
    },
    {
     "name": "stdout",
     "output_type": "stream",
     "text": [
      "loss is: 74971.07\n"
     ]
    },
    {
     "name": "stderr",
     "output_type": "stream",
     "text": [
      " 14%|█▍        | 14000/100000 [1:20:33<8:13:32,  2.90it/s] "
     ]
    },
    {
     "name": "stdout",
     "output_type": "stream",
     "text": [
      "save model\n",
      "learning_rate is:\n",
      " 0.2187\n",
      "real location is:\n",
      " [[ 181839.407034   331625.514618  -447212.765971 ]\n",
      " [-204895.267262   218964.544531   912471.774386 ]\n",
      " [-160365.689391    57335.5513671 -407804.303409 ]\n",
      " [-208452.213775   167348.21399   -913618.179217 ]]\n",
      "prediction is:\n",
      " [[ 161636.27   365714.62  -605816.1  ]\n",
      " [-233508.83   228575.84   913502.06 ]\n",
      " [ -98593.32    43430.727 -369106.75 ]\n",
      " [-126672.22   202461.62  -939948.9  ]]\n"
     ]
    },
    {
     "name": "stderr",
     "output_type": "stream",
     "text": [
      "\r",
      " 14%|█▍        | 14001/100000 [1:20:33<11:00:49,  2.17it/s]"
     ]
    },
    {
     "name": "stdout",
     "output_type": "stream",
     "text": [
      "loss is: 53097.355\n"
     ]
    },
    {
     "name": "stderr",
     "output_type": "stream",
     "text": [
      " 15%|█▌        | 15000/100000 [1:26:18<8:07:49,  2.90it/s] "
     ]
    },
    {
     "name": "stdout",
     "output_type": "stream",
     "text": [
      "save model\n",
      "learning_rate is:\n",
      " 0.2187\n",
      "real location is:\n",
      " [[ 6.72348345e+04  4.08551900e+05  1.00702006e+04]\n",
      " [-8.26587716e+04  4.04257855e+03  1.30532148e+04]\n",
      " [-2.96594033e+04  4.08231350e+05 -3.72505566e+02]\n",
      " [ 2.06126650e+05  1.26408677e+05 -9.38681236e+05]]\n",
      "prediction is:\n",
      " [[  67539.66    374174.75     12697.094 ]\n",
      " [  78547.22      7459.3105  602415.75  ]\n",
      " [-151883.      373713.2    -387241.6   ]\n",
      " [ 151452.23     94625.91   -816314.8   ]]\n"
     ]
    },
    {
     "name": "stderr",
     "output_type": "stream",
     "text": [
      "\r",
      " 15%|█▌        | 15001/100000 [1:26:18<10:47:16,  2.19it/s]"
     ]
    },
    {
     "name": "stdout",
     "output_type": "stream",
     "text": [
      "loss is: 160803.52\n"
     ]
    },
    {
     "name": "stderr",
     "output_type": "stream",
     "text": [
      " 16%|█▌        | 16000/100000 [1:32:03<8:02:23,  2.90it/s] "
     ]
    },
    {
     "name": "stdout",
     "output_type": "stream",
     "text": [
      "save model\n",
      "learning_rate is:\n",
      " 0.19682996\n",
      "real location is:\n",
      " [[   37092.46151      408756.971999      -9258.10449411]\n",
      " [ -161149.42957      351119.136705     469790.278058  ]\n",
      " [  103552.972957       1495.56828772   162519.549406  ]\n",
      " [ -152431.827767     360275.135964   -1350824.43117   ]]\n",
      "prediction is:\n",
      " [[ 5.4259211e+04  3.8832378e+05  2.3672695e+05]\n",
      " [-1.8967470e+05  2.9576888e+05  5.9695438e+05]\n",
      " [ 1.4260673e+05 -5.4421875e+01  3.1035712e+05]\n",
      " [-1.3762612e+05  3.0885150e+05 -1.1579362e+06]]\n"
     ]
    },
    {
     "name": "stderr",
     "output_type": "stream",
     "text": [
      "\r",
      " 16%|█▌        | 16001/100000 [1:32:03<10:38:54,  2.19it/s]"
     ]
    },
    {
     "name": "stdout",
     "output_type": "stream",
     "text": [
      "loss is: 98142.53\n"
     ]
    },
    {
     "name": "stderr",
     "output_type": "stream",
     "text": [
      " 17%|█▋        | 17000/100000 [1:37:48<7:56:23,  2.90it/s] "
     ]
    },
    {
     "name": "stdout",
     "output_type": "stream",
     "text": [
      "save model\n",
      "learning_rate is:\n",
      " 0.19682996\n",
      "real location is:\n",
      " [[  66264.7766496  408611.856451    14483.0523266]\n",
      " [ -82106.9457135  409354.184087  1783515.90894  ]\n",
      " [-205042.213244   234610.952969   919355.64122  ]\n",
      " [ 205306.714587   278412.08092    911849.838614 ]]\n",
      "prediction is:\n",
      " [[  33024.508  277706.38   -39793.53 ]\n",
      " [  35757.25   351031.44   789392.75 ]\n",
      " [-220627.75   167418.4    883552.   ]\n",
      " [ 209260.3    141097.56   816375.8  ]]\n"
     ]
    },
    {
     "name": "stderr",
     "output_type": "stream",
     "text": [
      "\r",
      " 17%|█▋        | 17001/100000 [1:37:48<10:30:53,  2.19it/s]"
     ]
    },
    {
     "name": "stdout",
     "output_type": "stream",
     "text": [
      "loss is: 181670.95\n"
     ]
    },
    {
     "name": "stderr",
     "output_type": "stream",
     "text": [
      " 18%|█▊        | 18000/100000 [1:43:33<7:50:22,  2.91it/s] "
     ]
    },
    {
     "name": "stdout",
     "output_type": "stream",
     "text": [
      "save model\n",
      "learning_rate is:\n",
      " 0.19682996\n",
      "real location is:\n",
      " [[  206206.760415   182380.008083  -878993.741741]\n",
      " [  118507.01887    393074.411024  -410405.751769]\n",
      " [  203892.547339   267980.583581  -859181.14798 ]\n",
      " [ -193422.839471   317428.381394 -1283627.75535 ]]\n",
      "prediction is:\n",
      " [[  163124.47    139970.9   -1002317.56 ]\n",
      " [   33501.02    278264.53    -80048.766]\n",
      " [  227592.6     266666.78   -976685.8  ]\n",
      " [ -170657.38    259049.38  -1127638.2  ]]\n"
     ]
    },
    {
     "name": "stderr",
     "output_type": "stream",
     "text": [
      "\r",
      " 18%|█▊        | 18001/100000 [1:43:33<10:24:13,  2.19it/s]"
     ]
    },
    {
     "name": "stdout",
     "output_type": "stream",
     "text": [
      "loss is: 116523.5\n"
     ]
    },
    {
     "name": "stderr",
     "output_type": "stream",
     "text": [
      " 19%|█▉        | 19000/100000 [1:49:18<7:46:34,  2.89it/s] "
     ]
    },
    {
     "name": "stdout",
     "output_type": "stream",
     "text": [
      "save model\n",
      "learning_rate is:\n",
      " 0.19682996\n",
      "real location is:\n",
      " [[-203999.626492   121422.397803   935605.162965 ]\n",
      " [-204995.719983   189694.384345   927586.650664 ]\n",
      " [ 179761.291934   334957.637817  1391941.21359  ]\n",
      " [  98840.1224927  408236.284809  -237590.140921 ]]\n",
      "prediction is:\n",
      " [[-165237.27    33656.254  927884.4  ]\n",
      " [-114844.73   192916.4    837496.25 ]\n",
      " [ 205961.72   211285.56  1146706.6  ]\n",
      " [  95138.3    280074.12  -308138.78 ]]\n"
     ]
    },
    {
     "name": "stderr",
     "output_type": "stream",
     "text": [
      "\r",
      " 19%|█▉        | 19001/100000 [1:49:18<10:16:44,  2.19it/s]"
     ]
    },
    {
     "name": "stdout",
     "output_type": "stream",
     "text": [
      "loss is: 95335.15\n"
     ]
    },
    {
     "name": "stderr",
     "output_type": "stream",
     "text": [
      " 20%|██        | 20000/100000 [1:55:02<7:39:53,  2.90it/s] "
     ]
    },
    {
     "name": "stdout",
     "output_type": "stream",
     "text": [
      "save model\n",
      "learning_rate is:\n",
      " 0.17714699\n",
      "real location is:\n",
      " [[ 2.04250017e+05  2.56686760e+05 -8.97482687e+05]\n",
      " [-1.17805286e+05  2.03267736e+04  1.41086758e+06]\n",
      " [-1.19805216e+05  2.21824028e+04  1.39421811e+06]\n",
      " [ 5.03564824e+04  1.05508482e+03  1.79689193e+06]]\n",
      "prediction is:\n",
      " [[ 2.5635047e+05  2.9224725e+05 -9.4935519e+05]\n",
      " [-1.5107434e+05  1.3075128e+05  1.2525875e+06]\n",
      " [-1.6256756e+05  2.9818800e+05  8.3314425e+05]\n",
      " [ 1.0363623e+03  1.8411688e+04  1.6603592e+06]]\n"
     ]
    },
    {
     "name": "stderr",
     "output_type": "stream",
     "text": [
      "\r",
      " 20%|██        | 20001/100000 [1:55:03<10:09:01,  2.19it/s]"
     ]
    },
    {
     "name": "stdout",
     "output_type": "stream",
     "text": [
      "loss is: 158806.6\n"
     ]
    },
    {
     "name": "stderr",
     "output_type": "stream",
     "text": [
      " 21%|██        | 21000/100000 [2:00:48<7:33:39,  2.90it/s] "
     ]
    },
    {
     "name": "stdout",
     "output_type": "stream",
     "text": [
      "save model\n",
      "learning_rate is:\n",
      " 0.17714699\n",
      "real location is:\n",
      " [[-208365.813448  210451.053107 -883713.212202]\n",
      " [-146286.68603   366290.984449  463320.9802  ]\n",
      " [-207382.586194  218058.074712 -892426.3646  ]\n",
      " [-205554.530259  283375.142008 -910799.409277]]\n",
      "prediction is:\n",
      " [[ -147156.44   148724.66 -1022358.4 ]\n",
      " [  185740.22   301027.94  -191664.62]\n",
      " [ -104893.86   209399.39  -873432.44]\n",
      " [ -145185.42   206852.9  -1082186.2 ]]\n"
     ]
    },
    {
     "name": "stderr",
     "output_type": "stream",
     "text": [
      "\r",
      " 21%|██        | 21001/100000 [2:00:49<10:00:26,  2.19it/s]"
     ]
    },
    {
     "name": "stdout",
     "output_type": "stream",
     "text": [
      "loss is: 182527.2\n"
     ]
    },
    {
     "name": "stderr",
     "output_type": "stream",
     "text": [
      " 22%|██▏       | 22000/100000 [2:06:33<7:27:54,  2.90it/s] "
     ]
    },
    {
     "name": "stdout",
     "output_type": "stream",
     "text": [
      "save model\n",
      "learning_rate is:\n",
      " 0.17714699\n",
      "real location is:\n",
      " [[ -112304.732224     16284.7449492  1415332.28142  ]\n",
      " [ -179112.305351    332337.685117    480412.019804 ]\n",
      " [  174664.856457     70394.0553054   477813.139888 ]\n",
      " [  -34732.3404574   408759.964584  -1784506.09019  ]]\n",
      "prediction is:\n",
      " [[-1.2128030e+05  2.1643711e+03  1.4684565e+06]\n",
      " [-1.4896069e+05  3.5046612e+05  6.3631000e+05]\n",
      " [ 1.5749869e+05  6.8054406e+04  4.7988503e+05]\n",
      " [ 8.1330469e+02  4.0714569e+05 -1.8167660e+06]]\n"
     ]
    },
    {
     "name": "stderr",
     "output_type": "stream",
     "text": [
      "\r",
      " 22%|██▏       | 22001/100000 [2:06:34<9:53:57,  2.19it/s]"
     ]
    },
    {
     "name": "stdout",
     "output_type": "stream",
     "text": [
      "loss is: 38685.496\n"
     ]
    },
    {
     "name": "stderr",
     "output_type": "stream",
     "text": [
      " 23%|██▎       | 23000/100000 [2:12:19<7:21:39,  2.91it/s]"
     ]
    },
    {
     "name": "stdout",
     "output_type": "stream",
     "text": [
      "save model\n",
      "learning_rate is:\n",
      " 0.17714699\n",
      "real location is:\n",
      " [[  -97349.2421987      6154.53073596  -267262.965562  ]\n",
      " [ -207166.799207     240591.938066    -923356.82318   ]\n",
      " [  206515.820151     266989.368946     912366.732704  ]\n",
      " [  -13939.9553261    409253.693694   -1787962.65477   ]]\n",
      "prediction is:\n",
      " [[  -53647.617   -29380.52   -129850.234]\n",
      " [ -201706.38    190079.98   -781344.1  ]\n",
      " [  205970.28    287693.78    915558.6  ]\n",
      " [   -6958.087   360186.22  -1782452.9  ]]\n"
     ]
    },
    {
     "name": "stderr",
     "output_type": "stream",
     "text": [
      "\r",
      " 23%|██▎       | 23001/100000 [2:12:19<9:45:42,  2.19it/s]"
     ]
    },
    {
     "name": "stdout",
     "output_type": "stream",
     "text": [
      "loss is: 52147.953\n"
     ]
    },
    {
     "name": "stderr",
     "output_type": "stream",
     "text": [
      " 24%|██▍       | 24000/100000 [2:18:06<7:19:54,  2.88it/s]"
     ]
    },
    {
     "name": "stdout",
     "output_type": "stream",
     "text": [
      "save model\n",
      "learning_rate is:\n",
      " 0.15943229\n",
      "real location is:\n",
      " [[-126438.06414    27793.548431 1396365.65236 ]\n",
      " [-203050.421037  104279.289071 1003911.60099 ]\n",
      " [ 206497.282001  186308.752823  915957.318897]\n",
      " [ 199843.573731  314348.488626 1341281.10743 ]]\n",
      "prediction is:\n",
      " [[-154965.95    78039.64   -69002.484]\n",
      " [-220850.38   118300.93   937922.2  ]\n",
      " [ 206702.56   205443.38   465741.3  ]\n",
      " [ 197172.9    309602.8    714711.5  ]]\n"
     ]
    },
    {
     "name": "stderr",
     "output_type": "stream",
     "text": [
      "\r",
      " 24%|██▍       | 24001/100000 [2:18:06<9:42:15,  2.18it/s]"
     ]
    },
    {
     "name": "stdout",
     "output_type": "stream",
     "text": [
      "loss is: 285987.5\n"
     ]
    },
    {
     "name": "stderr",
     "output_type": "stream",
     "text": [
      " 25%|██▌       | 25000/100000 [2:23:52<7:12:34,  2.89it/s]"
     ]
    },
    {
     "name": "stdout",
     "output_type": "stream",
     "text": [
      "save model\n",
      "learning_rate is:\n",
      " 0.15943229\n",
      "real location is:\n",
      " [[  -73409.9864781      2512.43675635  1778311.55607   ]\n",
      " [  -85210.070825     408658.664726   -1790692.04058   ]\n",
      " [  101535.870856       2752.0897138    161403.403792  ]\n",
      " [  -72311.3373743    409417.886599   -1784907.16065   ]]\n",
      "prediction is:\n",
      " [[  -80826.734    -24788.898   1753519.5   ]\n",
      " [   51924.47     394470.62   -1685030.2   ]\n",
      " [  164349.36      18877.312   -375851.84  ]\n",
      " [    4396.8228   410129.62   -1693372.9   ]]\n"
     ]
    },
    {
     "name": "stderr",
     "output_type": "stream",
     "text": [
      "\r",
      " 25%|██▌       | 25001/100000 [2:23:53<9:32:59,  2.18it/s]"
     ]
    },
    {
     "name": "stdout",
     "output_type": "stream",
     "text": [
      "loss is: 114752.87\n"
     ]
    },
    {
     "name": "stderr",
     "output_type": "stream",
     "text": [
      " 26%|██▌       | 26000/100000 [2:29:39<7:06:59,  2.89it/s]"
     ]
    },
    {
     "name": "stdout",
     "output_type": "stream",
     "text": [
      "save model\n",
      "learning_rate is:\n",
      " 0.15943229\n",
      "real location is:\n",
      " [[ 8.77248496e+03  1.50121905e+02 -1.79192429e+06]\n",
      " [-2.05062572e+05  2.35830362e+05  9.22828320e+05]\n",
      " [-1.65510318e+05  6.22790055e+04 -4.33703584e+05]\n",
      " [-7.58009112e+04  4.08023964e+05  1.11827951e+04]]\n",
      "prediction is:\n",
      " [[ 2.8979500e+04 -2.2310391e+03 -1.8982075e+06]\n",
      " [-1.7383242e+05  3.1947328e+05  9.1054081e+05]\n",
      " [-4.8561160e+04  5.7303109e+04 -5.2748119e+05]\n",
      " [ 1.8176243e+03  4.0504512e+05 -5.7261062e+04]]\n"
     ]
    },
    {
     "name": "stderr",
     "output_type": "stream",
     "text": [
      "\r",
      " 26%|██▌       | 26001/100000 [2:29:40<9:24:50,  2.18it/s]"
     ]
    },
    {
     "name": "stdout",
     "output_type": "stream",
     "text": [
      "loss is: 64662.594\n"
     ]
    },
    {
     "name": "stderr",
     "output_type": "stream",
     "text": [
      " 27%|██▋       | 27000/100000 [2:35:28<7:03:35,  2.87it/s]"
     ]
    },
    {
     "name": "stdout",
     "output_type": "stream",
     "text": [
      "save model\n",
      "learning_rate is:\n",
      " 0.15943229\n",
      "real location is:\n",
      " [[ 133363.172313    28504.5090481  435771.534455 ]\n",
      " [-144018.882497   368582.255483   461233.289601 ]\n",
      " [ 207437.429712   130273.112464   886965.698372 ]\n",
      " [ 184921.172881   329384.538665  -449816.544143 ]]\n",
      "prediction is:\n",
      " [[  90179.35   92083.33  437222.5 ]\n",
      " [-170376.94  366078.7   471077.97]\n",
      " [ 234568.17  114892.53  940578.6 ]\n",
      " [ 185890.42  272543.47 -421810.16]]\n"
     ]
    },
    {
     "name": "stderr",
     "output_type": "stream",
     "text": [
      "\r",
      " 27%|██▋       | 27001/100000 [2:35:28<9:19:04,  2.18it/s]"
     ]
    },
    {
     "name": "stdout",
     "output_type": "stream",
     "text": [
      "loss is: 34254.777\n"
     ]
    },
    {
     "name": "stderr",
     "output_type": "stream",
     "text": [
      " 28%|██▊       | 28000/100000 [2:41:15<6:56:52,  2.88it/s]"
     ]
    },
    {
     "name": "stdout",
     "output_type": "stream",
     "text": [
      "save model\n",
      "learning_rate is:\n",
      " 0.14348905\n",
      "real location is:\n",
      " [[   -3034.4618908    408211.037337      -5662.91923104]\n",
      " [ -167399.823526     344593.430199   -1346274.43437   ]\n",
      " [  205667.606382     234698.138127     908839.468185  ]\n",
      " [  207333.728208     218072.268562     883685.010293  ]]\n",
      "prediction is:\n",
      " [[   20490.064   373929.5      39292.348]\n",
      " [ -198703.69    360346.4   -1391434.5  ]\n",
      " [  212733.27    159949.31    832440.75 ]\n",
      " [   96178.41     26545.562   897110.8  ]]\n"
     ]
    },
    {
     "name": "stderr",
     "output_type": "stream",
     "text": [
      "\r",
      " 28%|██▊       | 28001/100000 [2:41:15<9:13:16,  2.17it/s]"
     ]
    },
    {
     "name": "stdout",
     "output_type": "stream",
     "text": [
      "loss is: 69717.12\n"
     ]
    },
    {
     "name": "stderr",
     "output_type": "stream",
     "text": [
      " 29%|██▉       | 29000/100000 [2:47:02<6:50:18,  2.88it/s]"
     ]
    },
    {
     "name": "stdout",
     "output_type": "stream",
     "text": [
      "save model\n",
      "learning_rate is:\n",
      " 0.14348905\n",
      "real location is:\n",
      " [[-4.74869184e+04  8.88644173e+02  1.77279848e+06]\n",
      " [ 2.04682505e+05  2.36326820e+05 -8.95359734e+05]\n",
      " [-2.05592595e+05  2.51885402e+05  9.30222630e+05]\n",
      " [-2.04427558e+05  1.42167846e+05  9.05175968e+05]]\n",
      "prediction is:\n",
      " [[ -95818.875   44291.324 1717756.5  ]\n",
      " [ 208632.6    234308.84  -731579.7  ]\n",
      " [-202563.44   266151.3    932768.6  ]\n",
      " [-222408.22   133561.39   848756.5  ]]\n"
     ]
    },
    {
     "name": "stderr",
     "output_type": "stream",
     "text": [
      "\r",
      " 29%|██▉       | 29001/100000 [2:47:02<9:03:15,  2.18it/s]"
     ]
    },
    {
     "name": "stdout",
     "output_type": "stream",
     "text": [
      "loss is: 43683.06\n"
     ]
    },
    {
     "name": "stderr",
     "output_type": "stream",
     "text": [
      " 30%|███       | 30000/100000 [2:52:49<6:45:10,  2.88it/s]"
     ]
    },
    {
     "name": "stdout",
     "output_type": "stream",
     "text": [
      "save model\n",
      "learning_rate is:\n",
      " 0.14348905\n",
      "real location is:\n",
      " [[ -146411.057086      45671.1014023   1386764.71439   ]\n",
      " [ -194553.404714      90567.0042603   -474769.58997   ]\n",
      " [   86770.4879689      1858.95507347 -1742034.82179   ]\n",
      " [  -84235.6935237      2795.48008025  1794641.21851   ]]\n",
      "prediction is:\n",
      " [[ -138233.9     146777.9    1318699.5  ]\n",
      " [ -172965.6     229113.08   -469010.2  ]\n",
      " [  116221.92     43463.99  -1669420.1  ]\n",
      " [  -39906.734   207033.97   1783315.5  ]]\n"
     ]
    },
    {
     "name": "stderr",
     "output_type": "stream",
     "text": [
      "\r",
      " 30%|███       | 30001/100000 [2:52:49<8:55:57,  2.18it/s]"
     ]
    },
    {
     "name": "stdout",
     "output_type": "stream",
     "text": [
      "loss is: 77790.82\n"
     ]
    },
    {
     "name": "stderr",
     "output_type": "stream",
     "text": [
      " 31%|███       | 31000/100000 [2:58:36<6:38:43,  2.88it/s]"
     ]
    },
    {
     "name": "stdout",
     "output_type": "stream",
     "text": [
      "save model\n",
      "learning_rate is:\n",
      " 0.14348905\n",
      "real location is:\n",
      " [[ -205056.848451   182928.100696   929456.782139]\n",
      " [  207217.885213   230896.051683   913534.183742]\n",
      " [  205596.47376    247668.432453   896908.128464]\n",
      " [ -188777.282964   322461.322099 -1310309.26628 ]]\n",
      "prediction is:\n",
      " [[ -236106.62   144297.06   986926.4 ]\n",
      " [  175201.53   210421.98   670028.5 ]\n",
      " [  209723.62   165306.05   892070.6 ]\n",
      " [ -185271.2    336296.78 -1393827.5 ]]\n"
     ]
    },
    {
     "name": "stderr",
     "output_type": "stream",
     "text": [
      "\r",
      " 31%|███       | 31001/100000 [2:58:36<8:47:32,  2.18it/s]"
     ]
    },
    {
     "name": "stdout",
     "output_type": "stream",
     "text": [
      "loss is: 64095.66\n"
     ]
    },
    {
     "name": "stderr",
     "output_type": "stream",
     "text": [
      " 32%|███▏      | 32000/100000 [3:04:23<6:32:49,  2.89it/s]"
     ]
    },
    {
     "name": "stdout",
     "output_type": "stream",
     "text": [
      "save model\n",
      "learning_rate is:\n",
      " 0.12914014\n",
      "real location is:\n",
      " [[-2.06067470e+05  2.74969511e+05  9.26562340e+05]\n",
      " [ 6.71784709e+04  1.58477294e+03 -1.77586629e+06]\n",
      " [-1.01821084e+05  8.41637632e+03  1.45921954e+06]\n",
      " [ 1.24291262e+05  2.03315211e+04 -1.36173829e+06]]\n",
      "prediction is:\n",
      " [[ -113298.45     401524.22    1013498.6   ]\n",
      " [  123916.164      5896.1973 -1719007.1   ]\n",
      " [  -32264.973    114784.05    1610029.    ]\n",
      " [  140292.2      124329.945  -1410121.    ]]\n"
     ]
    },
    {
     "name": "stderr",
     "output_type": "stream",
     "text": [
      "\r",
      " 32%|███▏      | 32001/100000 [3:04:23<8:40:59,  2.18it/s]"
     ]
    },
    {
     "name": "stdout",
     "output_type": "stream",
     "text": [
      "loss is: 95757.16\n"
     ]
    },
    {
     "name": "stderr",
     "output_type": "stream",
     "text": [
      " 33%|███▎      | 33000/100000 [3:10:10<6:26:48,  2.89it/s]"
     ]
    },
    {
     "name": "stdout",
     "output_type": "stream",
     "text": [
      "save model\n",
      "learning_rate is:\n",
      " 0.12914014\n",
      "real location is:\n",
      " [[ -171457.543506     67653.070336   -427716.853363 ]\n",
      " [ -187730.499782     83236.6640932  -445750.85368  ]\n",
      " [  205339.724172    275839.926869    925824.091539 ]\n",
      " [   14104.2677089   409141.279559  -1797961.96773  ]]\n",
      "prediction is:\n",
      " [[-1.23597875e+05  7.08089844e+02 -3.07608406e+05]\n",
      " [-2.40951969e+05  1.13068617e+05 -6.92314000e+05]\n",
      " [ 1.99837406e+05  2.75798531e+05  9.52444812e+05]\n",
      " [-1.06170547e+04  3.51072188e+05 -1.70605788e+06]]\n"
     ]
    },
    {
     "name": "stderr",
     "output_type": "stream",
     "text": [
      "\r",
      " 33%|███▎      | 33001/100000 [3:10:10<8:32:31,  2.18it/s]"
     ]
    },
    {
     "name": "stdout",
     "output_type": "stream",
     "text": [
      "loss is: 80351.43\n"
     ]
    },
    {
     "name": "stderr",
     "output_type": "stream",
     "text": [
      " 34%|███▍      | 34000/100000 [3:15:57<6:20:41,  2.89it/s]"
     ]
    },
    {
     "name": "stdout",
     "output_type": "stream",
     "text": [
      "save model\n",
      "learning_rate is:\n",
      " 0.12914014\n",
      "real location is:\n",
      " [[ 1.50328764e+05  4.57131367e+04 -1.33654957e+06]\n",
      " [ 1.52244829e+05  4.70258196e+04  4.66209075e+05]\n",
      " [-1.96718600e+05  9.35586954e+04 -4.81331819e+05]\n",
      " [-9.01183257e+03 -1.38536606e+02  1.78077657e+06]]\n",
      "prediction is:\n",
      " [[  153778.97     36345.55  -1335637.2  ]\n",
      " [  167811.86    164930.72    453371.3  ]\n",
      " [ -177303.31    230829.1    -609022.6  ]\n",
      " [  -48272.258   123181.49   1619497.1  ]]\n"
     ]
    },
    {
     "name": "stderr",
     "output_type": "stream",
     "text": [
      "\r",
      " 34%|███▍      | 34001/100000 [3:15:57<8:24:03,  2.18it/s]"
     ]
    },
    {
     "name": "stdout",
     "output_type": "stream",
     "text": [
      "loss is: 80027.22\n"
     ]
    },
    {
     "name": "stderr",
     "output_type": "stream",
     "text": [
      " 35%|███▌      | 35000/100000 [3:21:44<6:15:44,  2.88it/s]"
     ]
    },
    {
     "name": "stdout",
     "output_type": "stream",
     "text": [
      "save model\n",
      "learning_rate is:\n",
      " 0.12914014\n",
      "real location is:\n",
      " [[ -159912.13272      352473.573881     462939.525963  ]\n",
      " [ -148013.61924      364643.173584   -1349681.61273   ]\n",
      " [  -33012.4582122      1826.16524608   -15435.849902  ]\n",
      " [    5573.95027969   409455.452205   -1788040.83011   ]]\n",
      "prediction is:\n",
      " [[-1.6946125e+05  2.8028919e+05  3.1818975e+05]\n",
      " [-1.8018080e+05  3.5925838e+05 -1.4196350e+06]\n",
      " [-1.5479461e+04  1.7326480e+04  1.6085703e+03]\n",
      " [ 5.0743141e+04  3.3719488e+05 -1.7579915e+06]]\n"
     ]
    },
    {
     "name": "stderr",
     "output_type": "stream",
     "text": [
      "\r",
      " 35%|███▌      | 35001/100000 [3:21:44<8:17:55,  2.18it/s]"
     ]
    },
    {
     "name": "stdout",
     "output_type": "stream",
     "text": [
      "loss is: 55367.76\n"
     ]
    },
    {
     "name": "stderr",
     "output_type": "stream",
     "text": [
      " 36%|███▌      | 36000/100000 [3:27:31<6:09:40,  2.89it/s]"
     ]
    },
    {
     "name": "stdout",
     "output_type": "stream",
     "text": [
      "save model\n",
      "learning_rate is:\n",
      " 0.11622612\n",
      "real location is:\n",
      " [[ -110700.76401     399715.676094    422908.439738 ]\n",
      " [  -65018.7064289   408057.457234     11715.1558432]\n",
      " [  126811.459891     22094.8830981 -1371017.19126  ]\n",
      " [ -168902.113391    343381.809138  -1343008.8199   ]]\n",
      "prediction is:\n",
      " [[ -171028.48    374471.25    647248.9  ]\n",
      " [  -33967.086   368281.56   -128445.86 ]\n",
      " [  124869.17      9725.992 -1249186.8  ]\n",
      " [ -158684.42    279873.1   -1326396.   ]]\n"
     ]
    },
    {
     "name": "stderr",
     "output_type": "stream",
     "text": [
      "\r",
      " 36%|███▌      | 36001/100000 [3:27:31<8:10:55,  2.17it/s]"
     ]
    },
    {
     "name": "stdout",
     "output_type": "stream",
     "text": [
      "loss is: 77850.74\n"
     ]
    },
    {
     "name": "stderr",
     "output_type": "stream",
     "text": [
      " 37%|███▋      | 37000/100000 [3:33:18<6:04:05,  2.88it/s]"
     ]
    },
    {
     "name": "stdout",
     "output_type": "stream",
     "text": [
      "save model\n",
      "learning_rate is:\n",
      " 0.11622612\n",
      "real location is:\n",
      " [[   99538.5254889      2996.94131874 -1723592.26823   ]\n",
      " [  191495.383077      89832.2325532    538272.073558  ]\n",
      " [  104754.636358     404253.647869    -384078.504216  ]\n",
      " [ -205837.886337     284027.505625    -932257.734722  ]]\n",
      "prediction is:\n",
      " [[  103824.1      13824.364 -1769528.8  ]\n",
      " [  180649.78    121232.88    414469.9  ]\n",
      " [   99754.08    419705.12   -522935.7  ]\n",
      " [ -178882.2     254161.61   -903229.25 ]]\n"
     ]
    },
    {
     "name": "stderr",
     "output_type": "stream",
     "text": [
      "\r",
      " 37%|███▋      | 37001/100000 [3:33:19<8:02:37,  2.18it/s]"
     ]
    },
    {
     "name": "stdout",
     "output_type": "stream",
     "text": [
      "loss is: 49191.895\n"
     ]
    },
    {
     "name": "stderr",
     "output_type": "stream",
     "text": [
      " 38%|███▊      | 38000/100000 [3:39:05<5:58:03,  2.89it/s]"
     ]
    },
    {
     "name": "stdout",
     "output_type": "stream",
     "text": [
      "save model\n",
      "learning_rate is:\n",
      " 0.11622612\n",
      "real location is:\n",
      " [[-2.03358262e+05  1.12810044e+05  9.26350815e+05]\n",
      " [-1.46411057e+05  4.56711014e+04  1.38676471e+06]\n",
      " [ 2.05715003e+05  2.30841686e+05  9.10455643e+05]\n",
      " [ 3.37220273e+02 -3.56693893e+03 -1.71884004e+06]]\n",
      "prediction is:\n",
      " [[ -207237.88    166478.28    954959.   ]\n",
      " [ -134949.98     60514.15   1483159.6  ]\n",
      " [  199544.48    288225.03   1023169.   ]\n",
      " [   39585.348    22527.31  -1618961.1  ]]\n"
     ]
    },
    {
     "name": "stderr",
     "output_type": "stream",
     "text": [
      "\r",
      " 38%|███▊      | 38001/100000 [3:39:06<7:54:40,  2.18it/s]"
     ]
    },
    {
     "name": "stdout",
     "output_type": "stream",
     "text": [
      "loss is: 57325.887\n"
     ]
    },
    {
     "name": "stderr",
     "output_type": "stream",
     "text": [
      " 39%|███▉      | 39000/100000 [3:44:52<5:51:51,  2.89it/s]"
     ]
    },
    {
     "name": "stdout",
     "output_type": "stream",
     "text": [
      "save model\n",
      "learning_rate is:\n",
      " 0.11622612\n",
      "real location is:\n",
      " [[ 205587.008599  257981.34902   910942.746254]\n",
      " [ 205177.663888  215934.65656  -937504.005244]\n",
      " [ 206132.371317  122020.439599  881892.456217]\n",
      " [-205392.86178   287716.064998 -917950.094969]]\n",
      "prediction is:\n",
      " [[ 169085.11  249645.   1123852.  ]\n",
      " [ 207117.58  147507.75 -842317.94]\n",
      " [ 169088.44  132897.97  918492.8 ]\n",
      " [-199976.81  317476.88 -890611.7 ]]\n"
     ]
    },
    {
     "name": "stderr",
     "output_type": "stream",
     "text": [
      "\r",
      " 39%|███▉      | 39001/100000 [3:44:53<7:46:05,  2.18it/s]"
     ]
    },
    {
     "name": "stdout",
     "output_type": "stream",
     "text": [
      "loss is: 59408.605\n"
     ]
    },
    {
     "name": "stderr",
     "output_type": "stream",
     "text": [
      " 40%|████      | 40000/100000 [3:50:39<5:47:12,  2.88it/s]"
     ]
    },
    {
     "name": "stdout",
     "output_type": "stream",
     "text": [
      "save model\n",
      "learning_rate is:\n",
      " 0.1046035\n",
      "real location is:\n",
      " [[ 2.29278498e+02  4.09338111e+05 -1.78256755e+06]\n",
      " [-7.02006169e+04  4.09422279e+05 -1.79049756e+06]\n",
      " [-1.52754610e+05  5.04940384e+04 -4.23299389e+05]\n",
      " [ 2.05719920e+05  1.96096845e+05 -8.32912787e+05]]\n",
      "prediction is:\n",
      " [[   -5846.8174   391244.8    -1629571.8   ]\n",
      " [  -77259.61     452558.8     -329538.3   ]\n",
      " [ -136629.88      53124.96     -72627.19  ]\n",
      " [  203032.02     278522.12    -451043.6   ]]\n"
     ]
    },
    {
     "name": "stderr",
     "output_type": "stream",
     "text": [
      "\r",
      " 40%|████      | 40001/100000 [3:50:40<7:39:17,  2.18it/s]"
     ]
    },
    {
     "name": "stdout",
     "output_type": "stream",
     "text": [
      "loss is: 262991.16\n"
     ]
    },
    {
     "name": "stderr",
     "output_type": "stream",
     "text": [
      " 41%|████      | 41000/100000 [3:56:26<5:40:22,  2.89it/s]"
     ]
    },
    {
     "name": "stdout",
     "output_type": "stream",
     "text": [
      "save model\n",
      "learning_rate is:\n",
      " 0.1046035\n",
      "real location is:\n",
      " [[-1.93526166e+05  8.99796428e+04 -4.72949266e+05]\n",
      " [ 7.55868199e+04  1.86691365e+03 -1.78410065e+06]\n",
      " [ 1.49497260e+05  4.48569470e+04 -1.33695018e+06]\n",
      " [ 1.85386434e+04  3.14650855e+02 -1.77619362e+06]]\n",
      "prediction is:\n",
      " [[ -140109.38    114702.516  -383779.88 ]\n",
      " [  157666.69     49877.582 -1721647.8  ]\n",
      " [  245755.8     252925.88  -1100731.   ]\n",
      " [   68434.914   343984.      125226.14 ]]\n"
     ]
    },
    {
     "name": "stderr",
     "output_type": "stream",
     "text": [
      "\r",
      " 41%|████      | 41001/100000 [3:56:27<7:32:23,  2.17it/s]"
     ]
    },
    {
     "name": "stdout",
     "output_type": "stream",
     "text": [
      "loss is: 332850.97\n"
     ]
    },
    {
     "name": "stderr",
     "output_type": "stream",
     "text": [
      " 42%|████▏     | 42000/100000 [4:02:13<5:35:21,  2.88it/s]"
     ]
    },
    {
     "name": "stdout",
     "output_type": "stream",
     "text": [
      "save model\n",
      "learning_rate is:\n",
      " 0.1046035\n",
      "real location is:\n",
      " [[ 2.08779151e+04  4.09678209e+05  1.79481816e+06]\n",
      " [ 9.90673523e+04  2.15141412e+03  1.40983642e+05]\n",
      " [-3.59723568e+04  4.56580337e+02  1.76970997e+06]\n",
      " [-2.05059629e+05  1.92182624e+05  9.23275018e+05]]\n",
      "prediction is:\n",
      " [[ 132448.27   422728.44  1281055.1  ]\n",
      " [ 134584.28    87929.78  -672973.44 ]\n",
      " [ -25846.172   16016.453 1587040.8  ]\n",
      " [-225635.55   219133.3    733310.3  ]]\n"
     ]
    },
    {
     "name": "stderr",
     "output_type": "stream",
     "text": [
      "\r",
      " 42%|████▏     | 42001/100000 [4:02:14<7:25:19,  2.17it/s]"
     ]
    },
    {
     "name": "stdout",
     "output_type": "stream",
     "text": [
      "loss is: 210361.2\n"
     ]
    },
    {
     "name": "stderr",
     "output_type": "stream",
     "text": [
      " 43%|████▎     | 43000/100000 [4:08:00<5:29:00,  2.89it/s]"
     ]
    },
    {
     "name": "stdout",
     "output_type": "stream",
     "text": [
      "save model\n",
      "learning_rate is:\n",
      " 0.1046035\n",
      "real location is:\n",
      " [[ -205787.252412    115161.827128   -798495.552074 ]\n",
      " [  181422.195179    333500.174829   1393921.42585  ]\n",
      " [  -12751.6949786   408712.886155  -1793271.01173  ]\n",
      " [ -204384.621422    301870.464098  -1029436.00942  ]]\n",
      "prediction is:\n",
      " [[ -173210.4      98825.95   -694490.6  ]\n",
      " [  156092.17    248817.53   1485402.9  ]\n",
      " [  -31090.527   380577.    -1806317.   ]\n",
      " [ -188985.28    161468.48  -1145927.5  ]]\n"
     ]
    },
    {
     "name": "stderr",
     "output_type": "stream",
     "text": [
      "\r",
      " 43%|████▎     | 43001/100000 [4:08:01<7:15:26,  2.18it/s]"
     ]
    },
    {
     "name": "stdout",
     "output_type": "stream",
     "text": [
      "loss is: 71480.25\n"
     ]
    },
    {
     "name": "stderr",
     "output_type": "stream",
     "text": [
      " 44%|████▍     | 44000/100000 [4:13:47<5:23:01,  2.89it/s]"
     ]
    },
    {
     "name": "stdout",
     "output_type": "stream",
     "text": [
      "save model\n",
      "learning_rate is:\n",
      " 0.09414315\n",
      "real location is:\n",
      " [[ -160247.52543    352334.82147  -1335897.47342 ]\n",
      " [  206922.611918   255032.823217   920878.942332]\n",
      " [  207280.707592   242880.493441   921696.542749]\n",
      " [ -207159.168932   200314.713468  -890069.933647]]\n",
      "prediction is:\n",
      " [[ -168314.12    308381.44  -1269584.   ]\n",
      " [  185506.58     97873.234   918952.   ]\n",
      " [  198764.38    190378.95    911451.4  ]\n",
      " [ -217269.28    148698.56   -732393.94 ]]\n"
     ]
    },
    {
     "name": "stderr",
     "output_type": "stream",
     "text": [
      "\r",
      " 44%|████▍     | 44001/100000 [4:13:48<7:08:14,  2.18it/s]"
     ]
    },
    {
     "name": "stdout",
     "output_type": "stream",
     "text": [
      "loss is: 61404.83\n"
     ]
    },
    {
     "name": "stderr",
     "output_type": "stream",
     "text": [
      " 45%|████▌     | 45000/100000 [4:19:34<5:17:23,  2.89it/s]"
     ]
    },
    {
     "name": "stdout",
     "output_type": "stream",
     "text": [
      "save model\n",
      "learning_rate is:\n",
      " 0.09414315\n",
      "real location is:\n",
      " [[   58344.8958053   409715.3339    -1799484.40498  ]\n",
      " [ -208518.120848    155644.512452   -878783.182718 ]\n",
      " [ -205019.865153    179589.592391    915164.26176  ]\n",
      " [ -146251.171261    366360.818765  -1352795.25913  ]]\n",
      "prediction is:\n",
      " [[   98411.17    346024.44  -1345392.2  ]\n",
      " [ -184725.72    144419.11   -910383.4  ]\n",
      " [ -115713.56     58653.656   970620.25 ]\n",
      " [ -132014.02    326742.72  -1346676.5  ]]\n"
     ]
    },
    {
     "name": "stderr",
     "output_type": "stream",
     "text": [
      "\r",
      " 45%|████▌     | 45001/100000 [4:19:35<7:00:41,  2.18it/s]"
     ]
    },
    {
     "name": "stdout",
     "output_type": "stream",
     "text": [
      "loss is: 98971.31\n"
     ]
    },
    {
     "name": "stderr",
     "output_type": "stream",
     "text": [
      " 46%|████▌     | 46000/100000 [4:25:21<5:12:09,  2.88it/s]"
     ]
    },
    {
     "name": "stdout",
     "output_type": "stream",
     "text": [
      "save model\n",
      "learning_rate is:\n",
      " 0.09414315\n",
      "real location is:\n",
      " [[  -73353.8599939   409395.665371  -1785281.74563  ]\n",
      " [ -160622.770867     58795.5551384  1387234.31105  ]\n",
      " [  203474.363801    102307.920609  -1311554.70193  ]\n",
      " [  157591.826408     52830.7057265 -1337514.84274  ]]\n",
      "prediction is:\n",
      " [[  -75704.96    398001.38  -1839390.9  ]\n",
      " [ -172237.55    173665.47   1310804.2  ]\n",
      " [  168499.67    140138.61  -1391339.6  ]\n",
      " [  186042.08     59299.152 -1489857.1  ]]\n"
     ]
    },
    {
     "name": "stderr",
     "output_type": "stream",
     "text": [
      "\r",
      " 46%|████▌     | 46001/100000 [4:25:22<6:52:53,  2.18it/s]"
     ]
    },
    {
     "name": "stdout",
     "output_type": "stream",
     "text": [
      "loss is: 63604.73\n"
     ]
    },
    {
     "name": "stderr",
     "output_type": "stream",
     "text": [
      " 47%|████▋     | 47000/100000 [4:31:08<5:06:13,  2.88it/s]"
     ]
    },
    {
     "name": "stdout",
     "output_type": "stream",
     "text": [
      "save model\n",
      "learning_rate is:\n",
      " 0.09414315\n",
      "real location is:\n",
      " [[-1.12042092e+04 -4.87595799e+01  1.79648966e+06]\n",
      " [-2.04732702e+05  1.68610703e+05  9.31039575e+05]\n",
      " [ 1.45687792e+05  4.04674012e+04  4.75776130e+05]\n",
      " [ 2.03507325e+05  2.75443260e+05 -8.92432406e+05]]\n",
      "prediction is:\n",
      " [[ -16100.797   44354.96  1631692.9  ]\n",
      " [-211757.05   151572.5    916990.4  ]\n",
      " [ 155258.31    28478.725  381562.25 ]\n",
      " [ 224035.94   263841.06  -879905.06 ]]\n"
     ]
    },
    {
     "name": "stderr",
     "output_type": "stream",
     "text": [
      "\r",
      " 47%|████▋     | 47001/100000 [4:31:09<6:46:03,  2.18it/s]"
     ]
    },
    {
     "name": "stdout",
     "output_type": "stream",
     "text": [
      "loss is: 42981.777\n"
     ]
    },
    {
     "name": "stderr",
     "output_type": "stream",
     "text": [
      " 48%|████▊     | 48000/100000 [4:36:55<5:00:50,  2.88it/s]"
     ]
    },
    {
     "name": "stdout",
     "output_type": "stream",
     "text": [
      "save model\n",
      "learning_rate is:\n",
      " 0.08472883\n",
      "real location is:\n",
      " [[ 2.07708813e+05  1.76212215e+05  9.12125005e+05]\n",
      " [ 1.19204134e+05  3.92916746e+05 -3.98747799e+05]\n",
      " [ 1.07934400e+05  4.01534782e+05 -3.99190434e+05]\n",
      " [ 3.00510478e+04  6.24810245e+02 -1.78966147e+06]]\n",
      "prediction is:\n",
      " [[  153478.08    183442.98    950523.3  ]\n",
      " [ -142773.5     365403.94    187206.34 ]\n",
      " [   93474.48    325551.94   -451447.8  ]\n",
      " [  -48377.133    22470.637 -1843244.2  ]]\n"
     ]
    },
    {
     "name": "stderr",
     "output_type": "stream",
     "text": [
      "\r",
      " 48%|████▊     | 48001/100000 [4:36:56<6:40:30,  2.16it/s]"
     ]
    },
    {
     "name": "stdout",
     "output_type": "stream",
     "text": [
      "loss is: 132483.98\n"
     ]
    },
    {
     "name": "stderr",
     "output_type": "stream",
     "text": [
      " 49%|████▉     | 49000/100000 [4:42:42<4:54:40,  2.88it/s]"
     ]
    },
    {
     "name": "stdout",
     "output_type": "stream",
     "text": [
      "save model\n",
      "learning_rate is:\n",
      " 0.08472883\n",
      "real location is:\n",
      " [[ -51016.1691479     2783.72725482  -14971.4345106 ]\n",
      " [ 192145.317462    322222.492702   1351595.72377   ]\n",
      " [-173298.498745     69748.4891906  -428446.373827  ]\n",
      " [-205380.942725    244476.198601    930868.047322  ]]\n",
      "prediction is:\n",
      " [[ -55692.65    7390.25  -42328.83]\n",
      " [ 167868.81  319928.72 1146379.  ]\n",
      " [-182533.06   67805.48 -415875.5 ]\n",
      " [-215069.08  309186.3   876195.  ]]\n"
     ]
    },
    {
     "name": "stderr",
     "output_type": "stream",
     "text": [
      "\r",
      " 49%|████▉     | 49001/100000 [4:42:43<6:30:02,  2.18it/s]"
     ]
    },
    {
     "name": "stdout",
     "output_type": "stream",
     "text": [
      "loss is: 43878.355\n"
     ]
    },
    {
     "name": "stderr",
     "output_type": "stream",
     "text": [
      " 50%|█████     | 50000/100000 [4:48:29<4:48:42,  2.89it/s]"
     ]
    },
    {
     "name": "stdout",
     "output_type": "stream",
     "text": [
      "save model\n",
      "learning_rate is:\n",
      " 0.08472883\n",
      "real location is:\n",
      " [[-205433.103207   245741.549219   936028.04201  ]\n",
      " [-143974.705988    42569.7225327 -407529.923986 ]\n",
      " [ 207043.050312   250666.959516   921501.177088 ]\n",
      " [ 205122.108582   210365.830617  -919328.580887 ]]\n",
      "prediction is:\n",
      " [[-260807.78  230162.5   964514.8 ]\n",
      " [-186295.33  108882.52 -464548.84]\n",
      " [ 185227.42  286129.34  763848.25]\n",
      " [ 213837.31  196844.25 -919536.  ]]\n"
     ]
    },
    {
     "name": "stderr",
     "output_type": "stream",
     "text": [
      "\r",
      " 50%|█████     | 50001/100000 [4:48:30<6:22:28,  2.18it/s]"
     ]
    },
    {
     "name": "stdout",
     "output_type": "stream",
     "text": [
      "loss is: 52338.848\n"
     ]
    },
    {
     "name": "stderr",
     "output_type": "stream",
     "text": [
      " 51%|█████     | 51000/100000 [4:54:17<4:43:33,  2.88it/s]"
     ]
    },
    {
     "name": "stdout",
     "output_type": "stream",
     "text": [
      "save model\n",
      "learning_rate is:\n",
      " 0.08472883\n",
      "real location is:\n",
      " [[-181646.28363     77296.4933471 -421374.895054 ]\n",
      " [-137323.888713    36365.753414  -406764.232225 ]\n",
      " [-115408.071903    18263.1080514 -355628.454823 ]\n",
      " [ 193032.052034   320521.592833  -477372.30583  ]]\n",
      "prediction is:\n",
      " [[-204152.81   208040.88  -341864.62 ]\n",
      " [-133776.94    41671.805 -257655.31 ]\n",
      " [ -14392.588   17043.486 -181309.94 ]\n",
      " [ 132875.67   347348.28   176397.56 ]]\n"
     ]
    },
    {
     "name": "stderr",
     "output_type": "stream",
     "text": [
      "\r",
      " 51%|█████     | 51001/100000 [4:54:17<6:15:40,  2.17it/s]"
     ]
    },
    {
     "name": "stdout",
     "output_type": "stream",
     "text": [
      "loss is: 146668.2\n"
     ]
    },
    {
     "name": "stderr",
     "output_type": "stream",
     "text": [
      " 52%|█████▏    | 52000/100000 [5:00:04<4:37:12,  2.89it/s]"
     ]
    },
    {
     "name": "stdout",
     "output_type": "stream",
     "text": [
      "save model\n",
      "learning_rate is:\n",
      " 0.07625595\n",
      "real location is:\n",
      " [[-1.00581892e+05  4.07075240e+05 -1.57014463e+06]\n",
      " [ 1.26794400e+05  2.26244906e+04 -1.36213253e+06]\n",
      " [ 5.64290562e+04  1.22174088e+03 -1.76242139e+06]\n",
      " [-4.85989737e+04  4.08728723e+05 -1.78512499e+06]]\n",
      "prediction is:\n",
      " [[ -168562.5     222605.4    -210181.6  ]\n",
      " [  178808.75     49801.125 -1265224.8  ]\n",
      " [   15283.043    39732.516    84491.625]\n",
      " [  -45085.05    442090.    -1188079.5  ]]\n"
     ]
    },
    {
     "name": "stderr",
     "output_type": "stream",
     "text": [
      "\r",
      " 52%|█████▏    | 52001/100000 [5:00:04<6:07:15,  2.18it/s]"
     ]
    },
    {
     "name": "stdout",
     "output_type": "stream",
     "text": [
      "loss is: 453019.6\n"
     ]
    },
    {
     "name": "stderr",
     "output_type": "stream",
     "text": [
      " 53%|█████▎    | 53000/100000 [5:05:51<4:31:19,  2.89it/s]"
     ]
    },
    {
     "name": "stdout",
     "output_type": "stream",
     "text": [
      "save model\n",
      "learning_rate is:\n",
      " 0.07625595\n",
      "real location is:\n",
      " [[ 204956.095319  296055.566894  907326.728841]\n",
      " [-207259.317695  225365.768786 -889473.47603 ]\n",
      " [-204802.180062  185976.778698  954180.072921]\n",
      " [ 205021.962341  292361.980024  932454.758484]]\n",
      "prediction is:\n",
      " [[ 201338.05  144080.64  896985.75]\n",
      " [-203927.03  154470.06 -742576.94]\n",
      " [-192386.8   175002.92 1063781.5 ]\n",
      " [ 193305.16  278491.94 1273751.2 ]]\n"
     ]
    },
    {
     "name": "stderr",
     "output_type": "stream",
     "text": [
      "\r",
      " 53%|█████▎    | 53001/100000 [5:05:51<6:00:05,  2.18it/s]"
     ]
    },
    {
     "name": "stdout",
     "output_type": "stream",
     "text": [
      "loss is: 92387.24\n"
     ]
    },
    {
     "name": "stderr",
     "output_type": "stream",
     "text": [
      " 54%|█████▍    | 54000/100000 [5:11:38<4:25:48,  2.88it/s]"
     ]
    },
    {
     "name": "stdout",
     "output_type": "stream",
     "text": [
      "save model\n",
      "learning_rate is:\n",
      " 0.07625595\n",
      "real location is:\n",
      " [[  205849.014591    107728.965959  -1065056.65687  ]\n",
      " [  175104.201868     70661.1053766   492600.205353 ]\n",
      " [ -146929.806416    365288.404817  -1343738.80744  ]\n",
      " [ -180936.486647     77868.5318936  1367777.69727  ]]\n",
      "prediction is:\n",
      " [[  196782.47    198722.53   -930821.1  ]\n",
      " [  167298.66     30629.625   456401.8  ]\n",
      " [ -147774.78    340662.22  -1384438.2  ]\n",
      " [ -176445.89     77359.016  1317655.5  ]]\n"
     ]
    },
    {
     "name": "stderr",
     "output_type": "stream",
     "text": [
      "\r",
      " 54%|█████▍    | 54001/100000 [5:11:38<5:53:01,  2.17it/s]"
     ]
    },
    {
     "name": "stdout",
     "output_type": "stream",
     "text": [
      "loss is: 45792.61\n"
     ]
    },
    {
     "name": "stderr",
     "output_type": "stream",
     "text": [
      " 55%|█████▌    | 55000/100000 [5:17:26<4:18:18,  2.90it/s]"
     ]
    },
    {
     "name": "stdout",
     "output_type": "stream",
     "text": [
      "save model\n",
      "learning_rate is:\n",
      " 0.07625595\n",
      "real location is:\n",
      " [[ 201616.335015   312276.381533  1298100.56185  ]\n",
      " [ 206194.856007   176715.868744  -887610.60778  ]\n",
      " [ 206582.757457   130629.552576  -906336.41084  ]\n",
      " [ -28489.5195959  407555.875136    17313.487107 ]]\n",
      "prediction is:\n",
      " [[  109174.33    259501.19   1017186.5  ]\n",
      " [  166697.81    177286.67   -909864.   ]\n",
      " [  167919.31    104024.28  -1022990.25 ]\n",
      " [  -68210.16    409854.53     60961.656]]\n"
     ]
    },
    {
     "name": "stderr",
     "output_type": "stream",
     "text": [
      "\r",
      " 55%|█████▌    | 55001/100000 [5:17:26<5:43:28,  2.18it/s]"
     ]
    },
    {
     "name": "stdout",
     "output_type": "stream",
     "text": [
      "loss is: 78752.85\n"
     ]
    },
    {
     "name": "stderr",
     "output_type": "stream",
     "text": [
      " 56%|█████▌    | 56000/100000 [5:23:11<4:12:41,  2.90it/s]"
     ]
    },
    {
     "name": "stdout",
     "output_type": "stream",
     "text": [
      "save model\n",
      "learning_rate is:\n",
      " 0.06863035\n",
      "real location is:\n",
      " [[  -6014.44978658   -2113.90473918 1614218.3051    ]\n",
      " [ 206905.074776    135758.378336    914682.193786  ]\n",
      " [ 191177.584317    323217.473884   1350661.92991   ]\n",
      " [ 205454.346876    198663.989131   -836173.419694  ]]\n",
      "prediction is:\n",
      " [[ -11732.797   23721.781 1715062.5  ]\n",
      " [ 171976.16   139315.78   915117.9  ]\n",
      " [  45884.453  439591.5   1495148.2  ]\n",
      " [ -21768.453  220801.44  -844387.7  ]]\n"
     ]
    },
    {
     "name": "stderr",
     "output_type": "stream",
     "text": [
      "\r",
      " 56%|█████▌    | 56001/100000 [5:23:11<5:35:37,  2.18it/s]"
     ]
    },
    {
     "name": "stdout",
     "output_type": "stream",
     "text": [
      "loss is: 86982.63\n"
     ]
    },
    {
     "name": "stderr",
     "output_type": "stream",
     "text": [
      " 57%|█████▋    | 57000/100000 [5:28:56<4:07:38,  2.89it/s]"
     ]
    },
    {
     "name": "stdout",
     "output_type": "stream",
     "text": [
      "save model\n",
      "learning_rate is:\n",
      " 0.06863035\n",
      "real location is:\n",
      " [[ 2.04947398e+05  2.06536071e+05 -8.98324665e+05]\n",
      " [-2.58615869e+04  1.28857661e+03 -1.97899858e+04]\n",
      " [-5.38305395e+04  1.17107095e+03  1.78244989e+06]\n",
      " [-1.11866622e+05  3.98831444e+05 -1.39571151e+06]]\n",
      "prediction is:\n",
      " [[  173950.25    173247.28   -880462.   ]\n",
      " [  -41537.117   -13403.684   -38845.71 ]\n",
      " [  -75738.89     14906.602  1635675.8  ]\n",
      " [ -128224.62    365962.47  -1436147.1  ]]\n"
     ]
    },
    {
     "name": "stderr",
     "output_type": "stream",
     "text": [
      "\r",
      " 57%|█████▋    | 57001/100000 [5:28:56<5:28:29,  2.18it/s]"
     ]
    },
    {
     "name": "stdout",
     "output_type": "stream",
     "text": [
      "loss is: 42045.598\n"
     ]
    },
    {
     "name": "stderr",
     "output_type": "stream",
     "text": [
      " 58%|█████▊    | 58000/100000 [5:34:41<4:01:10,  2.90it/s]"
     ]
    },
    {
     "name": "stdout",
     "output_type": "stream",
     "text": [
      "save model\n",
      "learning_rate is:\n",
      " 0.06863035\n",
      "real location is:\n",
      " [[  203075.781078   310177.683003  1223322.31498 ]\n",
      " [  205556.571838   264334.324882   902814.187794]\n",
      " [  207555.961016   207206.40438    920476.482593]\n",
      " [ -127770.690587   384627.452651 -1348640.36924 ]]\n",
      "prediction is:\n",
      " [[ -135858.3    200541.25  1443480.  ]\n",
      " [  192084.31   205126.44  1196803.9 ]\n",
      " [  193387.25   119951.59  1104478.  ]\n",
      " [ -145627.78   376097.44 -1393299.  ]]\n"
     ]
    },
    {
     "name": "stderr",
     "output_type": "stream",
     "text": [
      "\r",
      " 58%|█████▊    | 58001/100000 [5:34:41<5:20:23,  2.18it/s]"
     ]
    },
    {
     "name": "stdout",
     "output_type": "stream",
     "text": [
      "loss is: 144984.77\n"
     ]
    },
    {
     "name": "stderr",
     "output_type": "stream",
     "text": [
      " 59%|█████▉    | 59000/100000 [5:40:26<3:55:29,  2.90it/s]"
     ]
    },
    {
     "name": "stdout",
     "output_type": "stream",
     "text": [
      "save model\n",
      "learning_rate is:\n",
      " 0.06863035\n",
      "real location is:\n",
      " [[ -205924.398207     276777.80111      908722.831937  ]\n",
      " [  185653.745932      82538.244063   -1317043.25247   ]\n",
      " [    1741.89658087    -1815.43962069   -95755.4055857 ]\n",
      " [ -204242.684252     165588.510858     906121.436433  ]]\n",
      "prediction is:\n",
      " [[ -210143.25    287560.72    870257.4  ]\n",
      " [  162321.       33648.258 -1266456.6  ]\n",
      " [  -12028.961     8853.047   -31603.32 ]\n",
      " [ -199663.08    163932.44   1070703.9  ]]\n"
     ]
    },
    {
     "name": "stderr",
     "output_type": "stream",
     "text": [
      "\r",
      " 59%|█████▉    | 59001/100000 [5:40:26<5:12:15,  2.19it/s]"
     ]
    },
    {
     "name": "stdout",
     "output_type": "stream",
     "text": [
      "loss is: 45382.406\n"
     ]
    },
    {
     "name": "stderr",
     "output_type": "stream",
     "text": [
      " 60%|██████    | 60000/100000 [5:46:10<3:49:22,  2.91it/s]"
     ]
    },
    {
     "name": "stdout",
     "output_type": "stream",
     "text": [
      "save model\n",
      "learning_rate is:\n",
      " 0.061767314\n",
      "real location is:\n",
      " [[ 5.54878039e+04  1.16712765e+02 -1.87633367e+04]\n",
      " [-7.23113374e+04  4.09417887e+05 -1.78490716e+06]\n",
      " [-1.70121703e+05  3.41783888e+05  4.67345092e+05]\n",
      " [-2.07409462e+05  2.29697448e+05 -8.61257950e+05]]\n",
      "prediction is:\n",
      " [[  148521.7       5044.953   -53267.043]\n",
      " [  -76740.59    428541.25  -1846441.5  ]\n",
      " [ -133048.44    327191.3     295681.06 ]\n",
      " [ -172101.56    207685.6    -803269.6  ]]\n"
     ]
    },
    {
     "name": "stderr",
     "output_type": "stream",
     "text": [
      "\r",
      " 60%|██████    | 60001/100000 [5:46:11<5:04:52,  2.19it/s]"
     ]
    },
    {
     "name": "stdout",
     "output_type": "stream",
     "text": [
      "loss is: 57934.98\n"
     ]
    },
    {
     "name": "stderr",
     "output_type": "stream",
     "text": [
      " 61%|██████    | 61000/100000 [5:51:59<3:44:02,  2.90it/s]"
     ]
    },
    {
     "name": "stdout",
     "output_type": "stream",
     "text": [
      "save model\n",
      "learning_rate is:\n",
      " 0.061767314\n",
      "real location is:\n",
      " [[ -203314.32901      103916.098439    -682071.762714  ]\n",
      " [  -89253.5476852      4362.75701575   -29671.1233884 ]\n",
      " [  207570.370147     197599.951915     903029.711866  ]\n",
      " [   10868.9485001    409114.875036   -1787594.93732   ]]\n",
      "prediction is:\n",
      " [[ -203017.      104415.24   -702210.9  ]\n",
      " [  -76558.81     -9417.445   -20688.422]\n",
      " [  209350.45    258176.94    903249.25 ]\n",
      " [   16148.992   402379.78  -1774963.8  ]]\n"
     ]
    },
    {
     "name": "stderr",
     "output_type": "stream",
     "text": [
      "\r",
      " 61%|██████    | 61001/100000 [5:52:00<4:56:46,  2.19it/s]"
     ]
    },
    {
     "name": "stdout",
     "output_type": "stream",
     "text": [
      "loss is: 14958.45\n"
     ]
    },
    {
     "name": "stderr",
     "output_type": "stream",
     "text": [
      " 62%|██████▏   | 62000/100000 [5:57:44<3:37:57,  2.91it/s]"
     ]
    },
    {
     "name": "stdout",
     "output_type": "stream",
     "text": [
      "save model\n",
      "learning_rate is:\n",
      " 0.061767314\n",
      "real location is:\n",
      " [[ -201015.962022    308650.816087  -1288713.67952  ]\n",
      " [  -96079.4346271   407475.952119     77497.4135664]\n",
      " [ -169001.782751    343215.555989    465311.248484 ]\n",
      " [ -117110.864673    394524.675088  -1379944.02946  ]]\n",
      "prediction is:\n",
      " [[ -127888.555   193250.4   -1128474.5  ]\n",
      " [   56207.75    194293.83    207044.25 ]\n",
      " [ -137019.98    218252.7     577366.44 ]\n",
      " [  -65579.97    253037.    -1486224.   ]]\n"
     ]
    },
    {
     "name": "stderr",
     "output_type": "stream",
     "text": [
      "\r",
      " 62%|██████▏   | 62001/100000 [5:57:45<4:48:58,  2.19it/s]"
     ]
    },
    {
     "name": "stdout",
     "output_type": "stream",
     "text": [
      "loss is: 147090.27\n"
     ]
    },
    {
     "name": "stderr",
     "output_type": "stream",
     "text": [
      " 63%|██████▎   | 63000/100000 [6:03:31<3:33:43,  2.89it/s]"
     ]
    },
    {
     "name": "stdout",
     "output_type": "stream",
     "text": [
      "save model\n",
      "learning_rate is:\n",
      " 0.061767314\n",
      "real location is:\n",
      " [[-208332.639502  184417.677824 -888988.26247 ]\n",
      " [-208546.771036  157810.827413 -894764.740991]\n",
      " [ 175539.326858  338731.490747 -441321.822779]\n",
      " [-127720.698648  384811.418136  451273.785498]]\n",
      "prediction is:\n",
      " [[-221713.53   205323.28  -948606.9  ]\n",
      " [-201860.38   158933.84  -850872.75 ]\n",
      " [ 142101.52   314924.8   -510186.72 ]\n",
      " [-125197.445  365840.94   324561.4  ]]\n"
     ]
    },
    {
     "name": "stderr",
     "output_type": "stream",
     "text": [
      "\r",
      " 63%|██████▎   | 63001/100000 [6:03:32<4:43:04,  2.18it/s]"
     ]
    },
    {
     "name": "stdout",
     "output_type": "stream",
     "text": [
      "loss is: 43740.312\n"
     ]
    },
    {
     "name": "stderr",
     "output_type": "stream",
     "text": [
      " 64%|██████▍   | 64000/100000 [6:09:18<3:28:00,  2.88it/s]"
     ]
    },
    {
     "name": "stdout",
     "output_type": "stream",
     "text": [
      "save model\n",
      "learning_rate is:\n",
      " 0.055590585\n",
      "real location is:\n",
      " [[ -206190.94479     293920.981475    900372.449433 ]\n",
      " [ -206021.017613    261975.583327    897966.960353 ]\n",
      " [  118362.3546      393639.603027   -397667.390936 ]\n",
      " [  171169.013891     62760.5462486 -1381759.78756  ]]\n",
      "prediction is:\n",
      " [[ -199098.06   334785.8   1143721.1 ]\n",
      " [ -196535.03   130766.97  1051490.6 ]\n",
      " [  140672.34   340224.1   -392059.88]\n",
      " [  176859.25    46766.5  -1344053.2 ]]\n"
     ]
    },
    {
     "name": "stderr",
     "output_type": "stream",
     "text": [
      "\r",
      " 64%|██████▍   | 64001/100000 [6:09:19<4:35:22,  2.18it/s]"
     ]
    },
    {
     "name": "stdout",
     "output_type": "stream",
     "text": [
      "loss is: 75649.32\n"
     ]
    },
    {
     "name": "stderr",
     "output_type": "stream",
     "text": [
      " 65%|██████▌   | 65000/100000 [6:15:05<3:22:08,  2.89it/s]"
     ]
    },
    {
     "name": "stdout",
     "output_type": "stream",
     "text": [
      "save model\n",
      "learning_rate is:\n",
      " 0.055590585\n",
      "real location is:\n",
      " [[   30545.2045248    408929.954048       2549.50293457]\n",
      " [   77820.3700665    409759.591253    1797496.21559   ]\n",
      " [  146859.04179       41128.5509349  -1363062.49549   ]\n",
      " [ -182659.414136      78242.030411    -425084.653721  ]]\n",
      "prediction is:\n",
      " [[   59897.473   417268.25    -18959.469]\n",
      " [  137660.61    353713.38   1603075.6  ]\n",
      " [  137618.27     31127.594 -1347673.2  ]\n",
      " [ -169030.64     77399.17   -440308.38 ]]\n"
     ]
    },
    {
     "name": "stderr",
     "output_type": "stream",
     "text": [
      "\r",
      " 65%|██████▌   | 65001/100000 [6:15:06<4:27:59,  2.18it/s]"
     ]
    },
    {
     "name": "stdout",
     "output_type": "stream",
     "text": [
      "loss is: 45189.37\n"
     ]
    },
    {
     "name": "stderr",
     "output_type": "stream",
     "text": [
      " 66%|██████▌   | 66000/100000 [6:20:51<3:15:18,  2.90it/s]"
     ]
    },
    {
     "name": "stdout",
     "output_type": "stream",
     "text": [
      "save model\n",
      "learning_rate is:\n",
      " 0.055590585\n",
      "real location is:\n",
      " [[-207463.747127  212689.269208 -897902.113359]\n",
      " [ 206243.229038  113885.438318  910087.697478]\n",
      " [-206001.828057  259448.11363   925631.41419 ]\n",
      " [ 117529.408366  394312.130102 -380024.141387]]\n",
      "prediction is:\n",
      " [[-201770.34  222325.14 -925291.5 ]\n",
      " [ 227710.92  131689.84  952168.25]\n",
      " [-206846.39  232311.75  863332.4 ]\n",
      " [ 132815.95  389262.5  -363736.53]]\n"
     ]
    },
    {
     "name": "stderr",
     "output_type": "stream",
     "text": [
      "\r",
      " 66%|██████▌   | 66001/100000 [6:20:51<4:18:37,  2.19it/s]"
     ]
    },
    {
     "name": "stdout",
     "output_type": "stream",
     "text": [
      "loss is: 26141.678\n"
     ]
    },
    {
     "name": "stderr",
     "output_type": "stream",
     "text": [
      " 67%|██████▋   | 67000/100000 [6:26:36<3:09:33,  2.90it/s]"
     ]
    },
    {
     "name": "stdout",
     "output_type": "stream",
     "text": [
      "save model\n",
      "learning_rate is:\n",
      " 0.055590585\n",
      "real location is:\n",
      " [[   87887.6853718   409044.861206     26555.9808927]\n",
      " [ -112105.822651    398768.782377    413549.932311 ]\n",
      " [  150859.008186     45736.1153075   454437.036502 ]\n",
      " [ -201708.208248    307800.243779  -1261234.30295  ]]\n",
      "prediction is:\n",
      " [[   42251.72   420869.47   -61252.02]\n",
      " [ -161255.66   346360.2    627369.5 ]\n",
      " [  187012.92    71140.89   440880.3 ]\n",
      " [ -211824.19   309153.53 -1267815.8 ]]\n"
     ]
    },
    {
     "name": "stderr",
     "output_type": "stream",
     "text": [
      "\r",
      " 67%|██████▋   | 67001/100000 [6:26:36<4:11:01,  2.19it/s]"
     ]
    },
    {
     "name": "stdout",
     "output_type": "stream",
     "text": [
      "loss is: 57687.266\n"
     ]
    },
    {
     "name": "stderr",
     "output_type": "stream",
     "text": [
      " 68%|██████▊   | 68000/100000 [6:32:21<3:03:45,  2.90it/s]"
     ]
    },
    {
     "name": "stdout",
     "output_type": "stream",
     "text": [
      "save model\n",
      "learning_rate is:\n",
      " 0.050031524\n",
      "real location is:\n",
      " [[ 1.56900478e+04  1.71111749e+02 -8.68763389e+03]\n",
      " [-3.81654679e+04  4.09273141e+05 -1.78169167e+06]\n",
      " [ 1.33470536e+05  3.79443319e+05  1.37467275e+06]\n",
      " [ 2.01144676e+05  3.14979099e+05  1.22413782e+06]]\n",
      "prediction is:\n",
      " [[   13473.922    -18942.602     -4245.2734]\n",
      " [  -26392.145    424195.47   -1915858.    ]\n",
      " [  151215.66     227178.16    1499008.4   ]\n",
      " [  188558.95     284933.03    1149470.    ]]\n"
     ]
    },
    {
     "name": "stderr",
     "output_type": "stream",
     "text": [
      "\r",
      " 68%|██████▊   | 68001/100000 [6:32:21<4:03:20,  2.19it/s]"
     ]
    },
    {
     "name": "stdout",
     "output_type": "stream",
     "text": [
      "loss is: 62319.25\n"
     ]
    },
    {
     "name": "stderr",
     "output_type": "stream",
     "text": [
      " 69%|██████▉   | 69000/100000 [6:38:06<2:57:55,  2.90it/s]"
     ]
    },
    {
     "name": "stdout",
     "output_type": "stream",
     "text": [
      "save model\n",
      "learning_rate is:\n",
      " 0.050031524\n",
      "real location is:\n",
      " [[ -205854.011304     112734.580143    -756446.213958  ]\n",
      " [  -28774.7053386    409437.334389   -1788004.17252   ]\n",
      " [  207819.791535     149257.095115     904477.722028  ]\n",
      " [  -86889.2499002      3383.25312687  1781157.45906   ]]\n",
      "prediction is:\n",
      " [[ -200531.31     84234.58   -692471.06 ]\n",
      " [  -32155.352   377002.2   -1807953.4  ]\n",
      " [  216271.28    154092.22    908734.9  ]\n",
      " [  -51945.242   -15380.234  1887404.8  ]]\n"
     ]
    },
    {
     "name": "stderr",
     "output_type": "stream",
     "text": [
      "\r",
      " 69%|██████▉   | 69001/100000 [6:38:06<3:56:03,  2.19it/s]"
     ]
    },
    {
     "name": "stdout",
     "output_type": "stream",
     "text": [
      "loss is: 34483.996\n"
     ]
    },
    {
     "name": "stderr",
     "output_type": "stream",
     "text": [
      " 70%|███████   | 70000/100000 [6:43:51<2:52:11,  2.90it/s]"
     ]
    },
    {
     "name": "stdout",
     "output_type": "stream",
     "text": [
      "save model\n",
      "learning_rate is:\n",
      " 0.050031524\n",
      "real location is:\n",
      " [[-1.01821084e+05  8.41637632e+03  1.45921954e+06]\n",
      " [ 1.04925448e+05  4.23384214e+03 -1.56153971e+06]\n",
      " [ 2.03540739e+05  2.76733872e+05 -9.04630948e+05]\n",
      " [-5.70824507e+04  1.36689235e+03  1.76812727e+06]]\n",
      "prediction is:\n",
      " [[ -158880.25     115350.484   1363714.5   ]\n",
      " [   82360.51      73699.7    -1750994.2   ]\n",
      " [  178030.28     309200.94    -917141.3   ]\n",
      " [  -95002.        -6665.0547  1840898.    ]]\n"
     ]
    },
    {
     "name": "stderr",
     "output_type": "stream",
     "text": [
      "\r",
      " 70%|███████   | 70001/100000 [6:43:51<3:48:14,  2.19it/s]"
     ]
    },
    {
     "name": "stdout",
     "output_type": "stream",
     "text": [
      "loss is: 76060.28\n"
     ]
    },
    {
     "name": "stderr",
     "output_type": "stream",
     "text": [
      " 71%|███████   | 71000/100000 [6:49:36<2:46:24,  2.90it/s]"
     ]
    },
    {
     "name": "stdout",
     "output_type": "stream",
     "text": [
      "save model\n",
      "learning_rate is:\n",
      " 0.050031524\n",
      "real location is:\n",
      " [[ 4.13406949e+04  2.02387050e+00  5.04659873e+04]\n",
      " [ 2.06473609e+05  2.69142470e+05  9.28210698e+05]\n",
      " [-2.07318870e+05  1.49654801e+05 -8.98666446e+05]\n",
      " [-2.06004205e+05  2.98234906e+05  8.57845637e+05]]\n",
      "prediction is:\n",
      " [[  33091.11    22382.375   16707.746]\n",
      " [ 165138.62   288989.97  1175196.   ]\n",
      " [-223145.08   158768.52  -857522.75 ]\n",
      " [-209401.31   329973.47   871014.06 ]]\n"
     ]
    },
    {
     "name": "stderr",
     "output_type": "stream",
     "text": [
      "\r",
      " 71%|███████   | 71001/100000 [6:49:37<3:41:39,  2.18it/s]"
     ]
    },
    {
     "name": "stdout",
     "output_type": "stream",
     "text": [
      "loss is: 50721.74\n"
     ]
    },
    {
     "name": "stderr",
     "output_type": "stream",
     "text": [
      " 72%|███████▏  | 72000/100000 [6:55:21<2:40:46,  2.90it/s]"
     ]
    },
    {
     "name": "stdout",
     "output_type": "stream",
     "text": [
      "save model\n",
      "learning_rate is:\n",
      " 0.045028366\n",
      "real location is:\n",
      " [[ 9.34833528e+04  4.09318126e+05 -9.29215565e+03]\n",
      " [ 2.04665243e+05  2.35240507e+05 -8.95263139e+05]\n",
      " [ 3.60500317e+04  9.63711039e+02 -1.79611772e+06]\n",
      " [ 2.06585701e+05  1.36723516e+05 -8.87276845e+05]]\n",
      "prediction is:\n",
      " [[  -96735.586    386627.25     -39769.78  ]\n",
      " [  214584.28     271767.9     -938410.    ]\n",
      " [   11371.0625     2568.5352 -1790423.6   ]\n",
      " [   90501.36     102948.42    -959080.    ]]\n"
     ]
    },
    {
     "name": "stderr",
     "output_type": "stream",
     "text": [
      "\r",
      " 72%|███████▏  | 72001/100000 [6:55:22<3:32:54,  2.19it/s]"
     ]
    },
    {
     "name": "stdout",
     "output_type": "stream",
     "text": [
      "loss is: 61104.816\n"
     ]
    },
    {
     "name": "stderr",
     "output_type": "stream",
     "text": [
      " 73%|███████▎  | 73000/100000 [7:01:06<2:35:00,  2.90it/s]"
     ]
    },
    {
     "name": "stdout",
     "output_type": "stream",
     "text": [
      "save model\n",
      "learning_rate is:\n",
      " 0.045028366\n",
      "real location is:\n",
      " [[  -49693.2157085   408709.707885  -1784670.38388  ]\n",
      " [  176492.648073    337003.483581   -443163.731665 ]\n",
      " [ -203617.836322    113295.431648    930804.226303 ]\n",
      " [ -166348.722763     62801.8139873  -418752.288912 ]]\n",
      "prediction is:\n",
      " [[  -50764.28    414099.12  -1741384.2  ]\n",
      " [  156039.      371098.25   -357972.12 ]\n",
      " [ -235346.38    124305.54    920797.56 ]\n",
      " [ -145537.7      61920.906  -419571.56 ]]\n"
     ]
    },
    {
     "name": "stderr",
     "output_type": "stream",
     "text": [
      "\r",
      " 73%|███████▎  | 73001/100000 [7:01:07<3:25:17,  2.19it/s]"
     ]
    },
    {
     "name": "stdout",
     "output_type": "stream",
     "text": [
      "loss is: 27575.85\n"
     ]
    },
    {
     "name": "stderr",
     "output_type": "stream",
     "text": [
      " 74%|███████▍  | 73929/100000 [7:06:29<2:34:15,  2.82it/s]"
     ]
    }
   ],
   "source": [
    "with tf.name_scope(\"input\"):\n",
    "    input_image = tf.placeholder(\"float\", [None, 448,448,6],name='input_image')/255.*2.-1\n",
    "    y_ = tf.placeholder(\"float\", [None, 3],name='y_') \n",
    "\n",
    "def weight_variable(shape):\n",
    "    w = tf.Variable(tf.truncated_normal(shape, stddev=0.1))\n",
    "    tf.add_to_collection('losses',tf.contrib.layers.l2_regularizer(0.5)(w))\n",
    "    return w\n",
    "\n",
    "def bias_variable(shape):\n",
    "    initial = tf.constant(0.1, shape = shape)\n",
    "    return tf.Variable(initial)\n",
    "\n",
    "def conv2d(x, W):\n",
    "    return tf.nn.conv2d(x, W, strides=[1, 1, 1, 1], padding=\"SAME\")\n",
    "\n",
    "def max_pool_2x2(x):\n",
    "    return tf.nn.max_pool(x, ksize=[1, 2, 2, 1], strides=[1, 2, 2, 1], padding=\"SAME\")\n",
    "\n",
    "\n",
    "#第0层卷积\n",
    "with tf.name_scope(\"conv_0\"):\n",
    "    W_conv0 = weight_variable([7, 7, 6, 64])\n",
    "    b_conv0 = bias_variable([64])\n",
    "    conv_layer0 = tf.nn.conv2d(input_image, W_conv0, strides=[1,1,1,1], padding=\"SAME\") + b_conv0\n",
    "    conv_layer_nor0 = tf.layers.batch_normalization(conv_layer0,training=True)\n",
    "    \n",
    "    h_conv0 = tf.nn.leaky_relu(conv_layer_nor0)\n",
    "with tf.name_scope(\"max_pool_0\"):\n",
    "    h_pool0 = max_pool_2x2(h_conv0)   #输出变成224*224*64 [None,224,224,64]\n",
    "\n",
    "# #第一层卷积层\n",
    "# #参数的前两维为卷积核的维度，第三个参数为当前层的深度，第四个为输出到层的深度\n",
    "with tf.name_scope(\"conv_1\"):\n",
    "    W_conv1 = weight_variable([5, 5, 64, 128])\n",
    "    b_conv1 = bias_variable([128])\n",
    "    conv_layer1 = conv2d(h_pool0, W_conv1) + b_conv1\n",
    "    conv_layer_nor1 = tf.layers.batch_normalization(conv_layer1,training=True)\n",
    "\n",
    "    h_conv1 = tf.nn.leaky_relu(conv_layer_nor1)\n",
    "with tf.name_scope(\"max_pool1\"):\n",
    "    h_pool1 = max_pool_2x2(h_conv1)   #输出变成112*112*64   [None,112,112,64]\n",
    "\n",
    "#第二层卷积层\n",
    "with tf.name_scope(\"conv_2\"):\n",
    "    W_conv2 = weight_variable([5, 5, 128, 192])\n",
    "    b_conv2 = bias_variable([192])\n",
    "    conv_layer2 = conv2d(h_pool1, W_conv2) + b_conv2\n",
    "    conv_layer_nor2 = tf.layers.batch_normalization(conv_layer2,training=True)\n",
    "\n",
    "    h_conv2 = tf.nn.leaky_relu(conv_layer_nor2)\n",
    "with tf.name_scope(\"max_pool_2\"):\n",
    "    h_pool2 = max_pool_2x2(h_conv2)  #输出变为56*56*192\n",
    "\n",
    "\n",
    "#第三层卷积层\n",
    "with tf.name_scope(\"conv_3\"):\n",
    "    W_conv3 = weight_variable([3, 3, 192, 128])\n",
    "    b_conv3 = bias_variable([128])\n",
    "    conv_layer3 = conv2d(h_pool2, W_conv3) + b_conv3\n",
    "    conv_layer_nor3 = tf.layers.batch_normalization(conv_layer3,training=True)\n",
    "    \n",
    "\n",
    "    h_conv3 = tf.nn.leaky_relu(conv_layer_nor3)\n",
    "with tf.name_scope(\"max_pool_3\"):\n",
    "    h_pool3 = max_pool_2x2(h_conv3)   #输出为28*28*128\n",
    "\n",
    "\n",
    "#第四层卷积层\n",
    "with tf.name_scope(\"conv_4\"):\n",
    "    W_conv4 = weight_variable([3, 3, 128, 64])\n",
    "    b_conv4 = bias_variable([64])\n",
    "    conv_layer4 = conv2d(h_pool3, W_conv4) + b_conv4\n",
    "    conv_layer_nor4 = tf.layers.batch_normalization(conv_layer4,training=True)\n",
    "\n",
    "    h_conv4 = tf.nn.leaky_relu(conv_layer_nor4)\n",
    "with tf.name_scope(\"max_pool_4\"):\n",
    "    h_pool4 = max_pool_2x2(h_conv4)   #输出变为14*14*64\n",
    "\n",
    "\n",
    "keep_prob = tf.placeholder(\"float\")\n",
    "\n",
    "\n",
    "#密集连接层0\n",
    "with tf.name_scope(\"fc0\"):\n",
    "    W_fc0 = weight_variable([14*14*64, 2048])\n",
    "    b_fc0 = bias_variable([2048])\n",
    "\n",
    "    h_pool4_flat = tf.reshape(h_pool4, [-1, 14*14*64])\n",
    "    \n",
    "    out_fc0 = tf.matmul(h_pool4_flat, W_fc0) + b_fc0\n",
    "    out_nor_fc0 = tf.layers.batch_normalization(out_fc0,training=True)\n",
    "    \n",
    "    h_fc0 = tf.nn.leaky_relu(out_nor_fc0)   #输出为96*2048\n",
    "\n",
    "    #relu函数作用是求出max(h_fc1,0)\n",
    "    h_fc1_drop0 = tf.layers.dropout(h_fc0, keep_prob)   #输出为96*2048\n",
    "\n",
    "#密集连接层1\n",
    "with tf.name_scope(\"fc1\"):\n",
    "    W_fc1 = weight_variable([2048, 1024])\n",
    "    b_fc1 = bias_variable([1024])\n",
    "    \n",
    "    out_fc1 = tf.matmul(h_fc1_drop0, W_fc1) + b_fc1\n",
    "    out_nor_fc1 = tf.layers.batch_normalization(out_fc1,training=True)\n",
    "\n",
    "    h_fc1 = tf.nn.leaky_relu(out_nor_fc1)   #输出为2048*1024\n",
    "\n",
    "    #relu函数作用是求出max(h_fc1,0)\n",
    "    h_fc1_drop1 = tf.layers.dropout(h_fc1, keep_prob)   #输出为2048*1024\n",
    "\n",
    "#密集连接层2\n",
    "with tf.name_scope(\"fc2\"):\n",
    "    W_fc2 = weight_variable([1024, 512])\n",
    "    b_fc2 = bias_variable([512])\n",
    "    \n",
    "    out_fc2 = tf.matmul(h_fc1_drop1, W_fc2) + b_fc2\n",
    "    out_nor_fc2 = tf.layers.batch_normalization(out_fc2,training=True)\n",
    "\n",
    "    h_fc2 = tf.nn.leaky_relu(out_nor_fc2)\n",
    "    #relu函数作用是求出max(h_fc1,0)\n",
    "    h_fc1_drop2 = tf.layers.dropout(h_fc2, keep_prob)\n",
    "    \n",
    "\n",
    "#输出层\n",
    "with tf.name_scope(\"out_layer\"):\n",
    "    W_fc3 = weight_variable([512, 3])\n",
    "    y_conv = tf.matmul(h_fc1_drop2, W_fc3)\n",
    "\n",
    "starter_learning_rate = 0.3\n",
    "steps_per_decay = 4000\n",
    "decay_factor = 0.9\n",
    "\n",
    "global_step = tf.Variable(tf.constant(0))\n",
    "learning_rate = tf.train.exponential_decay(learning_rate = starter_learning_rate,\n",
    "                                           global_step = global_step,\n",
    "                                           decay_steps = steps_per_decay,\n",
    "                                           decay_rate = decay_factor,\n",
    "                                           staircase = True\n",
    "                                           )\n",
    "\n",
    "delta=tf.constant(1.25)\n",
    "#huber损失函数\n",
    "\n",
    "loss1 = tf.reduce_mean(tf.multiply(tf.square(delta),\n",
    "                                  tf.sqrt(1. + tf.square((y_ - y_conv)/delta)) - 1.))\n",
    "# loss = loss1 + tf.add_n(tf.get_collection('losses'))\n",
    "loss = loss1\n",
    "\n",
    "\n",
    "# loss1 = tf.reduce_mean(tf.multiply(tf.square(delta),\n",
    "#                                           tf.sqrt(1. + tf.square((y_[:2] - y_conv[:2])/delta)) - 1.))\n",
    "# # loss2 = 500 * tf.reduce_mean(tf.multiply(tf.square(delta),\n",
    "#                                           tf.sqrt(1. + tf.square((y_[2:] - y_conv[2:])/delta)) - 1.))\n",
    "# loss = loss1 + loss2\n",
    "    \n",
    "tf.summary.scalar(\"loss\",loss)\n",
    "\n",
    "update_ops = tf.get_collection(tf.GraphKeys.UPDATE_OPS)\n",
    "\n",
    "with tf.control_dependencies(update_ops):        \n",
    "    train_step = tf.train.AdamOptimizer(learning_rate).minimize(loss)\n",
    "\n",
    "merged = tf.summary.merge_all()\n",
    "\n",
    "batch_size = 4       \n",
    "checkpointsPath = \"/home/ysk/database/train_data/benhuan/fc_bn_checkpoints_4805/\"\n",
    "reload = True\n",
    "\n",
    "with tf.Session() as sess:\n",
    "    sess.run(tf.global_variables_initializer())\n",
    "    var_list = tf.trainable_variables()\n",
    "    g_list = tf.global_variables()\n",
    "    bn_moving_vars = [g for g in g_list if 'moving_mean' in g.name]\n",
    "    bn_moving_vars += [g for g in g_list if 'moving_variance' in g.name]\n",
    "    var_list += bn_moving_vars\n",
    "    saver = tf.train.Saver(var_list=var_list,max_to_keep=5)\n",
    "    \n",
    "    writer = tf.summary.FileWriter(\"logs_dir/\", sess.graph)\n",
    "    \n",
    "    if not os.path.exists(checkpointsPath):\n",
    "        os.mkdir(checkpointsPath)\n",
    "    \n",
    "    if reload:\n",
    "        checkPoint = tf.train.get_checkpoint_state(checkpointsPath)\n",
    "        if checkPoint and checkPoint.model_checkpoint_path:\n",
    "            \n",
    "#             saver = tf.train.Saver(var_list=var_list)\n",
    "#             saver.restore(sess, checkPoint.model_checkpoint_path)\n",
    "\n",
    "#             var = tf.global_variables()\n",
    "            var_to_restore = [val for val in var_list if 'fc0' not in val.name or \n",
    "                              'fc1' not in val.name or 'fc2' not in val.name or 'out_layer' not in val.name]\n",
    "            saver = tf.train.Saver(var_to_restore )\n",
    "            saver.restore(sess, checkPoint.model_checkpoint_path)\n",
    "            var_to_init = [val for val in var_list if 'fc0' in val.name or \n",
    "                              'fc1' in val.name or 'fc2' in val.name or 'out_layer' in val.name]\n",
    "            tf.variables_initializer(var_to_init)\n",
    "            print(\"restored %s\" % checkPoint.model_checkpoint_path)\n",
    "        else:\n",
    "            print(\"no checkpoint found!\")\n",
    "    else:\n",
    "        sess.run(tf.global_variables_initializer())\n",
    "        \n",
    "    for i in tqdm(range(100000)):\n",
    "        batch_x,batch_y = get_train_data_batch(batch_size)\n",
    "        batch_y = batch_y*10000\n",
    "        summary,_ = sess.run([merged,train_step],feed_dict={global_step:i,\n",
    "                                                            input_image:batch_x, \n",
    "                                                            y_:batch_y, \n",
    "                                                            keep_prob:0.7})\n",
    "        writer.add_summary(summary, i)\n",
    "        if (i % 1000) == 0 & (i != 0):\n",
    "            print(\"save model\")\n",
    "            print(\"learning_rate is:\\n\",sess.run(learning_rate,feed_dict = {global_step:i}))\n",
    "            print(\"real location is:\\n\",batch_y)\n",
    "            print(\"prediction is:\\n\",sess.run(y_conv,feed_dict={input_image:batch_x, \n",
    "                                                                y_:batch_y,keep_prob:1.0}))\n",
    "              \n",
    "            saver.save(sess, os.path.join(checkpointsPath,\"saved_net.ckpt\"), global_step=i)\n",
    "            print(\"loss is:\",sess.run(loss,feed_dict={input_image:batch_x, y_:batch_y, keep_prob:1.0}))\n",
    "    print(\"done!\")\n"
   ]
  },
  {
   "cell_type": "code",
   "execution_count": null,
   "metadata": {},
   "outputs": [],
   "source": []
  }
 ],
 "metadata": {
  "kernelspec": {
   "display_name": "Python 3",
   "language": "python",
   "name": "python3"
  },
  "language_info": {
   "codemirror_mode": {
    "name": "ipython",
    "version": 3
   },
   "file_extension": ".py",
   "mimetype": "text/x-python",
   "name": "python",
   "nbconvert_exporter": "python",
   "pygments_lexer": "ipython3",
   "version": "3.5.2"
  }
 },
 "nbformat": 4,
 "nbformat_minor": 2
}
